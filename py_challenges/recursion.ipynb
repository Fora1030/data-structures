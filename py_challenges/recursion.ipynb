{
 "cells": [
  {
   "cell_type": "code",
   "execution_count": null,
   "metadata": {},
   "outputs": [],
   "source": [
    "def factorial(n): return n if n == 1 else n * factorial(n-1)\n",
    "\n",
    "\n",
    "factorial(5)"
   ]
  },
  {
   "cell_type": "code",
   "execution_count": null,
   "metadata": {},
   "outputs": [],
   "source": [
    "import turtle\n",
    "\n",
    "\n",
    "def draw_snowflake(turtle, length, depth):\n",
    "    # recursive termination\n",
    "    if depth == 0:\n",
    "        return\n",
    "    for _ in range(5):\n",
    "        turtle.right(60)\n",
    "        turtle.forward(length)\n",
    "        # recursive descent\n",
    "        draw_snowflake(turtle, length // 3, depth - 1)\n",
    "        turtle.back(length)\n",
    "\n",
    "\n",
    "screen = turtle.Screen()\n",
    "turtle.speed(10)\n",
    "draw_snowflake(turtle, 240, 5)\n",
    "screen.exitonclick()"
   ]
  },
  {
   "cell_type": "code",
   "execution_count": null,
   "metadata": {},
   "outputs": [],
   "source": [
    "# Exercise 1: Fibonacci\n",
    "#\n",
    "def fib_rec(n):\n",
    "    if n <= 0:\n",
    "        raise ValueError(\"n must be >= 1\")\n",
    "\n",
    "    # recursive termination\n",
    "    if n == 1 or n == 2:\n",
    "        return 1\n",
    "\n",
    "    # recursive descent\n",
    "    return fib_rec(n-1) + fib_rec(n-2)"
   ]
  },
  {
   "cell_type": "code",
   "execution_count": 12,
   "metadata": {},
   "outputs": [
    {
     "data": {
      "text/plain": [
       "55"
      ]
     },
     "execution_count": 12,
     "metadata": {},
     "output_type": "execute_result"
    }
   ],
   "source": [
    "fib_rec(10)"
   ]
  }
 ],
 "metadata": {
  "kernelspec": {
   "display_name": "Python 3",
   "language": "python",
   "name": "python3"
  },
  "language_info": {
   "codemirror_mode": {
    "name": "ipython",
    "version": 3
   },
   "file_extension": ".py",
   "mimetype": "text/x-python",
   "name": "python",
   "nbconvert_exporter": "python",
   "pygments_lexer": "ipython3",
   "version": "3.12.3"
  }
 },
 "nbformat": 4,
 "nbformat_minor": 2
}
