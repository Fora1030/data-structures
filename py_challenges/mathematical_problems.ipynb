{
 "cells": [
  {
   "cell_type": "code",
   "execution_count": 18,
   "metadata": {},
   "outputs": [
    {
     "name": "stdout",
     "output_type": "stream",
     "text": [
      "0 0 3 2 1 [1, 2, 3, 0, 0]\n"
     ]
    }
   ],
   "source": [
    "def extract_digits(number):\n",
    "    remaining_value = number\n",
    "    digits = []\n",
    "    while remaining_value > 0:\n",
    "        digit = remaining_value % 10\n",
    "        remaining_value = remaining_value//10\n",
    "        digits.append(digit)\n",
    "        print(digit, end=\" \")\n",
    "    print([i for i in reversed(digits)])\n",
    "\n",
    "\n",
    "extract_digits(1_230)"
   ]
  },
  {
   "cell_type": "code",
   "execution_count": 19,
   "metadata": {},
   "outputs": [
    {
     "name": "stdout",
     "output_type": "stream",
     "text": [
      "remaining val: 7894,\tdigit: 5\n",
      "remaining val: 789,\tdigit: 4\n",
      "remaining val: 78,\tdigit: 9\n",
      "remaining val: 7,\tdigit: 8\n",
      "remaining val: 0,\tdigit: 7\n"
     ]
    }
   ],
   "source": [
    "# using divmod\n",
    "\n",
    "def extract_digits(number):\n",
    "    remaining_value = number\n",
    "    while remaining_value > 0:\n",
    "        remaining_value, digit = divmod(remaining_value, 10)\n",
    "        print(f\"remaining val: {remaining_value},\\tdigit: {digit}\")\n",
    "\n",
    "\n",
    "extract_digits(78945)"
   ]
  },
  {
   "cell_type": "code",
   "execution_count": 45,
   "metadata": {},
   "outputs": [
    {
     "name": "stdout",
     "output_type": "stream",
     "text": [
      "slightly faster [1, 3, 71]\n"
     ]
    }
   ],
   "source": [
    "# divisor\n",
    "def find_proper_divisor(value):\n",
    "    # 1- we want to know what are the proper devisors of a number\n",
    "    # 2- we know that the number if divisible by itself\n",
    "    # 3- we can use the modulo operator to see if the remainder equal 0 for all numbers than are less that the value\n",
    "    # 4- we have to start checking the number less than half the value itself\n",
    "    # 5- we know that all number are divisible by 1\n",
    "    divisors = [1]\n",
    "    for i in range(2, (value//2)+1):\n",
    "        if value % i == 0:\n",
    "            divisors.append(i)\n",
    "\n",
    "    # using list comprehension helps to\n",
    "    # shorter syntax, more readable and more efficient\n",
    "    print(divisors)\n",
    "\n",
    "\n",
    "def find_proper_divisor_optimized(value):\n",
    "    divisors = [i for i in range(1, value//2+1) if not value % i]\n",
    "    print(\"slightly faster\", divisors)\n",
    "\n",
    "\n",
    "find_proper_divisor_optimized(213)"
   ]
  },
  {
   "cell_type": "code",
   "execution_count": 63,
   "metadata": {},
   "outputs": [
    {
     "data": {
      "text/plain": [
       "[True, True]"
      ]
     },
     "execution_count": 63,
     "metadata": {},
     "output_type": "execute_result"
    }
   ],
   "source": [
    "# prime numbers\n",
    "# natural number > 1\n",
    "# exclusively divisible by itself\n",
    "def stop_loop():\n",
    "    raise StopIteration\n",
    "\n",
    "\n",
    "def potential_prime_n(n: int):\n",
    "    # for i in range(2, n//2+1):\n",
    "    #     if not n % i:\n",
    "    #         print(n/i)\n",
    "    #         return False\n",
    "    # return True\n",
    "    # faster\n",
    "    return [(True) for i in range(2, n//2+1) if not n % i]\n",
    "\n",
    "\n",
    "potential_prime_n(14)"
   ]
  },
  {
   "cell_type": "markdown",
   "metadata": {},
   "source": [
    "# Sieve of Eratosthenes\n",
    "---\n",
    "\n",
    "This algorithm dates back to greek mathematician Sieve Of Eratosthenes. The whole think works as follows:\n",
    "1. List all numbers starting at the value 2 up to the given maximum value.\n",
    "2. All numbers are initially considered as potential candidates for prime numbers.\n",
    "3. Then starting from the fist number `2` all numbers that are multiple of it are eliminated.\n",
    "4. Then we move to the next number that has not been eliminated and all multiples of it are eliminated. \n",
    "5. This process is followed until there are not more numbers left\n"
   ]
  },
  {
   "cell_type": "code",
   "execution_count": 71,
   "metadata": {},
   "outputs": [
    {
     "data": {
      "text/plain": [
       "7.0"
      ]
     },
     "execution_count": 71,
     "metadata": {},
     "output_type": "execute_result"
    }
   ],
   "source": [
    "import math\n",
    "import numpy as np\n",
    "# Sieve of Eratosthenes\n",
    "\n",
    "max_number = 50\n",
    "all_numbers = np.arange(2, max_number+1)\n",
    "prime_numbers = []\n",
    "\n",
    "math.sqrt(49)"
   ]
  },
  {
   "cell_type": "code",
   "execution_count": 72,
   "metadata": {},
   "outputs": [
    {
     "name": "stdout",
     "output_type": "stream",
     "text": [
      "2\n",
      "3\n",
      "5\n",
      "7\n",
      "11\n",
      "13\n",
      "17\n",
      "19\n",
      "23\n",
      "29\n",
      "31\n",
      "37\n",
      "41\n",
      "43\n",
      "47\n"
     ]
    }
   ],
   "source": [
    "\n",
    "def SieveOfEratosthenes(num):\n",
    "    prime = [True for i in range(num+1)]\n",
    "    p = 2\n",
    "    while (p * p <= num):\n",
    "\n",
    "        # If prime[p] is not\n",
    "        # changed, then it is a prime\n",
    "        if (prime[p] == True):\n",
    "\n",
    "            # Updating all multiples of p\n",
    "            for i in range(p * p, num+1, p):\n",
    "                prime[i] = False\n",
    "        p += 1\n",
    "\n",
    "    # Print all prime numbers\n",
    "    for p in range(2, num+1):\n",
    "        if prime[p]:\n",
    "            print(p)\n",
    "\n",
    "\n",
    "SieveOfEratosthenes(50)"
   ]
  },
  {
   "cell_type": "code",
   "execution_count": 102,
   "metadata": {},
   "outputs": [
    {
     "name": "stdout",
     "output_type": "stream",
     "text": [
      "[ 2  3  5  7 11 13 17 19 23 29 31 37 41 43 47]\n"
     ]
    }
   ],
   "source": [
    "def sieve(n):\n",
    "    flags = np.ones(n, dtype=bool)\n",
    "    flags[0] = flags[1] = False\n",
    "    for i in range(2, n):\n",
    "        # We could use a lower upper bound for this loop, but I don't want to bother with\n",
    "        # getting the rounding right on the sqrt handling.\n",
    "        if flags[i]:\n",
    "            flags[i*i::i] = False\n",
    "    return np.flatnonzero(flags)\n",
    "\n",
    "\n",
    "print(sieve(50))"
   ]
  }
 ],
 "metadata": {
  "kernelspec": {
   "display_name": "Python 3",
   "language": "python",
   "name": "python3"
  },
  "language_info": {
   "codemirror_mode": {
    "name": "ipython",
    "version": 3
   },
   "file_extension": ".py",
   "mimetype": "text/x-python",
   "name": "python",
   "nbconvert_exporter": "python",
   "pygments_lexer": "ipython3",
   "version": "3.12.3"
  }
 },
 "nbformat": 4,
 "nbformat_minor": 2
}
