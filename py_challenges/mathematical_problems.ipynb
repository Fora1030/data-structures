{
 "cells": [
  {
   "cell_type": "code",
   "execution_count": 18,
   "metadata": {},
   "outputs": [
    {
     "name": "stdout",
     "output_type": "stream",
     "text": [
      "0 0 3 2 1 [1, 2, 3, 0, 0]\n"
     ]
    }
   ],
   "source": [
    "def extract_digits(number):\n",
    "    remaining_value = number\n",
    "    digits = []\n",
    "    while remaining_value > 0:\n",
    "        digit = remaining_value % 10\n",
    "        remaining_value = remaining_value//10\n",
    "        digits.append(digit)\n",
    "        print(digit, end=\" \")\n",
    "    print([i for i in reversed(digits)])\n",
    "\n",
    "\n",
    "extract_digits(1_230)"
   ]
  },
  {
   "cell_type": "code",
   "execution_count": 19,
   "metadata": {},
   "outputs": [
    {
     "name": "stdout",
     "output_type": "stream",
     "text": [
      "remaining val: 7894,\tdigit: 5\n",
      "remaining val: 789,\tdigit: 4\n",
      "remaining val: 78,\tdigit: 9\n",
      "remaining val: 7,\tdigit: 8\n",
      "remaining val: 0,\tdigit: 7\n"
     ]
    }
   ],
   "source": [
    "# using divmod\n",
    "\n",
    "def extract_digits(number):\n",
    "    remaining_value = number\n",
    "    while remaining_value > 0:\n",
    "        remaining_value, digit = divmod(remaining_value, 10)\n",
    "        print(f\"remaining val: {remaining_value},\\tdigit: {digit}\")\n",
    "\n",
    "\n",
    "extract_digits(78945)"
   ]
  },
  {
   "cell_type": "code",
   "execution_count": 45,
   "metadata": {},
   "outputs": [
    {
     "name": "stdout",
     "output_type": "stream",
     "text": [
      "slightly faster [1, 3, 71]\n"
     ]
    }
   ],
   "source": [
    "# divisor\n",
    "def find_proper_divisor(value):\n",
    "    # 1- we want to know what are the proper devisors of a number\n",
    "    # 2- we know that the number if divisible by itself\n",
    "    # 3- we can use the modulo operator to see if the remainder equal 0 for all numbers than are less that the value\n",
    "    # 4- we have to start checking the number less than half the value itself\n",
    "    # 5- we know that all number are divisible by 1\n",
    "    divisors = [1]\n",
    "    for i in range(2, (value//2)+1):\n",
    "        if value % i == 0:\n",
    "            divisors.append(i)\n",
    "\n",
    "    # using list comprehension helps to\n",
    "    # shorter syntax, more readable and more efficient\n",
    "    print(divisors)\n",
    "\n",
    "\n",
    "def find_proper_divisor_optimized(value):\n",
    "    divisors = [i for i in range(1, value//2+1) if not value % i]\n",
    "    print(\"slightly faster\", divisors)\n",
    "\n",
    "\n",
    "find_proper_divisor_optimized(213)"
   ]
  },
  {
   "cell_type": "code",
   "execution_count": 63,
   "metadata": {},
   "outputs": [
    {
     "data": {
      "text/plain": [
       "[True, True]"
      ]
     },
     "execution_count": 63,
     "metadata": {},
     "output_type": "execute_result"
    }
   ],
   "source": [
    "# prime numbers\n",
    "# natural number > 1\n",
    "# exclusively divisible by itself\n",
    "def stop_loop():\n",
    "    raise StopIteration\n",
    "\n",
    "\n",
    "def potential_prime_n(n: int):\n",
    "    # for i in range(2, n//2+1):\n",
    "    #     if not n % i:\n",
    "    #         print(n/i)\n",
    "    #         return False\n",
    "    # return True\n",
    "    # faster\n",
    "    return [(True) for i in range(2, n//2+1) if not n % i]\n",
    "\n",
    "\n",
    "potential_prime_n(14)"
   ]
  },
  {
   "cell_type": "markdown",
   "metadata": {},
   "source": [
    "# Sieve of Eratosthenes\n",
    "---\n",
    "\n",
    "This algorithm dates back to greek mathematician Sieve Of Eratosthenes. The whole think works as follows:\n",
    "1. List all numbers starting at the value 2 up to the given maximum value.\n",
    "2. All numbers are initially considered as potential candidates for prime numbers.\n",
    "3. Then starting from the fist number `2` all numbers that are multiple of it are eliminated.\n",
    "4. Then we move to the next number that has not been eliminated and all multiples of it are eliminated. \n",
    "5. This process is followed until there are not more numbers left\n"
   ]
  },
  {
   "cell_type": "code",
   "execution_count": 71,
   "metadata": {},
   "outputs": [
    {
     "data": {
      "text/plain": [
       "7.0"
      ]
     },
     "execution_count": 71,
     "metadata": {},
     "output_type": "execute_result"
    }
   ],
   "source": [
    "import math\n",
    "import numpy as np\n",
    "# Sieve of Eratosthenes\n",
    "\n",
    "max_number = 50\n",
    "all_numbers = np.arange(2, max_number+1)\n",
    "prime_numbers = []\n",
    "\n",
    "math.sqrt(49)"
   ]
  },
  {
   "cell_type": "code",
   "execution_count": 72,
   "metadata": {},
   "outputs": [
    {
     "name": "stdout",
     "output_type": "stream",
     "text": [
      "2\n",
      "3\n",
      "5\n",
      "7\n",
      "11\n",
      "13\n",
      "17\n",
      "19\n",
      "23\n",
      "29\n",
      "31\n",
      "37\n",
      "41\n",
      "43\n",
      "47\n"
     ]
    }
   ],
   "source": [
    "\n",
    "def SieveOfEratosthenes(num):\n",
    "    prime = [True for i in range(num+1)]\n",
    "    p = 2\n",
    "    while (p * p <= num):\n",
    "\n",
    "        # If prime[p] is not\n",
    "        # changed, then it is a prime\n",
    "        if (prime[p] == True):\n",
    "\n",
    "            # Updating all multiples of p\n",
    "            for i in range(p * p, num+1, p):\n",
    "                prime[i] = False\n",
    "        p += 1\n",
    "\n",
    "    # Print all prime numbers\n",
    "    for p in range(2, num+1):\n",
    "        if prime[p]:\n",
    "            print(p)\n",
    "\n",
    "\n",
    "SieveOfEratosthenes(50)"
   ]
  },
  {
   "cell_type": "code",
   "execution_count": 102,
   "metadata": {},
   "outputs": [
    {
     "name": "stdout",
     "output_type": "stream",
     "text": [
      "[ 2  3  5  7 11 13 17 19 23 29 31 37 41 43 47]\n"
     ]
    }
   ],
   "source": [
    "def sieve(n):\n",
    "    flags = np.ones(n, dtype=bool)\n",
    "    flags[0] = flags[1] = False\n",
    "    for i in range(2, n):\n",
    "        # We could use a lower upper bound for this loop, but I don't want to bother with\n",
    "        # getting the rounding right on the sqrt handling.\n",
    "        if flags[i]:\n",
    "            flags[i*i::i] = False\n",
    "    return np.flatnonzero(flags)\n",
    "\n",
    "\n",
    "print(sieve(50))"
   ]
  },
  {
   "cell_type": "code",
   "execution_count": 8,
   "metadata": {},
   "outputs": [
    {
     "name": "stdout",
     "output_type": "stream",
     "text": [
      "[ 2  3  5  7 11 13 17 19 23 29 31 37 41 43]\n"
     ]
    }
   ],
   "source": [
    "import numpy as np\n",
    "\n",
    "\n",
    "def sieve_of_eratosthenes(n):\n",
    "    flags = np.ones(n, dtype=bool)\n",
    "    flags[0:2] = False\n",
    "    for i in range(2, len(flags)):\n",
    "        if flags[i]:\n",
    "            flags[i*i::i] = False\n",
    "    print(np.flatnonzero(flags))\n",
    "\n",
    "\n",
    "sieve_of_eratosthenes(45)"
   ]
  },
  {
   "cell_type": "markdown",
   "metadata": {},
   "source": [
    "# math exercises"
   ]
  },
  {
   "cell_type": "code",
   "execution_count": 7,
   "metadata": {},
   "outputs": [],
   "source": [
    "# exercise 1\n",
    "def cal(m, n):\n",
    "    return (m*n//2) % 7"
   ]
  },
  {
   "cell_type": "code",
   "execution_count": 37,
   "metadata": {},
   "outputs": [
    {
     "data": {
      "text/plain": [
       "(63, 8)"
      ]
     },
     "execution_count": 37,
     "metadata": {},
     "output_type": "execute_result"
    }
   ],
   "source": [
    "import numpy as np\n",
    "# exercise 1b\n",
    "\n",
    "# 1. count and sum numbers if divisible by 2 and 7\n",
    "# 2. the user will enter the maximum value for this operation\n",
    "\n",
    "\n",
    "def count_and_sum_div_7_n_2(max_value):\n",
    "    counter = 0\n",
    "    sum = 0\n",
    "    numbers = list()\n",
    "    for i in range(1, max_value+1):\n",
    "        if i % 7 == 0 or i % 2 == 0:\n",
    "            counter += 1\n",
    "            sum += i\n",
    "            numbers.append(i)\n",
    "    return f\"Total Numbers: {counter}\\n Sum = {sum}\", numbers\n",
    "\n",
    "\n",
    "def count_and_sum_div_7_n_2_np(max_value):\n",
    "    numbers = np.zeros(max_value, dtype=bool)\n",
    "    numbers[2::2] = True\n",
    "    numbers[7::7] = True\n",
    "    filtered_nums = numbers.nonzero()[0]\n",
    "    return sum(filtered_nums), len(filtered_nums)\n",
    "\n",
    "\n",
    "count_and_sum_div_7_n_2_np(15)"
   ]
  },
  {
   "cell_type": "code",
   "execution_count": 42,
   "metadata": {},
   "outputs": [
    {
     "data": {
      "text/plain": [
       "'odd'"
      ]
     },
     "execution_count": 42,
     "metadata": {},
     "output_type": "execute_result"
    }
   ],
   "source": [
    "# exercise 1c:\n",
    "def is_even(n):\n",
    "    return n % 2 == 0\n",
    "\n",
    "\n",
    "def is_odd(n):\n",
    "    return n % 2 != 0\n",
    "\n",
    "\n",
    "n = 1\n",
    "\"odd\" if is_odd(n) and not is_even(n) else \"even\""
   ]
  },
  {
   "cell_type": "code",
   "execution_count": 99,
   "metadata": {},
   "outputs": [
    {
     "data": {
      "text/plain": [
       "'One Zero Zero'"
      ]
     },
     "execution_count": 99,
     "metadata": {},
     "output_type": "execute_result"
    }
   ],
   "source": [
    "# Exercise 2: Number as test\n",
    "\n",
    "def number_as_test(n):\n",
    "    num_to_text_dict = {\n",
    "        0: \"Zero\",\n",
    "        1: \"One\",\n",
    "        2: \"Two\",\n",
    "        3: \"Three\",\n",
    "        4: \"Four\",\n",
    "        5: \"Five\",\n",
    "        6: \"Six\",\n",
    "        7: \"Seven\",\n",
    "        8: \"Eight\",\n",
    "        9: \"Nine\",\n",
    "    }\n",
    "    text = []\n",
    "    if n == 0:\n",
    "        return \"Zero\"\n",
    "    while n > 0:\n",
    "        remainder = n % 10\n",
    "        n //= 10\n",
    "        text.append(num_to_text_dict[int(remainder)])\n",
    "    return \" \".join(reversed(text))\n",
    "\n",
    "\n",
    "number_as_test(100)"
   ]
  },
  {
   "cell_type": "code",
   "execution_count": 108,
   "metadata": {},
   "outputs": [],
   "source": [
    "# improved version\n",
    "import pytest\n",
    "\n",
    "\n",
    "def map_number_to_text(number):\n",
    "    num_to_text_dict = {\n",
    "        0: \"Zero\", 1: \"One\", 2: \"Two\", 3: \"Three\", 4: \"Four\",\n",
    "        5: \"Five\", 6: \"Six\", 7: \"Seven\", 8: \"Eight\", 9: \"Nine\",\n",
    "    }\n",
    "    return num_to_text_dict[number]\n",
    "\n",
    "\n",
    "def number_as_text(n):\n",
    "    num_as_text = \"\"\n",
    "    remaining_value = n\n",
    "    while remaining_value > 0:\n",
    "        remaining_value, remainder = divmod(remaining_value)\n",
    "        num_as_text += map_number_to_text(remainder) + \" \" + num_as_text\n",
    "    return num_as_text\n",
    "# number_as_test(101123456789)\n",
    "\n",
    "\n",
    "@pytest.mark.parametrize(\"n, expected\",\n",
    "                         [(7, \"SEVEN\"),\n",
    "                          (42, \"FOUR TWO\"),\n",
    "                          (7271, \"SEVEN TWO SEVEN ONE\"),\n",
    "                          (24680, \"TWO FOUR SIX EIGHT ZERO\"),\n",
    "                          (13579, \"ONE THREE FIVE SEVEN NINE\")])\n",
    "def test_number_as_text(n, expected):\n",
    "    assert number_as_text(n) == expected\n",
    "# test_number_as_text()"
   ]
  },
  {
   "cell_type": "code",
   "execution_count": 125,
   "metadata": {},
   "outputs": [
    {
     "data": {
      "text/plain": [
       "62.5"
      ]
     },
     "execution_count": 125,
     "metadata": {},
     "output_type": "execute_result"
    }
   ],
   "source": [
    "# exercise 3: Perfect Numbers\n",
    "# A natural number is called a perfect number\n",
    "# If value == sum(of its real divisors)\n",
    "\n",
    "# 1. find real divisors of a number\n",
    "\n",
    "def perfect_number(n):\n",
    "    perfect_n = n\n",
    "    sum_p_n = 0\n",
    "    while n > 1:\n",
    "        perfect_n /= 2\n",
    "\n",
    "\n",
    "perfect_number(6)"
   ]
  },
  {
   "cell_type": "code",
   "execution_count": 34,
   "metadata": {},
   "outputs": [
    {
     "data": {
      "text/plain": [
       "[2, 3, 5, 7, 11, 13, 17, 19, 23, 29, 31, 37, 41, 43, 47]"
      ]
     },
     "execution_count": 34,
     "metadata": {},
     "output_type": "execute_result"
    }
   ],
   "source": [
    "import numpy as np\n",
    "# 2.2.4 Exercise 4: Prime Numbers\n",
    "# write a function to compute all prime numbers up to a given value.\n",
    "# prime number is a natural number greater than 1 and exclusively divisible by itself and 1\n",
    "\n",
    "\n",
    "def erase_no_primes(is_potentially_prime, number):\n",
    "    for n in range(number+number, len(is_potentially_prime), number):\n",
    "        is_potentially_prime[n] = False\n",
    "\n",
    "\n",
    "def get_prime_numbers(is_prime):\n",
    "    prime_numbers = []\n",
    "    for i in range(2, len(is_prime)):\n",
    "        if is_prime[i]:\n",
    "            prime_numbers.append(i)\n",
    "    return prime_numbers\n",
    "\n",
    "\n",
    "def calc_primes_up_to_max(max_value):\n",
    "    is_potentially_prime = [True for _ in range(1, max_value + 2)]\n",
    "    for i in range(2, max_value//2+1):\n",
    "        if is_potentially_prime[i]:\n",
    "            erase_no_primes(is_potentially_prime, i)\n",
    "    return get_prime_numbers(is_potentially_prime)\n",
    "\n",
    "\n",
    "calc_primes_up_to_max(50)"
   ]
  },
  {
   "cell_type": "code",
   "execution_count": 49,
   "metadata": {},
   "outputs": [
    {
     "name": "stdout",
     "output_type": "stream",
     "text": [
      "[2]\n"
     ]
    },
    {
     "data": {
      "text/plain": [
       "[2, 3, 5, 7, 11, 13, 17, 19, 23, 29, 31, 37, 41, 43, 47]"
      ]
     },
     "execution_count": 49,
     "metadata": {},
     "output_type": "execute_result"
    }
   ],
   "source": [
    "import itertools\n",
    "# 2.2.4 optimization\n",
    "\n",
    "\n",
    "def erase_multiples_of_current(values, number):\n",
    "    for n in range(number*number, len(values), number):\n",
    "        values[n] = False\n",
    "\n",
    "\n",
    "def calc_primes_up_to_max_v2(max_value):\n",
    "    is_potential_prime = [True for _ in range(1, max_value + 2)]\n",
    "    for number in range(2, (max_value//2 + 2)):\n",
    "        if is_potential_prime[number]:\n",
    "            erase_multiples_of_current(is_potential_prime, number)\n",
    "    is_potential_prime[0:2] = False, False\n",
    "    return list(itertools.compress(range(len(is_potential_prime)), is_potential_prime))\n",
    "\n",
    "\n",
    "print(calc_primes_up_to_max_v2(2))\n",
    "\n",
    "# Using numpy is more elegant and efficient\n",
    "\n",
    "\n",
    "def calc_primes_up_to_max_np(max_value):\n",
    "    arr = np.ones(max_value+1, bool)\n",
    "    arr[0] = False\n",
    "    arr[1] = False\n",
    "    for i in range(2, max_value):\n",
    "        if arr[i]:\n",
    "            arr[i*i::i] = False\n",
    "            # print(i, arr)\n",
    "    return list(np.flatnonzero(arr))\n",
    "\n",
    "\n",
    "calc_primes_up_to_max_np(50)"
   ]
  },
  {
   "cell_type": "code",
   "execution_count": 1,
   "metadata": {},
   "outputs": [
    {
     "data": {
      "text/plain": [
       "array([ 2,  3,  5,  7, 11, 13, 17, 19, 23, 29, 31, 37, 41, 43, 47, 53, 59,\n",
       "       61, 67, 71, 73, 79, 83, 89, 97], dtype=int64)"
      ]
     },
     "execution_count": 1,
     "metadata": {},
     "output_type": "execute_result"
    }
   ],
   "source": [
    "import numpy as np\n",
    "\n",
    "\n",
    "def cal_prime_numbers_up_to_max(max_n):\n",
    "\n",
    "    potential_primes = np.ones(max_n+1, dtype=bool)\n",
    "\n",
    "    potential_primes[0:2] = False\n",
    "\n",
    "    for i in range(2, max_n//2+1):\n",
    "\n",
    "        if potential_primes[i]:\n",
    "\n",
    "            potential_primes[i*i::i] = False\n",
    "\n",
    "    return np.flatnonzero(potential_primes)\n",
    "\n",
    "\n",
    "cal_prime_numbers_up_to_max(100)"
   ]
  },
  {
   "cell_type": "code",
   "execution_count": 16,
   "metadata": {},
   "outputs": [
    {
     "data": {
      "text/plain": [
       "{'twin': {3: 5, 5: 7, 11: 13, 17: 19, 29: 31, 41: 43},\n",
       " 'cousin': {3: 7, 7: 11, 13: 17, 19: 23, 37: 41, 43: 47},\n",
       " 's': {5: 11,\n",
       "  7: 13,\n",
       "  11: 17,\n",
       "  13: 19,\n",
       "  17: 23,\n",
       "  23: 29,\n",
       "  31: 37,\n",
       "  37: 43,\n",
       "  41: 47,\n",
       "  47: 53}}"
      ]
     },
     "execution_count": 16,
     "metadata": {},
     "output_type": "execute_result"
    }
   ],
   "source": [
    "import itertools\n",
    "# exercise 5: Prime Number Pairs\n",
    "# Twin: is_prime(n) & is_prime(n+2)\n",
    "# Cousin: is_prime(n) & is_prime(n+4)\n",
    "# s: is_prime(n) & is_prime(n+6)\n",
    "\n",
    "\n",
    "def find_all_multiples(values, n):\n",
    "    for i in range(n*n, len(values), n):\n",
    "        values[i] = False\n",
    "# to optimize code first i will start by calculating all prime numbers up to max number\n",
    "\n",
    "\n",
    "def cal_all_prime_numbers(max_number):\n",
    "    potential_prime_numbers = [True for _ in range(1, max_number+7)]\n",
    "    for i in range(2, max_number//2+7):\n",
    "        if potential_prime_numbers[i]:\n",
    "            find_all_multiples(potential_prime_numbers, i)\n",
    "\n",
    "    potential_prime_numbers[0:2] = False, False\n",
    "    result = itertools.compress(\n",
    "        range(len(potential_prime_numbers)), potential_prime_numbers)\n",
    "    return tuple(result)\n",
    "\n",
    "# def pair_conditions()\n",
    "\n",
    "\n",
    "def is_prime(primes, n):\n",
    "    return n in primes\n",
    "\n",
    "\n",
    "def find_pairs_of_prime_numbers(max_n):\n",
    "    pairs = {\"twin\": {}, \"cousin\": {}, \"s\": {}}\n",
    "    prime_numbers = cal_all_prime_numbers(max_n+7)\n",
    "\n",
    "    def is_twin_pair(n):\n",
    "        return is_prime(prime_numbers, n) and is_prime(prime_numbers, n+2)\n",
    "\n",
    "    def is_cousin_pair(n):\n",
    "        return is_prime(prime_numbers, n) and is_prime(prime_numbers, n+4)\n",
    "\n",
    "    def is_s_pair(n):\n",
    "        return is_prime(prime_numbers, n) and is_prime(prime_numbers, n+6)\n",
    "\n",
    "    pairs[\"twin\"] = {i: i + 2 for i in range(1, max_n) if is_twin_pair(i)}\n",
    "    pairs[\"cousin\"] = {i: i + 4 for i in range(1, max_n) if is_cousin_pair(i)}\n",
    "    pairs[\"s\"] = {i: i + 6 for i in range(1, max_n) if is_s_pair(i)}\n",
    "    return pairs\n",
    "\n",
    "\n",
    "find_pairs_of_prime_numbers(50)"
   ]
  },
  {
   "cell_type": "code",
   "execution_count": 20,
   "metadata": {},
   "outputs": [
    {
     "data": {
      "text/plain": [
       "{'twin': {3: 5, 5: 7, 11: 13, 17: 19, 29: 31, 41: 43},\n",
       " 'cousin': {3: 7, 7: 11, 13: 17, 19: 23, 37: 41, 43: 47},\n",
       " 's': {5: 11,\n",
       "  7: 13,\n",
       "  11: 17,\n",
       "  13: 19,\n",
       "  17: 23,\n",
       "  23: 29,\n",
       "  31: 37,\n",
       "  37: 43,\n",
       "  41: 47,\n",
       "  47: 53}}"
      ]
     },
     "execution_count": 20,
     "metadata": {},
     "output_type": "execute_result"
    }
   ],
   "source": [
    "\n",
    "# exercise 5: Prime Number Pairs (Optimization)\n",
    "def find_all_multiples_of_n(potential_prime_numbers, n):\n",
    "    for i in range(n*n, len(potential_prime_numbers), n):\n",
    "        potential_prime_numbers[i] = False\n",
    "\n",
    "\n",
    "def cal_all_primes_up_to_max(max_number):\n",
    "    # create potential prime numbers add extra 7 numbers to account for checking pairs\n",
    "    potential_prime_numbers = [True for _ in range(max_number+7)]\n",
    "    for i in range(2, max_number//2+2):\n",
    "        if potential_prime_numbers[i]:\n",
    "            find_all_multiples_of_n(potential_prime_numbers, i)\n",
    "    # set 0 and 1 as non prime numbers\n",
    "    potential_prime_numbers[:2] = False, False\n",
    "    return tuple(itertools.compress(range(len(potential_prime_numbers)), potential_prime_numbers))\n",
    "\n",
    "\n",
    "def filter_pairs(n, next_number, prime_numbers):\n",
    "    if n in prime_numbers and next_number in prime_numbers:\n",
    "        return True\n",
    "    return False\n",
    "\n",
    "\n",
    "def form_prime_pairs(max_number):\n",
    "    prime_numbers = cal_all_primes_up_to_max(max_number)\n",
    "    pairs = {'twin': {}, 'cousin': {}, 's': {}}\n",
    "    for i in range(1, max_number):\n",
    "        if filter_pairs(i, i+2, prime_numbers):\n",
    "            pairs['twin'][i] = i+2\n",
    "        if filter_pairs(i, i+4, prime_numbers):\n",
    "            pairs['cousin'][i] = i+4\n",
    "        if filter_pairs(i, i+6, prime_numbers):\n",
    "            pairs['s'][i] = i+6\n",
    "    return pairs\n",
    "\n",
    "\n",
    "form_prime_pairs(50)"
   ]
  }
 ],
 "metadata": {
  "kernelspec": {
   "display_name": "Python 3",
   "language": "python",
   "name": "python3"
  },
  "language_info": {
   "codemirror_mode": {
    "name": "ipython",
    "version": 3
   },
   "file_extension": ".py",
   "mimetype": "text/x-python",
   "name": "python",
   "nbconvert_exporter": "python",
   "pygments_lexer": "ipython3",
   "version": "3.12.3"
  }
 },
 "nbformat": 4,
 "nbformat_minor": 2
}
