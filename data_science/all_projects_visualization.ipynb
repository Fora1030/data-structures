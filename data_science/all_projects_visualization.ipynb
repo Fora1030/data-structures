{
 "cells": [
  {
   "cell_type": "code",
   "execution_count": null,
   "metadata": {},
   "outputs": [],
   "source": [
    "import plotly.graph_objects as go\n",
    "import urllib\n",
    "import json\n",
    "\n",
    "url = 'https://raw.githubusercontent.com/plotly/plotly.js/master/test/image/mocks/sankey_energy.json'\n",
    "response = urllib.request.urlopen(url)\n",
    "data = json.loads(response.read())\n",
    "\n",
    "# override gray link colors with 'source' colors\n",
    "opacity = 0.4\n",
    "# change 'magenta' to its 'rgba' value to add opacity\n",
    "data['data'][0]['node']['color'] = [\n",
    "    'rgba(255,0,255, 0.8)' if color == \"magenta\" else color for color in data['data'][0]['node']['color']]\n",
    "data['data'][0]['link']['color'] = [data['data'][0]['node']['color'][src].replace(\"0.8\", str(opacity))\n",
    "                                    for src in data['data'][0]['link']['source']]\n",
    "\n",
    "fig = go.Figure(data=[go.Sankey(\n",
    "    valueformat=\".0f\",\n",
    "    valuesuffix=\"TWh\",\n",
    "    # Define nodes\n",
    "    node=dict(\n",
    "        pad=15,\n",
    "        thickness=15,\n",
    "        line=dict(color=\"black\", width=0.5),\n",
    "        label=data['data'][0]['node']['label'],\n",
    "        color=data['data'][0]['node']['color']\n",
    "    ),\n",
    "    # Add links\n",
    "    link=dict(\n",
    "        source=data['data'][0]['link']['source'],\n",
    "        target=data['data'][0]['link']['target'],\n",
    "        value=data['data'][0]['link']['value'],\n",
    "        label=data['data'][0]['link']['label'],\n",
    "        color=data['data'][0]['link']['color']\n",
    "    ))])\n",
    "\n",
    "fig.update_layout(title_text=\"Energy forecast for 2050<br>Source: Department of Energy & Climate Change, Tom Counsell via <a href='https://bost.ocks.org/mike/sankey/'>Mike Bostock</a>\",\n",
    "                  font_size=10)"
   ]
  },
  {
   "cell_type": "code",
   "execution_count": null,
   "metadata": {},
   "outputs": [],
   "source": [
    "data"
   ]
  },
  {
   "cell_type": "code",
   "execution_count": null,
   "metadata": {},
   "outputs": [],
   "source": [
    "source = [0, 0, 1, 1, 0]\n",
    "target = [2, 3, 4, 54]\n",
    "value = [8, 2, 2, 8, 4]\n",
    "\n",
    "link = dict(source=source, target=target, value=value)\n",
    "link"
   ]
  },
  {
   "cell_type": "code",
   "execution_count": 3,
   "metadata": {},
   "outputs": [],
   "source": [
    "data = go.Sankey(link=link)\n",
    "fig = go.Figure(data)"
   ]
  },
  {
   "cell_type": "code",
   "execution_count": null,
   "metadata": {},
   "outputs": [],
   "source": [
    "fig.show()"
   ]
  },
  {
   "cell_type": "code",
   "execution_count": null,
   "metadata": {},
   "outputs": [],
   "source": [
    "data"
   ]
  },
  {
   "cell_type": "code",
   "execution_count": 19,
   "metadata": {},
   "outputs": [],
   "source": [
    "data_map = {\n",
    "    'data': [\n",
    "        {\n",
    "            'type': 'sankey',\n",
    "            'domain': {'x': [0, 1], 'y': [0, 1]},\n",
    "            'orientation': 'h',\n",
    "            'valueformat': '.0f',\n",
    "            'valuesuffix': 'TWh',\n",
    "            'node': {'pad': 15,\n",
    "                     'thickness': 15,\n",
    "                     'line': {'color': 'black', 'width': 0.5},\n",
    "                     'label': [\"Data Analysis'\",\n",
    "                               'Bio-conversion',\n",
    "                               'Liquid',\n",
    "                               'Losses',\n",
    "                               'Solid',\n",
    "                               'Gas',\n",
    "                               'Biofuel imports',\n",
    "                               'Biomass imports',\n",
    "                               'Coal imports',\n",
    "                               'Coal',\n",
    "                               'Coal reserves',\n",
    "                               'District heating',\n",
    "                               'Industry',\n",
    "                               'Heating and cooling - commercial',\n",
    "                               'Heating and cooling - homes',\n",
    "                               'Electricity grid',\n",
    "                               'Over generation / exports',\n",
    "                               'H2 conversion',\n",
    "                               'Road transport',\n",
    "                               'Agriculture',\n",
    "                               'Rail transport',\n",
    "                               'Lighting & appliances - commercial',\n",
    "                               'Lighting & appliances - homes',\n",
    "                               'Gas imports',\n",
    "                               'Ngas',\n",
    "                               'Gas reserves',\n",
    "                               'Thermal generation',\n",
    "                               'Geothermal',\n",
    "                               'H2',\n",
    "                               'Hydro',\n",
    "                               'International shipping',\n",
    "                               'Domestic aviation',\n",
    "                               'International aviation',\n",
    "                               'National navigation',\n",
    "                               'Marine algae',\n",
    "                               'Primary',\n",
    "                               'Secondary',\n",
    "                               'Oil',\n",
    "                               'Oil reserves',\n",
    "                               'Other waste',\n",
    "                               'Pumped heat',\n",
    "                               'Solar PV',\n",
    "                               'Solar Thermal',\n",
    "                               'Solar',\n",
    "                               'Tidal',\n",
    "                               'UK land based bioenergy',\n",
    "                               'Wave',\n",
    "                               'Wind'],\n",
    "                     'color': ['rgba(31, 119, 180, 0.8)',\n",
    "                               'rgba(255, 127, 14, 0.8)',\n",
    "                               'rgba(44, 160, 44, 0.8)',\n",
    "                               'rgba(214, 39, 40, 0.8)',\n",
    "                               'rgba(148, 103, 189, 0.8)',\n",
    "                               'rgba(140, 86, 75, 0.8)',\n",
    "                               'rgba(227, 119, 194, 0.8)',\n",
    "                               'rgba(127, 127, 127, 0.8)',\n",
    "                               'rgba(188, 189, 34, 0.8)',\n",
    "                               'rgba(23, 190, 207, 0.8)',\n",
    "                               'rgba(31, 119, 180, 0.8)',\n",
    "                               'rgba(255, 127, 14, 0.8)',\n",
    "                               'rgba(44, 160, 44, 0.8)',\n",
    "                               'rgba(214, 39, 40, 0.8)',\n",
    "                               'rgba(148, 103, 189, 0.8)',\n",
    "                               'rgba(140, 86, 75, 0.8)',\n",
    "                               'rgba(227, 119, 194, 0.8)',\n",
    "                               'rgba(127, 127, 127, 0.8)',\n",
    "                               'rgba(188, 189, 34, 0.8)',\n",
    "                               'rgba(23, 190, 207, 0.8)',\n",
    "                               'rgba(31, 119, 180, 0.8)',\n",
    "                               'rgba(255, 127, 14, 0.8)',\n",
    "                               'rgba(44, 160, 44, 0.8)',\n",
    "                               'rgba(214, 39, 40, 0.8)',\n",
    "                               'rgba(148, 103, 189, 0.8)',\n",
    "                               'rgba(140, 86, 75, 0.8)',\n",
    "                               'rgba(227, 119, 194, 0.8)',\n",
    "                               'rgba(127, 127, 127, 0.8)',\n",
    "                               'rgba(188, 189, 34, 0.8)',\n",
    "                               'rgba(23, 190, 207, 0.8)',\n",
    "                               'rgba(31, 119, 180, 0.8)',\n",
    "                               'rgba(255, 127, 14, 0.8)',\n",
    "                               'rgba(44, 160, 44, 0.8)',\n",
    "                               'rgba(214, 39, 40, 0.8)',\n",
    "                               'rgba(148, 103, 189, 0.8)',\n",
    "                               'rgba(255,0,255, 0.8)',\n",
    "                               'rgba(227, 119, 194, 0.8)',\n",
    "                               'rgba(127, 127, 127, 0.8)',\n",
    "                               'rgba(188, 189, 34, 0.8)',\n",
    "                               'rgba(23, 190, 207, 0.8)',\n",
    "                               'rgba(31, 119, 180, 0.8)',\n",
    "                               'rgba(255, 127, 14, 0.8)',\n",
    "                               'rgba(44, 160, 44, 0.8)',\n",
    "                               'rgba(214, 39, 40, 0.8)',\n",
    "                               'rgba(148, 103, 189, 0.8)',\n",
    "                               'rgba(140, 86, 75, 0.8)',\n",
    "                               'rgba(227, 119, 194, 0.8)',\n",
    "                               'rgba(127, 127, 127, 0.8)']},\n",
    "            'link': {'source': [0,\n",
    "                                1,\n",
    "                                1,\n",
    "                                1,\n",
    "                                1,\n",
    "                                6,\n",
    "                                7,\n",
    "                                8,\n",
    "                                10,\n",
    "                                9,\n",
    "                                11,\n",
    "                                11,\n",
    "                                11,\n",
    "                                15,\n",
    "                                15,\n",
    "                                15,\n",
    "                                15,\n",
    "                                15,\n",
    "                                15,\n",
    "                                15,\n",
    "                                15,\n",
    "                                15,\n",
    "                                15,\n",
    "                                15,\n",
    "                                23,\n",
    "                                25,\n",
    "                                5,\n",
    "                                5,\n",
    "                                5,\n",
    "                                5,\n",
    "                                5,\n",
    "                                27,\n",
    "                                17,\n",
    "                                17,\n",
    "                                28,\n",
    "                                29,\n",
    "                                2,\n",
    "                                2,\n",
    "                                2,\n",
    "                                2,\n",
    "                                2,\n",
    "                                2,\n",
    "                                2,\n",
    "                                2,\n",
    "                                34,\n",
    "                                24,\n",
    "                                35,\n",
    "                                35,\n",
    "                                36,\n",
    "                                38,\n",
    "                                37,\n",
    "                                39,\n",
    "                                39,\n",
    "                                40,\n",
    "                                40,\n",
    "                                41,\n",
    "                                42,\n",
    "                                43,\n",
    "                                43,\n",
    "                                4,\n",
    "                                4,\n",
    "                                4,\n",
    "                                26,\n",
    "                                26,\n",
    "                                26,\n",
    "                                44,\n",
    "                                45,\n",
    "                                46,\n",
    "                                47,\n",
    "                                35,\n",
    "                                35],\n",
    "                     'target': [1,\n",
    "                                2,\n",
    "                                3,\n",
    "                                4,\n",
    "                                5,\n",
    "                                2,\n",
    "                                4,\n",
    "                                9,\n",
    "                                9,\n",
    "                                4,\n",
    "                                12,\n",
    "                                13,\n",
    "                                14,\n",
    "                                16,\n",
    "                                14,\n",
    "                                17,\n",
    "                                12,\n",
    "                                18,\n",
    "                                19,\n",
    "                                13,\n",
    "                                3,\n",
    "                                20,\n",
    "                                21,\n",
    "                                22,\n",
    "                                24,\n",
    "                                24,\n",
    "                                13,\n",
    "                                3,\n",
    "                                26,\n",
    "                                19,\n",
    "                                12,\n",
    "                                15,\n",
    "                                28,\n",
    "                                3,\n",
    "                                18,\n",
    "                                15,\n",
    "                                12,\n",
    "                                30,\n",
    "                                18,\n",
    "                                31,\n",
    "                                32,\n",
    "                                19,\n",
    "                                33,\n",
    "                                20,\n",
    "                                1,\n",
    "                                5,\n",
    "                                26,\n",
    "                                26,\n",
    "                                37,\n",
    "                                37,\n",
    "                                2,\n",
    "                                4,\n",
    "                                1,\n",
    "                                14,\n",
    "                                13,\n",
    "                                15,\n",
    "                                14,\n",
    "                                42,\n",
    "                                41,\n",
    "                                19,\n",
    "                                26,\n",
    "                                12,\n",
    "                                15,\n",
    "                                3,\n",
    "                                11,\n",
    "                                15,\n",
    "                                1,\n",
    "                                15,\n",
    "                                15,\n",
    "                                26,\n",
    "                                26],\n",
    "                     'value': [124.729,\n",
    "                               0.597,\n",
    "                               26.862,\n",
    "                               280.322,\n",
    "                               81.144,\n",
    "                               35,\n",
    "                               35,\n",
    "                               11.606,\n",
    "                               63.965,\n",
    "                               75.571,\n",
    "                               10.639,\n",
    "                               22.505,\n",
    "                               46.184,\n",
    "                               104.453,\n",
    "                               113.726,\n",
    "                               27.14,\n",
    "                               342.165,\n",
    "                               37.797,\n",
    "                               4.412,\n",
    "                               40.858,\n",
    "                               56.691,\n",
    "                               7.863,\n",
    "                               90.008,\n",
    "                               93.494,\n",
    "                               40.719,\n",
    "                               82.233,\n",
    "                               0.129,\n",
    "                               1.401,\n",
    "                               151.891,\n",
    "                               2.096,\n",
    "                               48.58,\n",
    "                               7.013,\n",
    "                               20.897,\n",
    "                               6.242,\n",
    "                               20.897,\n",
    "                               6.995,\n",
    "                               121.066,\n",
    "                               128.69,\n",
    "                               135.835,\n",
    "                               14.458,\n",
    "                               206.267,\n",
    "                               3.64,\n",
    "                               33.218,\n",
    "                               4.413,\n",
    "                               14.375,\n",
    "                               122.952,\n",
    "                               500,\n",
    "                               139.978,\n",
    "                               504.287,\n",
    "                               107.703,\n",
    "                               611.99,\n",
    "                               56.587,\n",
    "                               77.81,\n",
    "                               193.026,\n",
    "                               70.672,\n",
    "                               59.901,\n",
    "                               19.263,\n",
    "                               19.263,\n",
    "                               59.901,\n",
    "                               0.882,\n",
    "                               400.12,\n",
    "                               46.477,\n",
    "                               525.531,\n",
    "                               787.129,\n",
    "                               79.329,\n",
    "                               9.452,\n",
    "                               182.01,\n",
    "                               19.013,\n",
    "                               289.366,\n",
    "                               100,\n",
    "                               100],\n",
    "                     'color': ['rgba(31, 119, 180, 0.4)',\n",
    "                               'rgba(255, 127, 14, 0.4)',\n",
    "                               'rgba(255, 127, 14, 0.4)',\n",
    "                               'rgba(255, 127, 14, 0.4)',\n",
    "                               'rgba(255, 127, 14, 0.4)',\n",
    "                               'rgba(227, 119, 194, 0.4)',\n",
    "                               'rgba(127, 127, 127, 0.4)',\n",
    "                               'rgba(188, 189, 34, 0.4)',\n",
    "                               'rgba(31, 119, 180, 0.4)',\n",
    "                               'rgba(23, 190, 207, 0.4)',\n",
    "                               'rgba(255, 127, 14, 0.4)',\n",
    "                               'rgba(255, 127, 14, 0.4)',\n",
    "                               'rgba(255, 127, 14, 0.4)',\n",
    "                               'rgba(140, 86, 75, 0.4)',\n",
    "                               'rgba(140, 86, 75, 0.4)',\n",
    "                               'rgba(140, 86, 75, 0.4)',\n",
    "                               'rgba(140, 86, 75, 0.4)',\n",
    "                               'rgba(140, 86, 75, 0.4)',\n",
    "                               'rgba(140, 86, 75, 0.4)',\n",
    "                               'rgba(140, 86, 75, 0.4)',\n",
    "                               'rgba(140, 86, 75, 0.4)',\n",
    "                               'rgba(140, 86, 75, 0.4)',\n",
    "                               'rgba(140, 86, 75, 0.4)',\n",
    "                               'rgba(140, 86, 75, 0.4)',\n",
    "                               'rgba(214, 39, 40, 0.4)',\n",
    "                               'rgba(140, 86, 75, 0.4)',\n",
    "                               'rgba(140, 86, 75, 0.4)',\n",
    "                               'rgba(140, 86, 75, 0.4)',\n",
    "                               'rgba(140, 86, 75, 0.4)',\n",
    "                               'rgba(140, 86, 75, 0.4)',\n",
    "                               'rgba(140, 86, 75, 0.4)',\n",
    "                               'rgba(127, 127, 127, 0.4)',\n",
    "                               'rgba(127, 127, 127, 0.4)',\n",
    "                               'rgba(127, 127, 127, 0.4)',\n",
    "                               'rgba(188, 189, 34, 0.4)',\n",
    "                               'rgba(23, 190, 207, 0.4)',\n",
    "                               'rgba(44, 160, 44, 0.4)',\n",
    "                               'rgba(44, 160, 44, 0.4)',\n",
    "                               'rgba(44, 160, 44, 0.4)',\n",
    "                               'rgba(44, 160, 44, 0.4)',\n",
    "                               'rgba(44, 160, 44, 0.4)',\n",
    "                               'rgba(44, 160, 44, 0.4)',\n",
    "                               'rgba(44, 160, 44, 0.4)',\n",
    "                               'rgba(44, 160, 44, 0.4)',\n",
    "                               'rgba(148, 103, 189, 0.4)',\n",
    "                               'rgba(148, 103, 189, 0.4)',\n",
    "                               'rgba(255,0,255, 0.4)',\n",
    "                               'rgba(255,0,255, 0.4)',\n",
    "                               'rgba(227, 119, 194, 0.4)',\n",
    "                               'rgba(188, 189, 34, 0.4)',\n",
    "                               'rgba(127, 127, 127, 0.4)',\n",
    "                               'rgba(23, 190, 207, 0.4)',\n",
    "                               'rgba(23, 190, 207, 0.4)',\n",
    "                               'rgba(31, 119, 180, 0.4)',\n",
    "                               'rgba(31, 119, 180, 0.4)',\n",
    "                               'rgba(255, 127, 14, 0.4)',\n",
    "                               'rgba(44, 160, 44, 0.4)',\n",
    "                               'rgba(214, 39, 40, 0.4)',\n",
    "                               'rgba(214, 39, 40, 0.4)',\n",
    "                               'rgba(148, 103, 189, 0.4)',\n",
    "                               'rgba(148, 103, 189, 0.4)',\n",
    "                               'rgba(148, 103, 189, 0.4)',\n",
    "                               'rgba(227, 119, 194, 0.4)',\n",
    "                               'rgba(227, 119, 194, 0.4)',\n",
    "                               'rgba(227, 119, 194, 0.4)',\n",
    "                               'rgba(148, 103, 189, 0.4)',\n",
    "                               'rgba(140, 86, 75, 0.4)',\n",
    "                               'rgba(227, 119, 194, 0.4)',\n",
    "                               'rgba(127, 127, 127, 0.4)',\n",
    "                               'rgba(255,0,255, 0.4)',\n",
    "                               'rgba(255,0,255, 0.4)'],\n",
    "                     'label': ['stream 1',\n",
    "                               '',\n",
    "                               '',\n",
    "                               '',\n",
    "                               'stream 1',\n",
    "                               '',\n",
    "                               '',\n",
    "                               '',\n",
    "                               '',\n",
    "                               '',\n",
    "                               '',\n",
    "                               '',\n",
    "                               '',\n",
    "                               '',\n",
    "                               '',\n",
    "                               '',\n",
    "                               '',\n",
    "                               '',\n",
    "                               '',\n",
    "                               '',\n",
    "                               '',\n",
    "                               '',\n",
    "                               '',\n",
    "                               '',\n",
    "                               '',\n",
    "                               '',\n",
    "                               '',\n",
    "                               '',\n",
    "                               '',\n",
    "                               '',\n",
    "                               'stream 1',\n",
    "                               '',\n",
    "                               '',\n",
    "                               '',\n",
    "                               '',\n",
    "                               '',\n",
    "                               '',\n",
    "                               '',\n",
    "                               '',\n",
    "                               '',\n",
    "                               '',\n",
    "                               '',\n",
    "                               '',\n",
    "                               '',\n",
    "                               '',\n",
    "                               '',\n",
    "                               'Old generation plant (made-up)',\n",
    "                               'New generation plant (made-up)',\n",
    "                               '',\n",
    "                               '',\n",
    "                               '',\n",
    "                               '',\n",
    "                               '',\n",
    "                               '',\n",
    "                               '',\n",
    "                               '',\n",
    "                               '',\n",
    "                               '',\n",
    "                               '',\n",
    "                               '',\n",
    "                               '',\n",
    "                               '',\n",
    "                               '',\n",
    "                               '',\n",
    "                               '',\n",
    "                               '',\n",
    "                               '',\n",
    "                               '',\n",
    "                               '',\n",
    "                               '',\n",
    "                               '']}}],\n",
    "            'layout': {'title': {'text': \"Energy forecast for 2050, UK — Department of Energy & Climate Change<br>Imperfect copy of <a href='https://bost.ocks.org/mike/sankey/'>Mike Bostock's example</a><br>with numerous <a href='https://plotly.com/javascript/'>Plotly</a> features\"},\n",
    "                       'width': 1118,\n",
    "                       'height': 772,\n",
    "                       'font': {'size': 10,\n",
    "                                'weight': 'bold',\n",
    "                                'style': 'italic',\n",
    "                                'variant': 'small-caps'},\n",
    "                       'updatemenus': [{'y': 1,\n",
    "                                        'buttons': [{'label': 'Light',\n",
    "                                                     'method': 'relayout',\n",
    "                                                     'args': ['paper_bgcolor', 'white']},\n",
    "                                                    {'label': 'Dark',\n",
    "                                                     'method': 'relayout',\n",
    "                                                     'args': ['paper_bgcolor', 'black']}]},\n",
    "                                       {'y': 0.9,\n",
    "                                        'buttons': [{'label': 'Thick',\n",
    "                                                     'method': 'restyle',\n",
    "                                                     'args': ['node.thickness', 15]},\n",
    "                                                    {'label': 'Thin', 'method': 'restyle', 'args': ['node.thickness', 8]}]},\n",
    "                                       {'y': 0.8,\n",
    "                                        'buttons': [{'label': 'Small gap',\n",
    "                                                     'method': 'restyle',\n",
    "                                                     'args': ['node.pad', 15]},\n",
    "                                                    {'label': 'Large gap', 'method': 'restyle', 'args': ['node.pad', 20]}]},\n",
    "                                       {'y': 0.7,\n",
    "                                        'buttons': [{'label': 'Snap',\n",
    "                                                     'method': 'restyle',\n",
    "                                                     'args': ['arrangement', 'snap']},\n",
    "                                                    {'label': 'Perpendicular',\n",
    "                                                     'method': 'restyle',\n",
    "                                                     'args': ['arrangement', 'perpendicular']},\n",
    "                                                    {'label': 'Freeform',\n",
    "                                                     'method': 'restyle',\n",
    "                                                     'args': ['arrangement', 'freeform']},\n",
    "                                                    {'label': 'Fixed',\n",
    "                                                     'method': 'restyle',\n",
    "                                                     'args': ['arrangement', 'fixed']}]},\n",
    "                                       {'y': 0.6,\n",
    "                                        'buttons': [{'label': 'Horizontal',\n",
    "                                                     'method': 'restyle',\n",
    "                                                     'args': ['orientation', 'h']},\n",
    "                                                    {'label': 'Vertical',\n",
    "                                                     'method': 'restyle',\n",
    "                                                     'args': ['orientation', 'v']}]}]}}"
   ]
  },
  {
   "cell_type": "code",
   "execution_count": null,
   "metadata": {},
   "outputs": [],
   "source": [
    "import plotly.graph_objects as go\n",
    "\n",
    "# Define the nodes and links\n",
    "nodes = {\n",
    "    'label': [\n",
    "        'Primary',  # 0\n",
    "        'Secondary',  # 1\n",
    "        'Weight & Dimensions',  # 2\n",
    "        'Screening System',  # 3\n",
    "        'Consolidated Report',  # 4\n",
    "        'Quarterly Presentations',  # 5\n",
    "        'HTML Handbook',  # 6\n",
    "        'Screening Report', 7,\n",
    "        'Inventory',  # 9\n",
    "        'Monthly Reports',  # 10\n",
    "        'Annual Reports',  # 11\n",
    "        'GFE/GFM',  # 12\n",
    "        'Capital Equipment',  # 13\n",
    "        'Project Management',  # 14\n",
    "        'Web Based Task Forms',  # 15\n",
    "        'JIRA',  # 16\n",
    "        'Confluence',  # 17\n",
    "        'Data Migration',  # 18\n",
    "        'PSC'  # 19\n",
    "    ]\n",
    "}\n",
    "\n",
    "links = {\n",
    "    'source': [0, 1, 2, 0, 1, 2, 0, 1, 3, 9, 9, 9, 9, 15, 16, 17, 18, 4, 5, 6, 7, 10, 11, 12, 13, 14],\n",
    "    'target': [4, 4, 4, 5, 5, 5, 6, 6, 7, 10, 11, 12, 13, 14, 14, 14, 19, 19, 19, 19, 19, 19, 19, 19, 19, 19],\n",
    "    'value':  [2, 2, 2, 2, 2, 2, 2, 2, 2, 2, 2,  2, 2, 2, 2, 2, 5, 2, 2, 2, 2,  2,  2,  2, 2,  2],\n",
    "    'color': [\n",
    "        'green',\n",
    "        '#FFCCCB',\n",
    "        '#ADD8E6',\n",
    "        '#ADD8E6',\n",
    "        '#90EE90',\n",
    "        '#ADD8E6',\n",
    "        '#ADD8E6',\n",
    "        '#ADD8E6',\n",
    "        '#ADD8E6',\n",
    "        '#ADD8E6',\n",
    "        '#ADD8E6',\n",
    "        '#ADD8E6',\n",
    "        '#ADD8E6',\n",
    "        '#ADD8E6',\n",
    "        '#ADD8E6',\n",
    "        '#ADD8E6',\n",
    "        '#FFB6C1',\n",
    "        '#ADD8E6',\n",
    "        '#ADD8E6',\n",
    "        '#ADD8E6',\n",
    "        '#ADD8E6',\n",
    "        '#ADD8E6',\n",
    "        '#ADD8E6',\n",
    "        '#ADD8E6',\n",
    "        '#ADD8E6',\n",
    "        '#ADD8E6',\n",
    "    ]\n",
    "}\n",
    "\n",
    "# Create the Sankey diagram\n",
    "fig = go.Figure(go.Sankey(\n",
    "    node=nodes,\n",
    "    link=links\n",
    "))\n",
    "# MCSR\n",
    "# Update layout and display the diagram\n",
    "fig.update_layout(title_text=\"BTC Software Programs\", font_size=20)\n",
    "fig.show()"
   ]
  },
  {
   "cell_type": "code",
   "execution_count": 40,
   "metadata": {},
   "outputs": [
    {
     "data": {
      "application/vnd.plotly.v1+json": {
       "config": {
        "plotlyServerURL": "https://plot.ly"
       },
       "data": [
        {
         "link": {
          "color": [
           "rgba(31, 119, 180, 0.9)",
           "rgba(80, 80, 80, 0.1)",
           "rgba(31, 119, 180, 0.9)",
           "rgba(80, 80, 80, 0.1)",
           "rgba(80, 80, 80, 0.1)",
           "rgba(80, 80, 80, 0.1)",
           "rgba(80, 80, 80, 0.1)",
           "rgba(80, 80, 80, 0.1)",
           "rgba(31, 119, 180, 0.9)",
           "rgba(80, 80, 80, 0.1)",
           "rgba(80, 80, 80, 0.1)",
           "rgba(80, 80, 80, 0.1)",
           "rgba(80, 80, 80, 0.1)",
           "rgba(80, 80, 80, 0.1)",
           "rgba(80, 80, 80, 0.1)",
           "rgba(80, 80, 80, 0.1)",
           "rgba(80, 80, 80, 0.1)",
           "rgba(80, 80, 80, 0.1)",
           "rgba(80, 80, 80, 0.1)",
           "rgba(80, 80, 80, 0.1)",
           "rgba(80, 80, 80, 0.1)",
           "rgba(80, 80, 80, 0.1)",
           "rgba(80, 80, 80, 0.1)",
           "rgba(80, 80, 80, 0.1)",
           "rgba(80, 80, 80, 0.1)",
           "rgba(80, 80, 80, 0.1)",
           "rgba(80, 80, 80, 0.1)",
           "rgba(80, 80, 80, 0.1)",
           "rgba(80, 80, 80, 0.1)",
           "rgba(80, 80, 80, 0.1)",
           "rgba(80, 80, 80, 0.1)",
           "rgba(80, 80, 80, 0.1)",
           "rgba(80, 80, 80, 0.1)",
           "rgba(80, 80, 80, 0.1)",
           "rgba(80, 80, 80, 0.1)",
           "rgba(80, 80, 80, 0.1)",
           "rgba(80, 80, 80, 0.1)",
           "rgba(80, 80, 80, 0.1)"
          ],
          "source": [
           0,
           0,
           8,
           8,
           8,
           9,
           9,
           9,
           12,
           13,
           14,
           1,
           10,
           15,
           10,
           18,
           2,
           2,
           5,
           11,
           4,
           6,
           8,
           16,
           7,
           7,
           1,
           19,
           19,
           8,
           9,
           0,
           21,
           21,
           21,
           22,
           23,
           24
          ],
          "target": [
           8,
           9,
           12,
           13,
           14,
           12,
           13,
           14,
           17,
           17,
           17,
           10,
           15,
           17,
           18,
           17,
           11,
           5,
           17,
           17,
           17,
           8,
           16,
           17,
           8,
           9,
           19,
           15,
           18,
           4,
           4,
           4,
           22,
           23,
           24,
           20,
           20,
           20
          ],
          "value": [
           3,
           1,
           3,
           1,
           1,
           1,
           1,
           1,
           8,
           2,
           2,
           3,
           1,
           2,
           1,
           2,
           1,
           1,
           1,
           1,
           1,
           2,
           2,
           2,
           0.5,
           0.5,
           1,
           1,
           1,
           1,
           1,
           1,
           1,
           1,
           1,
           1,
           1,
           1
          ]
         },
         "node": {
          "color": [
           "rgba(31, 119, 180, 0.9)",
           "rgba(80, 80, 80, 0.1)",
           "rgba(80, 80, 80, 0.1)",
           "rgba(80, 80, 80, 0.1)",
           "rgba(80, 80, 80, 0.1)",
           "rgba(80, 80, 80, 0.1)",
           "rgba(80, 80, 80, 0.1)",
           "rgba(80, 80, 80, 0.1)",
           "rgba(31, 119, 180, 0.9)",
           "rgba(80, 80, 80, 0.1)",
           "rgba(80, 80, 80, 0.1)",
           "rgba(80, 80, 80, 0.1)",
           "rgba(31, 119, 180, 0.9)",
           "rgba(80, 80, 80, 0.1)",
           "rgba(80, 80, 80, 0.1)",
           "rgba(80, 80, 80, 0.1)",
           "rgba(80, 80, 80, 0.1)",
           "rgba(80, 80, 80, 0.1)",
           "rgba(80, 80, 80, 0.1)",
           "rgba(80, 80, 80, 0.1)",
           "rgba(80, 80, 80, 0.1)",
           "rgba(80, 80, 80, 0.1)",
           "rgba(80, 80, 80, 0.1)",
           "rgba(80, 80, 80, 0.1)",
           "rgba(80, 80, 80, 0.1)"
          ],
          "label": [
           "Data Analysis",
           "Inventory",
           "Project Management",
           "Web Forms for Tasks",
           "Data Migration/cataloging",
           "Confluence",
           "Screening System",
           "Weight & Dimensions System",
           "Primary",
           "Secondary",
           "GFE Data Migration",
           "JIRA",
           "Consolidated Reports",
           "HTML Handbook",
           "Presentations",
           "Periodic Reports",
           "Screening Report",
           "Customer",
           "Cap Planning",
           "GFM",
           "BTC",
           "Special Projects",
           "dQ/dV",
           "Analyzing calibration data",
           "Cell Selection"
          ],
          "line": {
           "color": "black",
           "width": 0.5
          },
          "pad": 15,
          "thickness": 20
         },
         "type": "sankey"
        }
       ],
       "layout": {
        "font": {
         "size": 20
        },
        "template": {
         "data": {
          "bar": [
           {
            "error_x": {
             "color": "#2a3f5f"
            },
            "error_y": {
             "color": "#2a3f5f"
            },
            "marker": {
             "line": {
              "color": "#E5ECF6",
              "width": 0.5
             },
             "pattern": {
              "fillmode": "overlay",
              "size": 10,
              "solidity": 0.2
             }
            },
            "type": "bar"
           }
          ],
          "barpolar": [
           {
            "marker": {
             "line": {
              "color": "#E5ECF6",
              "width": 0.5
             },
             "pattern": {
              "fillmode": "overlay",
              "size": 10,
              "solidity": 0.2
             }
            },
            "type": "barpolar"
           }
          ],
          "carpet": [
           {
            "aaxis": {
             "endlinecolor": "#2a3f5f",
             "gridcolor": "white",
             "linecolor": "white",
             "minorgridcolor": "white",
             "startlinecolor": "#2a3f5f"
            },
            "baxis": {
             "endlinecolor": "#2a3f5f",
             "gridcolor": "white",
             "linecolor": "white",
             "minorgridcolor": "white",
             "startlinecolor": "#2a3f5f"
            },
            "type": "carpet"
           }
          ],
          "choropleth": [
           {
            "colorbar": {
             "outlinewidth": 0,
             "ticks": ""
            },
            "type": "choropleth"
           }
          ],
          "contour": [
           {
            "colorbar": {
             "outlinewidth": 0,
             "ticks": ""
            },
            "colorscale": [
             [
              0,
              "#0d0887"
             ],
             [
              0.1111111111111111,
              "#46039f"
             ],
             [
              0.2222222222222222,
              "#7201a8"
             ],
             [
              0.3333333333333333,
              "#9c179e"
             ],
             [
              0.4444444444444444,
              "#bd3786"
             ],
             [
              0.5555555555555556,
              "#d8576b"
             ],
             [
              0.6666666666666666,
              "#ed7953"
             ],
             [
              0.7777777777777778,
              "#fb9f3a"
             ],
             [
              0.8888888888888888,
              "#fdca26"
             ],
             [
              1,
              "#f0f921"
             ]
            ],
            "type": "contour"
           }
          ],
          "contourcarpet": [
           {
            "colorbar": {
             "outlinewidth": 0,
             "ticks": ""
            },
            "type": "contourcarpet"
           }
          ],
          "heatmap": [
           {
            "colorbar": {
             "outlinewidth": 0,
             "ticks": ""
            },
            "colorscale": [
             [
              0,
              "#0d0887"
             ],
             [
              0.1111111111111111,
              "#46039f"
             ],
             [
              0.2222222222222222,
              "#7201a8"
             ],
             [
              0.3333333333333333,
              "#9c179e"
             ],
             [
              0.4444444444444444,
              "#bd3786"
             ],
             [
              0.5555555555555556,
              "#d8576b"
             ],
             [
              0.6666666666666666,
              "#ed7953"
             ],
             [
              0.7777777777777778,
              "#fb9f3a"
             ],
             [
              0.8888888888888888,
              "#fdca26"
             ],
             [
              1,
              "#f0f921"
             ]
            ],
            "type": "heatmap"
           }
          ],
          "heatmapgl": [
           {
            "colorbar": {
             "outlinewidth": 0,
             "ticks": ""
            },
            "colorscale": [
             [
              0,
              "#0d0887"
             ],
             [
              0.1111111111111111,
              "#46039f"
             ],
             [
              0.2222222222222222,
              "#7201a8"
             ],
             [
              0.3333333333333333,
              "#9c179e"
             ],
             [
              0.4444444444444444,
              "#bd3786"
             ],
             [
              0.5555555555555556,
              "#d8576b"
             ],
             [
              0.6666666666666666,
              "#ed7953"
             ],
             [
              0.7777777777777778,
              "#fb9f3a"
             ],
             [
              0.8888888888888888,
              "#fdca26"
             ],
             [
              1,
              "#f0f921"
             ]
            ],
            "type": "heatmapgl"
           }
          ],
          "histogram": [
           {
            "marker": {
             "pattern": {
              "fillmode": "overlay",
              "size": 10,
              "solidity": 0.2
             }
            },
            "type": "histogram"
           }
          ],
          "histogram2d": [
           {
            "colorbar": {
             "outlinewidth": 0,
             "ticks": ""
            },
            "colorscale": [
             [
              0,
              "#0d0887"
             ],
             [
              0.1111111111111111,
              "#46039f"
             ],
             [
              0.2222222222222222,
              "#7201a8"
             ],
             [
              0.3333333333333333,
              "#9c179e"
             ],
             [
              0.4444444444444444,
              "#bd3786"
             ],
             [
              0.5555555555555556,
              "#d8576b"
             ],
             [
              0.6666666666666666,
              "#ed7953"
             ],
             [
              0.7777777777777778,
              "#fb9f3a"
             ],
             [
              0.8888888888888888,
              "#fdca26"
             ],
             [
              1,
              "#f0f921"
             ]
            ],
            "type": "histogram2d"
           }
          ],
          "histogram2dcontour": [
           {
            "colorbar": {
             "outlinewidth": 0,
             "ticks": ""
            },
            "colorscale": [
             [
              0,
              "#0d0887"
             ],
             [
              0.1111111111111111,
              "#46039f"
             ],
             [
              0.2222222222222222,
              "#7201a8"
             ],
             [
              0.3333333333333333,
              "#9c179e"
             ],
             [
              0.4444444444444444,
              "#bd3786"
             ],
             [
              0.5555555555555556,
              "#d8576b"
             ],
             [
              0.6666666666666666,
              "#ed7953"
             ],
             [
              0.7777777777777778,
              "#fb9f3a"
             ],
             [
              0.8888888888888888,
              "#fdca26"
             ],
             [
              1,
              "#f0f921"
             ]
            ],
            "type": "histogram2dcontour"
           }
          ],
          "mesh3d": [
           {
            "colorbar": {
             "outlinewidth": 0,
             "ticks": ""
            },
            "type": "mesh3d"
           }
          ],
          "parcoords": [
           {
            "line": {
             "colorbar": {
              "outlinewidth": 0,
              "ticks": ""
             }
            },
            "type": "parcoords"
           }
          ],
          "pie": [
           {
            "automargin": true,
            "type": "pie"
           }
          ],
          "scatter": [
           {
            "fillpattern": {
             "fillmode": "overlay",
             "size": 10,
             "solidity": 0.2
            },
            "type": "scatter"
           }
          ],
          "scatter3d": [
           {
            "line": {
             "colorbar": {
              "outlinewidth": 0,
              "ticks": ""
             }
            },
            "marker": {
             "colorbar": {
              "outlinewidth": 0,
              "ticks": ""
             }
            },
            "type": "scatter3d"
           }
          ],
          "scattercarpet": [
           {
            "marker": {
             "colorbar": {
              "outlinewidth": 0,
              "ticks": ""
             }
            },
            "type": "scattercarpet"
           }
          ],
          "scattergeo": [
           {
            "marker": {
             "colorbar": {
              "outlinewidth": 0,
              "ticks": ""
             }
            },
            "type": "scattergeo"
           }
          ],
          "scattergl": [
           {
            "marker": {
             "colorbar": {
              "outlinewidth": 0,
              "ticks": ""
             }
            },
            "type": "scattergl"
           }
          ],
          "scattermapbox": [
           {
            "marker": {
             "colorbar": {
              "outlinewidth": 0,
              "ticks": ""
             }
            },
            "type": "scattermapbox"
           }
          ],
          "scatterpolar": [
           {
            "marker": {
             "colorbar": {
              "outlinewidth": 0,
              "ticks": ""
             }
            },
            "type": "scatterpolar"
           }
          ],
          "scatterpolargl": [
           {
            "marker": {
             "colorbar": {
              "outlinewidth": 0,
              "ticks": ""
             }
            },
            "type": "scatterpolargl"
           }
          ],
          "scatterternary": [
           {
            "marker": {
             "colorbar": {
              "outlinewidth": 0,
              "ticks": ""
             }
            },
            "type": "scatterternary"
           }
          ],
          "surface": [
           {
            "colorbar": {
             "outlinewidth": 0,
             "ticks": ""
            },
            "colorscale": [
             [
              0,
              "#0d0887"
             ],
             [
              0.1111111111111111,
              "#46039f"
             ],
             [
              0.2222222222222222,
              "#7201a8"
             ],
             [
              0.3333333333333333,
              "#9c179e"
             ],
             [
              0.4444444444444444,
              "#bd3786"
             ],
             [
              0.5555555555555556,
              "#d8576b"
             ],
             [
              0.6666666666666666,
              "#ed7953"
             ],
             [
              0.7777777777777778,
              "#fb9f3a"
             ],
             [
              0.8888888888888888,
              "#fdca26"
             ],
             [
              1,
              "#f0f921"
             ]
            ],
            "type": "surface"
           }
          ],
          "table": [
           {
            "cells": {
             "fill": {
              "color": "#EBF0F8"
             },
             "line": {
              "color": "white"
             }
            },
            "header": {
             "fill": {
              "color": "#C8D4E3"
             },
             "line": {
              "color": "white"
             }
            },
            "type": "table"
           }
          ]
         },
         "layout": {
          "annotationdefaults": {
           "arrowcolor": "#2a3f5f",
           "arrowhead": 0,
           "arrowwidth": 1
          },
          "autotypenumbers": "strict",
          "coloraxis": {
           "colorbar": {
            "outlinewidth": 0,
            "ticks": ""
           }
          },
          "colorscale": {
           "diverging": [
            [
             0,
             "#8e0152"
            ],
            [
             0.1,
             "#c51b7d"
            ],
            [
             0.2,
             "#de77ae"
            ],
            [
             0.3,
             "#f1b6da"
            ],
            [
             0.4,
             "#fde0ef"
            ],
            [
             0.5,
             "#f7f7f7"
            ],
            [
             0.6,
             "#e6f5d0"
            ],
            [
             0.7,
             "#b8e186"
            ],
            [
             0.8,
             "#7fbc41"
            ],
            [
             0.9,
             "#4d9221"
            ],
            [
             1,
             "#276419"
            ]
           ],
           "sequential": [
            [
             0,
             "#0d0887"
            ],
            [
             0.1111111111111111,
             "#46039f"
            ],
            [
             0.2222222222222222,
             "#7201a8"
            ],
            [
             0.3333333333333333,
             "#9c179e"
            ],
            [
             0.4444444444444444,
             "#bd3786"
            ],
            [
             0.5555555555555556,
             "#d8576b"
            ],
            [
             0.6666666666666666,
             "#ed7953"
            ],
            [
             0.7777777777777778,
             "#fb9f3a"
            ],
            [
             0.8888888888888888,
             "#fdca26"
            ],
            [
             1,
             "#f0f921"
            ]
           ],
           "sequentialminus": [
            [
             0,
             "#0d0887"
            ],
            [
             0.1111111111111111,
             "#46039f"
            ],
            [
             0.2222222222222222,
             "#7201a8"
            ],
            [
             0.3333333333333333,
             "#9c179e"
            ],
            [
             0.4444444444444444,
             "#bd3786"
            ],
            [
             0.5555555555555556,
             "#d8576b"
            ],
            [
             0.6666666666666666,
             "#ed7953"
            ],
            [
             0.7777777777777778,
             "#fb9f3a"
            ],
            [
             0.8888888888888888,
             "#fdca26"
            ],
            [
             1,
             "#f0f921"
            ]
           ]
          },
          "colorway": [
           "#636efa",
           "#EF553B",
           "#00cc96",
           "#ab63fa",
           "#FFA15A",
           "#19d3f3",
           "#FF6692",
           "#B6E880",
           "#FF97FF",
           "#FECB52"
          ],
          "font": {
           "color": "#2a3f5f"
          },
          "geo": {
           "bgcolor": "white",
           "lakecolor": "white",
           "landcolor": "#E5ECF6",
           "showlakes": true,
           "showland": true,
           "subunitcolor": "white"
          },
          "hoverlabel": {
           "align": "left"
          },
          "hovermode": "closest",
          "mapbox": {
           "style": "light"
          },
          "paper_bgcolor": "white",
          "plot_bgcolor": "#E5ECF6",
          "polar": {
           "angularaxis": {
            "gridcolor": "white",
            "linecolor": "white",
            "ticks": ""
           },
           "bgcolor": "#E5ECF6",
           "radialaxis": {
            "gridcolor": "white",
            "linecolor": "white",
            "ticks": ""
           }
          },
          "scene": {
           "xaxis": {
            "backgroundcolor": "#E5ECF6",
            "gridcolor": "white",
            "gridwidth": 2,
            "linecolor": "white",
            "showbackground": true,
            "ticks": "",
            "zerolinecolor": "white"
           },
           "yaxis": {
            "backgroundcolor": "#E5ECF6",
            "gridcolor": "white",
            "gridwidth": 2,
            "linecolor": "white",
            "showbackground": true,
            "ticks": "",
            "zerolinecolor": "white"
           },
           "zaxis": {
            "backgroundcolor": "#E5ECF6",
            "gridcolor": "white",
            "gridwidth": 2,
            "linecolor": "white",
            "showbackground": true,
            "ticks": "",
            "zerolinecolor": "white"
           }
          },
          "shapedefaults": {
           "line": {
            "color": "#2a3f5f"
           }
          },
          "ternary": {
           "aaxis": {
            "gridcolor": "white",
            "linecolor": "white",
            "ticks": ""
           },
           "baxis": {
            "gridcolor": "white",
            "linecolor": "white",
            "ticks": ""
           },
           "bgcolor": "#E5ECF6",
           "caxis": {
            "gridcolor": "white",
            "linecolor": "white",
            "ticks": ""
           }
          },
          "title": {
           "x": 0.05
          },
          "xaxis": {
           "automargin": true,
           "gridcolor": "white",
           "linecolor": "white",
           "ticks": "",
           "title": {
            "standoff": 15
           },
           "zerolinecolor": "white",
           "zerolinewidth": 2
          },
          "yaxis": {
           "automargin": true,
           "gridcolor": "white",
           "linecolor": "white",
           "ticks": "",
           "title": {
            "standoff": 15
           },
           "zerolinecolor": "white",
           "zerolinewidth": 2
          }
         }
        },
        "title": {
         "text": "BTC Software Programs"
        }
       }
      }
     },
     "metadata": {},
     "output_type": "display_data"
    },
    {
     "data": {
      "text/plain": [
       "<Figure size 1200x1600 with 0 Axes>"
      ]
     },
     "metadata": {},
     "output_type": "display_data"
    }
   ],
   "source": [
    "import matplotlib.pyplot as plt\n",
    "import plotly.graph_objects as go\n",
    "import plotly.graph_objects as go\n",
    "import plotly.express as px\n",
    "plt.figure(figsize=(12, 16))\n",
    "# Define the nodes and links\n",
    "nodes = {\n",
    "    \"pad\": 15,\n",
    "    \"thickness\": 20,\n",
    "    \"line\": dict(color=\"black\", width=0.5),\n",
    "    \"label\": [\n",
    "        # Software Projects\n",
    "        \"Data Analysis\",\n",
    "        \"Inventory\",\n",
    "        \"Project Management\",\n",
    "        'Web Forms for Tasks',\n",
    "        'Data Migration/cataloging',\n",
    "        'Confluence',\n",
    "        'Screening System',\n",
    "        'Weight & Dimensions System',\n",
    "        'Primary',\n",
    "        'Secondary',\n",
    "        'GFE Data Migration',\n",
    "        'JIRA',\n",
    "        'Consolidated Reports',\n",
    "        'HTML Handbook',\n",
    "        'Presentations',\n",
    "        'Periodic Reports',\n",
    "        'Screening Report',\n",
    "        'Customer',\n",
    "        'Cap Planning',\n",
    "        'GFM',\n",
    "        'BTC',  # 20\n",
    "        'Special Projects',\n",
    "        'dQ/dV',\n",
    "        'Analyzing calibration data',\n",
    "        'Cell Selection',\n",
    "    ],\n",
    "    \"color\": [\n",
    "        'rgba(31, 119, 180, 0.9)',  # da\n",
    "        'rgba(80, 80, 80, 0.1)',  # inv\n",
    "        'rgba(80, 80, 80, 0.1)',  # Project M\n",
    "        'rgba(80, 80, 80, 0.1)',\n",
    "        'rgba(80, 80, 80, 0.1)',  # DM\n",
    "        'rgba(80, 80, 80, 0.1)',  # Confluence\n",
    "        'rgba(80, 80, 80, 0.1)',  # Screening\n",
    "        'rgba(80, 80, 80, 0.1)',  # wd\n",
    "        'rgba(31, 119, 180, 0.9)',  # PMDA\n",
    "        'rgba(80, 80, 80, 0.1)',  # SDDA\n",
    "        'rgba(80, 80, 80, 0.1)',  # GFE DAM\n",
    "        'rgba(80, 80, 80, 0.1)',  # JIRA\n",
    "        'rgba(31, 119, 180, 0.9)',  # consolidated reports\n",
    "        'rgba(80, 80, 80, 0.1)',  # HTML\n",
    "        'rgba(80, 80, 80, 0.1)',  # presentation\n",
    "        'rgba(80, 80, 80, 0.1)',  # mothly\n",
    "        'rgba(80, 80, 80, 0.1)',  # screening report\n",
    "        'rgba(80, 80, 80, 0.1)',  # customer\n",
    "        'rgba(80, 80, 80, 0.1)',  # CAP Plan\n",
    "        'rgba(80, 80, 80, 0.1)',  # GFM\n",
    "        'rgba(80, 80, 80, 0.1)',  # BTC\n",
    "        'rgba(80, 80, 80, 0.1)',  # Special Projects\n",
    "        'rgba(80, 80, 80, 0.1)',  # dQ/dV\n",
    "        'rgba(80, 80, 80, 0.1)',  # Analyzing calibration data\n",
    "        'rgba(80, 80, 80, 0.1)',  # Cell Selection\n",
    "    ]\n",
    "\n",
    "}\n",
    "links = {  # DA      Dap/das to deliverables  # D to PSC        #    Inventory     # Project Management     dm    screening\n",
    "    'source': [0, 0,  8,  8,  8, 9,   9,  9,   12, 13, 14,      1, 10, 15, 10, 18,     2, 2, 5, 11,         4,  6, 8, 16,      7, 7,  1,  19, 19,    8, 9, 0,  21, 21, 21, 22, 23, 24],\n",
    "    'target': [8, 9,  12, 13, 14, 12, 13, 14,   17, 17, 17,     10, 15, 17, 18, 17,    11, 5, 17, 17,       17, 8, 16, 17,      8, 9,  19,  15, 18,  4, 4, 4,  22, 23, 24, 20, 20, 20],\n",
    "    'value':  [3, 1,   3,  1,  1, 1,   1,  1,    8,  2,  2,      3,  1, 2, 1, 2,      1, 1,  1, 1,          1,  2,  2, 2,      0.5, 0.5,  1,   1, 1,     1, 1, 1,   1,  1,  1, 1,   1,  1],\n",
    "    # 'color': []\n",
    "}\n",
    "\n",
    "links['color'] = [\n",
    "    \"rgba(31, 119, 180, 0.9)\",  # DA to PDA\n",
    "    'rgba(80, 80, 80, 0.1)',  # DA to SDA\n",
    "    \"rgba(31, 119, 180, 0.9)\",  # Primary  to consolidated report\n",
    "    'rgba(80, 80, 80, 0.1)',  # PDA to HTML\n",
    "    'rgba(80, 80, 80, 0.1)',  # PDA to presentation\n",
    "    'rgba(80, 80, 80, 0.1)',  # SDA to consolidated\n",
    "    'rgba(80, 80, 80, 0.1)',  # SDA to HTML\n",
    "    'rgba(80, 80, 80, 0.1)',  # SDA to Presentation\n",
    "    'rgba(31, 119, 180, 0.9)',  # Consolidated to PSC\n",
    "    'rgba(80, 80, 80, 0.1)',  # HTML to PSC\n",
    "    'rgba(80, 80, 80, 0.1)',  # Presentation to PSC\n",
    "    'rgba(80, 80, 80, 0.1)',  # Inventory to GFE\n",
    "    'rgba(80, 80, 80, 0.1)',  # GFE DM to Monthly\n",
    "    'rgba(80, 80, 80, 0.1)',  # Monthly to PSC\n",
    "    'rgba(80, 80, 80, 0.1)',  # GFE DM to CAP P\n",
    "    'rgba(80, 80, 80, 0.1)',  # Cap P to PSC\n",
    "    'rgba(80, 80, 80, 0.1)',  # PM to Jira\n",
    "    'rgba(80, 80, 80, 0.1)',  # PM to Jira\n",
    "    'rgba(80, 80, 80, 0.1)',  # confluence to PSC\n",
    "    'rgba(80, 80, 80, 0.1)',  # JIRA to PSC\n",
    "    'rgba(80, 80, 80, 0.1)',  # data migration to PSC\n",
    "    'rgba(80, 80, 80, 0.1)',  # Screening to PDA\n",
    "    'rgba(80, 80, 80, 0.1)',  # PDA to Screening report\n",
    "    'rgba(80, 80, 80, 0.1)',  # Screening report to PSC\n",
    "    'rgba(80, 80, 80, 0.1)',  # W&D to PDA\n",
    "    'rgba(80, 80, 80, 0.1)',  # W&D to SDA\n",
    "    'rgba(80, 80, 80, 0.1)',  # inventory to GFM\n",
    "    'rgba(80, 80, 80, 0.1)',  # GFM to Monthly\n",
    "    'rgba(80, 80, 80, 0.1)',  # GFM to CAP Planning\n",
    "    'rgba(80, 80, 80, 0.1)',  # primary to data migration\n",
    "    'rgba(80, 80, 80, 0.1)',  # secondary to data migration\n",
    "    'rgba(80, 80, 80, 0.1)',  # DA to data migration\n",
    "    'rgba(80, 80, 80, 0.1)',  # SPP to cell selection\n",
    "    'rgba(80, 80, 80, 0.1)',  # SPP to cell Analyzing calibration Data\n",
    "    'rgba(80, 80, 80, 0.1)',  # SPP to cell Analyzing cell selection\n",
    "    'rgba(80, 80, 80, 0.1)',  # dq/dv to BTC\n",
    "    'rgba(80, 80, 80, 0.1)',  # ACB to BTC\n",
    "    'rgba(80, 80, 80, 0.1)',  # Cell select to BTC\n",
    "]\n",
    "# links['color'] = [px.colors.qualitative.Plotly[i %\n",
    "#                                                len(px.colors.qualitative.Plotly)] for i in links['source']]\n",
    "# Create the Sankey diagram\n",
    "\n",
    "fig = go.Figure(go.Sankey(\n",
    "    node=nodes,\n",
    "    link=links\n",
    "))\n",
    "# MCSR\n",
    "# Update layout and display the diagram\n",
    "# Make GFE and GFM its ownn line\n",
    "# add web based task forms\n",
    "\n",
    "fig.update_layout(title_text=\"BTC Software Programs\", font_size=20)\n",
    "fig.show()"
   ]
  },
  {
   "cell_type": "code",
   "execution_count": null,
   "metadata": {},
   "outputs": [],
   "source": [
    "#  skyblue, slateblue, slategray, slategrey, snow,\n",
    "#             springgreen, steelblue, tan, teal, thistle, tomato,\n",
    "#             turquoise, violet, wheat, white, whitesmoke,\n",
    "#             yellow, yellowgreen"
   ]
  }
 ],
 "metadata": {
  "kernelspec": {
   "display_name": ".docs_venv",
   "language": "python",
   "name": "python3"
  },
  "language_info": {
   "codemirror_mode": {
    "name": "ipython",
    "version": 3
   },
   "file_extension": ".py",
   "mimetype": "text/x-python",
   "name": "python",
   "nbconvert_exporter": "python",
   "pygments_lexer": "ipython3",
   "version": "3.12.3"
  }
 },
 "nbformat": 4,
 "nbformat_minor": 2
}
