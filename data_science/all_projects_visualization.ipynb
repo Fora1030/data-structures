{
 "cells": [
  {
   "cell_type": "markdown",
   "metadata": {},
   "source": [
    "# GOOD"
   ]
  },
  {
   "cell_type": "code",
   "execution_count": 27,
   "metadata": {},
   "outputs": [
    {
     "data": {
      "application/vnd.plotly.v1+json": {
       "config": {
        "plotlyServerURL": "https://plot.ly"
       },
       "data": [
        {
         "link": {
          "color": [
           "rgba(80, 80, 80, 0.1)",
           "rgba(80, 80, 80, 0.1)",
           "rgba(80, 80, 80, 0.1)",
           "rgba(80, 80, 80, 0.1)",
           "rgba(80, 80, 80, 0.1)",
           "rgba(80, 80, 80, 0.1)",
           "rgba(80, 80, 80, 0.1)",
           "rgba(80, 80, 80, 0.1)",
           "rgba(80, 80, 80, 0.1)",
           "rgba(80, 80, 80, 0.1)",
           "rgba(80, 80, 80, 0.1)",
           "rgba(80, 80, 80, 0.1)",
           "rgba(80, 80, 80, 0.1)",
           "rgba(80, 80, 80, 0.1)",
           "rgba(80, 80, 80, 0.1)",
           "rgba(80, 80, 80, 0.1)",
           "rgba(80, 80, 80, 0.1)",
           "rgba(80, 80, 80, 0.1)",
           "rgba(80, 80, 80, 0.1)",
           "rgba(80, 80, 80, 0.1)",
           "rgba(80, 80, 80, 0.1)",
           "rgba(80, 80, 80, 0.1)",
           "rgba(80, 80, 80, 0.1)",
           "rgba(80, 80, 80, 0.1)",
           "rgba(80, 80, 80, 0.1)",
           "rgba(80, 80, 80, 0.1)",
           "rgba(80, 80, 80, 0.1)",
           "rgba(80, 80, 80, 0.1)",
           "rgba(80, 80, 80, 0.1)",
           "rgba(80, 80, 80, 0.1)",
           "rgba(80, 80, 80, 0.1)",
           "rgba(80, 80, 80, 0.1)",
           "rgba(80, 80, 80, 0.1)",
           "rgba(80, 80, 80, 0.1)",
           "rgba(80, 80, 80, 0.1)",
           "rgba(80, 80, 80, 0.1)",
           "rgba(80, 80, 80, 0.1)",
           "rgba(80, 80, 80, 0.1)",
           "rgba(80, 80, 80, 0.1)",
           "rgba(80, 80, 80, 0.1)",
           "rgba(80, 80, 80, 0.1)"
          ],
          "source": [
           0,
           0,
           8,
           8,
           8,
           9,
           9,
           9,
           12,
           13,
           14,
           1,
           10,
           15,
           10,
           18,
           2,
           2,
           5,
           11,
           4,
           6,
           8,
           16,
           7,
           7,
           1,
           19,
           19,
           8,
           9,
           0,
           21,
           21,
           21,
           22,
           23,
           24,
           0,
           2,
           3
          ],
          "target": [
           8,
           9,
           12,
           13,
           14,
           12,
           13,
           14,
           17,
           17,
           17,
           10,
           15,
           17,
           18,
           17,
           11,
           5,
           17,
           17,
           17,
           8,
           16,
           17,
           8,
           9,
           19,
           15,
           18,
           4,
           4,
           4,
           22,
           23,
           24,
           20,
           20,
           20,
           22,
           3,
           17
          ],
          "value": [
           3.2,
           0.4,
           3.2,
           0.4,
           0.4,
           0.4,
           0.4,
           0.4,
           3.2,
           0.2,
           0.4,
           0.8,
           0.4,
           0.8,
           0.4,
           0.8,
           0.4,
           0.4,
           0.4,
           0.4,
           0.4,
           0.4,
           0.8,
           0.8,
           0.5,
           0.5,
           0.4,
           0.4,
           0.4,
           0.4,
           0.4,
           0.4,
           0.3,
           0.3,
           0.3,
           0.3,
           0.3,
           0.3,
           0.3,
           0.3,
           0.3
          ]
         },
         "node": {
          "color": [
           "rgba(80, 80, 80, 0.1)",
           "rgba(80, 80, 80, 0.1)",
           "rgba(80, 80, 80, 0.1)",
           "rgba(80, 80, 80, 0.1)",
           "rgba(80, 80, 80, 0.1)",
           "rgba(80, 80, 80, 0.1)",
           "rgba(80, 80, 80, 0.1)",
           "rgba(80, 80, 80, 0.1)",
           "rgba(80, 80, 80, 0.1)",
           "rgba(80, 80, 80, 0.1)",
           "rgba(80, 80, 80, 0.1)",
           "rgba(80, 80, 80, 0.1)",
           "rgba(80, 80, 80, 0.1)",
           "rgba(80, 80, 80, 0.1)",
           "rgba(80, 80, 80, 0.1)",
           "rgba(80, 80, 80, 0.1)",
           "rgba(80, 80, 80, 0.1)",
           "rgba(80, 80, 80, 0.1)",
           "rgba(80, 80, 80, 0.1)",
           "rgba(80, 80, 80, 0.1)",
           "rgba(80, 80, 80, 0.1)",
           "rgba(80, 80, 80, 0.1)",
           "rgba(80, 80, 80, 0.1)",
           "rgba(80, 80, 80, 0.1)",
           "rgba(80, 80, 80, 0.1)"
          ],
          "label": [
           "Data Analysis",
           "Inventory",
           "Project Management",
           "Web Forms for Tasks",
           "Data Migration/cataloging",
           "Confluence",
           "Screening System",
           "Weight & Dimensions",
           "Primary",
           "Secondary",
           "GFE Data Migration",
           "JIRA",
           "Consolidated Reports",
           "HTML Handbook",
           "Presentations",
           "Periodic Reports",
           "Screening Report",
           "Customer",
           "Cap Planning",
           "GFM",
           "BTC",
           "Special Projects",
           "dQ/dV",
           "Analyzing Calibration Data",
           "Cell Selection"
          ],
          "line": {
           "color": "black",
           "width": 0.5
          },
          "pad": 15,
          "thickness": 20,
          "x": [
           0.01,
           0.01,
           0.01,
           0.3,
           0.66,
           0.3,
           0.01,
           0.01,
           0.3,
           0.3,
           0.3,
           0.3,
           0.66,
           0.66,
           0.66,
           0.66,
           0.66,
           0,
           0.66,
           0.3,
           0,
           0,
           0.3,
           0.3,
           0.3
          ],
          "y": [
           -0.05,
           0.5,
           0.7,
           0.73,
           0.2,
           0.55,
           0.3,
           0.13,
           -0.01,
           0.19,
           0.35,
           0.65,
           -0.005,
           0.4,
           0.5,
           0.6,
           0.3,
           0,
           0.7,
           0.45,
           0,
           0,
           0.85,
           0.93,
           1
          ]
         },
         "type": "sankey"
        }
       ],
       "layout": {
        "font": {
         "size": 20
        },
        "template": {
         "data": {
          "bar": [
           {
            "error_x": {
             "color": "#2a3f5f"
            },
            "error_y": {
             "color": "#2a3f5f"
            },
            "marker": {
             "line": {
              "color": "#E5ECF6",
              "width": 0.5
             },
             "pattern": {
              "fillmode": "overlay",
              "size": 10,
              "solidity": 0.2
             }
            },
            "type": "bar"
           }
          ],
          "barpolar": [
           {
            "marker": {
             "line": {
              "color": "#E5ECF6",
              "width": 0.5
             },
             "pattern": {
              "fillmode": "overlay",
              "size": 10,
              "solidity": 0.2
             }
            },
            "type": "barpolar"
           }
          ],
          "carpet": [
           {
            "aaxis": {
             "endlinecolor": "#2a3f5f",
             "gridcolor": "white",
             "linecolor": "white",
             "minorgridcolor": "white",
             "startlinecolor": "#2a3f5f"
            },
            "baxis": {
             "endlinecolor": "#2a3f5f",
             "gridcolor": "white",
             "linecolor": "white",
             "minorgridcolor": "white",
             "startlinecolor": "#2a3f5f"
            },
            "type": "carpet"
           }
          ],
          "choropleth": [
           {
            "colorbar": {
             "outlinewidth": 0,
             "ticks": ""
            },
            "type": "choropleth"
           }
          ],
          "contour": [
           {
            "colorbar": {
             "outlinewidth": 0,
             "ticks": ""
            },
            "colorscale": [
             [
              0,
              "#0d0887"
             ],
             [
              0.1111111111111111,
              "#46039f"
             ],
             [
              0.2222222222222222,
              "#7201a8"
             ],
             [
              0.3333333333333333,
              "#9c179e"
             ],
             [
              0.4444444444444444,
              "#bd3786"
             ],
             [
              0.5555555555555556,
              "#d8576b"
             ],
             [
              0.6666666666666666,
              "#ed7953"
             ],
             [
              0.7777777777777778,
              "#fb9f3a"
             ],
             [
              0.8888888888888888,
              "#fdca26"
             ],
             [
              1,
              "#f0f921"
             ]
            ],
            "type": "contour"
           }
          ],
          "contourcarpet": [
           {
            "colorbar": {
             "outlinewidth": 0,
             "ticks": ""
            },
            "type": "contourcarpet"
           }
          ],
          "heatmap": [
           {
            "colorbar": {
             "outlinewidth": 0,
             "ticks": ""
            },
            "colorscale": [
             [
              0,
              "#0d0887"
             ],
             [
              0.1111111111111111,
              "#46039f"
             ],
             [
              0.2222222222222222,
              "#7201a8"
             ],
             [
              0.3333333333333333,
              "#9c179e"
             ],
             [
              0.4444444444444444,
              "#bd3786"
             ],
             [
              0.5555555555555556,
              "#d8576b"
             ],
             [
              0.6666666666666666,
              "#ed7953"
             ],
             [
              0.7777777777777778,
              "#fb9f3a"
             ],
             [
              0.8888888888888888,
              "#fdca26"
             ],
             [
              1,
              "#f0f921"
             ]
            ],
            "type": "heatmap"
           }
          ],
          "heatmapgl": [
           {
            "colorbar": {
             "outlinewidth": 0,
             "ticks": ""
            },
            "colorscale": [
             [
              0,
              "#0d0887"
             ],
             [
              0.1111111111111111,
              "#46039f"
             ],
             [
              0.2222222222222222,
              "#7201a8"
             ],
             [
              0.3333333333333333,
              "#9c179e"
             ],
             [
              0.4444444444444444,
              "#bd3786"
             ],
             [
              0.5555555555555556,
              "#d8576b"
             ],
             [
              0.6666666666666666,
              "#ed7953"
             ],
             [
              0.7777777777777778,
              "#fb9f3a"
             ],
             [
              0.8888888888888888,
              "#fdca26"
             ],
             [
              1,
              "#f0f921"
             ]
            ],
            "type": "heatmapgl"
           }
          ],
          "histogram": [
           {
            "marker": {
             "pattern": {
              "fillmode": "overlay",
              "size": 10,
              "solidity": 0.2
             }
            },
            "type": "histogram"
           }
          ],
          "histogram2d": [
           {
            "colorbar": {
             "outlinewidth": 0,
             "ticks": ""
            },
            "colorscale": [
             [
              0,
              "#0d0887"
             ],
             [
              0.1111111111111111,
              "#46039f"
             ],
             [
              0.2222222222222222,
              "#7201a8"
             ],
             [
              0.3333333333333333,
              "#9c179e"
             ],
             [
              0.4444444444444444,
              "#bd3786"
             ],
             [
              0.5555555555555556,
              "#d8576b"
             ],
             [
              0.6666666666666666,
              "#ed7953"
             ],
             [
              0.7777777777777778,
              "#fb9f3a"
             ],
             [
              0.8888888888888888,
              "#fdca26"
             ],
             [
              1,
              "#f0f921"
             ]
            ],
            "type": "histogram2d"
           }
          ],
          "histogram2dcontour": [
           {
            "colorbar": {
             "outlinewidth": 0,
             "ticks": ""
            },
            "colorscale": [
             [
              0,
              "#0d0887"
             ],
             [
              0.1111111111111111,
              "#46039f"
             ],
             [
              0.2222222222222222,
              "#7201a8"
             ],
             [
              0.3333333333333333,
              "#9c179e"
             ],
             [
              0.4444444444444444,
              "#bd3786"
             ],
             [
              0.5555555555555556,
              "#d8576b"
             ],
             [
              0.6666666666666666,
              "#ed7953"
             ],
             [
              0.7777777777777778,
              "#fb9f3a"
             ],
             [
              0.8888888888888888,
              "#fdca26"
             ],
             [
              1,
              "#f0f921"
             ]
            ],
            "type": "histogram2dcontour"
           }
          ],
          "mesh3d": [
           {
            "colorbar": {
             "outlinewidth": 0,
             "ticks": ""
            },
            "type": "mesh3d"
           }
          ],
          "parcoords": [
           {
            "line": {
             "colorbar": {
              "outlinewidth": 0,
              "ticks": ""
             }
            },
            "type": "parcoords"
           }
          ],
          "pie": [
           {
            "automargin": true,
            "type": "pie"
           }
          ],
          "scatter": [
           {
            "fillpattern": {
             "fillmode": "overlay",
             "size": 10,
             "solidity": 0.2
            },
            "type": "scatter"
           }
          ],
          "scatter3d": [
           {
            "line": {
             "colorbar": {
              "outlinewidth": 0,
              "ticks": ""
             }
            },
            "marker": {
             "colorbar": {
              "outlinewidth": 0,
              "ticks": ""
             }
            },
            "type": "scatter3d"
           }
          ],
          "scattercarpet": [
           {
            "marker": {
             "colorbar": {
              "outlinewidth": 0,
              "ticks": ""
             }
            },
            "type": "scattercarpet"
           }
          ],
          "scattergeo": [
           {
            "marker": {
             "colorbar": {
              "outlinewidth": 0,
              "ticks": ""
             }
            },
            "type": "scattergeo"
           }
          ],
          "scattergl": [
           {
            "marker": {
             "colorbar": {
              "outlinewidth": 0,
              "ticks": ""
             }
            },
            "type": "scattergl"
           }
          ],
          "scattermapbox": [
           {
            "marker": {
             "colorbar": {
              "outlinewidth": 0,
              "ticks": ""
             }
            },
            "type": "scattermapbox"
           }
          ],
          "scatterpolar": [
           {
            "marker": {
             "colorbar": {
              "outlinewidth": 0,
              "ticks": ""
             }
            },
            "type": "scatterpolar"
           }
          ],
          "scatterpolargl": [
           {
            "marker": {
             "colorbar": {
              "outlinewidth": 0,
              "ticks": ""
             }
            },
            "type": "scatterpolargl"
           }
          ],
          "scatterternary": [
           {
            "marker": {
             "colorbar": {
              "outlinewidth": 0,
              "ticks": ""
             }
            },
            "type": "scatterternary"
           }
          ],
          "surface": [
           {
            "colorbar": {
             "outlinewidth": 0,
             "ticks": ""
            },
            "colorscale": [
             [
              0,
              "#0d0887"
             ],
             [
              0.1111111111111111,
              "#46039f"
             ],
             [
              0.2222222222222222,
              "#7201a8"
             ],
             [
              0.3333333333333333,
              "#9c179e"
             ],
             [
              0.4444444444444444,
              "#bd3786"
             ],
             [
              0.5555555555555556,
              "#d8576b"
             ],
             [
              0.6666666666666666,
              "#ed7953"
             ],
             [
              0.7777777777777778,
              "#fb9f3a"
             ],
             [
              0.8888888888888888,
              "#fdca26"
             ],
             [
              1,
              "#f0f921"
             ]
            ],
            "type": "surface"
           }
          ],
          "table": [
           {
            "cells": {
             "fill": {
              "color": "#EBF0F8"
             },
             "line": {
              "color": "white"
             }
            },
            "header": {
             "fill": {
              "color": "#C8D4E3"
             },
             "line": {
              "color": "white"
             }
            },
            "type": "table"
           }
          ]
         },
         "layout": {
          "annotationdefaults": {
           "arrowcolor": "#2a3f5f",
           "arrowhead": 0,
           "arrowwidth": 1
          },
          "autotypenumbers": "strict",
          "coloraxis": {
           "colorbar": {
            "outlinewidth": 0,
            "ticks": ""
           }
          },
          "colorscale": {
           "diverging": [
            [
             0,
             "#8e0152"
            ],
            [
             0.1,
             "#c51b7d"
            ],
            [
             0.2,
             "#de77ae"
            ],
            [
             0.3,
             "#f1b6da"
            ],
            [
             0.4,
             "#fde0ef"
            ],
            [
             0.5,
             "#f7f7f7"
            ],
            [
             0.6,
             "#e6f5d0"
            ],
            [
             0.7,
             "#b8e186"
            ],
            [
             0.8,
             "#7fbc41"
            ],
            [
             0.9,
             "#4d9221"
            ],
            [
             1,
             "#276419"
            ]
           ],
           "sequential": [
            [
             0,
             "#0d0887"
            ],
            [
             0.1111111111111111,
             "#46039f"
            ],
            [
             0.2222222222222222,
             "#7201a8"
            ],
            [
             0.3333333333333333,
             "#9c179e"
            ],
            [
             0.4444444444444444,
             "#bd3786"
            ],
            [
             0.5555555555555556,
             "#d8576b"
            ],
            [
             0.6666666666666666,
             "#ed7953"
            ],
            [
             0.7777777777777778,
             "#fb9f3a"
            ],
            [
             0.8888888888888888,
             "#fdca26"
            ],
            [
             1,
             "#f0f921"
            ]
           ],
           "sequentialminus": [
            [
             0,
             "#0d0887"
            ],
            [
             0.1111111111111111,
             "#46039f"
            ],
            [
             0.2222222222222222,
             "#7201a8"
            ],
            [
             0.3333333333333333,
             "#9c179e"
            ],
            [
             0.4444444444444444,
             "#bd3786"
            ],
            [
             0.5555555555555556,
             "#d8576b"
            ],
            [
             0.6666666666666666,
             "#ed7953"
            ],
            [
             0.7777777777777778,
             "#fb9f3a"
            ],
            [
             0.8888888888888888,
             "#fdca26"
            ],
            [
             1,
             "#f0f921"
            ]
           ]
          },
          "colorway": [
           "#636efa",
           "#EF553B",
           "#00cc96",
           "#ab63fa",
           "#FFA15A",
           "#19d3f3",
           "#FF6692",
           "#B6E880",
           "#FF97FF",
           "#FECB52"
          ],
          "font": {
           "color": "#2a3f5f"
          },
          "geo": {
           "bgcolor": "white",
           "lakecolor": "white",
           "landcolor": "#E5ECF6",
           "showlakes": true,
           "showland": true,
           "subunitcolor": "white"
          },
          "hoverlabel": {
           "align": "left"
          },
          "hovermode": "closest",
          "mapbox": {
           "style": "light"
          },
          "paper_bgcolor": "white",
          "plot_bgcolor": "#E5ECF6",
          "polar": {
           "angularaxis": {
            "gridcolor": "white",
            "linecolor": "white",
            "ticks": ""
           },
           "bgcolor": "#E5ECF6",
           "radialaxis": {
            "gridcolor": "white",
            "linecolor": "white",
            "ticks": ""
           }
          },
          "scene": {
           "xaxis": {
            "backgroundcolor": "#E5ECF6",
            "gridcolor": "white",
            "gridwidth": 2,
            "linecolor": "white",
            "showbackground": true,
            "ticks": "",
            "zerolinecolor": "white"
           },
           "yaxis": {
            "backgroundcolor": "#E5ECF6",
            "gridcolor": "white",
            "gridwidth": 2,
            "linecolor": "white",
            "showbackground": true,
            "ticks": "",
            "zerolinecolor": "white"
           },
           "zaxis": {
            "backgroundcolor": "#E5ECF6",
            "gridcolor": "white",
            "gridwidth": 2,
            "linecolor": "white",
            "showbackground": true,
            "ticks": "",
            "zerolinecolor": "white"
           }
          },
          "shapedefaults": {
           "line": {
            "color": "#2a3f5f"
           }
          },
          "ternary": {
           "aaxis": {
            "gridcolor": "white",
            "linecolor": "white",
            "ticks": ""
           },
           "baxis": {
            "gridcolor": "white",
            "linecolor": "white",
            "ticks": ""
           },
           "bgcolor": "#E5ECF6",
           "caxis": {
            "gridcolor": "white",
            "linecolor": "white",
            "ticks": ""
           }
          },
          "title": {
           "x": 0.05
          },
          "xaxis": {
           "automargin": true,
           "gridcolor": "white",
           "linecolor": "white",
           "ticks": "",
           "title": {
            "standoff": 15
           },
           "zerolinecolor": "white",
           "zerolinewidth": 2
          },
          "yaxis": {
           "automargin": true,
           "gridcolor": "white",
           "linecolor": "white",
           "ticks": "",
           "title": {
            "standoff": 15
           },
           "zerolinecolor": "white",
           "zerolinewidth": 2
          }
         }
        },
        "title": {
         "text": "BTC Software Programs"
        }
       }
      }
     },
     "metadata": {},
     "output_type": "display_data"
    },
    {
     "data": {
      "text/plain": [
       "<Figure size 1200x2000 with 0 Axes>"
      ]
     },
     "metadata": {},
     "output_type": "display_data"
    }
   ],
   "source": [
    "\n",
    "\n",
    "import matplotlib.pyplot as plt\n",
    "import plotly.graph_objects as go\n",
    "import plotly.graph_objects as go\n",
    "import plotly.express as px\n",
    "plt.figure(figsize=(12, 20))\n",
    "# Define the nodes and links\n",
    "nodes = {\n",
    "    \"pad\": 15,\n",
    "    \"thickness\": 20,\n",
    "    \"line\": dict(color=\"black\", width=0.5),\n",
    "    \"label\": [\n",
    "        \"Data Analysis\",\n",
    "        \"Inventory\",\n",
    "        \"Project Management\",\n",
    "        'Web Forms for Tasks',\n",
    "        'Data Migration/cataloging',\n",
    "        'Confluence',\n",
    "        'Screening System',\n",
    "        'Weight & Dimensions',\n",
    "        'Primary',\n",
    "        'Secondary',\n",
    "        'GFE Data Migration',\n",
    "        'JIRA',\n",
    "        'Consolidated Reports',\n",
    "        'HTML Handbook',\n",
    "        'Presentations',\n",
    "        'Periodic Reports',\n",
    "        'Screening Report',\n",
    "        'Customer',\n",
    "        'Cap Planning',\n",
    "        'GFM',\n",
    "        'BTC',  # 20\n",
    "        'Special Projects',\n",
    "        'dQ/dV',\n",
    "        'Analyzing Calibration Data',\n",
    "        'Cell Selection',\n",
    "    ],\n",
    "    \"color\": [\n",
    "        'rgba(80, 80, 80, 0.1)',  # da\n",
    "        'rgba(80, 80, 80, 0.1)',  # inv\n",
    "        'rgba(80, 80, 80, 0.1)',  # Project M\n",
    "        'rgba(80, 80, 80, 0.1)',  # Web task Forms\n",
    "        'rgba(80, 80, 80, 0.1)',  # DM\n",
    "        'rgba(80, 80, 80, 0.1)',  # Confluence\n",
    "        'rgba(80, 80, 80, 0.1)',  # Screening\n",
    "        'rgba(80, 80, 80, 0.1)',  # WD\n",
    "        'rgba(80, 80, 80, 0.1)',  # PMDA\n",
    "        'rgba(80, 80, 80, 0.1)',  # SDDA\n",
    "        'rgba(80, 80, 80, 0.1)',  # GFE DAM\n",
    "        'rgba(80, 80, 80, 0.1)',  # JIRA\n",
    "        'rgba(80, 80, 80, 0.1)',  # consolidated reports\n",
    "        'rgba(80, 80, 80, 0.1)',  # HTML\n",
    "        'rgba(80, 80, 80, 0.1)',  # presentation\n",
    "        'rgba(80, 80, 80, 0.1)',  # Periodic\n",
    "        'rgba(80, 80, 80, 0.1)',  # screening report\n",
    "        'rgba(80, 80, 80, 0.1)',  # customer\n",
    "        'rgba(80, 80, 80, 0.1)',  # CAP Plan\n",
    "        'rgba(80, 80, 80, 0.1)',  # GFM\n",
    "        'rgba(80, 80, 80, 0.1)',  # BTC\n",
    "        'rgba(80, 80, 80, 0.1)',  # Special Projects\n",
    "        'rgba(80, 80, 80, 0.1)',  # dQ/dV\n",
    "        'rgba(80, 80, 80, 0.1)',  # Analyzing calibration data\n",
    "        'rgba(80, 80, 80, 0.1)',  # Cell Selection\n",
    "    ]\n",
    "\n",
    "}\n",
    "links = {  # DA      Dap/das to deliverables  # D to PSC        #    Inventory     # Project Management     dm    screening                                                                       # Web task forms\n",
    "    'source': [0, 0,  8,  8,  8, 9,   9,  9,   12, 13, 14,       1, 10, 15, 10, 18,     2, 2, 5, 11,         4,  6, 8, 16,      7, 7,  1,  19, 19,    8, 9, 0,  21, 21, 21, 22, 23, 24,      0,    2, 3],\n",
    "    'target': [8, 9,  12, 13, 14, 12, 13, 14,   17, 17, 17,      10, 15, 17, 18, 17,    11, 5, 17, 17,       17, 8, 16, 17,      8, 9,  19,  15, 18,  4, 4, 4,  22, 23, 24, 20, 20, 20,      22,   3, 17],\n",
    "    'value':  [3.2, 0.4, 3.2,  0.4,  0.4, 0.4,   0.4,  0.4, 3.2, 0.20,  0.4,      0.8,  0.4, 0.8, 0.4, 0.8,      0.4, 0.4,  0.4, 0.4,          0.4,  0.4,  0.8, 0.8,      0.5, 0.5,  0.4,   0.4, 0.4,     0.4, 0.4, 0.4,   0.3,  0.3,  0.3, 0.3,   0.3,  0.3,  0.3, 0.3, 0.3],\n",
    "    # 'color': []\n",
    "}\n",
    "\n",
    "links['color'] = [\n",
    "    \"rgba(80, 80, 80, 0.1)\",  # DA to PDA\n",
    "    \"rgba(80, 80, 80, 0.1)\",  # Da to Sencodary\n",
    "    'rgba(80, 80, 80, 0.1)',  # Primary to consolidated\n",
    "    'rgba(80, 80, 80, 0.1)',  # PDA to HTML\n",
    "    'rgba(80, 80, 80, 0.1)',  # PDA to presentation\n",
    "    'rgba(80, 80, 80, 0.1)',  # SDA to consolidated\n",
    "    'rgba(80, 80, 80, 0.1)',  # SDA to HTML\n",
    "    'rgba(80, 80, 80, 0.1)',  # SDA to Presentation\n",
    "    'rgba(80, 80, 80, 0.1)',  # Consolidated to PSC\n",
    "    'rgba(80, 80, 80, 0.1)',  # HTML to PSC\n",
    "    'rgba(80, 80, 80, 0.1)',  # Presentation to PSC\n",
    "    'rgba(80, 80, 80, 0.1)',  # Inventory to GFE\n",
    "    'rgba(80, 80, 80, 0.1)',  # GFE DM to Monthly\n",
    "    'rgba(80, 80, 80, 0.1)',  # Monthly to PSC\n",
    "    'rgba(80, 80, 80, 0.1)',  # GFE DM to CAP P\n",
    "    'rgba(80, 80, 80, 0.1)',  # Cap P to PSC\n",
    "    'rgba(80, 80, 80, 0.1)',  # PM to Jira\n",
    "    'rgba(80, 80, 80, 0.1)',  # PM to Jira\n",
    "    'rgba(80, 80, 80, 0.1)',  # confluence to PSC\n",
    "    'rgba(80, 80, 80, 0.1)',  # JIRA to PSC\n",
    "    'rgba(80, 80, 80, 0.1)',  # data migration to PSC\n",
    "    'rgba(80, 80, 80, 0.1)',  # Screening to PDA\n",
    "    'rgba(80, 80, 80, 0.1)',  # PDA to Screening report\n",
    "    'rgba(80, 80, 80, 0.1)',  # Screening report to PSC\n",
    "    'rgba(80, 80, 80, 0.1)',  # W&D to PDA\n",
    "    'rgba(80, 80, 80, 0.1)',  # W&D to SDA\n",
    "    'rgba(80, 80, 80, 0.1)',  # inventory to GFM\n",
    "    'rgba(80, 80, 80, 0.1)',  # GFM to Monthly\n",
    "    'rgba(80, 80, 80, 0.1)',  # GFM to CAP Planning\n",
    "    'rgba(80, 80, 80, 0.1)',  # primary to data migration\n",
    "    'rgba(80, 80, 80, 0.1)',  # secondary to data migration\n",
    "    'rgba(80, 80, 80, 0.1)',  # DA to data migration\n",
    "    'rgba(80, 80, 80, 0.1)',  # SPP to cell selection\n",
    "    'rgba(80, 80, 80, 0.1)',  # SPP to cell Analyzing calibration Data\n",
    "    'rgba(80, 80, 80, 0.1)',  # SPP to cell Analyzing cell selection\n",
    "    'rgba(80, 80, 80, 0.1)',  # dq/dv to BTC\n",
    "    'rgba(80, 80, 80, 0.1)',  # ACB to BTC\n",
    "    'rgba(80, 80, 80, 0.1)',  # Cell select to BTC\n",
    "    'rgba(80, 80, 80, 0.1)',  # Data analysis to dQ/dV\n",
    "    'rgba(80, 80, 80, 0.1)',  # project management to web task forms\n",
    "    'rgba(80, 80, 80, 0.1)',  # web task forms to PSC\n",
    "]\n",
    "# Define node positions (x and y coordinates)\n",
    "node_positions = {\n",
    "    \"Data Analysis\": (0.01, -0.05),\n",
    "    \"Inventory\": (0.01, 0.50),\n",
    "    \"Project Management\": (0.01, 0.70),\n",
    "    \"Data Migration/cataloging\": (0.66, 0.2),\n",
    "    \"Web Forms for Tasks\": (0.30, 0.73),\n",
    "    \"Screening System\": (0.01, 0.30),\n",
    "    \"Confluence\": (0.30, 0.55),\n",
    "    \"Weight & Dimensions\": (0.01, 0.13),\n",
    "    \"Secondary\": (0.30, 0.19),\n",
    "    \"Primary\": (0.30, -0.01),\n",
    "    \"GFE Data Migration\": (0.30, 0.35),\n",
    "    \"JIRA\": (0.30, 0.65),\n",
    "    \"Consolidated Reports\": (0.66, -0.005),\n",
    "    \"HTML Handbook\": (0.66, 0.40),\n",
    "    \"Presentations\": (0.66, 0.50),\n",
    "    \"Periodic Reports\": (0.66, 0.60),\n",
    "    \"Screening Report\": (0.66, 0.30),\n",
    "    \"Customer\": (0.0, 0.0),\n",
    "    \"Cap Planning\": (0.66, 0.70),\n",
    "    \"GFM\": (0.30, 0.45),\n",
    "    \"BTC\": (0.0, 0.0),\n",
    "    \"Special Projects\": (0.0, 0.0),\n",
    "    \"dQ/dV\": (0.30, 0.85),\n",
    "    \"Analyzing Calibration Data\": (0.30, 0.93),\n",
    "    \"Cell Selection\": (0.30, 1.0),\n",
    "}\n",
    "\n",
    "# Create a list of x and y coordinates for nodes\n",
    "node_x = [node_positions[label][0] for label in nodes[\"label\"]]\n",
    "node_y = [node_positions[label][1] for label in nodes[\"label\"]]\n",
    "\n",
    "# Update the nodes dictionary with x and y coordinates\n",
    "nodes[\"x\"] = node_x\n",
    "nodes[\"y\"] = node_y\n",
    "fig = go.Figure(go.Sankey(\n",
    "    node=nodes,\n",
    "    link=links\n",
    "))\n",
    "# MCSR\n",
    "# Update layout and display the diagram\n",
    "# Make GFE and GFM its ownn line\n",
    "# add web based task forms\n",
    "# add percentage from 0 to 9 depending on the amount of effort that we are putting into the project\n",
    "# build a story with the lines\n",
    "# Have colors\n",
    "\n",
    "fig.update_layout(title_text=\"BTC Software Programs\", font_size=20)\n",
    "fig.show()\n",
    "fig.write_image('images/fig0.png', width=1100, height=450)"
   ]
  },
  {
   "cell_type": "code",
   "execution_count": 28,
   "metadata": {},
   "outputs": [
    {
     "data": {
      "application/vnd.plotly.v1+json": {
       "config": {
        "plotlyServerURL": "https://plot.ly"
       },
       "data": [
        {
         "link": {
          "color": [
           "rgba(24,  118, 210 , 0.80)",
           "rgba(24,  118, 210 , 0.80)",
           "rgba(80, 80, 80, 0.1)",
           "rgba(80, 80, 80, 0.1)",
           "rgba(80, 80, 80, 0.1)",
           "rgba(80, 80, 80, 0.1)",
           "rgba(80, 80, 80, 0.1)",
           "rgba(80, 80, 80, 0.1)",
           "rgba(80, 80, 80, 0.1)",
           "rgba(80, 80, 80, 0.1)",
           "rgba(80, 80, 80, 0.1)",
           "rgba(80, 80, 80, 0.1)",
           "rgba(80, 80, 80, 0.1)",
           "rgba(80, 80, 80, 0.1)",
           "rgba(80, 80, 80, 0.1)",
           "rgba(80, 80, 80, 0.1)",
           "rgba(80, 80, 80, 0.1)",
           "rgba(80, 80, 80, 0.1)",
           "rgba(80, 80, 80, 0.1)",
           "rgba(80, 80, 80, 0.1)",
           "rgba(80, 80, 80, 0.1)",
           "rgba(80, 80, 80, 0.1)",
           "rgba(80, 80, 80, 0.1)",
           "rgba(80, 80, 80, 0.1)",
           "rgba(80, 80, 80, 0.1)",
           "rgba(80, 80, 80, 0.1)",
           "rgba(80, 80, 80, 0.1)",
           "rgba(80, 80, 80, 0.1)",
           "rgba(80, 80, 80, 0.1)",
           "rgba(80, 80, 80, 0.1)",
           "rgba(80, 80, 80, 0.1)",
           "rgba(24,  118, 210 , 0.80)",
           "rgba(80, 80, 80, 0.1)",
           "rgba(80, 80, 80, 0.1)",
           "rgba(80, 80, 80, 0.1)",
           "rgba(80, 80, 80, 0.1)",
           "rgba(80, 80, 80, 0.1)",
           "rgba(80, 80, 80, 0.1)",
           "rgba(24,  118, 210 , 0.80)",
           "rgba(80, 80, 80, 0.1)",
           "rgba(80, 80, 80, 0.1)"
          ],
          "source": [
           0,
           0,
           8,
           8,
           8,
           9,
           9,
           9,
           12,
           13,
           14,
           1,
           10,
           15,
           10,
           18,
           2,
           2,
           5,
           11,
           4,
           6,
           8,
           16,
           7,
           7,
           1,
           19,
           19,
           8,
           9,
           0,
           21,
           21,
           21,
           22,
           23,
           24,
           0,
           2,
           3
          ],
          "target": [
           8,
           9,
           12,
           13,
           14,
           12,
           13,
           14,
           17,
           17,
           17,
           10,
           15,
           17,
           18,
           17,
           11,
           5,
           17,
           17,
           17,
           8,
           16,
           17,
           8,
           9,
           19,
           15,
           18,
           4,
           4,
           4,
           22,
           23,
           24,
           20,
           20,
           20,
           22,
           3,
           17
          ],
          "value": [
           3.2,
           0.4,
           3.2,
           0.4,
           0.4,
           0.4,
           0.4,
           0.4,
           3.2,
           0.2,
           0.4,
           0.8,
           0.4,
           0.8,
           0.4,
           0.8,
           0.4,
           0.4,
           0.4,
           0.4,
           0.4,
           0.4,
           0.8,
           0.8,
           0.5,
           0.5,
           0.4,
           0.4,
           0.4,
           0.4,
           0.4,
           0.4,
           0.3,
           0.3,
           0.3,
           0.3,
           0.3,
           0.3,
           0.3,
           0.3,
           0.3
          ]
         },
         "node": {
          "color": [
           "rgba(24,  118, 210 , 0.80)",
           "rgba(80, 80, 80, 0.1)",
           "rgba(80, 80, 80, 0.1)",
           "rgba(80, 80, 80, 0.1)",
           "rgba(80, 80, 80, 0.1)",
           "rgba(80, 80, 80, 0.1)",
           "rgba(80, 80, 80, 0.1)",
           "rgba(80, 80, 80, 0.1)",
           "rgba(80, 80, 80, 0.1)",
           "rgba(80, 80, 80, 0.1)",
           "rgba(80, 80, 80, 0.1)",
           "rgba(80, 80, 80, 0.1)",
           "rgba(80, 80, 80, 0.1)",
           "rgba(80, 80, 80, 0.1)",
           "rgba(80, 80, 80, 0.1)",
           "rgba(80, 80, 80, 0.1)",
           "rgba(80, 80, 80, 0.1)",
           "rgba(80, 80, 80, 0.1)",
           "rgba(80, 80, 80, 0.1)",
           "rgba(80, 80, 80, 0.1)",
           "rgba(80, 80, 80, 0.1)",
           "rgba(80, 80, 80, 0.1)",
           "rgba(80, 80, 80, 0.1)",
           "rgba(80, 80, 80, 0.1)",
           "rgba(80, 80, 80, 0.1)"
          ],
          "label": [
           "Data Analysis",
           "Inventory",
           "Project Management",
           "Web Forms for Tasks",
           "Data Migration/cataloging",
           "Confluence",
           "Screening System",
           "Weight & Dimensions",
           "Primary",
           "Secondary",
           "GFE Data Migration",
           "JIRA",
           "Consolidated Reports",
           "HTML Handbook",
           "Presentations",
           "Periodic Reports",
           "Screening Report",
           "Customer",
           "Cap Planning",
           "GFM",
           "BTC",
           "Special Projects",
           "dQ/dV",
           "Analyzing Calibration Data",
           "Cell Selection"
          ],
          "line": {
           "color": "black",
           "width": 0.5
          },
          "pad": 15,
          "thickness": 20,
          "x": [
           0.01,
           0.01,
           0.01,
           0.3,
           0.66,
           0.3,
           0.01,
           0.01,
           0.3,
           0.3,
           0.3,
           0.3,
           0.66,
           0.66,
           0.66,
           0.66,
           0.66,
           0,
           0.66,
           0.3,
           0,
           0,
           0.3,
           0.3,
           0.3
          ],
          "y": [
           -0.05,
           0.5,
           0.7,
           0.73,
           0.2,
           0.55,
           0.3,
           0.13,
           -0.01,
           0.19,
           0.35,
           0.65,
           -0.005,
           0.4,
           0.5,
           0.6,
           0.3,
           0,
           0.7,
           0.45,
           0,
           0,
           0.85,
           0.93,
           1
          ]
         },
         "type": "sankey"
        }
       ],
       "layout": {
        "font": {
         "size": 20
        },
        "template": {
         "data": {
          "bar": [
           {
            "error_x": {
             "color": "#2a3f5f"
            },
            "error_y": {
             "color": "#2a3f5f"
            },
            "marker": {
             "line": {
              "color": "#E5ECF6",
              "width": 0.5
             },
             "pattern": {
              "fillmode": "overlay",
              "size": 10,
              "solidity": 0.2
             }
            },
            "type": "bar"
           }
          ],
          "barpolar": [
           {
            "marker": {
             "line": {
              "color": "#E5ECF6",
              "width": 0.5
             },
             "pattern": {
              "fillmode": "overlay",
              "size": 10,
              "solidity": 0.2
             }
            },
            "type": "barpolar"
           }
          ],
          "carpet": [
           {
            "aaxis": {
             "endlinecolor": "#2a3f5f",
             "gridcolor": "white",
             "linecolor": "white",
             "minorgridcolor": "white",
             "startlinecolor": "#2a3f5f"
            },
            "baxis": {
             "endlinecolor": "#2a3f5f",
             "gridcolor": "white",
             "linecolor": "white",
             "minorgridcolor": "white",
             "startlinecolor": "#2a3f5f"
            },
            "type": "carpet"
           }
          ],
          "choropleth": [
           {
            "colorbar": {
             "outlinewidth": 0,
             "ticks": ""
            },
            "type": "choropleth"
           }
          ],
          "contour": [
           {
            "colorbar": {
             "outlinewidth": 0,
             "ticks": ""
            },
            "colorscale": [
             [
              0,
              "#0d0887"
             ],
             [
              0.1111111111111111,
              "#46039f"
             ],
             [
              0.2222222222222222,
              "#7201a8"
             ],
             [
              0.3333333333333333,
              "#9c179e"
             ],
             [
              0.4444444444444444,
              "#bd3786"
             ],
             [
              0.5555555555555556,
              "#d8576b"
             ],
             [
              0.6666666666666666,
              "#ed7953"
             ],
             [
              0.7777777777777778,
              "#fb9f3a"
             ],
             [
              0.8888888888888888,
              "#fdca26"
             ],
             [
              1,
              "#f0f921"
             ]
            ],
            "type": "contour"
           }
          ],
          "contourcarpet": [
           {
            "colorbar": {
             "outlinewidth": 0,
             "ticks": ""
            },
            "type": "contourcarpet"
           }
          ],
          "heatmap": [
           {
            "colorbar": {
             "outlinewidth": 0,
             "ticks": ""
            },
            "colorscale": [
             [
              0,
              "#0d0887"
             ],
             [
              0.1111111111111111,
              "#46039f"
             ],
             [
              0.2222222222222222,
              "#7201a8"
             ],
             [
              0.3333333333333333,
              "#9c179e"
             ],
             [
              0.4444444444444444,
              "#bd3786"
             ],
             [
              0.5555555555555556,
              "#d8576b"
             ],
             [
              0.6666666666666666,
              "#ed7953"
             ],
             [
              0.7777777777777778,
              "#fb9f3a"
             ],
             [
              0.8888888888888888,
              "#fdca26"
             ],
             [
              1,
              "#f0f921"
             ]
            ],
            "type": "heatmap"
           }
          ],
          "heatmapgl": [
           {
            "colorbar": {
             "outlinewidth": 0,
             "ticks": ""
            },
            "colorscale": [
             [
              0,
              "#0d0887"
             ],
             [
              0.1111111111111111,
              "#46039f"
             ],
             [
              0.2222222222222222,
              "#7201a8"
             ],
             [
              0.3333333333333333,
              "#9c179e"
             ],
             [
              0.4444444444444444,
              "#bd3786"
             ],
             [
              0.5555555555555556,
              "#d8576b"
             ],
             [
              0.6666666666666666,
              "#ed7953"
             ],
             [
              0.7777777777777778,
              "#fb9f3a"
             ],
             [
              0.8888888888888888,
              "#fdca26"
             ],
             [
              1,
              "#f0f921"
             ]
            ],
            "type": "heatmapgl"
           }
          ],
          "histogram": [
           {
            "marker": {
             "pattern": {
              "fillmode": "overlay",
              "size": 10,
              "solidity": 0.2
             }
            },
            "type": "histogram"
           }
          ],
          "histogram2d": [
           {
            "colorbar": {
             "outlinewidth": 0,
             "ticks": ""
            },
            "colorscale": [
             [
              0,
              "#0d0887"
             ],
             [
              0.1111111111111111,
              "#46039f"
             ],
             [
              0.2222222222222222,
              "#7201a8"
             ],
             [
              0.3333333333333333,
              "#9c179e"
             ],
             [
              0.4444444444444444,
              "#bd3786"
             ],
             [
              0.5555555555555556,
              "#d8576b"
             ],
             [
              0.6666666666666666,
              "#ed7953"
             ],
             [
              0.7777777777777778,
              "#fb9f3a"
             ],
             [
              0.8888888888888888,
              "#fdca26"
             ],
             [
              1,
              "#f0f921"
             ]
            ],
            "type": "histogram2d"
           }
          ],
          "histogram2dcontour": [
           {
            "colorbar": {
             "outlinewidth": 0,
             "ticks": ""
            },
            "colorscale": [
             [
              0,
              "#0d0887"
             ],
             [
              0.1111111111111111,
              "#46039f"
             ],
             [
              0.2222222222222222,
              "#7201a8"
             ],
             [
              0.3333333333333333,
              "#9c179e"
             ],
             [
              0.4444444444444444,
              "#bd3786"
             ],
             [
              0.5555555555555556,
              "#d8576b"
             ],
             [
              0.6666666666666666,
              "#ed7953"
             ],
             [
              0.7777777777777778,
              "#fb9f3a"
             ],
             [
              0.8888888888888888,
              "#fdca26"
             ],
             [
              1,
              "#f0f921"
             ]
            ],
            "type": "histogram2dcontour"
           }
          ],
          "mesh3d": [
           {
            "colorbar": {
             "outlinewidth": 0,
             "ticks": ""
            },
            "type": "mesh3d"
           }
          ],
          "parcoords": [
           {
            "line": {
             "colorbar": {
              "outlinewidth": 0,
              "ticks": ""
             }
            },
            "type": "parcoords"
           }
          ],
          "pie": [
           {
            "automargin": true,
            "type": "pie"
           }
          ],
          "scatter": [
           {
            "fillpattern": {
             "fillmode": "overlay",
             "size": 10,
             "solidity": 0.2
            },
            "type": "scatter"
           }
          ],
          "scatter3d": [
           {
            "line": {
             "colorbar": {
              "outlinewidth": 0,
              "ticks": ""
             }
            },
            "marker": {
             "colorbar": {
              "outlinewidth": 0,
              "ticks": ""
             }
            },
            "type": "scatter3d"
           }
          ],
          "scattercarpet": [
           {
            "marker": {
             "colorbar": {
              "outlinewidth": 0,
              "ticks": ""
             }
            },
            "type": "scattercarpet"
           }
          ],
          "scattergeo": [
           {
            "marker": {
             "colorbar": {
              "outlinewidth": 0,
              "ticks": ""
             }
            },
            "type": "scattergeo"
           }
          ],
          "scattergl": [
           {
            "marker": {
             "colorbar": {
              "outlinewidth": 0,
              "ticks": ""
             }
            },
            "type": "scattergl"
           }
          ],
          "scattermapbox": [
           {
            "marker": {
             "colorbar": {
              "outlinewidth": 0,
              "ticks": ""
             }
            },
            "type": "scattermapbox"
           }
          ],
          "scatterpolar": [
           {
            "marker": {
             "colorbar": {
              "outlinewidth": 0,
              "ticks": ""
             }
            },
            "type": "scatterpolar"
           }
          ],
          "scatterpolargl": [
           {
            "marker": {
             "colorbar": {
              "outlinewidth": 0,
              "ticks": ""
             }
            },
            "type": "scatterpolargl"
           }
          ],
          "scatterternary": [
           {
            "marker": {
             "colorbar": {
              "outlinewidth": 0,
              "ticks": ""
             }
            },
            "type": "scatterternary"
           }
          ],
          "surface": [
           {
            "colorbar": {
             "outlinewidth": 0,
             "ticks": ""
            },
            "colorscale": [
             [
              0,
              "#0d0887"
             ],
             [
              0.1111111111111111,
              "#46039f"
             ],
             [
              0.2222222222222222,
              "#7201a8"
             ],
             [
              0.3333333333333333,
              "#9c179e"
             ],
             [
              0.4444444444444444,
              "#bd3786"
             ],
             [
              0.5555555555555556,
              "#d8576b"
             ],
             [
              0.6666666666666666,
              "#ed7953"
             ],
             [
              0.7777777777777778,
              "#fb9f3a"
             ],
             [
              0.8888888888888888,
              "#fdca26"
             ],
             [
              1,
              "#f0f921"
             ]
            ],
            "type": "surface"
           }
          ],
          "table": [
           {
            "cells": {
             "fill": {
              "color": "#EBF0F8"
             },
             "line": {
              "color": "white"
             }
            },
            "header": {
             "fill": {
              "color": "#C8D4E3"
             },
             "line": {
              "color": "white"
             }
            },
            "type": "table"
           }
          ]
         },
         "layout": {
          "annotationdefaults": {
           "arrowcolor": "#2a3f5f",
           "arrowhead": 0,
           "arrowwidth": 1
          },
          "autotypenumbers": "strict",
          "coloraxis": {
           "colorbar": {
            "outlinewidth": 0,
            "ticks": ""
           }
          },
          "colorscale": {
           "diverging": [
            [
             0,
             "#8e0152"
            ],
            [
             0.1,
             "#c51b7d"
            ],
            [
             0.2,
             "#de77ae"
            ],
            [
             0.3,
             "#f1b6da"
            ],
            [
             0.4,
             "#fde0ef"
            ],
            [
             0.5,
             "#f7f7f7"
            ],
            [
             0.6,
             "#e6f5d0"
            ],
            [
             0.7,
             "#b8e186"
            ],
            [
             0.8,
             "#7fbc41"
            ],
            [
             0.9,
             "#4d9221"
            ],
            [
             1,
             "#276419"
            ]
           ],
           "sequential": [
            [
             0,
             "#0d0887"
            ],
            [
             0.1111111111111111,
             "#46039f"
            ],
            [
             0.2222222222222222,
             "#7201a8"
            ],
            [
             0.3333333333333333,
             "#9c179e"
            ],
            [
             0.4444444444444444,
             "#bd3786"
            ],
            [
             0.5555555555555556,
             "#d8576b"
            ],
            [
             0.6666666666666666,
             "#ed7953"
            ],
            [
             0.7777777777777778,
             "#fb9f3a"
            ],
            [
             0.8888888888888888,
             "#fdca26"
            ],
            [
             1,
             "#f0f921"
            ]
           ],
           "sequentialminus": [
            [
             0,
             "#0d0887"
            ],
            [
             0.1111111111111111,
             "#46039f"
            ],
            [
             0.2222222222222222,
             "#7201a8"
            ],
            [
             0.3333333333333333,
             "#9c179e"
            ],
            [
             0.4444444444444444,
             "#bd3786"
            ],
            [
             0.5555555555555556,
             "#d8576b"
            ],
            [
             0.6666666666666666,
             "#ed7953"
            ],
            [
             0.7777777777777778,
             "#fb9f3a"
            ],
            [
             0.8888888888888888,
             "#fdca26"
            ],
            [
             1,
             "#f0f921"
            ]
           ]
          },
          "colorway": [
           "#636efa",
           "#EF553B",
           "#00cc96",
           "#ab63fa",
           "#FFA15A",
           "#19d3f3",
           "#FF6692",
           "#B6E880",
           "#FF97FF",
           "#FECB52"
          ],
          "font": {
           "color": "#2a3f5f"
          },
          "geo": {
           "bgcolor": "white",
           "lakecolor": "white",
           "landcolor": "#E5ECF6",
           "showlakes": true,
           "showland": true,
           "subunitcolor": "white"
          },
          "hoverlabel": {
           "align": "left"
          },
          "hovermode": "closest",
          "mapbox": {
           "style": "light"
          },
          "paper_bgcolor": "white",
          "plot_bgcolor": "#E5ECF6",
          "polar": {
           "angularaxis": {
            "gridcolor": "white",
            "linecolor": "white",
            "ticks": ""
           },
           "bgcolor": "#E5ECF6",
           "radialaxis": {
            "gridcolor": "white",
            "linecolor": "white",
            "ticks": ""
           }
          },
          "scene": {
           "xaxis": {
            "backgroundcolor": "#E5ECF6",
            "gridcolor": "white",
            "gridwidth": 2,
            "linecolor": "white",
            "showbackground": true,
            "ticks": "",
            "zerolinecolor": "white"
           },
           "yaxis": {
            "backgroundcolor": "#E5ECF6",
            "gridcolor": "white",
            "gridwidth": 2,
            "linecolor": "white",
            "showbackground": true,
            "ticks": "",
            "zerolinecolor": "white"
           },
           "zaxis": {
            "backgroundcolor": "#E5ECF6",
            "gridcolor": "white",
            "gridwidth": 2,
            "linecolor": "white",
            "showbackground": true,
            "ticks": "",
            "zerolinecolor": "white"
           }
          },
          "shapedefaults": {
           "line": {
            "color": "#2a3f5f"
           }
          },
          "ternary": {
           "aaxis": {
            "gridcolor": "white",
            "linecolor": "white",
            "ticks": ""
           },
           "baxis": {
            "gridcolor": "white",
            "linecolor": "white",
            "ticks": ""
           },
           "bgcolor": "#E5ECF6",
           "caxis": {
            "gridcolor": "white",
            "linecolor": "white",
            "ticks": ""
           }
          },
          "title": {
           "x": 0.05
          },
          "xaxis": {
           "automargin": true,
           "gridcolor": "white",
           "linecolor": "white",
           "ticks": "",
           "title": {
            "standoff": 15
           },
           "zerolinecolor": "white",
           "zerolinewidth": 2
          },
          "yaxis": {
           "automargin": true,
           "gridcolor": "white",
           "linecolor": "white",
           "ticks": "",
           "title": {
            "standoff": 15
           },
           "zerolinecolor": "white",
           "zerolinewidth": 2
          }
         }
        },
        "title": {
         "text": "BTC Software Programs"
        }
       }
      }
     },
     "metadata": {},
     "output_type": "display_data"
    },
    {
     "data": {
      "text/plain": [
       "<Figure size 1200x1600 with 0 Axes>"
      ]
     },
     "metadata": {},
     "output_type": "display_data"
    }
   ],
   "source": [
    "\n",
    "\n",
    "import matplotlib.pyplot as plt\n",
    "import plotly.graph_objects as go\n",
    "import plotly.graph_objects as go\n",
    "import plotly.express as px\n",
    "plt.figure(figsize=(12, 16))\n",
    "# Define the nodes and links\n",
    "nodes = {\n",
    "    \"pad\": 15,\n",
    "    \"thickness\": 20,\n",
    "    \"line\": dict(color=\"black\", width=0.5),\n",
    "    \"label\": [\n",
    "        \"Data Analysis\",\n",
    "        \"Inventory\",\n",
    "        \"Project Management\",\n",
    "        'Web Forms for Tasks',\n",
    "        'Data Migration/cataloging',\n",
    "        'Confluence',\n",
    "        'Screening System',\n",
    "        'Weight & Dimensions',\n",
    "        'Primary',\n",
    "        'Secondary',\n",
    "        'GFE Data Migration',\n",
    "        'JIRA',\n",
    "        'Consolidated Reports',\n",
    "        'HTML Handbook',\n",
    "        'Presentations',\n",
    "        'Periodic Reports',\n",
    "        'Screening Report',\n",
    "        'Customer',\n",
    "        'Cap Planning',\n",
    "        'GFM',\n",
    "        'BTC',  # 20\n",
    "        'Special Projects',\n",
    "        'dQ/dV',\n",
    "        'Analyzing Calibration Data',\n",
    "        'Cell Selection',\n",
    "    ],\n",
    "    \"color\": [\n",
    "        'rgba(24,  118, 210 , 0.80)',  # da\n",
    "        'rgba(80, 80, 80, 0.1)',  # inv\n",
    "        'rgba(80, 80, 80, 0.1)',  # Project M\n",
    "        'rgba(80, 80, 80, 0.1)',  # Web task Forms\n",
    "        'rgba(80, 80, 80, 0.1)',  # DM\n",
    "        'rgba(80, 80, 80, 0.1)',  # Confluence\n",
    "        'rgba(80, 80, 80, 0.1)',  # Screening\n",
    "        'rgba(80, 80, 80, 0.1)',  # WD\n",
    "        'rgba(80, 80, 80, 0.1)',  # PMDA\n",
    "        'rgba(80, 80, 80, 0.1)',  # SDDA\n",
    "        'rgba(80, 80, 80, 0.1)',  # GFE DAM\n",
    "        'rgba(80, 80, 80, 0.1)',  # JIRA\n",
    "        'rgba(80, 80, 80, 0.1)',  # consolidated reports\n",
    "        'rgba(80, 80, 80, 0.1)',  # HTML\n",
    "        'rgba(80, 80, 80, 0.1)',  # presentation\n",
    "        'rgba(80, 80, 80, 0.1)',  # Periodic\n",
    "        'rgba(80, 80, 80, 0.1)',  # screening report\n",
    "        'rgba(80, 80, 80, 0.1)',  # customer\n",
    "        'rgba(80, 80, 80, 0.1)',  # CAP Plan\n",
    "        'rgba(80, 80, 80, 0.1)',  # GFM\n",
    "        'rgba(80, 80, 80, 0.1)',  # BTC\n",
    "        'rgba(80, 80, 80, 0.1)',  # Special Projects\n",
    "        'rgba(80, 80, 80, 0.1)',  # dQ/dV\n",
    "        'rgba(80, 80, 80, 0.1)',  # Analyzing calibration data\n",
    "        'rgba(80, 80, 80, 0.1)',  # Cell Selection\n",
    "    ]\n",
    "\n",
    "}\n",
    "links = {  # DA      Dap/das to deliverables  # D to PSC        #    Inventory     # Project Management     dm    screening                                                                       # Web task forms\n",
    "    'source': [0, 0,  8,  8,  8, 9,   9,  9,   12, 13, 14,       1, 10, 15, 10, 18,     2, 2, 5, 11,         4,  6, 8, 16,      7, 7,  1,  19, 19,    8, 9, 0,  21, 21, 21, 22, 23, 24,      0,    2, 3],\n",
    "    'target': [8, 9,  12, 13, 14, 12, 13, 14,   17, 17, 17,      10, 15, 17, 18, 17,    11, 5, 17, 17,       17, 8, 16, 17,      8, 9,  19,  15, 18,  4, 4, 4,  22, 23, 24, 20, 20, 20,      22,   3, 17],\n",
    "    'value':  [3.2, 0.4, 3.2,  0.4,  0.4, 0.4,   0.4,  0.4, 3.2, 0.20,  0.4,      0.8,  0.4, 0.8, 0.4, 0.8,      0.4, 0.4,  0.4, 0.4,          0.4,  0.4,  0.8, 0.8,      0.5, 0.5,  0.4,   0.4, 0.4,     0.4, 0.4, 0.4,   0.3,  0.3,  0.3, 0.3,   0.3,  0.3,  0.3, 0.3, 0.3],\n",
    "    # 'color': []\n",
    "}\n",
    "\n",
    "links['color'] = [\n",
    "    \"rgba(24,  118, 210 , 0.80)\",  # DA to PDA\n",
    "    \"rgba(24,  118, 210 , 0.80)\",  # Da to Sencodary\n",
    "    'rgba(80, 80, 80, 0.1)',  # Primary to consolidated\n",
    "    'rgba(80, 80, 80, 0.1)',  # PDA to HTML\n",
    "    'rgba(80, 80, 80, 0.1)',  # PDA to presentation\n",
    "    'rgba(80, 80, 80, 0.1)',  # SDA to consolidated\n",
    "    'rgba(80, 80, 80, 0.1)',  # SDA to HTML\n",
    "    'rgba(80, 80, 80, 0.1)',  # SDA to Presentation\n",
    "    'rgba(80, 80, 80, 0.1)',  # Consolidated to PSC\n",
    "    'rgba(80, 80, 80, 0.1)',  # HTML to PSC\n",
    "    'rgba(80, 80, 80, 0.1)',  # Presentation to PSC\n",
    "    'rgba(80, 80, 80, 0.1)',  # Inventory to GFE\n",
    "    'rgba(80, 80, 80, 0.1)',  # GFE DM to Monthly\n",
    "    'rgba(80, 80, 80, 0.1)',  # Monthly to PSC\n",
    "    'rgba(80, 80, 80, 0.1)',  # GFE DM to CAP P\n",
    "    'rgba(80, 80, 80, 0.1)',  # Cap P to PSC\n",
    "    'rgba(80, 80, 80, 0.1)',  # PM to Jira\n",
    "    'rgba(80, 80, 80, 0.1)',  # PM to Jira\n",
    "    'rgba(80, 80, 80, 0.1)',  # confluence to PSC\n",
    "    'rgba(80, 80, 80, 0.1)',  # JIRA to PSC\n",
    "    'rgba(80, 80, 80, 0.1)',  # data migration to PSC\n",
    "    'rgba(80, 80, 80, 0.1)',  # Screening to PDA\n",
    "    'rgba(80, 80, 80, 0.1)',  # PDA to Screening report\n",
    "    'rgba(80, 80, 80, 0.1)',  # Screening report to PSC\n",
    "    'rgba(80, 80, 80, 0.1)',  # W&D to PDA\n",
    "    'rgba(80, 80, 80, 0.1)',  # W&D to SDA\n",
    "    'rgba(80, 80, 80, 0.1)',  # inventory to GFM\n",
    "    'rgba(80, 80, 80, 0.1)',  # GFM to Monthly\n",
    "    'rgba(80, 80, 80, 0.1)',  # GFM to CAP Planning\n",
    "    'rgba(80, 80, 80, 0.1)',  # primary to data migration\n",
    "    'rgba(80, 80, 80, 0.1)',  # secondary to data migration\n",
    "    'rgba(24,  118, 210 , 0.80)',  # DA to data migration\n",
    "    'rgba(80, 80, 80, 0.1)',  # SPP to cell selection\n",
    "    'rgba(80, 80, 80, 0.1)',  # SPP to cell Analyzing calibration Data\n",
    "    'rgba(80, 80, 80, 0.1)',  # SPP to cell Analyzing cell selection\n",
    "    'rgba(80, 80, 80, 0.1)',  # dq/dv to BTC\n",
    "    'rgba(80, 80, 80, 0.1)',  # ACB to BTC\n",
    "    'rgba(80, 80, 80, 0.1)',  # Cell select to BTC\n",
    "    'rgba(24,  118, 210 , 0.80)',  # Data analysis to dQ/dV\n",
    "    'rgba(80, 80, 80, 0.1)',  # project management to web task forms\n",
    "    'rgba(80, 80, 80, 0.1)',  # web task forms to PSC\n",
    "]\n",
    "# Define node positions (x and y coordinates)\n",
    "node_positions = {\n",
    "    \"Data Analysis\": (0.01, -0.05),\n",
    "    \"Inventory\": (0.01, 0.50),\n",
    "    \"Project Management\": (0.01, 0.70),\n",
    "    \"Data Migration/cataloging\": (0.66, 0.2),\n",
    "    \"Web Forms for Tasks\": (0.30, 0.73),\n",
    "    \"Screening System\": (0.01, 0.30),\n",
    "    \"Confluence\": (0.30, 0.55),\n",
    "    \"Weight & Dimensions\": (0.01, 0.13),\n",
    "    \"Secondary\": (0.30, 0.19),\n",
    "    \"Primary\": (0.30, -0.01),\n",
    "    \"GFE Data Migration\": (0.30, 0.35),\n",
    "    \"JIRA\": (0.30, 0.65),\n",
    "    \"Consolidated Reports\": (0.66, -0.005),\n",
    "    \"HTML Handbook\": (0.66, 0.40),\n",
    "    \"Presentations\": (0.66, 0.50),\n",
    "    \"Periodic Reports\": (0.66, 0.60),\n",
    "    \"Screening Report\": (0.66, 0.30),\n",
    "    \"Customer\": (0.0, 0.0),\n",
    "    \"Cap Planning\": (0.66, 0.70),\n",
    "    \"GFM\": (0.30, 0.45),\n",
    "    \"BTC\": (0.0, 0.0),\n",
    "    \"Special Projects\": (0.0, 0.0),\n",
    "    \"dQ/dV\": (0.30, 0.85),\n",
    "    \"Analyzing Calibration Data\": (0.30, 0.93),\n",
    "    \"Cell Selection\": (0.30, 1.0),\n",
    "}\n",
    "\n",
    "# Create a list of x and y coordinates for nodes\n",
    "node_x = [node_positions[label][0] for label in nodes[\"label\"]]\n",
    "node_y = [node_positions[label][1] for label in nodes[\"label\"]]\n",
    "\n",
    "# Update the nodes dictionary with x and y coordinates\n",
    "nodes[\"x\"] = node_x\n",
    "nodes[\"y\"] = node_y\n",
    "fig = go.Figure(go.Sankey(\n",
    "    node=nodes,\n",
    "    link=links\n",
    "))\n",
    "# MCSR\n",
    "# Update layout and display the diagram\n",
    "# Make GFE and GFM its ownn line\n",
    "# add web based task forms\n",
    "# add percentage from 0 to 9 depending on the amount of effort that we are putting into the project\n",
    "# build a story with the lines\n",
    "# Have colors\n",
    "\n",
    "fig.update_layout(title_text=\"BTC Software Programs\", font_size=20)\n",
    "fig.show()\n",
    "fig.write_image('images/fig1.png', width=1100, height=450)"
   ]
  },
  {
   "cell_type": "code",
   "execution_count": 29,
   "metadata": {},
   "outputs": [
    {
     "data": {
      "application/vnd.plotly.v1+json": {
       "config": {
        "plotlyServerURL": "https://plot.ly"
       },
       "data": [
        {
         "link": {
          "color": [
           "rgba(24,  118, 210 , 0.80)",
           "rgba(24,  118, 210 , 0.80)",
           "rgba(80, 80, 80, 0.1)",
           "rgba(80, 80, 80, 0.1)",
           "rgba(80, 80, 80, 0.1)",
           "rgba(80, 80, 80, 0.1)",
           "rgba(80, 80, 80, 0.1)",
           "rgba(80, 80, 80, 0.1)",
           "rgba(80, 80, 80, 0.1)",
           "rgba(80, 80, 80, 0.1)",
           "rgba(80, 80, 80, 0.1)",
           "rgba(80, 80, 80, 0.1)",
           "rgba(80, 80, 80, 0.1)",
           "rgba(80, 80, 80, 0.1)",
           "rgba(80, 80, 80, 0.1)",
           "rgba(80, 80, 80, 0.1)",
           "rgba(80, 80, 80, 0.1)",
           "rgba(80, 80, 80, 0.1)",
           "rgba(80, 80, 80, 0.1)",
           "rgba(80, 80, 80, 0.1)",
           "rgba(80, 80, 80, 0.1)",
           "rgba(80, 80, 80, 0.1)",
           "rgba(80, 80, 80, 0.1)",
           "rgba(80, 80, 80, 0.1)",
           "rgba(210, 117, 25, 0.4)",
           "rgba(210, 117, 25, 0.4)",
           "rgba(80, 80, 80, 0.1)",
           "rgba(80, 80, 80, 0.1)",
           "rgba(80, 80, 80, 0.1)",
           "rgba(80, 80, 80, 0.1)",
           "rgba(80, 80, 80, 0.1)",
           "rgba(24,  118, 210 , 0.80)",
           "rgba(80, 80, 80, 0.1)",
           "rgba(80, 80, 80, 0.1)",
           "rgba(80, 80, 80, 0.1)",
           "rgba(80, 80, 80, 0.1)",
           "rgba(80, 80, 80, 0.1)",
           "rgba(80, 80, 80, 0.1)",
           "rgba(24,  118, 210 , 0.80)",
           "rgba(80, 80, 80, 0.1)",
           "rgba(80, 80, 80, 0.1)"
          ],
          "source": [
           0,
           0,
           8,
           8,
           8,
           9,
           9,
           9,
           12,
           13,
           14,
           1,
           10,
           15,
           10,
           18,
           2,
           2,
           5,
           11,
           4,
           6,
           8,
           16,
           7,
           7,
           1,
           19,
           19,
           8,
           9,
           0,
           21,
           21,
           21,
           22,
           23,
           24,
           0,
           2,
           3
          ],
          "target": [
           8,
           9,
           12,
           13,
           14,
           12,
           13,
           14,
           17,
           17,
           17,
           10,
           15,
           17,
           18,
           17,
           11,
           5,
           17,
           17,
           17,
           8,
           16,
           17,
           8,
           9,
           19,
           15,
           18,
           4,
           4,
           4,
           22,
           23,
           24,
           20,
           20,
           20,
           22,
           3,
           17
          ],
          "value": [
           3.2,
           0.4,
           3.2,
           0.4,
           0.4,
           0.4,
           0.4,
           0.4,
           3.2,
           0.2,
           0.4,
           0.8,
           0.4,
           0.8,
           0.4,
           0.8,
           0.4,
           0.4,
           0.4,
           0.4,
           0.4,
           0.4,
           0.8,
           0.8,
           0.5,
           0.5,
           0.4,
           0.4,
           0.4,
           0.4,
           0.4,
           0.4,
           0.3,
           0.3,
           0.3,
           0.3,
           0.3,
           0.3,
           0.3,
           0.3,
           0.3
          ]
         },
         "node": {
          "color": [
           "rgba(24,  118, 210 , 0.80)",
           "rgba(80, 80, 80, 0.1)",
           "rgba(80, 80, 80, 0.1)",
           "rgba(80, 80, 80, 0.1)",
           "rgba(80, 80, 80, 0.1)",
           "rgba(80, 80, 80, 0.1)",
           "rgba(80, 80, 80, 0.1)",
           "rgba(210, 117, 25, 0.4)",
           "rgba(80, 80, 80, 0.1)",
           "rgba(80, 80, 80, 0.1)",
           "rgba(80, 80, 80, 0.1)",
           "rgba(80, 80, 80, 0.1)",
           "rgba(80, 80, 80, 0.1)",
           "rgba(80, 80, 80, 0.1)",
           "rgba(80, 80, 80, 0.1)",
           "rgba(80, 80, 80, 0.1)",
           "rgba(80, 80, 80, 0.1)",
           "rgba(80, 80, 80, 0.1)",
           "rgba(80, 80, 80, 0.1)",
           "rgba(80, 80, 80, 0.1)",
           "rgba(80, 80, 80, 0.1)",
           "rgba(80, 80, 80, 0.1)",
           "rgba(80, 80, 80, 0.1)",
           "rgba(80, 80, 80, 0.1)",
           "rgba(80, 80, 80, 0.1)"
          ],
          "label": [
           "Data Analysis",
           "Inventory",
           "Project Management",
           "Web Forms for Tasks",
           "Data Migration/cataloging",
           "Confluence",
           "Screening System",
           "Weight & Dimensions",
           "Primary",
           "Secondary",
           "GFE Data Migration",
           "JIRA",
           "Consolidated Reports",
           "HTML Handbook",
           "Presentations",
           "Periodic Reports",
           "Screening Report",
           "Customer",
           "Cap Planning",
           "GFM",
           "BTC",
           "Special Projects",
           "dQ/dV",
           "Analyzing Calibration Data",
           "Cell Selection"
          ],
          "line": {
           "color": "black",
           "width": 0.5
          },
          "pad": 15,
          "thickness": 20,
          "x": [
           0.01,
           0.01,
           0.01,
           0.3,
           0.66,
           0.3,
           0.01,
           0.01,
           0.3,
           0.3,
           0.3,
           0.3,
           0.66,
           0.66,
           0.66,
           0.66,
           0.66,
           0,
           0.66,
           0.3,
           0,
           0,
           0.3,
           0.3,
           0.3
          ],
          "y": [
           -0.05,
           0.5,
           0.7,
           0.73,
           0.2,
           0.55,
           0.3,
           0.13,
           -0.01,
           0.19,
           0.35,
           0.65,
           -0.005,
           0.4,
           0.5,
           0.6,
           0.3,
           0,
           0.7,
           0.45,
           0,
           0,
           0.85,
           0.93,
           1
          ]
         },
         "type": "sankey"
        }
       ],
       "layout": {
        "font": {
         "size": 20
        },
        "template": {
         "data": {
          "bar": [
           {
            "error_x": {
             "color": "#2a3f5f"
            },
            "error_y": {
             "color": "#2a3f5f"
            },
            "marker": {
             "line": {
              "color": "#E5ECF6",
              "width": 0.5
             },
             "pattern": {
              "fillmode": "overlay",
              "size": 10,
              "solidity": 0.2
             }
            },
            "type": "bar"
           }
          ],
          "barpolar": [
           {
            "marker": {
             "line": {
              "color": "#E5ECF6",
              "width": 0.5
             },
             "pattern": {
              "fillmode": "overlay",
              "size": 10,
              "solidity": 0.2
             }
            },
            "type": "barpolar"
           }
          ],
          "carpet": [
           {
            "aaxis": {
             "endlinecolor": "#2a3f5f",
             "gridcolor": "white",
             "linecolor": "white",
             "minorgridcolor": "white",
             "startlinecolor": "#2a3f5f"
            },
            "baxis": {
             "endlinecolor": "#2a3f5f",
             "gridcolor": "white",
             "linecolor": "white",
             "minorgridcolor": "white",
             "startlinecolor": "#2a3f5f"
            },
            "type": "carpet"
           }
          ],
          "choropleth": [
           {
            "colorbar": {
             "outlinewidth": 0,
             "ticks": ""
            },
            "type": "choropleth"
           }
          ],
          "contour": [
           {
            "colorbar": {
             "outlinewidth": 0,
             "ticks": ""
            },
            "colorscale": [
             [
              0,
              "#0d0887"
             ],
             [
              0.1111111111111111,
              "#46039f"
             ],
             [
              0.2222222222222222,
              "#7201a8"
             ],
             [
              0.3333333333333333,
              "#9c179e"
             ],
             [
              0.4444444444444444,
              "#bd3786"
             ],
             [
              0.5555555555555556,
              "#d8576b"
             ],
             [
              0.6666666666666666,
              "#ed7953"
             ],
             [
              0.7777777777777778,
              "#fb9f3a"
             ],
             [
              0.8888888888888888,
              "#fdca26"
             ],
             [
              1,
              "#f0f921"
             ]
            ],
            "type": "contour"
           }
          ],
          "contourcarpet": [
           {
            "colorbar": {
             "outlinewidth": 0,
             "ticks": ""
            },
            "type": "contourcarpet"
           }
          ],
          "heatmap": [
           {
            "colorbar": {
             "outlinewidth": 0,
             "ticks": ""
            },
            "colorscale": [
             [
              0,
              "#0d0887"
             ],
             [
              0.1111111111111111,
              "#46039f"
             ],
             [
              0.2222222222222222,
              "#7201a8"
             ],
             [
              0.3333333333333333,
              "#9c179e"
             ],
             [
              0.4444444444444444,
              "#bd3786"
             ],
             [
              0.5555555555555556,
              "#d8576b"
             ],
             [
              0.6666666666666666,
              "#ed7953"
             ],
             [
              0.7777777777777778,
              "#fb9f3a"
             ],
             [
              0.8888888888888888,
              "#fdca26"
             ],
             [
              1,
              "#f0f921"
             ]
            ],
            "type": "heatmap"
           }
          ],
          "heatmapgl": [
           {
            "colorbar": {
             "outlinewidth": 0,
             "ticks": ""
            },
            "colorscale": [
             [
              0,
              "#0d0887"
             ],
             [
              0.1111111111111111,
              "#46039f"
             ],
             [
              0.2222222222222222,
              "#7201a8"
             ],
             [
              0.3333333333333333,
              "#9c179e"
             ],
             [
              0.4444444444444444,
              "#bd3786"
             ],
             [
              0.5555555555555556,
              "#d8576b"
             ],
             [
              0.6666666666666666,
              "#ed7953"
             ],
             [
              0.7777777777777778,
              "#fb9f3a"
             ],
             [
              0.8888888888888888,
              "#fdca26"
             ],
             [
              1,
              "#f0f921"
             ]
            ],
            "type": "heatmapgl"
           }
          ],
          "histogram": [
           {
            "marker": {
             "pattern": {
              "fillmode": "overlay",
              "size": 10,
              "solidity": 0.2
             }
            },
            "type": "histogram"
           }
          ],
          "histogram2d": [
           {
            "colorbar": {
             "outlinewidth": 0,
             "ticks": ""
            },
            "colorscale": [
             [
              0,
              "#0d0887"
             ],
             [
              0.1111111111111111,
              "#46039f"
             ],
             [
              0.2222222222222222,
              "#7201a8"
             ],
             [
              0.3333333333333333,
              "#9c179e"
             ],
             [
              0.4444444444444444,
              "#bd3786"
             ],
             [
              0.5555555555555556,
              "#d8576b"
             ],
             [
              0.6666666666666666,
              "#ed7953"
             ],
             [
              0.7777777777777778,
              "#fb9f3a"
             ],
             [
              0.8888888888888888,
              "#fdca26"
             ],
             [
              1,
              "#f0f921"
             ]
            ],
            "type": "histogram2d"
           }
          ],
          "histogram2dcontour": [
           {
            "colorbar": {
             "outlinewidth": 0,
             "ticks": ""
            },
            "colorscale": [
             [
              0,
              "#0d0887"
             ],
             [
              0.1111111111111111,
              "#46039f"
             ],
             [
              0.2222222222222222,
              "#7201a8"
             ],
             [
              0.3333333333333333,
              "#9c179e"
             ],
             [
              0.4444444444444444,
              "#bd3786"
             ],
             [
              0.5555555555555556,
              "#d8576b"
             ],
             [
              0.6666666666666666,
              "#ed7953"
             ],
             [
              0.7777777777777778,
              "#fb9f3a"
             ],
             [
              0.8888888888888888,
              "#fdca26"
             ],
             [
              1,
              "#f0f921"
             ]
            ],
            "type": "histogram2dcontour"
           }
          ],
          "mesh3d": [
           {
            "colorbar": {
             "outlinewidth": 0,
             "ticks": ""
            },
            "type": "mesh3d"
           }
          ],
          "parcoords": [
           {
            "line": {
             "colorbar": {
              "outlinewidth": 0,
              "ticks": ""
             }
            },
            "type": "parcoords"
           }
          ],
          "pie": [
           {
            "automargin": true,
            "type": "pie"
           }
          ],
          "scatter": [
           {
            "fillpattern": {
             "fillmode": "overlay",
             "size": 10,
             "solidity": 0.2
            },
            "type": "scatter"
           }
          ],
          "scatter3d": [
           {
            "line": {
             "colorbar": {
              "outlinewidth": 0,
              "ticks": ""
             }
            },
            "marker": {
             "colorbar": {
              "outlinewidth": 0,
              "ticks": ""
             }
            },
            "type": "scatter3d"
           }
          ],
          "scattercarpet": [
           {
            "marker": {
             "colorbar": {
              "outlinewidth": 0,
              "ticks": ""
             }
            },
            "type": "scattercarpet"
           }
          ],
          "scattergeo": [
           {
            "marker": {
             "colorbar": {
              "outlinewidth": 0,
              "ticks": ""
             }
            },
            "type": "scattergeo"
           }
          ],
          "scattergl": [
           {
            "marker": {
             "colorbar": {
              "outlinewidth": 0,
              "ticks": ""
             }
            },
            "type": "scattergl"
           }
          ],
          "scattermapbox": [
           {
            "marker": {
             "colorbar": {
              "outlinewidth": 0,
              "ticks": ""
             }
            },
            "type": "scattermapbox"
           }
          ],
          "scatterpolar": [
           {
            "marker": {
             "colorbar": {
              "outlinewidth": 0,
              "ticks": ""
             }
            },
            "type": "scatterpolar"
           }
          ],
          "scatterpolargl": [
           {
            "marker": {
             "colorbar": {
              "outlinewidth": 0,
              "ticks": ""
             }
            },
            "type": "scatterpolargl"
           }
          ],
          "scatterternary": [
           {
            "marker": {
             "colorbar": {
              "outlinewidth": 0,
              "ticks": ""
             }
            },
            "type": "scatterternary"
           }
          ],
          "surface": [
           {
            "colorbar": {
             "outlinewidth": 0,
             "ticks": ""
            },
            "colorscale": [
             [
              0,
              "#0d0887"
             ],
             [
              0.1111111111111111,
              "#46039f"
             ],
             [
              0.2222222222222222,
              "#7201a8"
             ],
             [
              0.3333333333333333,
              "#9c179e"
             ],
             [
              0.4444444444444444,
              "#bd3786"
             ],
             [
              0.5555555555555556,
              "#d8576b"
             ],
             [
              0.6666666666666666,
              "#ed7953"
             ],
             [
              0.7777777777777778,
              "#fb9f3a"
             ],
             [
              0.8888888888888888,
              "#fdca26"
             ],
             [
              1,
              "#f0f921"
             ]
            ],
            "type": "surface"
           }
          ],
          "table": [
           {
            "cells": {
             "fill": {
              "color": "#EBF0F8"
             },
             "line": {
              "color": "white"
             }
            },
            "header": {
             "fill": {
              "color": "#C8D4E3"
             },
             "line": {
              "color": "white"
             }
            },
            "type": "table"
           }
          ]
         },
         "layout": {
          "annotationdefaults": {
           "arrowcolor": "#2a3f5f",
           "arrowhead": 0,
           "arrowwidth": 1
          },
          "autotypenumbers": "strict",
          "coloraxis": {
           "colorbar": {
            "outlinewidth": 0,
            "ticks": ""
           }
          },
          "colorscale": {
           "diverging": [
            [
             0,
             "#8e0152"
            ],
            [
             0.1,
             "#c51b7d"
            ],
            [
             0.2,
             "#de77ae"
            ],
            [
             0.3,
             "#f1b6da"
            ],
            [
             0.4,
             "#fde0ef"
            ],
            [
             0.5,
             "#f7f7f7"
            ],
            [
             0.6,
             "#e6f5d0"
            ],
            [
             0.7,
             "#b8e186"
            ],
            [
             0.8,
             "#7fbc41"
            ],
            [
             0.9,
             "#4d9221"
            ],
            [
             1,
             "#276419"
            ]
           ],
           "sequential": [
            [
             0,
             "#0d0887"
            ],
            [
             0.1111111111111111,
             "#46039f"
            ],
            [
             0.2222222222222222,
             "#7201a8"
            ],
            [
             0.3333333333333333,
             "#9c179e"
            ],
            [
             0.4444444444444444,
             "#bd3786"
            ],
            [
             0.5555555555555556,
             "#d8576b"
            ],
            [
             0.6666666666666666,
             "#ed7953"
            ],
            [
             0.7777777777777778,
             "#fb9f3a"
            ],
            [
             0.8888888888888888,
             "#fdca26"
            ],
            [
             1,
             "#f0f921"
            ]
           ],
           "sequentialminus": [
            [
             0,
             "#0d0887"
            ],
            [
             0.1111111111111111,
             "#46039f"
            ],
            [
             0.2222222222222222,
             "#7201a8"
            ],
            [
             0.3333333333333333,
             "#9c179e"
            ],
            [
             0.4444444444444444,
             "#bd3786"
            ],
            [
             0.5555555555555556,
             "#d8576b"
            ],
            [
             0.6666666666666666,
             "#ed7953"
            ],
            [
             0.7777777777777778,
             "#fb9f3a"
            ],
            [
             0.8888888888888888,
             "#fdca26"
            ],
            [
             1,
             "#f0f921"
            ]
           ]
          },
          "colorway": [
           "#636efa",
           "#EF553B",
           "#00cc96",
           "#ab63fa",
           "#FFA15A",
           "#19d3f3",
           "#FF6692",
           "#B6E880",
           "#FF97FF",
           "#FECB52"
          ],
          "font": {
           "color": "#2a3f5f"
          },
          "geo": {
           "bgcolor": "white",
           "lakecolor": "white",
           "landcolor": "#E5ECF6",
           "showlakes": true,
           "showland": true,
           "subunitcolor": "white"
          },
          "hoverlabel": {
           "align": "left"
          },
          "hovermode": "closest",
          "mapbox": {
           "style": "light"
          },
          "paper_bgcolor": "white",
          "plot_bgcolor": "#E5ECF6",
          "polar": {
           "angularaxis": {
            "gridcolor": "white",
            "linecolor": "white",
            "ticks": ""
           },
           "bgcolor": "#E5ECF6",
           "radialaxis": {
            "gridcolor": "white",
            "linecolor": "white",
            "ticks": ""
           }
          },
          "scene": {
           "xaxis": {
            "backgroundcolor": "#E5ECF6",
            "gridcolor": "white",
            "gridwidth": 2,
            "linecolor": "white",
            "showbackground": true,
            "ticks": "",
            "zerolinecolor": "white"
           },
           "yaxis": {
            "backgroundcolor": "#E5ECF6",
            "gridcolor": "white",
            "gridwidth": 2,
            "linecolor": "white",
            "showbackground": true,
            "ticks": "",
            "zerolinecolor": "white"
           },
           "zaxis": {
            "backgroundcolor": "#E5ECF6",
            "gridcolor": "white",
            "gridwidth": 2,
            "linecolor": "white",
            "showbackground": true,
            "ticks": "",
            "zerolinecolor": "white"
           }
          },
          "shapedefaults": {
           "line": {
            "color": "#2a3f5f"
           }
          },
          "ternary": {
           "aaxis": {
            "gridcolor": "white",
            "linecolor": "white",
            "ticks": ""
           },
           "baxis": {
            "gridcolor": "white",
            "linecolor": "white",
            "ticks": ""
           },
           "bgcolor": "#E5ECF6",
           "caxis": {
            "gridcolor": "white",
            "linecolor": "white",
            "ticks": ""
           }
          },
          "title": {
           "x": 0.05
          },
          "xaxis": {
           "automargin": true,
           "gridcolor": "white",
           "linecolor": "white",
           "ticks": "",
           "title": {
            "standoff": 15
           },
           "zerolinecolor": "white",
           "zerolinewidth": 2
          },
          "yaxis": {
           "automargin": true,
           "gridcolor": "white",
           "linecolor": "white",
           "ticks": "",
           "title": {
            "standoff": 15
           },
           "zerolinecolor": "white",
           "zerolinewidth": 2
          }
         }
        },
        "title": {
         "text": "BTC Software Programs"
        }
       }
      }
     },
     "metadata": {},
     "output_type": "display_data"
    },
    {
     "data": {
      "text/plain": [
       "<Figure size 1200x1600 with 0 Axes>"
      ]
     },
     "metadata": {},
     "output_type": "display_data"
    }
   ],
   "source": [
    "\n",
    "import matplotlib.pyplot as plt\n",
    "import plotly.graph_objects as go\n",
    "import plotly.graph_objects as go\n",
    "import plotly.express as px\n",
    "plt.figure(figsize=(12, 16))\n",
    "# Define the nodes and links\n",
    "nodes = {\n",
    "    \"pad\": 15,\n",
    "    \"thickness\": 20,\n",
    "    \"line\": dict(color=\"black\", width=0.5),\n",
    "    \"label\": [\n",
    "        \"Data Analysis\",\n",
    "        \"Inventory\",\n",
    "        \"Project Management\",\n",
    "        'Web Forms for Tasks',\n",
    "        'Data Migration/cataloging',\n",
    "        'Confluence',\n",
    "        'Screening System',\n",
    "        'Weight & Dimensions',\n",
    "        'Primary',\n",
    "        'Secondary',\n",
    "        'GFE Data Migration',\n",
    "        'JIRA',\n",
    "        'Consolidated Reports',\n",
    "        'HTML Handbook',\n",
    "        'Presentations',\n",
    "        'Periodic Reports',\n",
    "        'Screening Report',\n",
    "        'Customer',\n",
    "        'Cap Planning',\n",
    "        'GFM',\n",
    "        'BTC',  # 20\n",
    "        'Special Projects',\n",
    "        'dQ/dV',\n",
    "        'Analyzing Calibration Data',\n",
    "        'Cell Selection',\n",
    "    ],\n",
    "    \"color\": [\n",
    "        'rgba(24,  118, 210 , 0.80)',  # da\n",
    "        'rgba(80, 80, 80, 0.1)',  # inv\n",
    "        'rgba(80, 80, 80, 0.1)',  # Project M\n",
    "        'rgba(80, 80, 80, 0.1)',  # Web task Forms\n",
    "        'rgba(80, 80, 80, 0.1)',  # DM\n",
    "        'rgba(80, 80, 80, 0.1)',  # Confluence\n",
    "        'rgba(80, 80, 80, 0.1)',  # Screening\n",
    "        'rgba(210, 117, 25, 0.4)',  # WD\n",
    "        'rgba(80, 80, 80, 0.1)',  # PMDA\n",
    "        'rgba(80, 80, 80, 0.1)',  # SDDA\n",
    "        'rgba(80, 80, 80, 0.1)',  # GFE DAM\n",
    "        'rgba(80, 80, 80, 0.1)',  # JIRA\n",
    "        'rgba(80, 80, 80, 0.1)',  # consolidated reports\n",
    "        'rgba(80, 80, 80, 0.1)',  # HTML\n",
    "        'rgba(80, 80, 80, 0.1)',  # presentation\n",
    "        'rgba(80, 80, 80, 0.1)',  # Periodic\n",
    "        'rgba(80, 80, 80, 0.1)',  # screening report\n",
    "        'rgba(80, 80, 80, 0.1)',  # customer\n",
    "        'rgba(80, 80, 80, 0.1)',  # CAP Plan\n",
    "        'rgba(80, 80, 80, 0.1)',  # GFM\n",
    "        'rgba(80, 80, 80, 0.1)',  # BTC\n",
    "        'rgba(80, 80, 80, 0.1)',  # Special Projects\n",
    "        'rgba(80, 80, 80, 0.1)',  # dQ/dV\n",
    "        'rgba(80, 80, 80, 0.1)',  # Analyzing calibration data\n",
    "        'rgba(80, 80, 80, 0.1)',  # Cell Selection\n",
    "    ]\n",
    "\n",
    "}\n",
    "links = {  # DA      Dap/das to deliverables  # D to PSC        #    Inventory     # Project Management     dm    screening                                                                       # Web task forms\n",
    "    'source': [0, 0,  8,  8,  8, 9,   9,  9,   12, 13, 14,       1, 10, 15, 10, 18,     2, 2, 5, 11,         4,  6, 8, 16,      7, 7,  1,  19, 19,    8, 9, 0,  21, 21, 21, 22, 23, 24,      0,    2, 3],\n",
    "    'target': [8, 9,  12, 13, 14, 12, 13, 14,   17, 17, 17,      10, 15, 17, 18, 17,    11, 5, 17, 17,       17, 8, 16, 17,      8, 9,  19,  15, 18,  4, 4, 4,  22, 23, 24, 20, 20, 20,      22,   3, 17],\n",
    "    'value':  [3.2, 0.4, 3.2,  0.4,  0.4, 0.4,   0.4,  0.4, 3.2, 0.20,  0.4,      0.8,  0.4, 0.8, 0.4, 0.8,      0.4, 0.4,  0.4, 0.4,          0.4,  0.4,  0.8, 0.8,      0.5, 0.5,  0.4,   0.4, 0.4,     0.4, 0.4, 0.4,   0.3,  0.3,  0.3, 0.3,   0.3,  0.3,  0.3, 0.3, 0.3],\n",
    "    # 'color': []\n",
    "}\n",
    "\n",
    "links['color'] = [\n",
    "    \"rgba(24,  118, 210 , 0.80)\",  # DA to PDA\n",
    "    \"rgba(24,  118, 210 , 0.80)\",  # Da to Sencodary\n",
    "    'rgba(80, 80, 80, 0.1)',  # Primary to consolidated\n",
    "    'rgba(80, 80, 80, 0.1)',  # PDA to HTML\n",
    "    'rgba(80, 80, 80, 0.1)',  # PDA to presentation\n",
    "    'rgba(80, 80, 80, 0.1)',  # SDA to consolidated\n",
    "    'rgba(80, 80, 80, 0.1)',  # SDA to HTML\n",
    "    'rgba(80, 80, 80, 0.1)',  # SDA to Presentation\n",
    "    'rgba(80, 80, 80, 0.1)',  # Consolidated to PSC\n",
    "    'rgba(80, 80, 80, 0.1)',  # HTML to PSC\n",
    "    'rgba(80, 80, 80, 0.1)',  # Presentation to PSC\n",
    "    'rgba(80, 80, 80, 0.1)',  # Inventory to GFE\n",
    "    'rgba(80, 80, 80, 0.1)',  # GFE DM to Monthly\n",
    "    'rgba(80, 80, 80, 0.1)',  # Monthly to PSC\n",
    "    'rgba(80, 80, 80, 0.1)',  # GFE DM to CAP P\n",
    "    'rgba(80, 80, 80, 0.1)',  # Cap P to PSC\n",
    "    'rgba(80, 80, 80, 0.1)',  # PM to Jira\n",
    "    'rgba(80, 80, 80, 0.1)',  # PM to Jira\n",
    "    'rgba(80, 80, 80, 0.1)',  # confluence to PSC\n",
    "    'rgba(80, 80, 80, 0.1)',  # JIRA to PSC\n",
    "    'rgba(80, 80, 80, 0.1)',  # data migration to PSC\n",
    "    'rgba(80, 80, 80, 0.1)',  # Screening to PDA\n",
    "    'rgba(80, 80, 80, 0.1)',  # PDA to Screening report\n",
    "    'rgba(80, 80, 80, 0.1)',  # Screening report to PSC\n",
    "    'rgba(210, 117, 25, 0.4)',  # W&D to PDA\n",
    "    'rgba(210, 117, 25, 0.4)',  # W&D to SDA\n",
    "    'rgba(80, 80, 80, 0.1)',  # inventory to GFM\n",
    "    'rgba(80, 80, 80, 0.1)',  # GFM to Monthly\n",
    "    'rgba(80, 80, 80, 0.1)',  # GFM to CAP Planning\n",
    "    'rgba(80, 80, 80, 0.1)',  # primary to data migration\n",
    "    'rgba(80, 80, 80, 0.1)',  # secondary to data migration\n",
    "    'rgba(24,  118, 210 , 0.80)',  # DA to data migration\n",
    "    'rgba(80, 80, 80, 0.1)',  # SPP to cell selection\n",
    "    'rgba(80, 80, 80, 0.1)',  # SPP to cell Analyzing calibration Data\n",
    "    'rgba(80, 80, 80, 0.1)',  # SPP to cell Analyzing cell selection\n",
    "    'rgba(80, 80, 80, 0.1)',  # dq/dv to BTC\n",
    "    'rgba(80, 80, 80, 0.1)',  # ACB to BTC\n",
    "    'rgba(80, 80, 80, 0.1)',  # Cell select to BTC\n",
    "    'rgba(24,  118, 210 , 0.80)',  # Data analysis to dQ/dV\n",
    "    'rgba(80, 80, 80, 0.1)',  # project management to web task forms\n",
    "    'rgba(80, 80, 80, 0.1)',  # web task forms to PSC\n",
    "]\n",
    "# Define node positions (x and y coordinates)\n",
    "node_positions = {\n",
    "    \"Data Analysis\": (0.01, -0.05),\n",
    "    \"Inventory\": (0.01, 0.50),\n",
    "    \"Project Management\": (0.01, 0.70),\n",
    "    \"Data Migration/cataloging\": (0.66, 0.2),\n",
    "    \"Web Forms for Tasks\": (0.30, 0.73),\n",
    "    \"Screening System\": (0.01, 0.30),\n",
    "    \"Confluence\": (0.30, 0.55),\n",
    "    \"Weight & Dimensions\": (0.01, 0.13),\n",
    "    \"Secondary\": (0.30, 0.19),\n",
    "    \"Primary\": (0.30, -0.01),\n",
    "    \"GFE Data Migration\": (0.30, 0.35),\n",
    "    \"JIRA\": (0.30, 0.65),\n",
    "    \"Consolidated Reports\": (0.66, -0.005),\n",
    "    \"HTML Handbook\": (0.66, 0.40),\n",
    "    \"Presentations\": (0.66, 0.50),\n",
    "    \"Periodic Reports\": (0.66, 0.60),\n",
    "    \"Screening Report\": (0.66, 0.30),\n",
    "    \"Customer\": (0.0, 0.0),\n",
    "    \"Cap Planning\": (0.66, 0.70),\n",
    "    \"GFM\": (0.30, 0.45),\n",
    "    \"BTC\": (0.0, 0.0),\n",
    "    \"Special Projects\": (0.0, 0.0),\n",
    "    \"dQ/dV\": (0.30, 0.85),\n",
    "    \"Analyzing Calibration Data\": (0.30, 0.93),\n",
    "    \"Cell Selection\": (0.30, 1.0),\n",
    "}\n",
    "\n",
    "# Create a list of x and y coordinates for nodes\n",
    "node_x = [node_positions[label][0] for label in nodes[\"label\"]]\n",
    "node_y = [node_positions[label][1] for label in nodes[\"label\"]]\n",
    "\n",
    "# Update the nodes dictionary with x and y coordinates\n",
    "nodes[\"x\"] = node_x\n",
    "nodes[\"y\"] = node_y\n",
    "fig = go.Figure(go.Sankey(\n",
    "    node=nodes,\n",
    "    link=links\n",
    "))\n",
    "# MCSR\n",
    "# Update layout and display the diagram\n",
    "# Make GFE and GFM its ownn line\n",
    "# add web based task forms\n",
    "# add percentage from 0 to 9 depending on the amount of effort that we are putting into the project\n",
    "# build a story with the lines\n",
    "# Have colors\n",
    "\n",
    "fig.update_layout(title_text=\"BTC Software Programs\", font_size=20)\n",
    "fig.show()\n",
    "fig.write_image('images/fig2.png', width=1100, height=450)"
   ]
  },
  {
   "cell_type": "code",
   "execution_count": 30,
   "metadata": {},
   "outputs": [
    {
     "data": {
      "application/vnd.plotly.v1+json": {
       "config": {
        "plotlyServerURL": "https://plot.ly"
       },
       "data": [
        {
         "link": {
          "color": [
           "rgba(24,  118, 210 , 0.80)",
           "rgba(24,  118, 210 , 0.80)",
           "rgba(80, 80, 80, 0.1)",
           "rgba(80, 80, 80, 0.1)",
           "rgba(80, 80, 80, 0.1)",
           "rgba(80, 80, 80, 0.1)",
           "rgba(80, 80, 80, 0.1)",
           "rgba(80, 80, 80, 0.1)",
           "rgba(80, 80, 80, 0.1)",
           "rgba(80, 80, 80, 0.1)",
           "rgba(80, 80, 80, 0.1)",
           "rgba(80, 80, 80, 0.1)",
           "rgba(80, 80, 80, 0.1)",
           "rgba(80, 80, 80, 0.1)",
           "rgba(80, 80, 80, 0.1)",
           "rgba(80, 80, 80, 0.1)",
           "rgba(80, 80, 80, 0.1)",
           "rgba(80, 80, 80, 0.1)",
           "rgba(80, 80, 80, 0.1)",
           "rgba(80, 80, 80, 0.1)",
           "rgba(80, 80, 80, 0.1)",
           "rgba(25, 210, 25, 0.4)",
           "rgba(80, 80, 80, 0.1)",
           "rgba(80, 80, 80, 0.1)",
           "rgba(210, 117, 25, 0.4)",
           "rgba(210, 117, 25, 0.4)",
           "rgba(80, 80, 80, 0.1)",
           "rgba(80, 80, 80, 0.1)",
           "rgba(80, 80, 80, 0.1)",
           "rgba(80, 80, 80, 0.1)",
           "rgba(80, 80, 80, 0.1)",
           "rgba(24,  118, 210 , 0.80)",
           "rgba(80, 80, 80, 0.1)",
           "rgba(80, 80, 80, 0.1)",
           "rgba(80, 80, 80, 0.1)",
           "rgba(80, 80, 80, 0.1)",
           "rgba(80, 80, 80, 0.1)",
           "rgba(80, 80, 80, 0.1)",
           "rgba(24,  118, 210 , 0.80)",
           "rgba(80, 80, 80, 0.1)",
           "rgba(80, 80, 80, 0.1)"
          ],
          "source": [
           0,
           0,
           8,
           8,
           8,
           9,
           9,
           9,
           12,
           13,
           14,
           1,
           10,
           15,
           10,
           18,
           2,
           2,
           5,
           11,
           4,
           6,
           8,
           16,
           7,
           7,
           1,
           19,
           19,
           8,
           9,
           0,
           21,
           21,
           21,
           22,
           23,
           24,
           0,
           2,
           3
          ],
          "target": [
           8,
           9,
           12,
           13,
           14,
           12,
           13,
           14,
           17,
           17,
           17,
           10,
           15,
           17,
           18,
           17,
           11,
           5,
           17,
           17,
           17,
           8,
           16,
           17,
           8,
           9,
           19,
           15,
           18,
           4,
           4,
           4,
           22,
           23,
           24,
           20,
           20,
           20,
           22,
           3,
           17
          ],
          "value": [
           3.2,
           0.4,
           3.2,
           0.4,
           0.4,
           0.4,
           0.4,
           0.4,
           3.2,
           0.2,
           0.4,
           0.8,
           0.4,
           0.8,
           0.4,
           0.8,
           0.4,
           0.4,
           0.4,
           0.4,
           0.4,
           0.4,
           0.8,
           0.8,
           0.5,
           0.5,
           0.4,
           0.4,
           0.4,
           0.4,
           0.4,
           0.4,
           0.3,
           0.3,
           0.3,
           0.3,
           0.3,
           0.3,
           0.3,
           0.3,
           0.3
          ]
         },
         "node": {
          "color": [
           "rgba(24,  118, 210 , 0.80)",
           "rgba(80, 80, 80, 0.1)",
           "rgba(80, 80, 80, 0.1)",
           "rgba(80, 80, 80, 0.1)",
           "rgba(80, 80, 80, 0.1)",
           "rgba(80, 80, 80, 0.1)",
           "rgba(25, 210, 25, 0.4)",
           "rgba(210, 117, 25, 0.4)",
           "rgba(80, 80, 80, 0.1)",
           "rgba(80, 80, 80, 0.1)",
           "rgba(80, 80, 80, 0.1)",
           "rgba(80, 80, 80, 0.1)",
           "rgba(80, 80, 80, 0.1)",
           "rgba(80, 80, 80, 0.1)",
           "rgba(80, 80, 80, 0.1)",
           "rgba(80, 80, 80, 0.1)",
           "rgba(80, 80, 80, 0.1)",
           "rgba(80, 80, 80, 0.1)",
           "rgba(80, 80, 80, 0.1)",
           "rgba(80, 80, 80, 0.1)",
           "rgba(80, 80, 80, 0.1)",
           "rgba(80, 80, 80, 0.1)",
           "rgba(80, 80, 80, 0.1)",
           "rgba(80, 80, 80, 0.1)",
           "rgba(80, 80, 80, 0.1)"
          ],
          "label": [
           "Data Analysis",
           "Inventory",
           "Project Management",
           "Web Forms for Tasks",
           "Data Migration/cataloging",
           "Confluence",
           "Screening System",
           "Weight & Dimensions",
           "Primary",
           "Secondary",
           "GFE Data Migration",
           "JIRA",
           "Consolidated Reports",
           "HTML Handbook",
           "Presentations",
           "Periodic Reports",
           "Screening Report",
           "Customer",
           "Cap Planning",
           "GFM",
           "BTC",
           "Special Projects",
           "dQ/dV",
           "Analyzing Calibration Data",
           "Cell Selection"
          ],
          "line": {
           "color": "black",
           "width": 0.5
          },
          "pad": 15,
          "thickness": 20,
          "x": [
           0.01,
           0.01,
           0.01,
           0.3,
           0.66,
           0.3,
           0.01,
           0.01,
           0.3,
           0.3,
           0.3,
           0.3,
           0.66,
           0.66,
           0.66,
           0.66,
           0.66,
           0,
           0.66,
           0.3,
           0,
           0,
           0.3,
           0.3,
           0.3
          ],
          "y": [
           -0.05,
           0.5,
           0.7,
           0.73,
           0.2,
           0.55,
           0.3,
           0.13,
           -0.01,
           0.19,
           0.35,
           0.65,
           -0.005,
           0.4,
           0.5,
           0.6,
           0.3,
           0,
           0.7,
           0.45,
           0,
           0,
           0.85,
           0.93,
           1
          ]
         },
         "type": "sankey"
        }
       ],
       "layout": {
        "font": {
         "size": 20
        },
        "template": {
         "data": {
          "bar": [
           {
            "error_x": {
             "color": "#2a3f5f"
            },
            "error_y": {
             "color": "#2a3f5f"
            },
            "marker": {
             "line": {
              "color": "#E5ECF6",
              "width": 0.5
             },
             "pattern": {
              "fillmode": "overlay",
              "size": 10,
              "solidity": 0.2
             }
            },
            "type": "bar"
           }
          ],
          "barpolar": [
           {
            "marker": {
             "line": {
              "color": "#E5ECF6",
              "width": 0.5
             },
             "pattern": {
              "fillmode": "overlay",
              "size": 10,
              "solidity": 0.2
             }
            },
            "type": "barpolar"
           }
          ],
          "carpet": [
           {
            "aaxis": {
             "endlinecolor": "#2a3f5f",
             "gridcolor": "white",
             "linecolor": "white",
             "minorgridcolor": "white",
             "startlinecolor": "#2a3f5f"
            },
            "baxis": {
             "endlinecolor": "#2a3f5f",
             "gridcolor": "white",
             "linecolor": "white",
             "minorgridcolor": "white",
             "startlinecolor": "#2a3f5f"
            },
            "type": "carpet"
           }
          ],
          "choropleth": [
           {
            "colorbar": {
             "outlinewidth": 0,
             "ticks": ""
            },
            "type": "choropleth"
           }
          ],
          "contour": [
           {
            "colorbar": {
             "outlinewidth": 0,
             "ticks": ""
            },
            "colorscale": [
             [
              0,
              "#0d0887"
             ],
             [
              0.1111111111111111,
              "#46039f"
             ],
             [
              0.2222222222222222,
              "#7201a8"
             ],
             [
              0.3333333333333333,
              "#9c179e"
             ],
             [
              0.4444444444444444,
              "#bd3786"
             ],
             [
              0.5555555555555556,
              "#d8576b"
             ],
             [
              0.6666666666666666,
              "#ed7953"
             ],
             [
              0.7777777777777778,
              "#fb9f3a"
             ],
             [
              0.8888888888888888,
              "#fdca26"
             ],
             [
              1,
              "#f0f921"
             ]
            ],
            "type": "contour"
           }
          ],
          "contourcarpet": [
           {
            "colorbar": {
             "outlinewidth": 0,
             "ticks": ""
            },
            "type": "contourcarpet"
           }
          ],
          "heatmap": [
           {
            "colorbar": {
             "outlinewidth": 0,
             "ticks": ""
            },
            "colorscale": [
             [
              0,
              "#0d0887"
             ],
             [
              0.1111111111111111,
              "#46039f"
             ],
             [
              0.2222222222222222,
              "#7201a8"
             ],
             [
              0.3333333333333333,
              "#9c179e"
             ],
             [
              0.4444444444444444,
              "#bd3786"
             ],
             [
              0.5555555555555556,
              "#d8576b"
             ],
             [
              0.6666666666666666,
              "#ed7953"
             ],
             [
              0.7777777777777778,
              "#fb9f3a"
             ],
             [
              0.8888888888888888,
              "#fdca26"
             ],
             [
              1,
              "#f0f921"
             ]
            ],
            "type": "heatmap"
           }
          ],
          "heatmapgl": [
           {
            "colorbar": {
             "outlinewidth": 0,
             "ticks": ""
            },
            "colorscale": [
             [
              0,
              "#0d0887"
             ],
             [
              0.1111111111111111,
              "#46039f"
             ],
             [
              0.2222222222222222,
              "#7201a8"
             ],
             [
              0.3333333333333333,
              "#9c179e"
             ],
             [
              0.4444444444444444,
              "#bd3786"
             ],
             [
              0.5555555555555556,
              "#d8576b"
             ],
             [
              0.6666666666666666,
              "#ed7953"
             ],
             [
              0.7777777777777778,
              "#fb9f3a"
             ],
             [
              0.8888888888888888,
              "#fdca26"
             ],
             [
              1,
              "#f0f921"
             ]
            ],
            "type": "heatmapgl"
           }
          ],
          "histogram": [
           {
            "marker": {
             "pattern": {
              "fillmode": "overlay",
              "size": 10,
              "solidity": 0.2
             }
            },
            "type": "histogram"
           }
          ],
          "histogram2d": [
           {
            "colorbar": {
             "outlinewidth": 0,
             "ticks": ""
            },
            "colorscale": [
             [
              0,
              "#0d0887"
             ],
             [
              0.1111111111111111,
              "#46039f"
             ],
             [
              0.2222222222222222,
              "#7201a8"
             ],
             [
              0.3333333333333333,
              "#9c179e"
             ],
             [
              0.4444444444444444,
              "#bd3786"
             ],
             [
              0.5555555555555556,
              "#d8576b"
             ],
             [
              0.6666666666666666,
              "#ed7953"
             ],
             [
              0.7777777777777778,
              "#fb9f3a"
             ],
             [
              0.8888888888888888,
              "#fdca26"
             ],
             [
              1,
              "#f0f921"
             ]
            ],
            "type": "histogram2d"
           }
          ],
          "histogram2dcontour": [
           {
            "colorbar": {
             "outlinewidth": 0,
             "ticks": ""
            },
            "colorscale": [
             [
              0,
              "#0d0887"
             ],
             [
              0.1111111111111111,
              "#46039f"
             ],
             [
              0.2222222222222222,
              "#7201a8"
             ],
             [
              0.3333333333333333,
              "#9c179e"
             ],
             [
              0.4444444444444444,
              "#bd3786"
             ],
             [
              0.5555555555555556,
              "#d8576b"
             ],
             [
              0.6666666666666666,
              "#ed7953"
             ],
             [
              0.7777777777777778,
              "#fb9f3a"
             ],
             [
              0.8888888888888888,
              "#fdca26"
             ],
             [
              1,
              "#f0f921"
             ]
            ],
            "type": "histogram2dcontour"
           }
          ],
          "mesh3d": [
           {
            "colorbar": {
             "outlinewidth": 0,
             "ticks": ""
            },
            "type": "mesh3d"
           }
          ],
          "parcoords": [
           {
            "line": {
             "colorbar": {
              "outlinewidth": 0,
              "ticks": ""
             }
            },
            "type": "parcoords"
           }
          ],
          "pie": [
           {
            "automargin": true,
            "type": "pie"
           }
          ],
          "scatter": [
           {
            "fillpattern": {
             "fillmode": "overlay",
             "size": 10,
             "solidity": 0.2
            },
            "type": "scatter"
           }
          ],
          "scatter3d": [
           {
            "line": {
             "colorbar": {
              "outlinewidth": 0,
              "ticks": ""
             }
            },
            "marker": {
             "colorbar": {
              "outlinewidth": 0,
              "ticks": ""
             }
            },
            "type": "scatter3d"
           }
          ],
          "scattercarpet": [
           {
            "marker": {
             "colorbar": {
              "outlinewidth": 0,
              "ticks": ""
             }
            },
            "type": "scattercarpet"
           }
          ],
          "scattergeo": [
           {
            "marker": {
             "colorbar": {
              "outlinewidth": 0,
              "ticks": ""
             }
            },
            "type": "scattergeo"
           }
          ],
          "scattergl": [
           {
            "marker": {
             "colorbar": {
              "outlinewidth": 0,
              "ticks": ""
             }
            },
            "type": "scattergl"
           }
          ],
          "scattermapbox": [
           {
            "marker": {
             "colorbar": {
              "outlinewidth": 0,
              "ticks": ""
             }
            },
            "type": "scattermapbox"
           }
          ],
          "scatterpolar": [
           {
            "marker": {
             "colorbar": {
              "outlinewidth": 0,
              "ticks": ""
             }
            },
            "type": "scatterpolar"
           }
          ],
          "scatterpolargl": [
           {
            "marker": {
             "colorbar": {
              "outlinewidth": 0,
              "ticks": ""
             }
            },
            "type": "scatterpolargl"
           }
          ],
          "scatterternary": [
           {
            "marker": {
             "colorbar": {
              "outlinewidth": 0,
              "ticks": ""
             }
            },
            "type": "scatterternary"
           }
          ],
          "surface": [
           {
            "colorbar": {
             "outlinewidth": 0,
             "ticks": ""
            },
            "colorscale": [
             [
              0,
              "#0d0887"
             ],
             [
              0.1111111111111111,
              "#46039f"
             ],
             [
              0.2222222222222222,
              "#7201a8"
             ],
             [
              0.3333333333333333,
              "#9c179e"
             ],
             [
              0.4444444444444444,
              "#bd3786"
             ],
             [
              0.5555555555555556,
              "#d8576b"
             ],
             [
              0.6666666666666666,
              "#ed7953"
             ],
             [
              0.7777777777777778,
              "#fb9f3a"
             ],
             [
              0.8888888888888888,
              "#fdca26"
             ],
             [
              1,
              "#f0f921"
             ]
            ],
            "type": "surface"
           }
          ],
          "table": [
           {
            "cells": {
             "fill": {
              "color": "#EBF0F8"
             },
             "line": {
              "color": "white"
             }
            },
            "header": {
             "fill": {
              "color": "#C8D4E3"
             },
             "line": {
              "color": "white"
             }
            },
            "type": "table"
           }
          ]
         },
         "layout": {
          "annotationdefaults": {
           "arrowcolor": "#2a3f5f",
           "arrowhead": 0,
           "arrowwidth": 1
          },
          "autotypenumbers": "strict",
          "coloraxis": {
           "colorbar": {
            "outlinewidth": 0,
            "ticks": ""
           }
          },
          "colorscale": {
           "diverging": [
            [
             0,
             "#8e0152"
            ],
            [
             0.1,
             "#c51b7d"
            ],
            [
             0.2,
             "#de77ae"
            ],
            [
             0.3,
             "#f1b6da"
            ],
            [
             0.4,
             "#fde0ef"
            ],
            [
             0.5,
             "#f7f7f7"
            ],
            [
             0.6,
             "#e6f5d0"
            ],
            [
             0.7,
             "#b8e186"
            ],
            [
             0.8,
             "#7fbc41"
            ],
            [
             0.9,
             "#4d9221"
            ],
            [
             1,
             "#276419"
            ]
           ],
           "sequential": [
            [
             0,
             "#0d0887"
            ],
            [
             0.1111111111111111,
             "#46039f"
            ],
            [
             0.2222222222222222,
             "#7201a8"
            ],
            [
             0.3333333333333333,
             "#9c179e"
            ],
            [
             0.4444444444444444,
             "#bd3786"
            ],
            [
             0.5555555555555556,
             "#d8576b"
            ],
            [
             0.6666666666666666,
             "#ed7953"
            ],
            [
             0.7777777777777778,
             "#fb9f3a"
            ],
            [
             0.8888888888888888,
             "#fdca26"
            ],
            [
             1,
             "#f0f921"
            ]
           ],
           "sequentialminus": [
            [
             0,
             "#0d0887"
            ],
            [
             0.1111111111111111,
             "#46039f"
            ],
            [
             0.2222222222222222,
             "#7201a8"
            ],
            [
             0.3333333333333333,
             "#9c179e"
            ],
            [
             0.4444444444444444,
             "#bd3786"
            ],
            [
             0.5555555555555556,
             "#d8576b"
            ],
            [
             0.6666666666666666,
             "#ed7953"
            ],
            [
             0.7777777777777778,
             "#fb9f3a"
            ],
            [
             0.8888888888888888,
             "#fdca26"
            ],
            [
             1,
             "#f0f921"
            ]
           ]
          },
          "colorway": [
           "#636efa",
           "#EF553B",
           "#00cc96",
           "#ab63fa",
           "#FFA15A",
           "#19d3f3",
           "#FF6692",
           "#B6E880",
           "#FF97FF",
           "#FECB52"
          ],
          "font": {
           "color": "#2a3f5f"
          },
          "geo": {
           "bgcolor": "white",
           "lakecolor": "white",
           "landcolor": "#E5ECF6",
           "showlakes": true,
           "showland": true,
           "subunitcolor": "white"
          },
          "hoverlabel": {
           "align": "left"
          },
          "hovermode": "closest",
          "mapbox": {
           "style": "light"
          },
          "paper_bgcolor": "white",
          "plot_bgcolor": "#E5ECF6",
          "polar": {
           "angularaxis": {
            "gridcolor": "white",
            "linecolor": "white",
            "ticks": ""
           },
           "bgcolor": "#E5ECF6",
           "radialaxis": {
            "gridcolor": "white",
            "linecolor": "white",
            "ticks": ""
           }
          },
          "scene": {
           "xaxis": {
            "backgroundcolor": "#E5ECF6",
            "gridcolor": "white",
            "gridwidth": 2,
            "linecolor": "white",
            "showbackground": true,
            "ticks": "",
            "zerolinecolor": "white"
           },
           "yaxis": {
            "backgroundcolor": "#E5ECF6",
            "gridcolor": "white",
            "gridwidth": 2,
            "linecolor": "white",
            "showbackground": true,
            "ticks": "",
            "zerolinecolor": "white"
           },
           "zaxis": {
            "backgroundcolor": "#E5ECF6",
            "gridcolor": "white",
            "gridwidth": 2,
            "linecolor": "white",
            "showbackground": true,
            "ticks": "",
            "zerolinecolor": "white"
           }
          },
          "shapedefaults": {
           "line": {
            "color": "#2a3f5f"
           }
          },
          "ternary": {
           "aaxis": {
            "gridcolor": "white",
            "linecolor": "white",
            "ticks": ""
           },
           "baxis": {
            "gridcolor": "white",
            "linecolor": "white",
            "ticks": ""
           },
           "bgcolor": "#E5ECF6",
           "caxis": {
            "gridcolor": "white",
            "linecolor": "white",
            "ticks": ""
           }
          },
          "title": {
           "x": 0.05
          },
          "xaxis": {
           "automargin": true,
           "gridcolor": "white",
           "linecolor": "white",
           "ticks": "",
           "title": {
            "standoff": 15
           },
           "zerolinecolor": "white",
           "zerolinewidth": 2
          },
          "yaxis": {
           "automargin": true,
           "gridcolor": "white",
           "linecolor": "white",
           "ticks": "",
           "title": {
            "standoff": 15
           },
           "zerolinecolor": "white",
           "zerolinewidth": 2
          }
         }
        },
        "title": {
         "text": "BTC Software Programs"
        }
       }
      }
     },
     "metadata": {},
     "output_type": "display_data"
    },
    {
     "data": {
      "text/plain": [
       "<Figure size 1200x1600 with 0 Axes>"
      ]
     },
     "metadata": {},
     "output_type": "display_data"
    }
   ],
   "source": [
    "\n",
    "\n",
    "import matplotlib.pyplot as plt\n",
    "import plotly.graph_objects as go\n",
    "import plotly.graph_objects as go\n",
    "import plotly.express as px\n",
    "plt.figure(figsize=(12, 16))\n",
    "# Define the nodes and links\n",
    "nodes = {\n",
    "    \"pad\": 15,\n",
    "    \"thickness\": 20,\n",
    "    \"line\": dict(color=\"black\", width=0.5),\n",
    "    \"label\": [\n",
    "        \"Data Analysis\",\n",
    "        \"Inventory\",\n",
    "        \"Project Management\",\n",
    "        'Web Forms for Tasks',\n",
    "        'Data Migration/cataloging',\n",
    "        'Confluence',\n",
    "        'Screening System',\n",
    "        'Weight & Dimensions',\n",
    "        'Primary',\n",
    "        'Secondary',\n",
    "        'GFE Data Migration',\n",
    "        'JIRA',\n",
    "        'Consolidated Reports',\n",
    "        'HTML Handbook',\n",
    "        'Presentations',\n",
    "        'Periodic Reports',\n",
    "        'Screening Report',\n",
    "        'Customer',\n",
    "        'Cap Planning',\n",
    "        'GFM',\n",
    "        'BTC',  # 20\n",
    "        'Special Projects',\n",
    "        'dQ/dV',\n",
    "        'Analyzing Calibration Data',\n",
    "        'Cell Selection',\n",
    "    ],\n",
    "    \"color\": [\n",
    "        'rgba(24,  118, 210 , 0.80)',  # da\n",
    "        'rgba(80, 80, 80, 0.1)',  # inv\n",
    "        'rgba(80, 80, 80, 0.1)',  # Project M\n",
    "        'rgba(80, 80, 80, 0.1)',  # Web task Forms\n",
    "        'rgba(80, 80, 80, 0.1)',  # DM\n",
    "        'rgba(80, 80, 80, 0.1)',  # Confluence\n",
    "        'rgba(25, 210, 25, 0.4)',  # Screening\n",
    "        'rgba(210, 117, 25, 0.4)',  # WD\n",
    "        'rgba(80, 80, 80, 0.1)',  # PMDA\n",
    "        'rgba(80, 80, 80, 0.1)',  # SDDA\n",
    "        'rgba(80, 80, 80, 0.1)',  # GFE DAM\n",
    "        'rgba(80, 80, 80, 0.1)',  # JIRA\n",
    "        'rgba(80, 80, 80, 0.1)',  # consolidated reports\n",
    "        'rgba(80, 80, 80, 0.1)',  # HTML\n",
    "        'rgba(80, 80, 80, 0.1)',  # presentation\n",
    "        'rgba(80, 80, 80, 0.1)',  # Periodic\n",
    "        'rgba(80, 80, 80, 0.1)',  # screening report\n",
    "        'rgba(80, 80, 80, 0.1)',  # customer\n",
    "        'rgba(80, 80, 80, 0.1)',  # CAP Plan\n",
    "        'rgba(80, 80, 80, 0.1)',  # GFM\n",
    "        'rgba(80, 80, 80, 0.1)',  # BTC\n",
    "        'rgba(80, 80, 80, 0.1)',  # Special Projects\n",
    "        'rgba(80, 80, 80, 0.1)',  # dQ/dV\n",
    "        'rgba(80, 80, 80, 0.1)',  # Analyzing calibration data\n",
    "        'rgba(80, 80, 80, 0.1)',  # Cell Selection\n",
    "    ]\n",
    "\n",
    "}\n",
    "links = {  # DA      Dap/das to deliverables  # D to PSC        #    Inventory     # Project Management     dm    screening                                                                       # Web task forms\n",
    "    'source': [0, 0,  8,  8,  8, 9,   9,  9,   12, 13, 14,       1, 10, 15, 10, 18,     2, 2, 5, 11,         4,  6, 8, 16,      7, 7,  1,  19, 19,    8, 9, 0,  21, 21, 21, 22, 23, 24,      0,    2, 3],\n",
    "    'target': [8, 9,  12, 13, 14, 12, 13, 14,   17, 17, 17,      10, 15, 17, 18, 17,    11, 5, 17, 17,       17, 8, 16, 17,      8, 9,  19,  15, 18,  4, 4, 4,  22, 23, 24, 20, 20, 20,      22,   3, 17],\n",
    "    'value':  [3.2, 0.4, 3.2,  0.4,  0.4, 0.4,   0.4,  0.4, 3.2, 0.20,  0.4,      0.8,  0.4, 0.8, 0.4, 0.8,      0.4, 0.4,  0.4, 0.4,          0.4,  0.4,  0.8, 0.8,      0.5, 0.5,  0.4,   0.4, 0.4,     0.4, 0.4, 0.4,   0.3,  0.3,  0.3, 0.3,   0.3,  0.3,  0.3, 0.3, 0.3],\n",
    "    # 'color': []\n",
    "}\n",
    "\n",
    "links['color'] = [\n",
    "    \"rgba(24,  118, 210 , 0.80)\",  # DA to PDA\n",
    "    \"rgba(24,  118, 210 , 0.80)\",  # Da to Sencodary\n",
    "    'rgba(80, 80, 80, 0.1)',  # Primary to consolidated\n",
    "    'rgba(80, 80, 80, 0.1)',  # PDA to HTML\n",
    "    'rgba(80, 80, 80, 0.1)',  # PDA to presentation\n",
    "    'rgba(80, 80, 80, 0.1)',  # SDA to consolidated\n",
    "    'rgba(80, 80, 80, 0.1)',  # SDA to HTML\n",
    "    'rgba(80, 80, 80, 0.1)',  # SDA to Presentation\n",
    "    'rgba(80, 80, 80, 0.1)',  # Consolidated to PSC\n",
    "    'rgba(80, 80, 80, 0.1)',  # HTML to PSC\n",
    "    'rgba(80, 80, 80, 0.1)',  # Presentation to PSC\n",
    "    'rgba(80, 80, 80, 0.1)',  # Inventory to GFE\n",
    "    'rgba(80, 80, 80, 0.1)',  # GFE DM to Monthly\n",
    "    'rgba(80, 80, 80, 0.1)',  # Monthly to PSC\n",
    "    'rgba(80, 80, 80, 0.1)',  # GFE DM to CAP P\n",
    "    'rgba(80, 80, 80, 0.1)',  # Cap P to PSC\n",
    "    'rgba(80, 80, 80, 0.1)',  # PM to Jira\n",
    "    'rgba(80, 80, 80, 0.1)',  # PM to Jira\n",
    "    'rgba(80, 80, 80, 0.1)',  # confluence to PSC\n",
    "    'rgba(80, 80, 80, 0.1)',  # JIRA to PSC\n",
    "    'rgba(80, 80, 80, 0.1)',  # data migration to PSC\n",
    "    'rgba(25, 210, 25, 0.4)',  # Screening to PDA\n",
    "    'rgba(80, 80, 80, 0.1)',  # PDA to Screening report\n",
    "    'rgba(80, 80, 80, 0.1)',  # Screening report to PSC\n",
    "    'rgba(210, 117, 25, 0.4)',  # W&D to PDA\n",
    "    'rgba(210, 117, 25, 0.4)',  # W&D to SDA\n",
    "    'rgba(80, 80, 80, 0.1)',  # inventory to GFM\n",
    "    'rgba(80, 80, 80, 0.1)',  # GFM to Monthly\n",
    "    'rgba(80, 80, 80, 0.1)',  # GFM to CAP Planning\n",
    "    'rgba(80, 80, 80, 0.1)',  # primary to data migration\n",
    "    'rgba(80, 80, 80, 0.1)',  # secondary to data migration\n",
    "    'rgba(24,  118, 210 , 0.80)',  # DA to data migration\n",
    "    'rgba(80, 80, 80, 0.1)',  # SPP to cell selection\n",
    "    'rgba(80, 80, 80, 0.1)',  # SPP to cell Analyzing calibration Data\n",
    "    'rgba(80, 80, 80, 0.1)',  # SPP to cell Analyzing cell selection\n",
    "    'rgba(80, 80, 80, 0.1)',  # dq/dv to BTC\n",
    "    'rgba(80, 80, 80, 0.1)',  # ACB to BTC\n",
    "    'rgba(80, 80, 80, 0.1)',  # Cell select to BTC\n",
    "    'rgba(24,  118, 210 , 0.80)',  # Data analysis to dQ/dV\n",
    "    'rgba(80, 80, 80, 0.1)',  # project management to web task forms\n",
    "    'rgba(80, 80, 80, 0.1)',  # web task forms to PSC\n",
    "]\n",
    "# Define node positions (x and y coordinates)\n",
    "node_positions = {\n",
    "    \"Data Analysis\": (0.01, -0.05),\n",
    "    \"Inventory\": (0.01, 0.50),\n",
    "    \"Project Management\": (0.01, 0.70),\n",
    "    \"Data Migration/cataloging\": (0.66, 0.2),\n",
    "    \"Web Forms for Tasks\": (0.30, 0.73),\n",
    "    \"Screening System\": (0.01, 0.30),\n",
    "    \"Confluence\": (0.30, 0.55),\n",
    "    \"Weight & Dimensions\": (0.01, 0.13),\n",
    "    \"Secondary\": (0.30, 0.19),\n",
    "    \"Primary\": (0.30, -0.01),\n",
    "    \"GFE Data Migration\": (0.30, 0.35),\n",
    "    \"JIRA\": (0.30, 0.65),\n",
    "    \"Consolidated Reports\": (0.66, -0.005),\n",
    "    \"HTML Handbook\": (0.66, 0.40),\n",
    "    \"Presentations\": (0.66, 0.50),\n",
    "    \"Periodic Reports\": (0.66, 0.60),\n",
    "    \"Screening Report\": (0.66, 0.30),\n",
    "    \"Customer\": (0.0, 0.0),\n",
    "    \"Cap Planning\": (0.66, 0.70),\n",
    "    \"GFM\": (0.30, 0.45),\n",
    "    \"BTC\": (0.0, 0.0),\n",
    "    \"Special Projects\": (0.0, 0.0),\n",
    "    \"dQ/dV\": (0.30, 0.85),\n",
    "    \"Analyzing Calibration Data\": (0.30, 0.93),\n",
    "    \"Cell Selection\": (0.30, 1.0),\n",
    "}\n",
    "\n",
    "# Create a list of x and y coordinates for nodes\n",
    "node_x = [node_positions[label][0] for label in nodes[\"label\"]]\n",
    "node_y = [node_positions[label][1] for label in nodes[\"label\"]]\n",
    "\n",
    "# Update the nodes dictionary with x and y coordinates\n",
    "nodes[\"x\"] = node_x\n",
    "nodes[\"y\"] = node_y\n",
    "fig = go.Figure(go.Sankey(\n",
    "    node=nodes,\n",
    "    link=links\n",
    "))\n",
    "# MCSR\n",
    "# Update layout and display the diagram\n",
    "# Make GFE and GFM its ownn line\n",
    "# add web based task forms\n",
    "# add percentage from 0 to 9 depending on the amount of effort that we are putting into the project\n",
    "# build a story with the lines\n",
    "# Have colors\n",
    "\n",
    "fig.update_layout(title_text=\"BTC Software Programs\", font_size=20)\n",
    "fig.show()\n",
    "fig.write_image('images/fig3.png', width=1100, height=450)"
   ]
  },
  {
   "cell_type": "code",
   "execution_count": 31,
   "metadata": {},
   "outputs": [
    {
     "data": {
      "application/vnd.plotly.v1+json": {
       "config": {
        "plotlyServerURL": "https://plot.ly"
       },
       "data": [
        {
         "link": {
          "color": [
           "rgba(24,  118, 210 , 0.80)",
           "rgba(24,  118, 210 , 0.80)",
           "rgba(80, 80, 80, 0.1)",
           "rgba(80, 80, 80, 0.1)",
           "rgba(80, 80, 80, 0.1)",
           "rgba(80, 80, 80, 0.1)",
           "rgba(80, 80, 80, 0.1)",
           "rgba(80, 80, 80, 0.1)",
           "rgba(80, 80, 80, 0.1)",
           "rgba(80, 80, 80, 0.1)",
           "rgba(80, 80, 80, 0.1)",
           "rgba(210,25,210, 0.5)",
           "rgba(80, 80, 80, 0.1)",
           "rgba(80, 80, 80, 0.1)",
           "rgba(80, 80, 80, 0.1)",
           "rgba(80, 80, 80, 0.1)",
           "rgba(80, 80, 80, 0.1)",
           "rgba(80, 80, 80, 0.1)",
           "rgba(80, 80, 80, 0.1)",
           "rgba(80, 80, 80, 0.1)",
           "rgba(80, 80, 80, 0.1)",
           "rgba(25, 210, 25, 0.4)",
           "rgba(80, 80, 80, 0.1)",
           "rgba(80, 80, 80, 0.1)",
           "rgba(210, 117, 25, 0.4)",
           "rgba(210, 117, 25, 0.4)",
           "rgba(210,25,210, 0.5)",
           "rgba(80, 80, 80, 0.1)",
           "rgba(80, 80, 80, 0.1)",
           "rgba(80, 80, 80, 0.1)",
           "rgba(80, 80, 80, 0.1)",
           "rgba(24,  118, 210 , 0.80)",
           "rgba(80, 80, 80, 0.1)",
           "rgba(80, 80, 80, 0.1)",
           "rgba(80, 80, 80, 0.1)",
           "rgba(80, 80, 80, 0.1)",
           "rgba(80, 80, 80, 0.1)",
           "rgba(80, 80, 80, 0.1)",
           "rgba(24,  118, 210 , 0.80)",
           "rgba(80, 80, 80, 0.1)",
           "rgba(80, 80, 80, 0.1)"
          ],
          "source": [
           0,
           0,
           8,
           8,
           8,
           9,
           9,
           9,
           12,
           13,
           14,
           1,
           10,
           15,
           10,
           18,
           2,
           2,
           5,
           11,
           4,
           6,
           8,
           16,
           7,
           7,
           1,
           19,
           19,
           8,
           9,
           0,
           21,
           21,
           21,
           22,
           23,
           24,
           0,
           2,
           3
          ],
          "target": [
           8,
           9,
           12,
           13,
           14,
           12,
           13,
           14,
           17,
           17,
           17,
           10,
           15,
           17,
           18,
           17,
           11,
           5,
           17,
           17,
           17,
           8,
           16,
           17,
           8,
           9,
           19,
           15,
           18,
           4,
           4,
           4,
           22,
           23,
           24,
           20,
           20,
           20,
           22,
           3,
           17
          ],
          "value": [
           3.2,
           0.4,
           3.2,
           0.4,
           0.4,
           0.4,
           0.4,
           0.4,
           3.2,
           0.2,
           0.4,
           0.8,
           0.4,
           0.8,
           0.4,
           0.8,
           0.4,
           0.4,
           0.4,
           0.4,
           0.4,
           0.4,
           0.8,
           0.8,
           0.5,
           0.5,
           0.4,
           0.4,
           0.4,
           0.4,
           0.4,
           0.4,
           0.3,
           0.3,
           0.3,
           0.3,
           0.3,
           0.3,
           0.3,
           0.3,
           0.3
          ]
         },
         "node": {
          "color": [
           "rgba(24,  118, 210 , 0.80)",
           "rgba(210,25,210, 0.5)",
           "rgba(80, 80, 80, 0.1)",
           "rgba(80, 80, 80, 0.1)",
           "rgba(80, 80, 80, 0.1)",
           "rgba(80, 80, 80, 0.1)",
           "rgba(25, 210, 25, 0.4)",
           "rgba(210, 117, 25, 0.4)",
           "rgba(80, 80, 80, 0.1)",
           "rgba(80, 80, 80, 0.1)",
           "rgba(80, 80, 80, 0.1)",
           "rgba(80, 80, 80, 0.1)",
           "rgba(80, 80, 80, 0.1)",
           "rgba(80, 80, 80, 0.1)",
           "rgba(80, 80, 80, 0.1)",
           "rgba(80, 80, 80, 0.1)",
           "rgba(80, 80, 80, 0.1)",
           "rgba(80, 80, 80, 0.1)",
           "rgba(80, 80, 80, 0.1)",
           "rgba(80, 80, 80, 0.1)",
           "rgba(80, 80, 80, 0.1)",
           "rgba(80, 80, 80, 0.1)",
           "rgba(80, 80, 80, 0.1)",
           "rgba(80, 80, 80, 0.1)",
           "rgba(80, 80, 80, 0.1)"
          ],
          "label": [
           "Data Analysis",
           "Inventory",
           "Project Management",
           "Web Forms for Tasks",
           "Data Migration/cataloging",
           "Confluence",
           "Screening System",
           "Weight & Dimensions",
           "Primary",
           "Secondary",
           "GFE Data Migration",
           "JIRA",
           "Consolidated Reports",
           "HTML Handbook",
           "Presentations",
           "Periodic Reports",
           "Screening Report",
           "Customer",
           "Cap Planning",
           "GFM",
           "BTC",
           "Special Projects",
           "dQ/dV",
           "Analyzing Calibration Data",
           "Cell Selection"
          ],
          "line": {
           "color": "black",
           "width": 0.5
          },
          "pad": 15,
          "thickness": 20,
          "x": [
           0.01,
           0.01,
           0.01,
           0.3,
           0.66,
           0.3,
           0.01,
           0.01,
           0.3,
           0.3,
           0.3,
           0.3,
           0.66,
           0.66,
           0.66,
           0.66,
           0.66,
           0,
           0.66,
           0.3,
           0,
           0,
           0.3,
           0.3,
           0.3
          ],
          "y": [
           -0.05,
           0.5,
           0.7,
           0.73,
           0.2,
           0.55,
           0.3,
           0.13,
           -0.01,
           0.19,
           0.35,
           0.65,
           -0.005,
           0.4,
           0.5,
           0.6,
           0.3,
           0,
           0.7,
           0.45,
           0,
           0,
           0.85,
           0.93,
           1
          ]
         },
         "type": "sankey"
        }
       ],
       "layout": {
        "font": {
         "size": 20
        },
        "template": {
         "data": {
          "bar": [
           {
            "error_x": {
             "color": "#2a3f5f"
            },
            "error_y": {
             "color": "#2a3f5f"
            },
            "marker": {
             "line": {
              "color": "#E5ECF6",
              "width": 0.5
             },
             "pattern": {
              "fillmode": "overlay",
              "size": 10,
              "solidity": 0.2
             }
            },
            "type": "bar"
           }
          ],
          "barpolar": [
           {
            "marker": {
             "line": {
              "color": "#E5ECF6",
              "width": 0.5
             },
             "pattern": {
              "fillmode": "overlay",
              "size": 10,
              "solidity": 0.2
             }
            },
            "type": "barpolar"
           }
          ],
          "carpet": [
           {
            "aaxis": {
             "endlinecolor": "#2a3f5f",
             "gridcolor": "white",
             "linecolor": "white",
             "minorgridcolor": "white",
             "startlinecolor": "#2a3f5f"
            },
            "baxis": {
             "endlinecolor": "#2a3f5f",
             "gridcolor": "white",
             "linecolor": "white",
             "minorgridcolor": "white",
             "startlinecolor": "#2a3f5f"
            },
            "type": "carpet"
           }
          ],
          "choropleth": [
           {
            "colorbar": {
             "outlinewidth": 0,
             "ticks": ""
            },
            "type": "choropleth"
           }
          ],
          "contour": [
           {
            "colorbar": {
             "outlinewidth": 0,
             "ticks": ""
            },
            "colorscale": [
             [
              0,
              "#0d0887"
             ],
             [
              0.1111111111111111,
              "#46039f"
             ],
             [
              0.2222222222222222,
              "#7201a8"
             ],
             [
              0.3333333333333333,
              "#9c179e"
             ],
             [
              0.4444444444444444,
              "#bd3786"
             ],
             [
              0.5555555555555556,
              "#d8576b"
             ],
             [
              0.6666666666666666,
              "#ed7953"
             ],
             [
              0.7777777777777778,
              "#fb9f3a"
             ],
             [
              0.8888888888888888,
              "#fdca26"
             ],
             [
              1,
              "#f0f921"
             ]
            ],
            "type": "contour"
           }
          ],
          "contourcarpet": [
           {
            "colorbar": {
             "outlinewidth": 0,
             "ticks": ""
            },
            "type": "contourcarpet"
           }
          ],
          "heatmap": [
           {
            "colorbar": {
             "outlinewidth": 0,
             "ticks": ""
            },
            "colorscale": [
             [
              0,
              "#0d0887"
             ],
             [
              0.1111111111111111,
              "#46039f"
             ],
             [
              0.2222222222222222,
              "#7201a8"
             ],
             [
              0.3333333333333333,
              "#9c179e"
             ],
             [
              0.4444444444444444,
              "#bd3786"
             ],
             [
              0.5555555555555556,
              "#d8576b"
             ],
             [
              0.6666666666666666,
              "#ed7953"
             ],
             [
              0.7777777777777778,
              "#fb9f3a"
             ],
             [
              0.8888888888888888,
              "#fdca26"
             ],
             [
              1,
              "#f0f921"
             ]
            ],
            "type": "heatmap"
           }
          ],
          "heatmapgl": [
           {
            "colorbar": {
             "outlinewidth": 0,
             "ticks": ""
            },
            "colorscale": [
             [
              0,
              "#0d0887"
             ],
             [
              0.1111111111111111,
              "#46039f"
             ],
             [
              0.2222222222222222,
              "#7201a8"
             ],
             [
              0.3333333333333333,
              "#9c179e"
             ],
             [
              0.4444444444444444,
              "#bd3786"
             ],
             [
              0.5555555555555556,
              "#d8576b"
             ],
             [
              0.6666666666666666,
              "#ed7953"
             ],
             [
              0.7777777777777778,
              "#fb9f3a"
             ],
             [
              0.8888888888888888,
              "#fdca26"
             ],
             [
              1,
              "#f0f921"
             ]
            ],
            "type": "heatmapgl"
           }
          ],
          "histogram": [
           {
            "marker": {
             "pattern": {
              "fillmode": "overlay",
              "size": 10,
              "solidity": 0.2
             }
            },
            "type": "histogram"
           }
          ],
          "histogram2d": [
           {
            "colorbar": {
             "outlinewidth": 0,
             "ticks": ""
            },
            "colorscale": [
             [
              0,
              "#0d0887"
             ],
             [
              0.1111111111111111,
              "#46039f"
             ],
             [
              0.2222222222222222,
              "#7201a8"
             ],
             [
              0.3333333333333333,
              "#9c179e"
             ],
             [
              0.4444444444444444,
              "#bd3786"
             ],
             [
              0.5555555555555556,
              "#d8576b"
             ],
             [
              0.6666666666666666,
              "#ed7953"
             ],
             [
              0.7777777777777778,
              "#fb9f3a"
             ],
             [
              0.8888888888888888,
              "#fdca26"
             ],
             [
              1,
              "#f0f921"
             ]
            ],
            "type": "histogram2d"
           }
          ],
          "histogram2dcontour": [
           {
            "colorbar": {
             "outlinewidth": 0,
             "ticks": ""
            },
            "colorscale": [
             [
              0,
              "#0d0887"
             ],
             [
              0.1111111111111111,
              "#46039f"
             ],
             [
              0.2222222222222222,
              "#7201a8"
             ],
             [
              0.3333333333333333,
              "#9c179e"
             ],
             [
              0.4444444444444444,
              "#bd3786"
             ],
             [
              0.5555555555555556,
              "#d8576b"
             ],
             [
              0.6666666666666666,
              "#ed7953"
             ],
             [
              0.7777777777777778,
              "#fb9f3a"
             ],
             [
              0.8888888888888888,
              "#fdca26"
             ],
             [
              1,
              "#f0f921"
             ]
            ],
            "type": "histogram2dcontour"
           }
          ],
          "mesh3d": [
           {
            "colorbar": {
             "outlinewidth": 0,
             "ticks": ""
            },
            "type": "mesh3d"
           }
          ],
          "parcoords": [
           {
            "line": {
             "colorbar": {
              "outlinewidth": 0,
              "ticks": ""
             }
            },
            "type": "parcoords"
           }
          ],
          "pie": [
           {
            "automargin": true,
            "type": "pie"
           }
          ],
          "scatter": [
           {
            "fillpattern": {
             "fillmode": "overlay",
             "size": 10,
             "solidity": 0.2
            },
            "type": "scatter"
           }
          ],
          "scatter3d": [
           {
            "line": {
             "colorbar": {
              "outlinewidth": 0,
              "ticks": ""
             }
            },
            "marker": {
             "colorbar": {
              "outlinewidth": 0,
              "ticks": ""
             }
            },
            "type": "scatter3d"
           }
          ],
          "scattercarpet": [
           {
            "marker": {
             "colorbar": {
              "outlinewidth": 0,
              "ticks": ""
             }
            },
            "type": "scattercarpet"
           }
          ],
          "scattergeo": [
           {
            "marker": {
             "colorbar": {
              "outlinewidth": 0,
              "ticks": ""
             }
            },
            "type": "scattergeo"
           }
          ],
          "scattergl": [
           {
            "marker": {
             "colorbar": {
              "outlinewidth": 0,
              "ticks": ""
             }
            },
            "type": "scattergl"
           }
          ],
          "scattermapbox": [
           {
            "marker": {
             "colorbar": {
              "outlinewidth": 0,
              "ticks": ""
             }
            },
            "type": "scattermapbox"
           }
          ],
          "scatterpolar": [
           {
            "marker": {
             "colorbar": {
              "outlinewidth": 0,
              "ticks": ""
             }
            },
            "type": "scatterpolar"
           }
          ],
          "scatterpolargl": [
           {
            "marker": {
             "colorbar": {
              "outlinewidth": 0,
              "ticks": ""
             }
            },
            "type": "scatterpolargl"
           }
          ],
          "scatterternary": [
           {
            "marker": {
             "colorbar": {
              "outlinewidth": 0,
              "ticks": ""
             }
            },
            "type": "scatterternary"
           }
          ],
          "surface": [
           {
            "colorbar": {
             "outlinewidth": 0,
             "ticks": ""
            },
            "colorscale": [
             [
              0,
              "#0d0887"
             ],
             [
              0.1111111111111111,
              "#46039f"
             ],
             [
              0.2222222222222222,
              "#7201a8"
             ],
             [
              0.3333333333333333,
              "#9c179e"
             ],
             [
              0.4444444444444444,
              "#bd3786"
             ],
             [
              0.5555555555555556,
              "#d8576b"
             ],
             [
              0.6666666666666666,
              "#ed7953"
             ],
             [
              0.7777777777777778,
              "#fb9f3a"
             ],
             [
              0.8888888888888888,
              "#fdca26"
             ],
             [
              1,
              "#f0f921"
             ]
            ],
            "type": "surface"
           }
          ],
          "table": [
           {
            "cells": {
             "fill": {
              "color": "#EBF0F8"
             },
             "line": {
              "color": "white"
             }
            },
            "header": {
             "fill": {
              "color": "#C8D4E3"
             },
             "line": {
              "color": "white"
             }
            },
            "type": "table"
           }
          ]
         },
         "layout": {
          "annotationdefaults": {
           "arrowcolor": "#2a3f5f",
           "arrowhead": 0,
           "arrowwidth": 1
          },
          "autotypenumbers": "strict",
          "coloraxis": {
           "colorbar": {
            "outlinewidth": 0,
            "ticks": ""
           }
          },
          "colorscale": {
           "diverging": [
            [
             0,
             "#8e0152"
            ],
            [
             0.1,
             "#c51b7d"
            ],
            [
             0.2,
             "#de77ae"
            ],
            [
             0.3,
             "#f1b6da"
            ],
            [
             0.4,
             "#fde0ef"
            ],
            [
             0.5,
             "#f7f7f7"
            ],
            [
             0.6,
             "#e6f5d0"
            ],
            [
             0.7,
             "#b8e186"
            ],
            [
             0.8,
             "#7fbc41"
            ],
            [
             0.9,
             "#4d9221"
            ],
            [
             1,
             "#276419"
            ]
           ],
           "sequential": [
            [
             0,
             "#0d0887"
            ],
            [
             0.1111111111111111,
             "#46039f"
            ],
            [
             0.2222222222222222,
             "#7201a8"
            ],
            [
             0.3333333333333333,
             "#9c179e"
            ],
            [
             0.4444444444444444,
             "#bd3786"
            ],
            [
             0.5555555555555556,
             "#d8576b"
            ],
            [
             0.6666666666666666,
             "#ed7953"
            ],
            [
             0.7777777777777778,
             "#fb9f3a"
            ],
            [
             0.8888888888888888,
             "#fdca26"
            ],
            [
             1,
             "#f0f921"
            ]
           ],
           "sequentialminus": [
            [
             0,
             "#0d0887"
            ],
            [
             0.1111111111111111,
             "#46039f"
            ],
            [
             0.2222222222222222,
             "#7201a8"
            ],
            [
             0.3333333333333333,
             "#9c179e"
            ],
            [
             0.4444444444444444,
             "#bd3786"
            ],
            [
             0.5555555555555556,
             "#d8576b"
            ],
            [
             0.6666666666666666,
             "#ed7953"
            ],
            [
             0.7777777777777778,
             "#fb9f3a"
            ],
            [
             0.8888888888888888,
             "#fdca26"
            ],
            [
             1,
             "#f0f921"
            ]
           ]
          },
          "colorway": [
           "#636efa",
           "#EF553B",
           "#00cc96",
           "#ab63fa",
           "#FFA15A",
           "#19d3f3",
           "#FF6692",
           "#B6E880",
           "#FF97FF",
           "#FECB52"
          ],
          "font": {
           "color": "#2a3f5f"
          },
          "geo": {
           "bgcolor": "white",
           "lakecolor": "white",
           "landcolor": "#E5ECF6",
           "showlakes": true,
           "showland": true,
           "subunitcolor": "white"
          },
          "hoverlabel": {
           "align": "left"
          },
          "hovermode": "closest",
          "mapbox": {
           "style": "light"
          },
          "paper_bgcolor": "white",
          "plot_bgcolor": "#E5ECF6",
          "polar": {
           "angularaxis": {
            "gridcolor": "white",
            "linecolor": "white",
            "ticks": ""
           },
           "bgcolor": "#E5ECF6",
           "radialaxis": {
            "gridcolor": "white",
            "linecolor": "white",
            "ticks": ""
           }
          },
          "scene": {
           "xaxis": {
            "backgroundcolor": "#E5ECF6",
            "gridcolor": "white",
            "gridwidth": 2,
            "linecolor": "white",
            "showbackground": true,
            "ticks": "",
            "zerolinecolor": "white"
           },
           "yaxis": {
            "backgroundcolor": "#E5ECF6",
            "gridcolor": "white",
            "gridwidth": 2,
            "linecolor": "white",
            "showbackground": true,
            "ticks": "",
            "zerolinecolor": "white"
           },
           "zaxis": {
            "backgroundcolor": "#E5ECF6",
            "gridcolor": "white",
            "gridwidth": 2,
            "linecolor": "white",
            "showbackground": true,
            "ticks": "",
            "zerolinecolor": "white"
           }
          },
          "shapedefaults": {
           "line": {
            "color": "#2a3f5f"
           }
          },
          "ternary": {
           "aaxis": {
            "gridcolor": "white",
            "linecolor": "white",
            "ticks": ""
           },
           "baxis": {
            "gridcolor": "white",
            "linecolor": "white",
            "ticks": ""
           },
           "bgcolor": "#E5ECF6",
           "caxis": {
            "gridcolor": "white",
            "linecolor": "white",
            "ticks": ""
           }
          },
          "title": {
           "x": 0.05
          },
          "xaxis": {
           "automargin": true,
           "gridcolor": "white",
           "linecolor": "white",
           "ticks": "",
           "title": {
            "standoff": 15
           },
           "zerolinecolor": "white",
           "zerolinewidth": 2
          },
          "yaxis": {
           "automargin": true,
           "gridcolor": "white",
           "linecolor": "white",
           "ticks": "",
           "title": {
            "standoff": 15
           },
           "zerolinecolor": "white",
           "zerolinewidth": 2
          }
         }
        },
        "title": {
         "text": "BTC Software Programs"
        }
       }
      }
     },
     "metadata": {},
     "output_type": "display_data"
    },
    {
     "data": {
      "text/plain": [
       "<Figure size 1200x1600 with 0 Axes>"
      ]
     },
     "metadata": {},
     "output_type": "display_data"
    }
   ],
   "source": [
    "\n",
    "\n",
    "import matplotlib.pyplot as plt\n",
    "import plotly.graph_objects as go\n",
    "import plotly.graph_objects as go\n",
    "import plotly.express as px\n",
    "plt.figure(figsize=(12, 16))\n",
    "# Define the nodes and links\n",
    "nodes = {\n",
    "    \"pad\": 15,\n",
    "    \"thickness\": 20,\n",
    "    \"line\": dict(color=\"black\", width=0.5),\n",
    "    \"label\": [\n",
    "        \"Data Analysis\",\n",
    "        \"Inventory\",\n",
    "        \"Project Management\",\n",
    "        'Web Forms for Tasks',\n",
    "        'Data Migration/cataloging',\n",
    "        'Confluence',\n",
    "        'Screening System',\n",
    "        'Weight & Dimensions',\n",
    "        'Primary',\n",
    "        'Secondary',\n",
    "        'GFE Data Migration',\n",
    "        'JIRA',\n",
    "        'Consolidated Reports',\n",
    "        'HTML Handbook',\n",
    "        'Presentations',\n",
    "        'Periodic Reports',\n",
    "        'Screening Report',\n",
    "        'Customer',\n",
    "        'Cap Planning',\n",
    "        'GFM',\n",
    "        'BTC',  # 20\n",
    "        'Special Projects',\n",
    "        'dQ/dV',\n",
    "        'Analyzing Calibration Data',\n",
    "        'Cell Selection',\n",
    "    ],\n",
    "    \"color\": [\n",
    "        'rgba(24,  118, 210 , 0.80)',  # da\n",
    "        'rgba(210,25,210, 0.5)',  # inv\n",
    "        'rgba(80, 80, 80, 0.1)',  # Project M\n",
    "        'rgba(80, 80, 80, 0.1)',  # Web task Forms\n",
    "        'rgba(80, 80, 80, 0.1)',  # DM\n",
    "        'rgba(80, 80, 80, 0.1)',  # Confluence\n",
    "        'rgba(25, 210, 25, 0.4)',  # Screening\n",
    "        'rgba(210, 117, 25, 0.4)',  # WD\n",
    "        'rgba(80, 80, 80, 0.1)',  # PMDA\n",
    "        'rgba(80, 80, 80, 0.1)',  # SDDA\n",
    "        'rgba(80, 80, 80, 0.1)',  # GFE DAM\n",
    "        'rgba(80, 80, 80, 0.1)',  # JIRA\n",
    "        'rgba(80, 80, 80, 0.1)',  # consolidated reports\n",
    "        'rgba(80, 80, 80, 0.1)',  # HTML\n",
    "        'rgba(80, 80, 80, 0.1)',  # presentation\n",
    "        'rgba(80, 80, 80, 0.1)',  # Periodic\n",
    "        'rgba(80, 80, 80, 0.1)',  # screening report\n",
    "        'rgba(80, 80, 80, 0.1)',  # customer\n",
    "        'rgba(80, 80, 80, 0.1)',  # CAP Plan\n",
    "        'rgba(80, 80, 80, 0.1)',  # GFM\n",
    "        'rgba(80, 80, 80, 0.1)',  # BTC\n",
    "        'rgba(80, 80, 80, 0.1)',  # Special Projects\n",
    "        'rgba(80, 80, 80, 0.1)',  # dQ/dV\n",
    "        'rgba(80, 80, 80, 0.1)',  # Analyzing calibration data\n",
    "        'rgba(80, 80, 80, 0.1)',  # Cell Selection\n",
    "    ]\n",
    "\n",
    "}\n",
    "links = {  # DA      Dap/das to deliverables  # D to PSC        #    Inventory     # Project Management     dm    screening                                                                       # Web task forms\n",
    "    'source': [0, 0,  8,  8,  8, 9,   9,  9,   12, 13, 14,       1, 10, 15, 10, 18,     2, 2, 5, 11,         4,  6, 8, 16,      7, 7,  1,  19, 19,    8, 9, 0,  21, 21, 21, 22, 23, 24,      0,    2, 3],\n",
    "    'target': [8, 9,  12, 13, 14, 12, 13, 14,   17, 17, 17,      10, 15, 17, 18, 17,    11, 5, 17, 17,       17, 8, 16, 17,      8, 9,  19,  15, 18,  4, 4, 4,  22, 23, 24, 20, 20, 20,      22,   3, 17],\n",
    "    'value':  [3.2, 0.4, 3.2,  0.4,  0.4, 0.4,   0.4,  0.4, 3.2, 0.20,  0.4,      0.8,  0.4, 0.8, 0.4, 0.8,      0.4, 0.4,  0.4, 0.4,          0.4,  0.4,  0.8, 0.8,      0.5, 0.5,  0.4,   0.4, 0.4,     0.4, 0.4, 0.4,   0.3,  0.3,  0.3, 0.3,   0.3,  0.3,  0.3, 0.3, 0.3],\n",
    "    # 'color': []\n",
    "}\n",
    "\n",
    "links['color'] = [\n",
    "    \"rgba(24,  118, 210 , 0.80)\",  # DA to PDA\n",
    "    \"rgba(24,  118, 210 , 0.80)\",  # Da to Sencodary\n",
    "    'rgba(80, 80, 80, 0.1)',  # Primary to consolidated\n",
    "    'rgba(80, 80, 80, 0.1)',  # PDA to HTML\n",
    "    'rgba(80, 80, 80, 0.1)',  # PDA to presentation\n",
    "    'rgba(80, 80, 80, 0.1)',  # SDA to consolidated\n",
    "    'rgba(80, 80, 80, 0.1)',  # SDA to HTML\n",
    "    'rgba(80, 80, 80, 0.1)',  # SDA to Presentation\n",
    "    'rgba(80, 80, 80, 0.1)',  # Consolidated to PSC\n",
    "    'rgba(80, 80, 80, 0.1)',  # HTML to PSC\n",
    "    'rgba(80, 80, 80, 0.1)',  # Presentation to PSC\n",
    "    'rgba(210,25,210, 0.5)',  # Inventory to GFE\n",
    "    'rgba(80, 80, 80, 0.1)',  # GFE DM to Monthly\n",
    "    'rgba(80, 80, 80, 0.1)',  # Monthly to PSC\n",
    "    'rgba(80, 80, 80, 0.1)',  # GFE DM to CAP P\n",
    "    'rgba(80, 80, 80, 0.1)',  # Cap P to PSC\n",
    "    'rgba(80, 80, 80, 0.1)',  # PM to Jira\n",
    "    'rgba(80, 80, 80, 0.1)',  # PM to Jira\n",
    "    'rgba(80, 80, 80, 0.1)',  # confluence to PSC\n",
    "    'rgba(80, 80, 80, 0.1)',  # JIRA to PSC\n",
    "    'rgba(80, 80, 80, 0.1)',  # data migration to PSC\n",
    "    'rgba(25, 210, 25, 0.4)',  # Screening to PDA\n",
    "    'rgba(80, 80, 80, 0.1)',  # PDA to Screening report\n",
    "    'rgba(80, 80, 80, 0.1)',  # Screening report to PSC\n",
    "    'rgba(210, 117, 25, 0.4)',  # W&D to PDA\n",
    "    'rgba(210, 117, 25, 0.4)',  # W&D to SDA\n",
    "    'rgba(210,25,210, 0.5)',  # inventory to GFM\n",
    "    'rgba(80, 80, 80, 0.1)',  # GFM to Monthly\n",
    "    'rgba(80, 80, 80, 0.1)',  # GFM to CAP Planning\n",
    "    'rgba(80, 80, 80, 0.1)',  # primary to data migration\n",
    "    'rgba(80, 80, 80, 0.1)',  # secondary to data migration\n",
    "    'rgba(24,  118, 210 , 0.80)',  # DA to data migration\n",
    "    'rgba(80, 80, 80, 0.1)',  # SPP to cell selection\n",
    "    'rgba(80, 80, 80, 0.1)',  # SPP to cell Analyzing calibration Data\n",
    "    'rgba(80, 80, 80, 0.1)',  # SPP to cell Analyzing cell selection\n",
    "    'rgba(80, 80, 80, 0.1)',  # dq/dv to BTC\n",
    "    'rgba(80, 80, 80, 0.1)',  # ACB to BTC\n",
    "    'rgba(80, 80, 80, 0.1)',  # Cell select to BTC\n",
    "    'rgba(24,  118, 210 , 0.80)',  # Data analysis to dQ/dV\n",
    "    'rgba(80, 80, 80, 0.1)',  # project management to web task forms\n",
    "    'rgba(80, 80, 80, 0.1)',  # web task forms to PSC\n",
    "]\n",
    "# Define node positions (x and y coordinates)\n",
    "node_positions = {\n",
    "    \"Data Analysis\": (0.01, -0.05),\n",
    "    \"Inventory\": (0.01, 0.50),\n",
    "    \"Project Management\": (0.01, 0.70),\n",
    "    \"Data Migration/cataloging\": (0.66, 0.2),\n",
    "    \"Web Forms for Tasks\": (0.30, 0.73),\n",
    "    \"Screening System\": (0.01, 0.30),\n",
    "    \"Confluence\": (0.30, 0.55),\n",
    "    \"Weight & Dimensions\": (0.01, 0.13),\n",
    "    \"Secondary\": (0.30, 0.19),\n",
    "    \"Primary\": (0.30, -0.01),\n",
    "    \"GFE Data Migration\": (0.30, 0.35),\n",
    "    \"JIRA\": (0.30, 0.65),\n",
    "    \"Consolidated Reports\": (0.66, -0.005),\n",
    "    \"HTML Handbook\": (0.66, 0.40),\n",
    "    \"Presentations\": (0.66, 0.50),\n",
    "    \"Periodic Reports\": (0.66, 0.60),\n",
    "    \"Screening Report\": (0.66, 0.30),\n",
    "    \"Customer\": (0.0, 0.0),\n",
    "    \"Cap Planning\": (0.66, 0.70),\n",
    "    \"GFM\": (0.30, 0.45),\n",
    "    \"BTC\": (0.0, 0.0),\n",
    "    \"Special Projects\": (0.0, 0.0),\n",
    "    \"dQ/dV\": (0.30, 0.85),\n",
    "    \"Analyzing Calibration Data\": (0.30, 0.93),\n",
    "    \"Cell Selection\": (0.30, 1.0),\n",
    "}\n",
    "\n",
    "# Create a list of x and y coordinates for nodes\n",
    "node_x = [node_positions[label][0] for label in nodes[\"label\"]]\n",
    "node_y = [node_positions[label][1] for label in nodes[\"label\"]]\n",
    "\n",
    "# Update the nodes dictionary with x and y coordinates\n",
    "nodes[\"x\"] = node_x\n",
    "nodes[\"y\"] = node_y\n",
    "fig = go.Figure(go.Sankey(\n",
    "    node=nodes,\n",
    "    link=links\n",
    "))\n",
    "# MCSR\n",
    "# Update layout and display the diagram\n",
    "# Make GFE and GFM its ownn line\n",
    "# add web based task forms\n",
    "# add percentage from 0 to 9 depending on the amount of effort that we are putting into the project\n",
    "# build a story with the lines\n",
    "# Have colors\n",
    "\n",
    "fig.update_layout(title_text=\"BTC Software Programs\", font_size=20)\n",
    "fig.show()\n",
    "fig.write_image('images/fig4.png', width=1100, height=450)"
   ]
  },
  {
   "cell_type": "code",
   "execution_count": 32,
   "metadata": {},
   "outputs": [
    {
     "data": {
      "application/vnd.plotly.v1+json": {
       "config": {
        "plotlyServerURL": "https://plot.ly"
       },
       "data": [
        {
         "link": {
          "color": [
           "rgba(24,  118, 210 , 0.80)",
           "rgba(24,  118, 210 , 0.80)",
           "rgba(80, 80, 80, 0.1)",
           "rgba(80, 80, 80, 0.1)",
           "rgba(80, 80, 80, 0.1)",
           "rgba(80, 80, 80, 0.1)",
           "rgba(80, 80, 80, 0.1)",
           "rgba(80, 80, 80, 0.1)",
           "rgba(80, 80, 80, 0.1)",
           "rgba(80, 80, 80, 0.1)",
           "rgba(80, 80, 80, 0.1)",
           "rgba(210,25,210, 0.5)",
           "rgba(80, 80, 80, 0.1)",
           "rgba(80, 80, 80, 0.1)",
           "rgba(80, 80, 80, 0.1)",
           "rgba(80, 80, 80, 0.1)",
           "rgba(80, 80, 80, 0.1)",
           "rgba(25, 210, 28, 0.4)",
           "rgba(80, 80, 80, 0.1)",
           "rgba(80, 80, 80, 0.1)",
           "rgba(80, 80, 80, 0.1)",
           "rgba(25, 210, 25, 0.4)",
           "rgba(80, 80, 80, 0.1)",
           "rgba(80, 80, 80, 0.1)",
           "rgba(210, 117, 25, 0.4)",
           "rgba(210, 117, 25, 0.4)",
           "rgba(210,25,210, 0.5)",
           "rgba(80, 80, 80, 0.1)",
           "rgba(80, 80, 80, 0.1)",
           "rgba(80, 80, 80, 0.1)",
           "rgba(80, 80, 80, 0.1)",
           "rgba(24,  118, 210 , 0.80)",
           "rgba(80, 80, 80, 0.1)",
           "rgba(80, 80, 80, 0.1)",
           "rgba(80, 80, 80, 0.1)",
           "rgba(80, 80, 80, 0.1)",
           "rgba(80, 80, 80, 0.1)",
           "rgba(80, 80, 80, 0.1)",
           "rgba(24,  118, 210 , 0.80)",
           "rgba(80, 80, 80, 0.1)",
           "rgba(80, 80, 80, 0.1)"
          ],
          "source": [
           0,
           0,
           8,
           8,
           8,
           9,
           9,
           9,
           12,
           13,
           14,
           1,
           10,
           15,
           10,
           18,
           2,
           2,
           5,
           11,
           4,
           6,
           8,
           16,
           7,
           7,
           1,
           19,
           19,
           8,
           9,
           0,
           21,
           21,
           21,
           22,
           23,
           24,
           0,
           2,
           3
          ],
          "target": [
           8,
           9,
           12,
           13,
           14,
           12,
           13,
           14,
           17,
           17,
           17,
           10,
           15,
           17,
           18,
           17,
           11,
           5,
           17,
           17,
           17,
           8,
           16,
           17,
           8,
           9,
           19,
           15,
           18,
           4,
           4,
           4,
           22,
           23,
           24,
           20,
           20,
           20,
           22,
           3,
           17
          ],
          "value": [
           3.2,
           0.4,
           3.2,
           0.4,
           0.4,
           0.4,
           0.4,
           0.4,
           3.2,
           0.2,
           0.4,
           0.8,
           0.4,
           0.8,
           0.4,
           0.8,
           0.4,
           0.4,
           0.4,
           0.4,
           0.4,
           0.4,
           0.8,
           0.8,
           0.5,
           0.5,
           0.4,
           0.4,
           0.4,
           0.4,
           0.4,
           0.4,
           0.3,
           0.3,
           0.3,
           0.3,
           0.3,
           0.3,
           0.3,
           0.3,
           0.3
          ]
         },
         "node": {
          "color": [
           "rgba(24,  118, 210 , 0.80)",
           "rgba(210,25,210, 0.5)",
           "rgba(25, 210, 28, 0.4)",
           "rgba(80, 80, 80, 0.1)",
           "rgba(80, 80, 80, 0.1)",
           "rgba(80, 80, 80, 0.1)",
           "rgba(25, 210, 25, 0.4)",
           "rgba(210, 117, 25, 0.4)",
           "rgba(80, 80, 80, 0.1)",
           "rgba(80, 80, 80, 0.1)",
           "rgba(80, 80, 80, 0.1)",
           "rgba(80, 80, 80, 0.1)",
           "rgba(80, 80, 80, 0.1)",
           "rgba(80, 80, 80, 0.1)",
           "rgba(80, 80, 80, 0.1)",
           "rgba(80, 80, 80, 0.1)",
           "rgba(80, 80, 80, 0.1)",
           "rgba(80, 80, 80, 0.1)",
           "rgba(80, 80, 80, 0.1)",
           "rgba(80, 80, 80, 0.1)",
           "rgba(80, 80, 80, 0.1)",
           "rgba(80, 80, 80, 0.1)",
           "rgba(80, 80, 80, 0.1)",
           "rgba(80, 80, 80, 0.1)",
           "rgba(80, 80, 80, 0.1)"
          ],
          "label": [
           "Data Analysis",
           "Inventory",
           "Project Management",
           "Web Forms for Tasks",
           "Data Migration/cataloging",
           "Confluence",
           "Screening System",
           "Weight & Dimensions",
           "Primary",
           "Secondary",
           "GFE Data Migration",
           "JIRA",
           "Consolidated Reports",
           "HTML Handbook",
           "Presentations",
           "Periodic Reports",
           "Screening Report",
           "Customer",
           "Cap Planning",
           "GFM",
           "BTC",
           "Special Projects",
           "dQ/dV",
           "Analyzing Calibration Data",
           "Cell Selection"
          ],
          "line": {
           "color": "black",
           "width": 0.5
          },
          "pad": 15,
          "thickness": 20,
          "x": [
           0.01,
           0.01,
           0.01,
           0.3,
           0.66,
           0.3,
           0.01,
           0.01,
           0.3,
           0.3,
           0.3,
           0.3,
           0.66,
           0.66,
           0.66,
           0.66,
           0.66,
           0,
           0.66,
           0.3,
           0,
           0,
           0.3,
           0.3,
           0.3
          ],
          "y": [
           -0.05,
           0.5,
           0.7,
           0.73,
           0.2,
           0.55,
           0.3,
           0.13,
           -0.01,
           0.19,
           0.35,
           0.65,
           -0.005,
           0.4,
           0.5,
           0.6,
           0.3,
           0,
           0.7,
           0.45,
           0,
           0,
           0.85,
           0.93,
           1
          ]
         },
         "type": "sankey"
        }
       ],
       "layout": {
        "font": {
         "size": 20
        },
        "template": {
         "data": {
          "bar": [
           {
            "error_x": {
             "color": "#2a3f5f"
            },
            "error_y": {
             "color": "#2a3f5f"
            },
            "marker": {
             "line": {
              "color": "#E5ECF6",
              "width": 0.5
             },
             "pattern": {
              "fillmode": "overlay",
              "size": 10,
              "solidity": 0.2
             }
            },
            "type": "bar"
           }
          ],
          "barpolar": [
           {
            "marker": {
             "line": {
              "color": "#E5ECF6",
              "width": 0.5
             },
             "pattern": {
              "fillmode": "overlay",
              "size": 10,
              "solidity": 0.2
             }
            },
            "type": "barpolar"
           }
          ],
          "carpet": [
           {
            "aaxis": {
             "endlinecolor": "#2a3f5f",
             "gridcolor": "white",
             "linecolor": "white",
             "minorgridcolor": "white",
             "startlinecolor": "#2a3f5f"
            },
            "baxis": {
             "endlinecolor": "#2a3f5f",
             "gridcolor": "white",
             "linecolor": "white",
             "minorgridcolor": "white",
             "startlinecolor": "#2a3f5f"
            },
            "type": "carpet"
           }
          ],
          "choropleth": [
           {
            "colorbar": {
             "outlinewidth": 0,
             "ticks": ""
            },
            "type": "choropleth"
           }
          ],
          "contour": [
           {
            "colorbar": {
             "outlinewidth": 0,
             "ticks": ""
            },
            "colorscale": [
             [
              0,
              "#0d0887"
             ],
             [
              0.1111111111111111,
              "#46039f"
             ],
             [
              0.2222222222222222,
              "#7201a8"
             ],
             [
              0.3333333333333333,
              "#9c179e"
             ],
             [
              0.4444444444444444,
              "#bd3786"
             ],
             [
              0.5555555555555556,
              "#d8576b"
             ],
             [
              0.6666666666666666,
              "#ed7953"
             ],
             [
              0.7777777777777778,
              "#fb9f3a"
             ],
             [
              0.8888888888888888,
              "#fdca26"
             ],
             [
              1,
              "#f0f921"
             ]
            ],
            "type": "contour"
           }
          ],
          "contourcarpet": [
           {
            "colorbar": {
             "outlinewidth": 0,
             "ticks": ""
            },
            "type": "contourcarpet"
           }
          ],
          "heatmap": [
           {
            "colorbar": {
             "outlinewidth": 0,
             "ticks": ""
            },
            "colorscale": [
             [
              0,
              "#0d0887"
             ],
             [
              0.1111111111111111,
              "#46039f"
             ],
             [
              0.2222222222222222,
              "#7201a8"
             ],
             [
              0.3333333333333333,
              "#9c179e"
             ],
             [
              0.4444444444444444,
              "#bd3786"
             ],
             [
              0.5555555555555556,
              "#d8576b"
             ],
             [
              0.6666666666666666,
              "#ed7953"
             ],
             [
              0.7777777777777778,
              "#fb9f3a"
             ],
             [
              0.8888888888888888,
              "#fdca26"
             ],
             [
              1,
              "#f0f921"
             ]
            ],
            "type": "heatmap"
           }
          ],
          "heatmapgl": [
           {
            "colorbar": {
             "outlinewidth": 0,
             "ticks": ""
            },
            "colorscale": [
             [
              0,
              "#0d0887"
             ],
             [
              0.1111111111111111,
              "#46039f"
             ],
             [
              0.2222222222222222,
              "#7201a8"
             ],
             [
              0.3333333333333333,
              "#9c179e"
             ],
             [
              0.4444444444444444,
              "#bd3786"
             ],
             [
              0.5555555555555556,
              "#d8576b"
             ],
             [
              0.6666666666666666,
              "#ed7953"
             ],
             [
              0.7777777777777778,
              "#fb9f3a"
             ],
             [
              0.8888888888888888,
              "#fdca26"
             ],
             [
              1,
              "#f0f921"
             ]
            ],
            "type": "heatmapgl"
           }
          ],
          "histogram": [
           {
            "marker": {
             "pattern": {
              "fillmode": "overlay",
              "size": 10,
              "solidity": 0.2
             }
            },
            "type": "histogram"
           }
          ],
          "histogram2d": [
           {
            "colorbar": {
             "outlinewidth": 0,
             "ticks": ""
            },
            "colorscale": [
             [
              0,
              "#0d0887"
             ],
             [
              0.1111111111111111,
              "#46039f"
             ],
             [
              0.2222222222222222,
              "#7201a8"
             ],
             [
              0.3333333333333333,
              "#9c179e"
             ],
             [
              0.4444444444444444,
              "#bd3786"
             ],
             [
              0.5555555555555556,
              "#d8576b"
             ],
             [
              0.6666666666666666,
              "#ed7953"
             ],
             [
              0.7777777777777778,
              "#fb9f3a"
             ],
             [
              0.8888888888888888,
              "#fdca26"
             ],
             [
              1,
              "#f0f921"
             ]
            ],
            "type": "histogram2d"
           }
          ],
          "histogram2dcontour": [
           {
            "colorbar": {
             "outlinewidth": 0,
             "ticks": ""
            },
            "colorscale": [
             [
              0,
              "#0d0887"
             ],
             [
              0.1111111111111111,
              "#46039f"
             ],
             [
              0.2222222222222222,
              "#7201a8"
             ],
             [
              0.3333333333333333,
              "#9c179e"
             ],
             [
              0.4444444444444444,
              "#bd3786"
             ],
             [
              0.5555555555555556,
              "#d8576b"
             ],
             [
              0.6666666666666666,
              "#ed7953"
             ],
             [
              0.7777777777777778,
              "#fb9f3a"
             ],
             [
              0.8888888888888888,
              "#fdca26"
             ],
             [
              1,
              "#f0f921"
             ]
            ],
            "type": "histogram2dcontour"
           }
          ],
          "mesh3d": [
           {
            "colorbar": {
             "outlinewidth": 0,
             "ticks": ""
            },
            "type": "mesh3d"
           }
          ],
          "parcoords": [
           {
            "line": {
             "colorbar": {
              "outlinewidth": 0,
              "ticks": ""
             }
            },
            "type": "parcoords"
           }
          ],
          "pie": [
           {
            "automargin": true,
            "type": "pie"
           }
          ],
          "scatter": [
           {
            "fillpattern": {
             "fillmode": "overlay",
             "size": 10,
             "solidity": 0.2
            },
            "type": "scatter"
           }
          ],
          "scatter3d": [
           {
            "line": {
             "colorbar": {
              "outlinewidth": 0,
              "ticks": ""
             }
            },
            "marker": {
             "colorbar": {
              "outlinewidth": 0,
              "ticks": ""
             }
            },
            "type": "scatter3d"
           }
          ],
          "scattercarpet": [
           {
            "marker": {
             "colorbar": {
              "outlinewidth": 0,
              "ticks": ""
             }
            },
            "type": "scattercarpet"
           }
          ],
          "scattergeo": [
           {
            "marker": {
             "colorbar": {
              "outlinewidth": 0,
              "ticks": ""
             }
            },
            "type": "scattergeo"
           }
          ],
          "scattergl": [
           {
            "marker": {
             "colorbar": {
              "outlinewidth": 0,
              "ticks": ""
             }
            },
            "type": "scattergl"
           }
          ],
          "scattermapbox": [
           {
            "marker": {
             "colorbar": {
              "outlinewidth": 0,
              "ticks": ""
             }
            },
            "type": "scattermapbox"
           }
          ],
          "scatterpolar": [
           {
            "marker": {
             "colorbar": {
              "outlinewidth": 0,
              "ticks": ""
             }
            },
            "type": "scatterpolar"
           }
          ],
          "scatterpolargl": [
           {
            "marker": {
             "colorbar": {
              "outlinewidth": 0,
              "ticks": ""
             }
            },
            "type": "scatterpolargl"
           }
          ],
          "scatterternary": [
           {
            "marker": {
             "colorbar": {
              "outlinewidth": 0,
              "ticks": ""
             }
            },
            "type": "scatterternary"
           }
          ],
          "surface": [
           {
            "colorbar": {
             "outlinewidth": 0,
             "ticks": ""
            },
            "colorscale": [
             [
              0,
              "#0d0887"
             ],
             [
              0.1111111111111111,
              "#46039f"
             ],
             [
              0.2222222222222222,
              "#7201a8"
             ],
             [
              0.3333333333333333,
              "#9c179e"
             ],
             [
              0.4444444444444444,
              "#bd3786"
             ],
             [
              0.5555555555555556,
              "#d8576b"
             ],
             [
              0.6666666666666666,
              "#ed7953"
             ],
             [
              0.7777777777777778,
              "#fb9f3a"
             ],
             [
              0.8888888888888888,
              "#fdca26"
             ],
             [
              1,
              "#f0f921"
             ]
            ],
            "type": "surface"
           }
          ],
          "table": [
           {
            "cells": {
             "fill": {
              "color": "#EBF0F8"
             },
             "line": {
              "color": "white"
             }
            },
            "header": {
             "fill": {
              "color": "#C8D4E3"
             },
             "line": {
              "color": "white"
             }
            },
            "type": "table"
           }
          ]
         },
         "layout": {
          "annotationdefaults": {
           "arrowcolor": "#2a3f5f",
           "arrowhead": 0,
           "arrowwidth": 1
          },
          "autotypenumbers": "strict",
          "coloraxis": {
           "colorbar": {
            "outlinewidth": 0,
            "ticks": ""
           }
          },
          "colorscale": {
           "diverging": [
            [
             0,
             "#8e0152"
            ],
            [
             0.1,
             "#c51b7d"
            ],
            [
             0.2,
             "#de77ae"
            ],
            [
             0.3,
             "#f1b6da"
            ],
            [
             0.4,
             "#fde0ef"
            ],
            [
             0.5,
             "#f7f7f7"
            ],
            [
             0.6,
             "#e6f5d0"
            ],
            [
             0.7,
             "#b8e186"
            ],
            [
             0.8,
             "#7fbc41"
            ],
            [
             0.9,
             "#4d9221"
            ],
            [
             1,
             "#276419"
            ]
           ],
           "sequential": [
            [
             0,
             "#0d0887"
            ],
            [
             0.1111111111111111,
             "#46039f"
            ],
            [
             0.2222222222222222,
             "#7201a8"
            ],
            [
             0.3333333333333333,
             "#9c179e"
            ],
            [
             0.4444444444444444,
             "#bd3786"
            ],
            [
             0.5555555555555556,
             "#d8576b"
            ],
            [
             0.6666666666666666,
             "#ed7953"
            ],
            [
             0.7777777777777778,
             "#fb9f3a"
            ],
            [
             0.8888888888888888,
             "#fdca26"
            ],
            [
             1,
             "#f0f921"
            ]
           ],
           "sequentialminus": [
            [
             0,
             "#0d0887"
            ],
            [
             0.1111111111111111,
             "#46039f"
            ],
            [
             0.2222222222222222,
             "#7201a8"
            ],
            [
             0.3333333333333333,
             "#9c179e"
            ],
            [
             0.4444444444444444,
             "#bd3786"
            ],
            [
             0.5555555555555556,
             "#d8576b"
            ],
            [
             0.6666666666666666,
             "#ed7953"
            ],
            [
             0.7777777777777778,
             "#fb9f3a"
            ],
            [
             0.8888888888888888,
             "#fdca26"
            ],
            [
             1,
             "#f0f921"
            ]
           ]
          },
          "colorway": [
           "#636efa",
           "#EF553B",
           "#00cc96",
           "#ab63fa",
           "#FFA15A",
           "#19d3f3",
           "#FF6692",
           "#B6E880",
           "#FF97FF",
           "#FECB52"
          ],
          "font": {
           "color": "#2a3f5f"
          },
          "geo": {
           "bgcolor": "white",
           "lakecolor": "white",
           "landcolor": "#E5ECF6",
           "showlakes": true,
           "showland": true,
           "subunitcolor": "white"
          },
          "hoverlabel": {
           "align": "left"
          },
          "hovermode": "closest",
          "mapbox": {
           "style": "light"
          },
          "paper_bgcolor": "white",
          "plot_bgcolor": "#E5ECF6",
          "polar": {
           "angularaxis": {
            "gridcolor": "white",
            "linecolor": "white",
            "ticks": ""
           },
           "bgcolor": "#E5ECF6",
           "radialaxis": {
            "gridcolor": "white",
            "linecolor": "white",
            "ticks": ""
           }
          },
          "scene": {
           "xaxis": {
            "backgroundcolor": "#E5ECF6",
            "gridcolor": "white",
            "gridwidth": 2,
            "linecolor": "white",
            "showbackground": true,
            "ticks": "",
            "zerolinecolor": "white"
           },
           "yaxis": {
            "backgroundcolor": "#E5ECF6",
            "gridcolor": "white",
            "gridwidth": 2,
            "linecolor": "white",
            "showbackground": true,
            "ticks": "",
            "zerolinecolor": "white"
           },
           "zaxis": {
            "backgroundcolor": "#E5ECF6",
            "gridcolor": "white",
            "gridwidth": 2,
            "linecolor": "white",
            "showbackground": true,
            "ticks": "",
            "zerolinecolor": "white"
           }
          },
          "shapedefaults": {
           "line": {
            "color": "#2a3f5f"
           }
          },
          "ternary": {
           "aaxis": {
            "gridcolor": "white",
            "linecolor": "white",
            "ticks": ""
           },
           "baxis": {
            "gridcolor": "white",
            "linecolor": "white",
            "ticks": ""
           },
           "bgcolor": "#E5ECF6",
           "caxis": {
            "gridcolor": "white",
            "linecolor": "white",
            "ticks": ""
           }
          },
          "title": {
           "x": 0.05
          },
          "xaxis": {
           "automargin": true,
           "gridcolor": "white",
           "linecolor": "white",
           "ticks": "",
           "title": {
            "standoff": 15
           },
           "zerolinecolor": "white",
           "zerolinewidth": 2
          },
          "yaxis": {
           "automargin": true,
           "gridcolor": "white",
           "linecolor": "white",
           "ticks": "",
           "title": {
            "standoff": 15
           },
           "zerolinecolor": "white",
           "zerolinewidth": 2
          }
         }
        },
        "title": {
         "text": "BTC Software Programs"
        }
       }
      }
     },
     "metadata": {},
     "output_type": "display_data"
    },
    {
     "data": {
      "text/plain": [
       "<Figure size 1200x1600 with 0 Axes>"
      ]
     },
     "metadata": {},
     "output_type": "display_data"
    }
   ],
   "source": [
    "\n",
    "\n",
    "import matplotlib.pyplot as plt\n",
    "import plotly.graph_objects as go\n",
    "import plotly.graph_objects as go\n",
    "import plotly.express as px\n",
    "plt.figure(figsize=(12, 16))\n",
    "# Define the nodes and links\n",
    "nodes = {\n",
    "    \"pad\": 15,\n",
    "    \"thickness\": 20,\n",
    "    \"line\": dict(color=\"black\", width=0.5),\n",
    "    \"label\": [\n",
    "        \"Data Analysis\",\n",
    "        \"Inventory\",\n",
    "        \"Project Management\",\n",
    "        'Web Forms for Tasks',\n",
    "        'Data Migration/cataloging',\n",
    "        'Confluence',\n",
    "        'Screening System',\n",
    "        'Weight & Dimensions',\n",
    "        'Primary',\n",
    "        'Secondary',\n",
    "        'GFE Data Migration',\n",
    "        'JIRA',\n",
    "        'Consolidated Reports',\n",
    "        'HTML Handbook',\n",
    "        'Presentations',\n",
    "        'Periodic Reports',\n",
    "        'Screening Report',\n",
    "        'Customer',\n",
    "        'Cap Planning',\n",
    "        'GFM',\n",
    "        'BTC',  # 20\n",
    "        'Special Projects',\n",
    "        'dQ/dV',\n",
    "        'Analyzing Calibration Data',\n",
    "        'Cell Selection',\n",
    "    ],\n",
    "    \"color\": [\n",
    "        'rgba(24,  118, 210 , 0.80)',  # da\n",
    "        'rgba(210,25,210, 0.5)',  # inv\n",
    "        'rgba(25, 210, 28, 0.4)',  # Project M\n",
    "        'rgba(80, 80, 80, 0.1)',  # Web task Forms\n",
    "        'rgba(80, 80, 80, 0.1)',  # DM\n",
    "        'rgba(80, 80, 80, 0.1)',  # Confluence\n",
    "        'rgba(25, 210, 25, 0.4)',  # Screening\n",
    "        'rgba(210, 117, 25, 0.4)',  # WD\n",
    "        'rgba(80, 80, 80, 0.1)',  # PMDA\n",
    "        'rgba(80, 80, 80, 0.1)',  # SDDA\n",
    "        'rgba(80, 80, 80, 0.1)',  # GFE DAM\n",
    "        'rgba(80, 80, 80, 0.1)',  # JIRA\n",
    "        'rgba(80, 80, 80, 0.1)',  # consolidated reports\n",
    "        'rgba(80, 80, 80, 0.1)',  # HTML\n",
    "        'rgba(80, 80, 80, 0.1)',  # presentation\n",
    "        'rgba(80, 80, 80, 0.1)',  # Periodic\n",
    "        'rgba(80, 80, 80, 0.1)',  # screening report\n",
    "        'rgba(80, 80, 80, 0.1)',  # customer\n",
    "        'rgba(80, 80, 80, 0.1)',  # CAP Plan\n",
    "        'rgba(80, 80, 80, 0.1)',  # GFM\n",
    "        'rgba(80, 80, 80, 0.1)',  # BTC\n",
    "        'rgba(80, 80, 80, 0.1)',  # Special Projects\n",
    "        'rgba(80, 80, 80, 0.1)',  # dQ/dV\n",
    "        'rgba(80, 80, 80, 0.1)',  # Analyzing calibration data\n",
    "        'rgba(80, 80, 80, 0.1)',  # Cell Selection\n",
    "    ]\n",
    "\n",
    "}\n",
    "links = {  # DA      Dap/das to deliverables  # D to PSC        #    Inventory     # Project Management     dm    screening                                                                       # Web task forms\n",
    "    'source': [0, 0,  8,  8,  8, 9,   9,  9,   12, 13, 14,       1, 10, 15, 10, 18,     2, 2, 5, 11,         4,  6, 8, 16,      7, 7,  1,  19, 19,    8, 9, 0,  21, 21, 21, 22, 23, 24,      0,    2, 3],\n",
    "    'target': [8, 9,  12, 13, 14, 12, 13, 14,   17, 17, 17,      10, 15, 17, 18, 17,    11, 5, 17, 17,       17, 8, 16, 17,      8, 9,  19,  15, 18,  4, 4, 4,  22, 23, 24, 20, 20, 20,      22,   3, 17],\n",
    "    'value':  [3.2, 0.4, 3.2,  0.4,  0.4, 0.4,   0.4,  0.4, 3.2, 0.20,  0.4,      0.8,  0.4, 0.8, 0.4, 0.8,      0.4, 0.4,  0.4, 0.4,          0.4,  0.4,  0.8, 0.8,      0.5, 0.5,  0.4,   0.4, 0.4,     0.4, 0.4, 0.4,   0.3,  0.3,  0.3, 0.3,   0.3,  0.3,  0.3, 0.3, 0.3],\n",
    "    # 'color': []\n",
    "}\n",
    "\n",
    "links['color'] = [\n",
    "    \"rgba(24,  118, 210 , 0.80)\",  # DA to PDA\n",
    "    \"rgba(24,  118, 210 , 0.80)\",  # Da to Sencodary\n",
    "    'rgba(80, 80, 80, 0.1)',  # Primary to consolidated\n",
    "    'rgba(80, 80, 80, 0.1)',  # PDA to HTML\n",
    "    'rgba(80, 80, 80, 0.1)',  # PDA to presentation\n",
    "    'rgba(80, 80, 80, 0.1)',  # SDA to consolidated\n",
    "    'rgba(80, 80, 80, 0.1)',  # SDA to HTML\n",
    "    'rgba(80, 80, 80, 0.1)',  # SDA to Presentation\n",
    "    'rgba(80, 80, 80, 0.1)',  # Consolidated to PSC\n",
    "    'rgba(80, 80, 80, 0.1)',  # HTML to PSC\n",
    "    'rgba(80, 80, 80, 0.1)',  # Presentation to PSC\n",
    "    'rgba(210,25,210, 0.5)',  # Inventory to GFE\n",
    "    'rgba(80, 80, 80, 0.1)',  # GFE DM to Monthly\n",
    "    'rgba(80, 80, 80, 0.1)',  # Monthly to PSC\n",
    "    'rgba(80, 80, 80, 0.1)',  # GFE DM to CAP P\n",
    "    'rgba(80, 80, 80, 0.1)',  # Cap P to PSC\n",
    "    'rgba(80, 80, 80, 0.1)',  # PM to Jira\n",
    "    'rgba(25, 210, 28, 0.4)',  # PM to confluence\n",
    "    'rgba(80, 80, 80, 0.1)',  # confluence to PSC\n",
    "    'rgba(80, 80, 80, 0.1)',  # JIRA to PSC\n",
    "    'rgba(80, 80, 80, 0.1)',  # data migration to PSC\n",
    "    'rgba(25, 210, 25, 0.4)',  # Screening to PDA\n",
    "    'rgba(80, 80, 80, 0.1)',  # PDA to Screening report\n",
    "    'rgba(80, 80, 80, 0.1)',  # Screening report to PSC\n",
    "    'rgba(210, 117, 25, 0.4)',  # W&D to PDA\n",
    "    'rgba(210, 117, 25, 0.4)',  # W&D to SDA\n",
    "    'rgba(210,25,210, 0.5)',  # inventory to GFM\n",
    "    'rgba(80, 80, 80, 0.1)',  # GFM to Monthly\n",
    "    'rgba(80, 80, 80, 0.1)',  # GFM to CAP Planning\n",
    "    'rgba(80, 80, 80, 0.1)',  # primary to data migration\n",
    "    'rgba(80, 80, 80, 0.1)',  # secondary to data migration\n",
    "    'rgba(24,  118, 210 , 0.80)',  # DA to data migration\n",
    "    'rgba(80, 80, 80, 0.1)',  # SPP to cell selection\n",
    "    'rgba(80, 80, 80, 0.1)',  # SPP to cell Analyzing calibration Data\n",
    "    'rgba(80, 80, 80, 0.1)',  # SPP to cell Analyzing cell selection\n",
    "    'rgba(80, 80, 80, 0.1)',  # dq/dv to BTC\n",
    "    'rgba(80, 80, 80, 0.1)',  # ACB to BTC\n",
    "    'rgba(80, 80, 80, 0.1)',  # Cell select to BTC\n",
    "    'rgba(24,  118, 210 , 0.80)',  # Data analysis to dQ/dV\n",
    "    'rgba(80, 80, 80, 0.1)',  # project management to web task forms\n",
    "    'rgba(80, 80, 80, 0.1)',  # web task forms to PSC\n",
    "]\n",
    "# Define node positions (x and y coordinates)\n",
    "node_positions = {\n",
    "    \"Data Analysis\": (0.01, -0.05),\n",
    "    \"Inventory\": (0.01, 0.50),\n",
    "    \"Project Management\": (0.01, 0.70),\n",
    "    \"Data Migration/cataloging\": (0.66, 0.2),\n",
    "    \"Web Forms for Tasks\": (0.30, 0.73),\n",
    "    \"Screening System\": (0.01, 0.30),\n",
    "    \"Confluence\": (0.30, 0.55),\n",
    "    \"Weight & Dimensions\": (0.01, 0.13),\n",
    "    \"Secondary\": (0.30, 0.19),\n",
    "    \"Primary\": (0.30, -0.01),\n",
    "    \"GFE Data Migration\": (0.30, 0.35),\n",
    "    \"JIRA\": (0.30, 0.65),\n",
    "    \"Consolidated Reports\": (0.66, -0.005),\n",
    "    \"HTML Handbook\": (0.66, 0.40),\n",
    "    \"Presentations\": (0.66, 0.50),\n",
    "    \"Periodic Reports\": (0.66, 0.60),\n",
    "    \"Screening Report\": (0.66, 0.30),\n",
    "    \"Customer\": (0.0, 0.0),\n",
    "    \"Cap Planning\": (0.66, 0.70),\n",
    "    \"GFM\": (0.30, 0.45),\n",
    "    \"BTC\": (0.0, 0.0),\n",
    "    \"Special Projects\": (0.0, 0.0),\n",
    "    \"dQ/dV\": (0.30, 0.85),\n",
    "    \"Analyzing Calibration Data\": (0.30, 0.93),\n",
    "    \"Cell Selection\": (0.30, 1.0),\n",
    "}\n",
    "\n",
    "# Create a list of x and y coordinates for nodes\n",
    "node_x = [node_positions[label][0] for label in nodes[\"label\"]]\n",
    "node_y = [node_positions[label][1] for label in nodes[\"label\"]]\n",
    "\n",
    "# Update the nodes dictionary with x and y coordinates\n",
    "nodes[\"x\"] = node_x\n",
    "nodes[\"y\"] = node_y\n",
    "fig = go.Figure(go.Sankey(\n",
    "    node=nodes,\n",
    "    link=links\n",
    "))\n",
    "# MCSR\n",
    "# Update layout and display the diagram\n",
    "# Make GFE and GFM its ownn line\n",
    "# add web based task forms\n",
    "# add percentage from 0 to 9 depending on the amount of effort that we are putting into the project\n",
    "# build a story with the lines\n",
    "# Have colors\n",
    "\n",
    "fig.update_layout(title_text=\"BTC Software Programs\", font_size=20)\n",
    "fig.show()\n",
    "fig.write_image('images/fig5.png', width=1100, height=450)"
   ]
  },
  {
   "cell_type": "code",
   "execution_count": 33,
   "metadata": {},
   "outputs": [
    {
     "data": {
      "application/vnd.plotly.v1+json": {
       "config": {
        "plotlyServerURL": "https://plot.ly"
       },
       "data": [
        {
         "link": {
          "color": [
           "rgba(24,  118, 210 , 0.80)",
           "rgba(24,  118, 210 , 0.80)",
           "rgba(80, 80, 80, 0.1)",
           "rgba(80, 80, 80, 0.1)",
           "rgba(80, 80, 80, 0.1)",
           "rgba(80, 80, 80, 0.1)",
           "rgba(80, 80, 80, 0.1)",
           "rgba(80, 80, 80, 0.1)",
           "rgba(80, 80, 80, 0.1)",
           "rgba(80, 80, 80, 0.1)",
           "rgba(80, 80, 80, 0.1)",
           "rgba(210,25,210, 0.5)",
           "rgba(80, 80, 80, 0.1)",
           "rgba(80, 80, 80, 0.1)",
           "rgba(80, 80, 80, 0.1)",
           "rgba(80, 80, 80, 0.1)",
           "rgba(80, 80, 80, 0.1)",
           "rgba(25, 210, 28, 0.4)",
           "rgba(80, 80, 80, 0.1)",
           "rgba(80, 80, 80, 0.1)",
           "rgba(80, 80, 80, 0.1)",
           "rgba(25, 210, 25, 0.4)",
           "rgba(80, 80, 80, 0.1)",
           "rgba(80, 80, 80, 0.1)",
           "rgba(210, 117, 25, 0.4)",
           "rgba(210, 117, 25, 0.4)",
           "rgba(210,25,210, 0.5)",
           "rgba(80, 80, 80, 0.1)",
           "rgba(80, 80, 80, 0.1)",
           "rgba(80, 80, 80, 0.1)",
           "rgba(80, 80, 80, 0.1)",
           "rgba(24,  118, 210 , 0.80)",
           "rgba(220, 66, 48, 0.4)",
           "rgba(220, 66, 48, 0.4)",
           "rgba(220, 66, 48, 0.4)",
           "rgba(80, 80, 80, 0.1)",
           "rgba(80, 80, 80, 0.1)",
           "rgba(80, 80, 80, 0.1)",
           "rgba(24,  118, 210 , 0.80)",
           "rgba(80, 80, 80, 0.1)",
           "rgba(80, 80, 80, 0.1)"
          ],
          "source": [
           0,
           0,
           8,
           8,
           8,
           9,
           9,
           9,
           12,
           13,
           14,
           1,
           10,
           15,
           10,
           18,
           2,
           2,
           5,
           11,
           4,
           6,
           8,
           16,
           7,
           7,
           1,
           19,
           19,
           8,
           9,
           0,
           21,
           21,
           21,
           22,
           23,
           24,
           0,
           2,
           3
          ],
          "target": [
           8,
           9,
           12,
           13,
           14,
           12,
           13,
           14,
           17,
           17,
           17,
           10,
           15,
           17,
           18,
           17,
           11,
           5,
           17,
           17,
           17,
           8,
           16,
           17,
           8,
           9,
           19,
           15,
           18,
           4,
           4,
           4,
           22,
           23,
           24,
           20,
           20,
           20,
           22,
           3,
           17
          ],
          "value": [
           3.2,
           0.4,
           3.2,
           0.4,
           0.4,
           0.4,
           0.4,
           0.4,
           3.2,
           0.2,
           0.4,
           0.8,
           0.4,
           0.8,
           0.4,
           0.8,
           0.4,
           0.4,
           0.4,
           0.4,
           0.4,
           0.4,
           0.8,
           0.8,
           0.5,
           0.5,
           0.4,
           0.4,
           0.4,
           0.4,
           0.4,
           0.4,
           0.3,
           0.3,
           0.3,
           0.3,
           0.3,
           0.3,
           0.3,
           0.3,
           0.3
          ]
         },
         "node": {
          "color": [
           "rgba(24,  118, 210 , 0.80)",
           "rgba(210,25,210, 0.5)",
           "rgba(25, 210, 28, 0.4)",
           "rgba(80, 80, 80, 0.1)",
           "rgba(80, 80, 80, 0.1)",
           "rgba(80, 80, 80, 0.1)",
           "rgba(25, 210, 25, 0.4)",
           "rgba(210, 117, 25, 0.4)",
           "rgba(80, 80, 80, 0.1)",
           "rgba(80, 80, 80, 0.1)",
           "rgba(80, 80, 80, 0.1)",
           "rgba(80, 80, 80, 0.1)",
           "rgba(80, 80, 80, 0.1)",
           "rgba(80, 80, 80, 0.1)",
           "rgba(80, 80, 80, 0.1)",
           "rgba(80, 80, 80, 0.1)",
           "rgba(80, 80, 80, 0.1)",
           "rgba(80, 80, 80, 0.1)",
           "rgba(80, 80, 80, 0.1)",
           "rgba(80, 80, 80, 0.1)",
           "rgba(80, 80, 80, 0.1)",
           "rgba(220, 66, 48, 0.4)",
           "rgba(80, 80, 80, 0.1)",
           "rgba(80, 80, 80, 0.1)",
           "rgba(80, 80, 80, 0.1)"
          ],
          "label": [
           "Data Analysis",
           "Inventory",
           "Project Management",
           "Web Forms for Tasks",
           "Data Migration/cataloging",
           "Confluence",
           "Screening System",
           "Weight & Dimensions",
           "Primary",
           "Secondary",
           "GFE Data Migration",
           "JIRA",
           "Consolidated Reports",
           "HTML Handbook",
           "Presentations",
           "Periodic Reports",
           "Screening Report",
           "Customer",
           "Cap Planning",
           "GFM",
           "BTC",
           "Special Projects",
           "dQ/dV",
           "Analyzing Calibration Data",
           "Cell Selection"
          ],
          "line": {
           "color": "black",
           "width": 0.5
          },
          "pad": 15,
          "thickness": 20,
          "x": [
           0.01,
           0.01,
           0.01,
           0.3,
           0.66,
           0.3,
           0.01,
           0.01,
           0.3,
           0.3,
           0.3,
           0.3,
           0.66,
           0.66,
           0.66,
           0.66,
           0.66,
           0,
           0.66,
           0.3,
           0,
           0,
           0.3,
           0.3,
           0.3
          ],
          "y": [
           -0.05,
           0.5,
           0.7,
           0.73,
           0.2,
           0.55,
           0.3,
           0.13,
           -0.01,
           0.19,
           0.35,
           0.65,
           -0.005,
           0.4,
           0.5,
           0.6,
           0.3,
           0,
           0.7,
           0.45,
           0,
           0,
           0.85,
           0.93,
           1
          ]
         },
         "type": "sankey"
        }
       ],
       "layout": {
        "font": {
         "size": 20
        },
        "template": {
         "data": {
          "bar": [
           {
            "error_x": {
             "color": "#2a3f5f"
            },
            "error_y": {
             "color": "#2a3f5f"
            },
            "marker": {
             "line": {
              "color": "#E5ECF6",
              "width": 0.5
             },
             "pattern": {
              "fillmode": "overlay",
              "size": 10,
              "solidity": 0.2
             }
            },
            "type": "bar"
           }
          ],
          "barpolar": [
           {
            "marker": {
             "line": {
              "color": "#E5ECF6",
              "width": 0.5
             },
             "pattern": {
              "fillmode": "overlay",
              "size": 10,
              "solidity": 0.2
             }
            },
            "type": "barpolar"
           }
          ],
          "carpet": [
           {
            "aaxis": {
             "endlinecolor": "#2a3f5f",
             "gridcolor": "white",
             "linecolor": "white",
             "minorgridcolor": "white",
             "startlinecolor": "#2a3f5f"
            },
            "baxis": {
             "endlinecolor": "#2a3f5f",
             "gridcolor": "white",
             "linecolor": "white",
             "minorgridcolor": "white",
             "startlinecolor": "#2a3f5f"
            },
            "type": "carpet"
           }
          ],
          "choropleth": [
           {
            "colorbar": {
             "outlinewidth": 0,
             "ticks": ""
            },
            "type": "choropleth"
           }
          ],
          "contour": [
           {
            "colorbar": {
             "outlinewidth": 0,
             "ticks": ""
            },
            "colorscale": [
             [
              0,
              "#0d0887"
             ],
             [
              0.1111111111111111,
              "#46039f"
             ],
             [
              0.2222222222222222,
              "#7201a8"
             ],
             [
              0.3333333333333333,
              "#9c179e"
             ],
             [
              0.4444444444444444,
              "#bd3786"
             ],
             [
              0.5555555555555556,
              "#d8576b"
             ],
             [
              0.6666666666666666,
              "#ed7953"
             ],
             [
              0.7777777777777778,
              "#fb9f3a"
             ],
             [
              0.8888888888888888,
              "#fdca26"
             ],
             [
              1,
              "#f0f921"
             ]
            ],
            "type": "contour"
           }
          ],
          "contourcarpet": [
           {
            "colorbar": {
             "outlinewidth": 0,
             "ticks": ""
            },
            "type": "contourcarpet"
           }
          ],
          "heatmap": [
           {
            "colorbar": {
             "outlinewidth": 0,
             "ticks": ""
            },
            "colorscale": [
             [
              0,
              "#0d0887"
             ],
             [
              0.1111111111111111,
              "#46039f"
             ],
             [
              0.2222222222222222,
              "#7201a8"
             ],
             [
              0.3333333333333333,
              "#9c179e"
             ],
             [
              0.4444444444444444,
              "#bd3786"
             ],
             [
              0.5555555555555556,
              "#d8576b"
             ],
             [
              0.6666666666666666,
              "#ed7953"
             ],
             [
              0.7777777777777778,
              "#fb9f3a"
             ],
             [
              0.8888888888888888,
              "#fdca26"
             ],
             [
              1,
              "#f0f921"
             ]
            ],
            "type": "heatmap"
           }
          ],
          "heatmapgl": [
           {
            "colorbar": {
             "outlinewidth": 0,
             "ticks": ""
            },
            "colorscale": [
             [
              0,
              "#0d0887"
             ],
             [
              0.1111111111111111,
              "#46039f"
             ],
             [
              0.2222222222222222,
              "#7201a8"
             ],
             [
              0.3333333333333333,
              "#9c179e"
             ],
             [
              0.4444444444444444,
              "#bd3786"
             ],
             [
              0.5555555555555556,
              "#d8576b"
             ],
             [
              0.6666666666666666,
              "#ed7953"
             ],
             [
              0.7777777777777778,
              "#fb9f3a"
             ],
             [
              0.8888888888888888,
              "#fdca26"
             ],
             [
              1,
              "#f0f921"
             ]
            ],
            "type": "heatmapgl"
           }
          ],
          "histogram": [
           {
            "marker": {
             "pattern": {
              "fillmode": "overlay",
              "size": 10,
              "solidity": 0.2
             }
            },
            "type": "histogram"
           }
          ],
          "histogram2d": [
           {
            "colorbar": {
             "outlinewidth": 0,
             "ticks": ""
            },
            "colorscale": [
             [
              0,
              "#0d0887"
             ],
             [
              0.1111111111111111,
              "#46039f"
             ],
             [
              0.2222222222222222,
              "#7201a8"
             ],
             [
              0.3333333333333333,
              "#9c179e"
             ],
             [
              0.4444444444444444,
              "#bd3786"
             ],
             [
              0.5555555555555556,
              "#d8576b"
             ],
             [
              0.6666666666666666,
              "#ed7953"
             ],
             [
              0.7777777777777778,
              "#fb9f3a"
             ],
             [
              0.8888888888888888,
              "#fdca26"
             ],
             [
              1,
              "#f0f921"
             ]
            ],
            "type": "histogram2d"
           }
          ],
          "histogram2dcontour": [
           {
            "colorbar": {
             "outlinewidth": 0,
             "ticks": ""
            },
            "colorscale": [
             [
              0,
              "#0d0887"
             ],
             [
              0.1111111111111111,
              "#46039f"
             ],
             [
              0.2222222222222222,
              "#7201a8"
             ],
             [
              0.3333333333333333,
              "#9c179e"
             ],
             [
              0.4444444444444444,
              "#bd3786"
             ],
             [
              0.5555555555555556,
              "#d8576b"
             ],
             [
              0.6666666666666666,
              "#ed7953"
             ],
             [
              0.7777777777777778,
              "#fb9f3a"
             ],
             [
              0.8888888888888888,
              "#fdca26"
             ],
             [
              1,
              "#f0f921"
             ]
            ],
            "type": "histogram2dcontour"
           }
          ],
          "mesh3d": [
           {
            "colorbar": {
             "outlinewidth": 0,
             "ticks": ""
            },
            "type": "mesh3d"
           }
          ],
          "parcoords": [
           {
            "line": {
             "colorbar": {
              "outlinewidth": 0,
              "ticks": ""
             }
            },
            "type": "parcoords"
           }
          ],
          "pie": [
           {
            "automargin": true,
            "type": "pie"
           }
          ],
          "scatter": [
           {
            "fillpattern": {
             "fillmode": "overlay",
             "size": 10,
             "solidity": 0.2
            },
            "type": "scatter"
           }
          ],
          "scatter3d": [
           {
            "line": {
             "colorbar": {
              "outlinewidth": 0,
              "ticks": ""
             }
            },
            "marker": {
             "colorbar": {
              "outlinewidth": 0,
              "ticks": ""
             }
            },
            "type": "scatter3d"
           }
          ],
          "scattercarpet": [
           {
            "marker": {
             "colorbar": {
              "outlinewidth": 0,
              "ticks": ""
             }
            },
            "type": "scattercarpet"
           }
          ],
          "scattergeo": [
           {
            "marker": {
             "colorbar": {
              "outlinewidth": 0,
              "ticks": ""
             }
            },
            "type": "scattergeo"
           }
          ],
          "scattergl": [
           {
            "marker": {
             "colorbar": {
              "outlinewidth": 0,
              "ticks": ""
             }
            },
            "type": "scattergl"
           }
          ],
          "scattermapbox": [
           {
            "marker": {
             "colorbar": {
              "outlinewidth": 0,
              "ticks": ""
             }
            },
            "type": "scattermapbox"
           }
          ],
          "scatterpolar": [
           {
            "marker": {
             "colorbar": {
              "outlinewidth": 0,
              "ticks": ""
             }
            },
            "type": "scatterpolar"
           }
          ],
          "scatterpolargl": [
           {
            "marker": {
             "colorbar": {
              "outlinewidth": 0,
              "ticks": ""
             }
            },
            "type": "scatterpolargl"
           }
          ],
          "scatterternary": [
           {
            "marker": {
             "colorbar": {
              "outlinewidth": 0,
              "ticks": ""
             }
            },
            "type": "scatterternary"
           }
          ],
          "surface": [
           {
            "colorbar": {
             "outlinewidth": 0,
             "ticks": ""
            },
            "colorscale": [
             [
              0,
              "#0d0887"
             ],
             [
              0.1111111111111111,
              "#46039f"
             ],
             [
              0.2222222222222222,
              "#7201a8"
             ],
             [
              0.3333333333333333,
              "#9c179e"
             ],
             [
              0.4444444444444444,
              "#bd3786"
             ],
             [
              0.5555555555555556,
              "#d8576b"
             ],
             [
              0.6666666666666666,
              "#ed7953"
             ],
             [
              0.7777777777777778,
              "#fb9f3a"
             ],
             [
              0.8888888888888888,
              "#fdca26"
             ],
             [
              1,
              "#f0f921"
             ]
            ],
            "type": "surface"
           }
          ],
          "table": [
           {
            "cells": {
             "fill": {
              "color": "#EBF0F8"
             },
             "line": {
              "color": "white"
             }
            },
            "header": {
             "fill": {
              "color": "#C8D4E3"
             },
             "line": {
              "color": "white"
             }
            },
            "type": "table"
           }
          ]
         },
         "layout": {
          "annotationdefaults": {
           "arrowcolor": "#2a3f5f",
           "arrowhead": 0,
           "arrowwidth": 1
          },
          "autotypenumbers": "strict",
          "coloraxis": {
           "colorbar": {
            "outlinewidth": 0,
            "ticks": ""
           }
          },
          "colorscale": {
           "diverging": [
            [
             0,
             "#8e0152"
            ],
            [
             0.1,
             "#c51b7d"
            ],
            [
             0.2,
             "#de77ae"
            ],
            [
             0.3,
             "#f1b6da"
            ],
            [
             0.4,
             "#fde0ef"
            ],
            [
             0.5,
             "#f7f7f7"
            ],
            [
             0.6,
             "#e6f5d0"
            ],
            [
             0.7,
             "#b8e186"
            ],
            [
             0.8,
             "#7fbc41"
            ],
            [
             0.9,
             "#4d9221"
            ],
            [
             1,
             "#276419"
            ]
           ],
           "sequential": [
            [
             0,
             "#0d0887"
            ],
            [
             0.1111111111111111,
             "#46039f"
            ],
            [
             0.2222222222222222,
             "#7201a8"
            ],
            [
             0.3333333333333333,
             "#9c179e"
            ],
            [
             0.4444444444444444,
             "#bd3786"
            ],
            [
             0.5555555555555556,
             "#d8576b"
            ],
            [
             0.6666666666666666,
             "#ed7953"
            ],
            [
             0.7777777777777778,
             "#fb9f3a"
            ],
            [
             0.8888888888888888,
             "#fdca26"
            ],
            [
             1,
             "#f0f921"
            ]
           ],
           "sequentialminus": [
            [
             0,
             "#0d0887"
            ],
            [
             0.1111111111111111,
             "#46039f"
            ],
            [
             0.2222222222222222,
             "#7201a8"
            ],
            [
             0.3333333333333333,
             "#9c179e"
            ],
            [
             0.4444444444444444,
             "#bd3786"
            ],
            [
             0.5555555555555556,
             "#d8576b"
            ],
            [
             0.6666666666666666,
             "#ed7953"
            ],
            [
             0.7777777777777778,
             "#fb9f3a"
            ],
            [
             0.8888888888888888,
             "#fdca26"
            ],
            [
             1,
             "#f0f921"
            ]
           ]
          },
          "colorway": [
           "#636efa",
           "#EF553B",
           "#00cc96",
           "#ab63fa",
           "#FFA15A",
           "#19d3f3",
           "#FF6692",
           "#B6E880",
           "#FF97FF",
           "#FECB52"
          ],
          "font": {
           "color": "#2a3f5f"
          },
          "geo": {
           "bgcolor": "white",
           "lakecolor": "white",
           "landcolor": "#E5ECF6",
           "showlakes": true,
           "showland": true,
           "subunitcolor": "white"
          },
          "hoverlabel": {
           "align": "left"
          },
          "hovermode": "closest",
          "mapbox": {
           "style": "light"
          },
          "paper_bgcolor": "white",
          "plot_bgcolor": "#E5ECF6",
          "polar": {
           "angularaxis": {
            "gridcolor": "white",
            "linecolor": "white",
            "ticks": ""
           },
           "bgcolor": "#E5ECF6",
           "radialaxis": {
            "gridcolor": "white",
            "linecolor": "white",
            "ticks": ""
           }
          },
          "scene": {
           "xaxis": {
            "backgroundcolor": "#E5ECF6",
            "gridcolor": "white",
            "gridwidth": 2,
            "linecolor": "white",
            "showbackground": true,
            "ticks": "",
            "zerolinecolor": "white"
           },
           "yaxis": {
            "backgroundcolor": "#E5ECF6",
            "gridcolor": "white",
            "gridwidth": 2,
            "linecolor": "white",
            "showbackground": true,
            "ticks": "",
            "zerolinecolor": "white"
           },
           "zaxis": {
            "backgroundcolor": "#E5ECF6",
            "gridcolor": "white",
            "gridwidth": 2,
            "linecolor": "white",
            "showbackground": true,
            "ticks": "",
            "zerolinecolor": "white"
           }
          },
          "shapedefaults": {
           "line": {
            "color": "#2a3f5f"
           }
          },
          "ternary": {
           "aaxis": {
            "gridcolor": "white",
            "linecolor": "white",
            "ticks": ""
           },
           "baxis": {
            "gridcolor": "white",
            "linecolor": "white",
            "ticks": ""
           },
           "bgcolor": "#E5ECF6",
           "caxis": {
            "gridcolor": "white",
            "linecolor": "white",
            "ticks": ""
           }
          },
          "title": {
           "x": 0.05
          },
          "xaxis": {
           "automargin": true,
           "gridcolor": "white",
           "linecolor": "white",
           "ticks": "",
           "title": {
            "standoff": 15
           },
           "zerolinecolor": "white",
           "zerolinewidth": 2
          },
          "yaxis": {
           "automargin": true,
           "gridcolor": "white",
           "linecolor": "white",
           "ticks": "",
           "title": {
            "standoff": 15
           },
           "zerolinecolor": "white",
           "zerolinewidth": 2
          }
         }
        },
        "title": {
         "text": "BTC Software Programs"
        }
       }
      }
     },
     "metadata": {},
     "output_type": "display_data"
    },
    {
     "data": {
      "text/plain": [
       "<Figure size 1200x1600 with 0 Axes>"
      ]
     },
     "metadata": {},
     "output_type": "display_data"
    }
   ],
   "source": [
    "\n",
    "\n",
    "import matplotlib.pyplot as plt\n",
    "import plotly.graph_objects as go\n",
    "import plotly.graph_objects as go\n",
    "import plotly.express as px\n",
    "plt.figure(figsize=(12, 16))\n",
    "# Define the nodes and links\n",
    "nodes = {\n",
    "    \"pad\": 15,\n",
    "    \"thickness\": 20,\n",
    "    \"line\": dict(color=\"black\", width=0.5),\n",
    "    \"label\": [\n",
    "        \"Data Analysis\",\n",
    "        \"Inventory\",\n",
    "        \"Project Management\",\n",
    "        'Web Forms for Tasks',\n",
    "        'Data Migration/cataloging',\n",
    "        'Confluence',\n",
    "        'Screening System',\n",
    "        'Weight & Dimensions',\n",
    "        'Primary',\n",
    "        'Secondary',\n",
    "        'GFE Data Migration',\n",
    "        'JIRA',\n",
    "        'Consolidated Reports',\n",
    "        'HTML Handbook',\n",
    "        'Presentations',\n",
    "        'Periodic Reports',\n",
    "        'Screening Report',\n",
    "        'Customer',\n",
    "        'Cap Planning',\n",
    "        'GFM',\n",
    "        'BTC',  # 20\n",
    "        'Special Projects',\n",
    "        'dQ/dV',\n",
    "        'Analyzing Calibration Data',\n",
    "        'Cell Selection',\n",
    "    ],\n",
    "    \"color\": [\n",
    "        'rgba(24,  118, 210 , 0.80)',  # da\n",
    "        'rgba(210,25,210, 0.5)',  # inv\n",
    "        'rgba(25, 210, 28, 0.4)',  # Project M\n",
    "        'rgba(80, 80, 80, 0.1)',  # Web task Forms\n",
    "        'rgba(80, 80, 80, 0.1)',  # DM\n",
    "        'rgba(80, 80, 80, 0.1)',  # Confluence\n",
    "        'rgba(25, 210, 25, 0.4)',  # Screening\n",
    "        'rgba(210, 117, 25, 0.4)',  # WD\n",
    "        'rgba(80, 80, 80, 0.1)',  # PMDA\n",
    "        'rgba(80, 80, 80, 0.1)',  # SDDA\n",
    "        'rgba(80, 80, 80, 0.1)',  # GFE DAM\n",
    "        'rgba(80, 80, 80, 0.1)',  # JIRA\n",
    "        'rgba(80, 80, 80, 0.1)',  # consolidated reports\n",
    "        'rgba(80, 80, 80, 0.1)',  # HTML\n",
    "        'rgba(80, 80, 80, 0.1)',  # presentation\n",
    "        'rgba(80, 80, 80, 0.1)',  # Periodic\n",
    "        'rgba(80, 80, 80, 0.1)',  # screening report\n",
    "        'rgba(80, 80, 80, 0.1)',  # customer\n",
    "        'rgba(80, 80, 80, 0.1)',  # CAP Plan\n",
    "        'rgba(80, 80, 80, 0.1)',  # GFM\n",
    "        'rgba(80, 80, 80, 0.1)',  # BTC\n",
    "        'rgba(220, 66, 48, 0.4)',  # Special Projects\n",
    "        'rgba(80, 80, 80, 0.1)',  # dQ/dV\n",
    "        'rgba(80, 80, 80, 0.1)',  # Analyzing calibration data\n",
    "        'rgba(80, 80, 80, 0.1)',  # Cell Selection\n",
    "    ]\n",
    "\n",
    "}\n",
    "links = {  # DA      Dap/das to deliverables  # D to PSC        #    Inventory     # Project Management     dm    screening                                                                       # Web task forms\n",
    "    'source': [0, 0,  8,  8,  8, 9,   9,  9,   12, 13, 14,       1, 10, 15, 10, 18,     2, 2, 5, 11,         4,  6, 8, 16,      7, 7,  1,  19, 19,    8, 9, 0,  21, 21, 21, 22, 23, 24,      0,    2, 3],\n",
    "    'target': [8, 9,  12, 13, 14, 12, 13, 14,   17, 17, 17,      10, 15, 17, 18, 17,    11, 5, 17, 17,       17, 8, 16, 17,      8, 9,  19,  15, 18,  4, 4, 4,  22, 23, 24, 20, 20, 20,      22,   3, 17],\n",
    "    'value':  [3.2, 0.4, 3.2,  0.4,  0.4, 0.4,   0.4,  0.4, 3.2, 0.20,  0.4,      0.8,  0.4, 0.8, 0.4, 0.8,      0.4, 0.4,  0.4, 0.4,          0.4,  0.4,  0.8, 0.8,      0.5, 0.5,  0.4,   0.4, 0.4,     0.4, 0.4, 0.4,   0.3,  0.3,  0.3, 0.3,   0.3,  0.3,  0.3, 0.3, 0.3],\n",
    "    # 'color': []\n",
    "}\n",
    "\n",
    "links['color'] = [\n",
    "    \"rgba(24,  118, 210 , 0.80)\",  # DA to PDA\n",
    "    \"rgba(24,  118, 210 , 0.80)\",  # Da to Sencodary\n",
    "    'rgba(80, 80, 80, 0.1)',  # Primary to consolidated\n",
    "    'rgba(80, 80, 80, 0.1)',  # PDA to HTML\n",
    "    'rgba(80, 80, 80, 0.1)',  # PDA to presentation\n",
    "    'rgba(80, 80, 80, 0.1)',  # SDA to consolidated\n",
    "    'rgba(80, 80, 80, 0.1)',  # SDA to HTML\n",
    "    'rgba(80, 80, 80, 0.1)',  # SDA to Presentation\n",
    "    'rgba(80, 80, 80, 0.1)',  # Consolidated to PSC\n",
    "    'rgba(80, 80, 80, 0.1)',  # HTML to PSC\n",
    "    'rgba(80, 80, 80, 0.1)',  # Presentation to PSC\n",
    "    'rgba(210,25,210, 0.5)',  # Inventory to GFE\n",
    "    'rgba(80, 80, 80, 0.1)',  # GFE DM to Monthly\n",
    "    'rgba(80, 80, 80, 0.1)',  # Monthly to PSC\n",
    "    'rgba(80, 80, 80, 0.1)',  # GFE DM to CAP P\n",
    "    'rgba(80, 80, 80, 0.1)',  # Cap P to PSC\n",
    "    'rgba(80, 80, 80, 0.1)',  # PM to Jira\n",
    "    'rgba(25, 210, 28, 0.4)',  # PM to confluence\n",
    "    'rgba(80, 80, 80, 0.1)',  # confluence to PSC\n",
    "    'rgba(80, 80, 80, 0.1)',  # JIRA to PSC\n",
    "    'rgba(80, 80, 80, 0.1)',  # data migration to PSC\n",
    "    'rgba(25, 210, 25, 0.4)',  # Screening to PDA\n",
    "    'rgba(80, 80, 80, 0.1)',  # PDA to Screening report\n",
    "    'rgba(80, 80, 80, 0.1)',  # Screening report to PSC\n",
    "    'rgba(210, 117, 25, 0.4)',  # W&D to PDA\n",
    "    'rgba(210, 117, 25, 0.4)',  # W&D to SDA\n",
    "    'rgba(210,25,210, 0.5)',  # inventory to GFM\n",
    "    'rgba(80, 80, 80, 0.1)',  # GFM to Monthly\n",
    "    'rgba(80, 80, 80, 0.1)',  # GFM to CAP Planning\n",
    "    'rgba(80, 80, 80, 0.1)',  # primary to data migration\n",
    "    'rgba(80, 80, 80, 0.1)',  # secondary to data migration\n",
    "    'rgba(24,  118, 210 , 0.80)',  # DA to data migration\n",
    "    'rgba(220, 66, 48, 0.4)',  # SPP to cell selection\n",
    "    'rgba(220, 66, 48, 0.4)',  # SPP to cell Analyzing calibration Data\n",
    "    'rgba(220, 66, 48, 0.4)',  # SPP to cell Analyzing cell selection\n",
    "    'rgba(80, 80, 80, 0.1)',  # dq/dv to BTC\n",
    "    'rgba(80, 80, 80, 0.1)',  # ACB to BTC\n",
    "    'rgba(80, 80, 80, 0.1)',  # Cell select to BTC\n",
    "    'rgba(24,  118, 210 , 0.80)',  # Data analysis to dQ/dV\n",
    "    'rgba(80, 80, 80, 0.1)',  # project management to web task forms\n",
    "    'rgba(80, 80, 80, 0.1)',  # web task forms to PSC\n",
    "]\n",
    "# Define node positions (x and y coordinates)\n",
    "node_positions = {\n",
    "    \"Data Analysis\": (0.01, -0.05),\n",
    "    \"Inventory\": (0.01, 0.50),\n",
    "    \"Project Management\": (0.01, 0.70),\n",
    "    \"Data Migration/cataloging\": (0.66, 0.2),\n",
    "    \"Web Forms for Tasks\": (0.30, 0.73),\n",
    "    \"Screening System\": (0.01, 0.30),\n",
    "    \"Confluence\": (0.30, 0.55),\n",
    "    \"Weight & Dimensions\": (0.01, 0.13),\n",
    "    \"Secondary\": (0.30, 0.19),\n",
    "    \"Primary\": (0.30, -0.01),\n",
    "    \"GFE Data Migration\": (0.30, 0.35),\n",
    "    \"JIRA\": (0.30, 0.65),\n",
    "    \"Consolidated Reports\": (0.66, -0.005),\n",
    "    \"HTML Handbook\": (0.66, 0.40),\n",
    "    \"Presentations\": (0.66, 0.50),\n",
    "    \"Periodic Reports\": (0.66, 0.60),\n",
    "    \"Screening Report\": (0.66, 0.30),\n",
    "    \"Customer\": (0.0, 0.0),\n",
    "    \"Cap Planning\": (0.66, 0.70),\n",
    "    \"GFM\": (0.30, 0.45),\n",
    "    \"BTC\": (0.0, 0.0),\n",
    "    \"Special Projects\": (0.0, 0.0),\n",
    "    \"dQ/dV\": (0.30, 0.85),\n",
    "    \"Analyzing Calibration Data\": (0.30, 0.93),\n",
    "    \"Cell Selection\": (0.30, 1.0),\n",
    "}\n",
    "\n",
    "# Create a list of x and y coordinates for nodes\n",
    "node_x = [node_positions[label][0] for label in nodes[\"label\"]]\n",
    "node_y = [node_positions[label][1] for label in nodes[\"label\"]]\n",
    "\n",
    "# Update the nodes dictionary with x and y coordinates\n",
    "nodes[\"x\"] = node_x\n",
    "nodes[\"y\"] = node_y\n",
    "fig = go.Figure(go.Sankey(\n",
    "    node=nodes,\n",
    "    link=links\n",
    "))\n",
    "# MCSR\n",
    "# Update layout and display the diagram\n",
    "# Make GFE and GFM its ownn line\n",
    "# add web based task forms\n",
    "# add percentage from 0 to 9 depending on the amount of effort that we are putting into the project\n",
    "# build a story with the lines\n",
    "# Have colors\n",
    "\n",
    "fig.update_layout(title_text=\"BTC Software Programs\", font_size=20)\n",
    "fig.show()\n",
    "fig.write_image('images/fig6.png', width=1100, height=450)"
   ]
  },
  {
   "cell_type": "code",
   "execution_count": 34,
   "metadata": {},
   "outputs": [
    {
     "data": {
      "application/vnd.plotly.v1+json": {
       "config": {
        "plotlyServerURL": "https://plot.ly"
       },
       "data": [
        {
         "link": {
          "color": [
           "rgba(24,  118, 210 , 0.80)",
           "rgba(24,  118, 210 , 0.80)",
           "rgba(24,  118, 210 , 0.60)",
           "rgba(24,  118, 210 , 0.60)",
           "rgba(24,  118, 210 , 0.60)",
           "rgba(80, 80, 80, 0.1)",
           "rgba(80, 80, 80, 0.1)",
           "rgba(80, 80, 80, 0.1)",
           "rgba(80, 80, 80, 0.1)",
           "rgba(80, 80, 80, 0.1)",
           "rgba(80, 80, 80, 0.1)",
           "rgba(210,25,210, 0.5)",
           "rgba(80, 80, 80, 0.1)",
           "rgba(80, 80, 80, 0.1)",
           "rgba(80, 80, 80, 0.1)",
           "rgba(80, 80, 80, 0.1)",
           "rgba(80, 80, 80, 0.1)",
           "rgba(25, 210, 28, 0.4)",
           "rgba(80, 80, 80, 0.1)",
           "rgba(80, 80, 80, 0.1)",
           "rgba(80, 80, 80, 0.1)",
           "rgba(25, 210, 25, 0.4)",
           "rgba(24,  118, 210 , 0.60)",
           "rgba(80, 80, 80, 0.1)",
           "rgba(210, 117, 25, 0.4)",
           "rgba(210, 117, 25, 0.4)",
           "rgba(210,25,210, 0.5)",
           "rgba(80, 80, 80, 0.1)",
           "rgba(80, 80, 80, 0.1)",
           "rgba(24,  118, 210 , 0.60)",
           "rgba(80, 80, 80, 0.1)",
           "rgba(24,  118, 210 , 0.80)",
           "rgba(220, 66, 48, 0.4)",
           "rgba(220, 66, 48, 0.4)",
           "rgba(220, 66, 48, 0.4)",
           "rgba(80, 80, 80, 0.1)",
           "rgba(80, 80, 80, 0.1)",
           "rgba(80, 80, 80, 0.1)",
           "rgba(24,  118, 210 , 0.80)",
           "rgba(80, 80, 80, 0.1)",
           "rgba(80, 80, 80, 0.1)"
          ],
          "source": [
           0,
           0,
           8,
           8,
           8,
           9,
           9,
           9,
           12,
           13,
           14,
           1,
           10,
           15,
           10,
           18,
           2,
           2,
           5,
           11,
           4,
           6,
           8,
           16,
           7,
           7,
           1,
           19,
           19,
           8,
           9,
           0,
           21,
           21,
           21,
           22,
           23,
           24,
           0,
           2,
           3
          ],
          "target": [
           8,
           9,
           12,
           13,
           14,
           12,
           13,
           14,
           17,
           17,
           17,
           10,
           15,
           17,
           18,
           17,
           11,
           5,
           17,
           17,
           17,
           8,
           16,
           17,
           8,
           9,
           19,
           15,
           18,
           4,
           4,
           4,
           22,
           23,
           24,
           20,
           20,
           20,
           22,
           3,
           17
          ],
          "value": [
           3.2,
           0.4,
           3.2,
           0.4,
           0.4,
           0.4,
           0.4,
           0.4,
           3.2,
           0.2,
           0.4,
           0.8,
           0.4,
           0.8,
           0.4,
           0.8,
           0.4,
           0.4,
           0.4,
           0.4,
           0.4,
           0.4,
           0.8,
           0.8,
           0.5,
           0.5,
           0.4,
           0.4,
           0.4,
           0.4,
           0.4,
           0.4,
           0.3,
           0.3,
           0.3,
           0.3,
           0.3,
           0.3,
           0.3,
           0.3,
           0.3
          ]
         },
         "node": {
          "color": [
           "rgba(24,  118, 210 , 0.80)",
           "rgba(210,25,210, 0.5)",
           "rgba(25, 210, 28, 0.4)",
           "rgba(80, 80, 80, 0.1)",
           "rgba(80, 80, 80, 0.1)",
           "rgba(80, 80, 80, 0.1)",
           "rgba(25, 210, 25, 0.4)",
           "rgba(210, 117, 25, 0.4)",
           "rgba(24,  118, 210 , 0.60)",
           "rgba(80, 80, 80, 0.1)",
           "rgba(80, 80, 80, 0.1)",
           "rgba(80, 80, 80, 0.1)",
           "rgba(80, 80, 80, 0.1)",
           "rgba(80, 80, 80, 0.1)",
           "rgba(80, 80, 80, 0.1)",
           "rgba(80, 80, 80, 0.1)",
           "rgba(80, 80, 80, 0.1)",
           "rgba(80, 80, 80, 0.1)",
           "rgba(80, 80, 80, 0.1)",
           "rgba(80, 80, 80, 0.1)",
           "rgba(80, 80, 80, 0.1)",
           "rgba(220, 66, 48, 0.4)",
           "rgba(80, 80, 80, 0.1)",
           "rgba(80, 80, 80, 0.1)",
           "rgba(80, 80, 80, 0.1)"
          ],
          "label": [
           "Data Analysis",
           "Inventory",
           "Project Management",
           "Web Forms for Tasks",
           "Data Migration/cataloging",
           "Confluence",
           "Screening System",
           "Weight & Dimensions",
           "Primary",
           "Secondary",
           "GFE Data Migration",
           "JIRA",
           "Consolidated Reports",
           "HTML Handbook",
           "Presentations",
           "Periodic Reports",
           "Screening Report",
           "Customer",
           "Cap Planning",
           "GFM",
           "BTC",
           "Special Projects",
           "dQ/dV",
           "Analyzing Calibration Data",
           "Cell Selection"
          ],
          "line": {
           "color": "black",
           "width": 0.5
          },
          "pad": 15,
          "thickness": 20,
          "x": [
           0.01,
           0.01,
           0.01,
           0.3,
           0.66,
           0.3,
           0.01,
           0.01,
           0.3,
           0.3,
           0.3,
           0.3,
           0.66,
           0.66,
           0.66,
           0.66,
           0.66,
           0,
           0.66,
           0.3,
           0,
           0,
           0.3,
           0.3,
           0.3
          ],
          "y": [
           -0.05,
           0.5,
           0.7,
           0.73,
           0.2,
           0.55,
           0.3,
           0.13,
           -0.01,
           0.19,
           0.35,
           0.65,
           -0.005,
           0.4,
           0.5,
           0.6,
           0.3,
           0,
           0.7,
           0.45,
           0,
           0,
           0.85,
           0.93,
           1
          ]
         },
         "type": "sankey"
        }
       ],
       "layout": {
        "font": {
         "size": 20
        },
        "template": {
         "data": {
          "bar": [
           {
            "error_x": {
             "color": "#2a3f5f"
            },
            "error_y": {
             "color": "#2a3f5f"
            },
            "marker": {
             "line": {
              "color": "#E5ECF6",
              "width": 0.5
             },
             "pattern": {
              "fillmode": "overlay",
              "size": 10,
              "solidity": 0.2
             }
            },
            "type": "bar"
           }
          ],
          "barpolar": [
           {
            "marker": {
             "line": {
              "color": "#E5ECF6",
              "width": 0.5
             },
             "pattern": {
              "fillmode": "overlay",
              "size": 10,
              "solidity": 0.2
             }
            },
            "type": "barpolar"
           }
          ],
          "carpet": [
           {
            "aaxis": {
             "endlinecolor": "#2a3f5f",
             "gridcolor": "white",
             "linecolor": "white",
             "minorgridcolor": "white",
             "startlinecolor": "#2a3f5f"
            },
            "baxis": {
             "endlinecolor": "#2a3f5f",
             "gridcolor": "white",
             "linecolor": "white",
             "minorgridcolor": "white",
             "startlinecolor": "#2a3f5f"
            },
            "type": "carpet"
           }
          ],
          "choropleth": [
           {
            "colorbar": {
             "outlinewidth": 0,
             "ticks": ""
            },
            "type": "choropleth"
           }
          ],
          "contour": [
           {
            "colorbar": {
             "outlinewidth": 0,
             "ticks": ""
            },
            "colorscale": [
             [
              0,
              "#0d0887"
             ],
             [
              0.1111111111111111,
              "#46039f"
             ],
             [
              0.2222222222222222,
              "#7201a8"
             ],
             [
              0.3333333333333333,
              "#9c179e"
             ],
             [
              0.4444444444444444,
              "#bd3786"
             ],
             [
              0.5555555555555556,
              "#d8576b"
             ],
             [
              0.6666666666666666,
              "#ed7953"
             ],
             [
              0.7777777777777778,
              "#fb9f3a"
             ],
             [
              0.8888888888888888,
              "#fdca26"
             ],
             [
              1,
              "#f0f921"
             ]
            ],
            "type": "contour"
           }
          ],
          "contourcarpet": [
           {
            "colorbar": {
             "outlinewidth": 0,
             "ticks": ""
            },
            "type": "contourcarpet"
           }
          ],
          "heatmap": [
           {
            "colorbar": {
             "outlinewidth": 0,
             "ticks": ""
            },
            "colorscale": [
             [
              0,
              "#0d0887"
             ],
             [
              0.1111111111111111,
              "#46039f"
             ],
             [
              0.2222222222222222,
              "#7201a8"
             ],
             [
              0.3333333333333333,
              "#9c179e"
             ],
             [
              0.4444444444444444,
              "#bd3786"
             ],
             [
              0.5555555555555556,
              "#d8576b"
             ],
             [
              0.6666666666666666,
              "#ed7953"
             ],
             [
              0.7777777777777778,
              "#fb9f3a"
             ],
             [
              0.8888888888888888,
              "#fdca26"
             ],
             [
              1,
              "#f0f921"
             ]
            ],
            "type": "heatmap"
           }
          ],
          "heatmapgl": [
           {
            "colorbar": {
             "outlinewidth": 0,
             "ticks": ""
            },
            "colorscale": [
             [
              0,
              "#0d0887"
             ],
             [
              0.1111111111111111,
              "#46039f"
             ],
             [
              0.2222222222222222,
              "#7201a8"
             ],
             [
              0.3333333333333333,
              "#9c179e"
             ],
             [
              0.4444444444444444,
              "#bd3786"
             ],
             [
              0.5555555555555556,
              "#d8576b"
             ],
             [
              0.6666666666666666,
              "#ed7953"
             ],
             [
              0.7777777777777778,
              "#fb9f3a"
             ],
             [
              0.8888888888888888,
              "#fdca26"
             ],
             [
              1,
              "#f0f921"
             ]
            ],
            "type": "heatmapgl"
           }
          ],
          "histogram": [
           {
            "marker": {
             "pattern": {
              "fillmode": "overlay",
              "size": 10,
              "solidity": 0.2
             }
            },
            "type": "histogram"
           }
          ],
          "histogram2d": [
           {
            "colorbar": {
             "outlinewidth": 0,
             "ticks": ""
            },
            "colorscale": [
             [
              0,
              "#0d0887"
             ],
             [
              0.1111111111111111,
              "#46039f"
             ],
             [
              0.2222222222222222,
              "#7201a8"
             ],
             [
              0.3333333333333333,
              "#9c179e"
             ],
             [
              0.4444444444444444,
              "#bd3786"
             ],
             [
              0.5555555555555556,
              "#d8576b"
             ],
             [
              0.6666666666666666,
              "#ed7953"
             ],
             [
              0.7777777777777778,
              "#fb9f3a"
             ],
             [
              0.8888888888888888,
              "#fdca26"
             ],
             [
              1,
              "#f0f921"
             ]
            ],
            "type": "histogram2d"
           }
          ],
          "histogram2dcontour": [
           {
            "colorbar": {
             "outlinewidth": 0,
             "ticks": ""
            },
            "colorscale": [
             [
              0,
              "#0d0887"
             ],
             [
              0.1111111111111111,
              "#46039f"
             ],
             [
              0.2222222222222222,
              "#7201a8"
             ],
             [
              0.3333333333333333,
              "#9c179e"
             ],
             [
              0.4444444444444444,
              "#bd3786"
             ],
             [
              0.5555555555555556,
              "#d8576b"
             ],
             [
              0.6666666666666666,
              "#ed7953"
             ],
             [
              0.7777777777777778,
              "#fb9f3a"
             ],
             [
              0.8888888888888888,
              "#fdca26"
             ],
             [
              1,
              "#f0f921"
             ]
            ],
            "type": "histogram2dcontour"
           }
          ],
          "mesh3d": [
           {
            "colorbar": {
             "outlinewidth": 0,
             "ticks": ""
            },
            "type": "mesh3d"
           }
          ],
          "parcoords": [
           {
            "line": {
             "colorbar": {
              "outlinewidth": 0,
              "ticks": ""
             }
            },
            "type": "parcoords"
           }
          ],
          "pie": [
           {
            "automargin": true,
            "type": "pie"
           }
          ],
          "scatter": [
           {
            "fillpattern": {
             "fillmode": "overlay",
             "size": 10,
             "solidity": 0.2
            },
            "type": "scatter"
           }
          ],
          "scatter3d": [
           {
            "line": {
             "colorbar": {
              "outlinewidth": 0,
              "ticks": ""
             }
            },
            "marker": {
             "colorbar": {
              "outlinewidth": 0,
              "ticks": ""
             }
            },
            "type": "scatter3d"
           }
          ],
          "scattercarpet": [
           {
            "marker": {
             "colorbar": {
              "outlinewidth": 0,
              "ticks": ""
             }
            },
            "type": "scattercarpet"
           }
          ],
          "scattergeo": [
           {
            "marker": {
             "colorbar": {
              "outlinewidth": 0,
              "ticks": ""
             }
            },
            "type": "scattergeo"
           }
          ],
          "scattergl": [
           {
            "marker": {
             "colorbar": {
              "outlinewidth": 0,
              "ticks": ""
             }
            },
            "type": "scattergl"
           }
          ],
          "scattermapbox": [
           {
            "marker": {
             "colorbar": {
              "outlinewidth": 0,
              "ticks": ""
             }
            },
            "type": "scattermapbox"
           }
          ],
          "scatterpolar": [
           {
            "marker": {
             "colorbar": {
              "outlinewidth": 0,
              "ticks": ""
             }
            },
            "type": "scatterpolar"
           }
          ],
          "scatterpolargl": [
           {
            "marker": {
             "colorbar": {
              "outlinewidth": 0,
              "ticks": ""
             }
            },
            "type": "scatterpolargl"
           }
          ],
          "scatterternary": [
           {
            "marker": {
             "colorbar": {
              "outlinewidth": 0,
              "ticks": ""
             }
            },
            "type": "scatterternary"
           }
          ],
          "surface": [
           {
            "colorbar": {
             "outlinewidth": 0,
             "ticks": ""
            },
            "colorscale": [
             [
              0,
              "#0d0887"
             ],
             [
              0.1111111111111111,
              "#46039f"
             ],
             [
              0.2222222222222222,
              "#7201a8"
             ],
             [
              0.3333333333333333,
              "#9c179e"
             ],
             [
              0.4444444444444444,
              "#bd3786"
             ],
             [
              0.5555555555555556,
              "#d8576b"
             ],
             [
              0.6666666666666666,
              "#ed7953"
             ],
             [
              0.7777777777777778,
              "#fb9f3a"
             ],
             [
              0.8888888888888888,
              "#fdca26"
             ],
             [
              1,
              "#f0f921"
             ]
            ],
            "type": "surface"
           }
          ],
          "table": [
           {
            "cells": {
             "fill": {
              "color": "#EBF0F8"
             },
             "line": {
              "color": "white"
             }
            },
            "header": {
             "fill": {
              "color": "#C8D4E3"
             },
             "line": {
              "color": "white"
             }
            },
            "type": "table"
           }
          ]
         },
         "layout": {
          "annotationdefaults": {
           "arrowcolor": "#2a3f5f",
           "arrowhead": 0,
           "arrowwidth": 1
          },
          "autotypenumbers": "strict",
          "coloraxis": {
           "colorbar": {
            "outlinewidth": 0,
            "ticks": ""
           }
          },
          "colorscale": {
           "diverging": [
            [
             0,
             "#8e0152"
            ],
            [
             0.1,
             "#c51b7d"
            ],
            [
             0.2,
             "#de77ae"
            ],
            [
             0.3,
             "#f1b6da"
            ],
            [
             0.4,
             "#fde0ef"
            ],
            [
             0.5,
             "#f7f7f7"
            ],
            [
             0.6,
             "#e6f5d0"
            ],
            [
             0.7,
             "#b8e186"
            ],
            [
             0.8,
             "#7fbc41"
            ],
            [
             0.9,
             "#4d9221"
            ],
            [
             1,
             "#276419"
            ]
           ],
           "sequential": [
            [
             0,
             "#0d0887"
            ],
            [
             0.1111111111111111,
             "#46039f"
            ],
            [
             0.2222222222222222,
             "#7201a8"
            ],
            [
             0.3333333333333333,
             "#9c179e"
            ],
            [
             0.4444444444444444,
             "#bd3786"
            ],
            [
             0.5555555555555556,
             "#d8576b"
            ],
            [
             0.6666666666666666,
             "#ed7953"
            ],
            [
             0.7777777777777778,
             "#fb9f3a"
            ],
            [
             0.8888888888888888,
             "#fdca26"
            ],
            [
             1,
             "#f0f921"
            ]
           ],
           "sequentialminus": [
            [
             0,
             "#0d0887"
            ],
            [
             0.1111111111111111,
             "#46039f"
            ],
            [
             0.2222222222222222,
             "#7201a8"
            ],
            [
             0.3333333333333333,
             "#9c179e"
            ],
            [
             0.4444444444444444,
             "#bd3786"
            ],
            [
             0.5555555555555556,
             "#d8576b"
            ],
            [
             0.6666666666666666,
             "#ed7953"
            ],
            [
             0.7777777777777778,
             "#fb9f3a"
            ],
            [
             0.8888888888888888,
             "#fdca26"
            ],
            [
             1,
             "#f0f921"
            ]
           ]
          },
          "colorway": [
           "#636efa",
           "#EF553B",
           "#00cc96",
           "#ab63fa",
           "#FFA15A",
           "#19d3f3",
           "#FF6692",
           "#B6E880",
           "#FF97FF",
           "#FECB52"
          ],
          "font": {
           "color": "#2a3f5f"
          },
          "geo": {
           "bgcolor": "white",
           "lakecolor": "white",
           "landcolor": "#E5ECF6",
           "showlakes": true,
           "showland": true,
           "subunitcolor": "white"
          },
          "hoverlabel": {
           "align": "left"
          },
          "hovermode": "closest",
          "mapbox": {
           "style": "light"
          },
          "paper_bgcolor": "white",
          "plot_bgcolor": "#E5ECF6",
          "polar": {
           "angularaxis": {
            "gridcolor": "white",
            "linecolor": "white",
            "ticks": ""
           },
           "bgcolor": "#E5ECF6",
           "radialaxis": {
            "gridcolor": "white",
            "linecolor": "white",
            "ticks": ""
           }
          },
          "scene": {
           "xaxis": {
            "backgroundcolor": "#E5ECF6",
            "gridcolor": "white",
            "gridwidth": 2,
            "linecolor": "white",
            "showbackground": true,
            "ticks": "",
            "zerolinecolor": "white"
           },
           "yaxis": {
            "backgroundcolor": "#E5ECF6",
            "gridcolor": "white",
            "gridwidth": 2,
            "linecolor": "white",
            "showbackground": true,
            "ticks": "",
            "zerolinecolor": "white"
           },
           "zaxis": {
            "backgroundcolor": "#E5ECF6",
            "gridcolor": "white",
            "gridwidth": 2,
            "linecolor": "white",
            "showbackground": true,
            "ticks": "",
            "zerolinecolor": "white"
           }
          },
          "shapedefaults": {
           "line": {
            "color": "#2a3f5f"
           }
          },
          "ternary": {
           "aaxis": {
            "gridcolor": "white",
            "linecolor": "white",
            "ticks": ""
           },
           "baxis": {
            "gridcolor": "white",
            "linecolor": "white",
            "ticks": ""
           },
           "bgcolor": "#E5ECF6",
           "caxis": {
            "gridcolor": "white",
            "linecolor": "white",
            "ticks": ""
           }
          },
          "title": {
           "x": 0.05
          },
          "xaxis": {
           "automargin": true,
           "gridcolor": "white",
           "linecolor": "white",
           "ticks": "",
           "title": {
            "standoff": 15
           },
           "zerolinecolor": "white",
           "zerolinewidth": 2
          },
          "yaxis": {
           "automargin": true,
           "gridcolor": "white",
           "linecolor": "white",
           "ticks": "",
           "title": {
            "standoff": 15
           },
           "zerolinecolor": "white",
           "zerolinewidth": 2
          }
         }
        },
        "title": {
         "text": "BTC Software Programs"
        }
       }
      }
     },
     "metadata": {},
     "output_type": "display_data"
    },
    {
     "data": {
      "text/plain": [
       "<Figure size 1200x1600 with 0 Axes>"
      ]
     },
     "metadata": {},
     "output_type": "display_data"
    }
   ],
   "source": [
    "import matplotlib.pyplot as plt\n",
    "import plotly.graph_objects as go\n",
    "import plotly.graph_objects as go\n",
    "import plotly.express as px\n",
    "plt.figure(figsize=(12, 16))\n",
    "# Define the nodes and links\n",
    "nodes = {\n",
    "    \"pad\": 15,\n",
    "    \"thickness\": 20,\n",
    "    \"line\": dict(color=\"black\", width=0.5),\n",
    "    \"label\": [\n",
    "        \"Data Analysis\",\n",
    "        \"Inventory\",\n",
    "        \"Project Management\",\n",
    "        'Web Forms for Tasks',\n",
    "        'Data Migration/cataloging',\n",
    "        'Confluence',\n",
    "        'Screening System',\n",
    "        'Weight & Dimensions',\n",
    "        'Primary',\n",
    "        'Secondary',\n",
    "        'GFE Data Migration',\n",
    "        'JIRA',\n",
    "        'Consolidated Reports',\n",
    "        'HTML Handbook',\n",
    "        'Presentations',\n",
    "        'Periodic Reports',\n",
    "        'Screening Report',\n",
    "        'Customer',\n",
    "        'Cap Planning',\n",
    "        'GFM',\n",
    "        'BTC',  # 20\n",
    "        'Special Projects',\n",
    "        'dQ/dV',\n",
    "        'Analyzing Calibration Data',\n",
    "        'Cell Selection',\n",
    "    ],\n",
    "    \"color\": [\n",
    "        'rgba(24,  118, 210 , 0.80)',  # da\n",
    "        'rgba(210,25,210, 0.5)',  # inv\n",
    "        'rgba(25, 210, 28, 0.4)',  # Project M\n",
    "        'rgba(80, 80, 80, 0.1)',  # Web task Forms\n",
    "        'rgba(80, 80, 80, 0.1)',  # DM\n",
    "        'rgba(80, 80, 80, 0.1)',  # Confluence\n",
    "        'rgba(25, 210, 25, 0.4)',  # Screening\n",
    "        'rgba(210, 117, 25, 0.4)',  # WD\n",
    "        'rgba(24,  118, 210 , 0.60)',  # PMDA\n",
    "        'rgba(80, 80, 80, 0.1)',  # SDDA\n",
    "        'rgba(80, 80, 80, 0.1)',  # GFE DAM\n",
    "        'rgba(80, 80, 80, 0.1)',  # JIRA\n",
    "        'rgba(80, 80, 80, 0.1)',  # consolidated reports\n",
    "        'rgba(80, 80, 80, 0.1)',  # HTML\n",
    "        'rgba(80, 80, 80, 0.1)',  # presentation\n",
    "        'rgba(80, 80, 80, 0.1)',  # Periodic\n",
    "        'rgba(80, 80, 80, 0.1)',  # screening report\n",
    "        'rgba(80, 80, 80, 0.1)',  # customer\n",
    "        'rgba(80, 80, 80, 0.1)',  # CAP Plan\n",
    "        'rgba(80, 80, 80, 0.1)',  # GFM\n",
    "        'rgba(80, 80, 80, 0.1)',  # BTC\n",
    "        'rgba(220, 66, 48, 0.4)',  # Special Projects\n",
    "        'rgba(80, 80, 80, 0.1)',  # dQ/dV\n",
    "        'rgba(80, 80, 80, 0.1)',  # Analyzing calibration data\n",
    "        'rgba(80, 80, 80, 0.1)',  # Cell Selection\n",
    "    ]\n",
    "\n",
    "}\n",
    "links = {  # DA      Dap/das to deliverables  # D to PSC        #    Inventory     # Project Management     dm    screening                                                                       # Web task forms\n",
    "    'source': [0, 0,  8,  8,  8, 9,   9,  9,   12, 13, 14,       1, 10, 15, 10, 18,     2, 2, 5, 11,         4,  6, 8, 16,      7, 7,  1,  19, 19,    8, 9, 0,  21, 21, 21, 22, 23, 24,      0,    2, 3],\n",
    "    'target': [8, 9,  12, 13, 14, 12, 13, 14,   17, 17, 17,      10, 15, 17, 18, 17,    11, 5, 17, 17,       17, 8, 16, 17,      8, 9,  19,  15, 18,  4, 4, 4,  22, 23, 24, 20, 20, 20,      22,   3, 17],\n",
    "    'value':  [3.2, 0.4, 3.2,  0.4,  0.4, 0.4,   0.4,  0.4, 3.2, 0.20,  0.4,      0.8,  0.4, 0.8, 0.4, 0.8,      0.4, 0.4,  0.4, 0.4,          0.4,  0.4,  0.8, 0.8,      0.5, 0.5,  0.4,   0.4, 0.4,     0.4, 0.4, 0.4,   0.3,  0.3,  0.3, 0.3,   0.3,  0.3,  0.3, 0.3, 0.3],\n",
    "    # 'color': []\n",
    "}\n",
    "\n",
    "links['color'] = [\n",
    "    \"rgba(24,  118, 210 , 0.80)\",  # DA to PDA\n",
    "    \"rgba(24,  118, 210 , 0.80)\",  # Da to Sencodary\n",
    "    'rgba(24,  118, 210 , 0.60)',  # Primary to consolidated\n",
    "    'rgba(24,  118, 210 , 0.60)',  # PDA to HTML\n",
    "    'rgba(24,  118, 210 , 0.60)',  # PDA to presentation\n",
    "    'rgba(80, 80, 80, 0.1)',  # SDA to consolidated\n",
    "    'rgba(80, 80, 80, 0.1)',  # SDA to HTML\n",
    "    'rgba(80, 80, 80, 0.1)',  # SDA to Presentation\n",
    "    'rgba(80, 80, 80, 0.1)',  # Consolidated to PSC\n",
    "    'rgba(80, 80, 80, 0.1)',  # HTML to PSC\n",
    "    'rgba(80, 80, 80, 0.1)',  # Presentation to PSC\n",
    "    'rgba(210,25,210, 0.5)',  # Inventory to GFE\n",
    "    'rgba(80, 80, 80, 0.1)',  # GFE DM to Monthly\n",
    "    'rgba(80, 80, 80, 0.1)',  # Monthly to PSC\n",
    "    'rgba(80, 80, 80, 0.1)',  # GFE DM to CAP P\n",
    "    'rgba(80, 80, 80, 0.1)',  # Cap P to PSC\n",
    "    'rgba(80, 80, 80, 0.1)',  # PM to Jira\n",
    "    'rgba(25, 210, 28, 0.4)',  # PM to confluence\n",
    "    'rgba(80, 80, 80, 0.1)',  # confluence to PSC\n",
    "    'rgba(80, 80, 80, 0.1)',  # JIRA to PSC\n",
    "    'rgba(80, 80, 80, 0.1)',  # data migration to PSC\n",
    "    'rgba(25, 210, 25, 0.4)',  # Screening to PDA\n",
    "    'rgba(24,  118, 210 , 0.60)',  # PDA to Screening report\n",
    "    'rgba(80, 80, 80, 0.1)',  # Screening report to PSC\n",
    "    'rgba(210, 117, 25, 0.4)',  # W&D to PDA\n",
    "    'rgba(210, 117, 25, 0.4)',  # W&D to SDA\n",
    "    'rgba(210,25,210, 0.5)',  # inventory to GFM\n",
    "    'rgba(80, 80, 80, 0.1)',  # GFM to Monthly\n",
    "    'rgba(80, 80, 80, 0.1)',  # GFM to CAP Planning\n",
    "    'rgba(24,  118, 210 , 0.60)',  # primary to data migration\n",
    "    'rgba(80, 80, 80, 0.1)',  # secondary to data migration\n",
    "    'rgba(24,  118, 210 , 0.80)',  # DA to data migration\n",
    "    'rgba(220, 66, 48, 0.4)',  # SPP to cell selection\n",
    "    'rgba(220, 66, 48, 0.4)',  # SPP to cell Analyzing calibration Data\n",
    "    'rgba(220, 66, 48, 0.4)',  # SPP to cell Analyzing cell selection\n",
    "    'rgba(80, 80, 80, 0.1)',  # dq/dv to BTC\n",
    "    'rgba(80, 80, 80, 0.1)',  # ACB to BTC\n",
    "    'rgba(80, 80, 80, 0.1)',  # Cell select to BTC\n",
    "    'rgba(24,  118, 210 , 0.80)',  # Data analysis to dQ/dV\n",
    "    'rgba(80, 80, 80, 0.1)',  # project management to web task forms\n",
    "    'rgba(80, 80, 80, 0.1)',  # web task forms to PSC\n",
    "]\n",
    "# Define node positions (x and y coordinates)\n",
    "node_positions = {\n",
    "    \"Data Analysis\": (0.01, -0.05),\n",
    "    \"Inventory\": (0.01, 0.50),\n",
    "    \"Project Management\": (0.01, 0.70),\n",
    "    \"Data Migration/cataloging\": (0.66, 0.2),\n",
    "    \"Web Forms for Tasks\": (0.30, 0.73),\n",
    "    \"Screening System\": (0.01, 0.30),\n",
    "    \"Confluence\": (0.30, 0.55),\n",
    "    \"Weight & Dimensions\": (0.01, 0.13),\n",
    "    \"Secondary\": (0.30, 0.19),\n",
    "    \"Primary\": (0.30, -0.01),\n",
    "    \"GFE Data Migration\": (0.30, 0.35),\n",
    "    \"JIRA\": (0.30, 0.65),\n",
    "    \"Consolidated Reports\": (0.66, -0.005),\n",
    "    \"HTML Handbook\": (0.66, 0.40),\n",
    "    \"Presentations\": (0.66, 0.50),\n",
    "    \"Periodic Reports\": (0.66, 0.60),\n",
    "    \"Screening Report\": (0.66, 0.30),\n",
    "    \"Customer\": (0.0, 0.0),\n",
    "    \"Cap Planning\": (0.66, 0.70),\n",
    "    \"GFM\": (0.30, 0.45),\n",
    "    \"BTC\": (0.0, 0.0),\n",
    "    \"Special Projects\": (0.0, 0.0),\n",
    "    \"dQ/dV\": (0.30, 0.85),\n",
    "    \"Analyzing Calibration Data\": (0.30, 0.93),\n",
    "    \"Cell Selection\": (0.30, 1.0),\n",
    "}\n",
    "\n",
    "# Create a list of x and y coordinates for nodes\n",
    "node_x = [node_positions[label][0] for label in nodes[\"label\"]]\n",
    "node_y = [node_positions[label][1] for label in nodes[\"label\"]]\n",
    "\n",
    "# Update the nodes dictionary with x and y coordinates\n",
    "nodes[\"x\"] = node_x\n",
    "nodes[\"y\"] = node_y\n",
    "fig = go.Figure(go.Sankey(\n",
    "    node=nodes,\n",
    "    link=links\n",
    "))\n",
    "# MCSR\n",
    "# Update layout and display the diagram\n",
    "# Make GFE and GFM its ownn line\n",
    "# add web based task forms\n",
    "# add percentage from 0 to 9 depending on the amount of effort that we are putting into the project\n",
    "# build a story with the lines\n",
    "# Have colors\n",
    "\n",
    "fig.update_layout(title_text=\"BTC Software Programs\", font_size=20)\n",
    "fig.show()\n",
    "fig.write_image('images/fig7.png', width=1100, height=450)"
   ]
  },
  {
   "cell_type": "code",
   "execution_count": 35,
   "metadata": {},
   "outputs": [
    {
     "data": {
      "application/vnd.plotly.v1+json": {
       "config": {
        "plotlyServerURL": "https://plot.ly"
       },
       "data": [
        {
         "link": {
          "color": [
           "rgba(24,  118, 210 , 0.80)",
           "rgba(24,  118, 210 , 0.80)",
           "rgba(24,  118, 210 , 0.60)",
           "rgba(24,  118, 210 , 0.60)",
           "rgba(24,  118, 210 , 0.60)",
           "rgba(80, 80, 80, 0.1)",
           "rgba(80, 80, 80, 0.1)",
           "rgba(80, 80, 80, 0.1)",
           "rgba(80, 80, 80, 0.1)",
           "rgba(80, 80, 80, 0.1)",
           "rgba(80, 80, 80, 0.1)",
           "rgba(210,25,210, 0.5)",
           "rgba(209, 2, 136, 0.4)",
           "rgba(80, 80, 80, 0.1)",
           "rgba(209, 2, 136, 0.4)",
           "rgba(80, 80, 80, 0.1)",
           "rgba(80, 80, 80, 0.1)",
           "rgba(25, 210, 28, 0.4)",
           "rgba(80, 80, 80, 0.1)",
           "rgba(80, 80, 80, 0.1)",
           "rgba(80, 80, 80, 0.1)",
           "rgba(25, 210, 25, 0.4)",
           "rgba(24,  118, 210 , 0.60)",
           "rgba(80, 80, 80, 0.1)",
           "rgba(210, 117, 25, 0.4)",
           "rgba(210, 117, 25, 0.4)",
           "rgba(210,25,210, 0.5)",
           "rgba(112, 25, 74, 0.4)",
           "rgba(112, 25, 74, 0.4)",
           "rgba(24,  118, 210 , 0.60)",
           "rgba(80, 80, 80, 0.1)",
           "rgba(24,  118, 210 , 0.80)",
           "rgba(220, 66, 48, 0.4)",
           "rgba(220, 66, 48, 0.4)",
           "rgba(220, 66, 48, 0.4)",
           "rgba(80, 80, 80, 0.1)",
           "rgba(80, 80, 80, 0.1)",
           "rgba(80, 80, 80, 0.1)",
           "rgba(24,  118, 210 , 0.80)",
           "rgba(80, 80, 80, 0.1)",
           "rgba(80, 80, 80, 0.1)"
          ],
          "source": [
           0,
           0,
           8,
           8,
           8,
           9,
           9,
           9,
           12,
           13,
           14,
           1,
           10,
           15,
           10,
           18,
           2,
           2,
           5,
           11,
           4,
           6,
           8,
           16,
           7,
           7,
           1,
           19,
           19,
           8,
           9,
           0,
           21,
           21,
           21,
           22,
           23,
           24,
           0,
           2,
           3
          ],
          "target": [
           8,
           9,
           12,
           13,
           14,
           12,
           13,
           14,
           17,
           17,
           17,
           10,
           15,
           17,
           18,
           17,
           11,
           5,
           17,
           17,
           17,
           8,
           16,
           17,
           8,
           9,
           19,
           15,
           18,
           4,
           4,
           4,
           22,
           23,
           24,
           20,
           20,
           20,
           22,
           3,
           17
          ],
          "value": [
           3.2,
           0.4,
           3.2,
           0.4,
           0.4,
           0.4,
           0.4,
           0.4,
           3.2,
           0.2,
           0.4,
           0.8,
           0.4,
           0.8,
           0.4,
           0.8,
           0.4,
           0.4,
           0.4,
           0.4,
           0.4,
           0.4,
           0.8,
           0.8,
           0.5,
           0.5,
           0.4,
           0.4,
           0.4,
           0.4,
           0.4,
           0.4,
           0.3,
           0.3,
           0.3,
           0.3,
           0.3,
           0.3,
           0.3,
           0.3,
           0.3
          ]
         },
         "node": {
          "color": [
           "rgba(24,  118, 210 , 0.80)",
           "rgba(210,25,210, 0.5)",
           "rgba(25, 210, 28, 0.4)",
           "rgba(80, 80, 80, 0.1)",
           "rgba(80, 80, 80, 0.1)",
           "rgba(80, 80, 80, 0.1)",
           "rgba(25, 210, 25, 0.4)",
           "rgba(210, 117, 25, 0.4)",
           "rgba(24,  118, 210 , 0.60)",
           "rgba(80, 80, 80, 0.1)",
           "rgba(209, 2, 136, 0.4)",
           "rgba(80, 80, 80, 0.1)",
           "rgba(80, 80, 80, 0.1)",
           "rgba(80, 80, 80, 0.1)",
           "rgba(80, 80, 80, 0.1)",
           "rgba(80, 80, 80, 0.1)",
           "rgba(80, 80, 80, 0.1)",
           "rgba(80, 80, 80, 0.1)",
           "rgba(80, 80, 80, 0.1)",
           "rgba(112, 25, 74, 0.4)",
           "rgba(80, 80, 80, 0.1)",
           "rgba(220, 66, 48, 0.4)",
           "rgba(80, 80, 80, 0.1)",
           "rgba(80, 80, 80, 0.1)",
           "rgba(80, 80, 80, 0.1)"
          ],
          "label": [
           "Data Analysis",
           "Inventory",
           "Project Management",
           "Web Forms for Tasks",
           "Data Migration/cataloging",
           "Confluence",
           "Screening System",
           "Weight & Dimensions",
           "Primary",
           "Secondary",
           "GFE Data Migration",
           "JIRA",
           "Consolidated Reports",
           "HTML Handbook",
           "Presentations",
           "Periodic Reports",
           "Screening Report",
           "Customer",
           "Cap Planning",
           "GFM",
           "BTC",
           "Special Projects",
           "dQ/dV",
           "Analyzing Calibration Data",
           "Cell Selection"
          ],
          "line": {
           "color": "black",
           "width": 0.5
          },
          "pad": 15,
          "thickness": 20,
          "x": [
           0.01,
           0.01,
           0.01,
           0.3,
           0.66,
           0.3,
           0.01,
           0.01,
           0.3,
           0.3,
           0.3,
           0.3,
           0.66,
           0.66,
           0.66,
           0.66,
           0.66,
           0,
           0.66,
           0.3,
           0,
           0,
           0.3,
           0.3,
           0.3
          ],
          "y": [
           -0.05,
           0.5,
           0.7,
           0.73,
           0.2,
           0.55,
           0.3,
           0.13,
           -0.01,
           0.19,
           0.35,
           0.65,
           -0.005,
           0.4,
           0.5,
           0.6,
           0.3,
           0,
           0.7,
           0.45,
           0,
           0,
           0.85,
           0.93,
           1
          ]
         },
         "type": "sankey"
        }
       ],
       "layout": {
        "font": {
         "size": 20
        },
        "template": {
         "data": {
          "bar": [
           {
            "error_x": {
             "color": "#2a3f5f"
            },
            "error_y": {
             "color": "#2a3f5f"
            },
            "marker": {
             "line": {
              "color": "#E5ECF6",
              "width": 0.5
             },
             "pattern": {
              "fillmode": "overlay",
              "size": 10,
              "solidity": 0.2
             }
            },
            "type": "bar"
           }
          ],
          "barpolar": [
           {
            "marker": {
             "line": {
              "color": "#E5ECF6",
              "width": 0.5
             },
             "pattern": {
              "fillmode": "overlay",
              "size": 10,
              "solidity": 0.2
             }
            },
            "type": "barpolar"
           }
          ],
          "carpet": [
           {
            "aaxis": {
             "endlinecolor": "#2a3f5f",
             "gridcolor": "white",
             "linecolor": "white",
             "minorgridcolor": "white",
             "startlinecolor": "#2a3f5f"
            },
            "baxis": {
             "endlinecolor": "#2a3f5f",
             "gridcolor": "white",
             "linecolor": "white",
             "minorgridcolor": "white",
             "startlinecolor": "#2a3f5f"
            },
            "type": "carpet"
           }
          ],
          "choropleth": [
           {
            "colorbar": {
             "outlinewidth": 0,
             "ticks": ""
            },
            "type": "choropleth"
           }
          ],
          "contour": [
           {
            "colorbar": {
             "outlinewidth": 0,
             "ticks": ""
            },
            "colorscale": [
             [
              0,
              "#0d0887"
             ],
             [
              0.1111111111111111,
              "#46039f"
             ],
             [
              0.2222222222222222,
              "#7201a8"
             ],
             [
              0.3333333333333333,
              "#9c179e"
             ],
             [
              0.4444444444444444,
              "#bd3786"
             ],
             [
              0.5555555555555556,
              "#d8576b"
             ],
             [
              0.6666666666666666,
              "#ed7953"
             ],
             [
              0.7777777777777778,
              "#fb9f3a"
             ],
             [
              0.8888888888888888,
              "#fdca26"
             ],
             [
              1,
              "#f0f921"
             ]
            ],
            "type": "contour"
           }
          ],
          "contourcarpet": [
           {
            "colorbar": {
             "outlinewidth": 0,
             "ticks": ""
            },
            "type": "contourcarpet"
           }
          ],
          "heatmap": [
           {
            "colorbar": {
             "outlinewidth": 0,
             "ticks": ""
            },
            "colorscale": [
             [
              0,
              "#0d0887"
             ],
             [
              0.1111111111111111,
              "#46039f"
             ],
             [
              0.2222222222222222,
              "#7201a8"
             ],
             [
              0.3333333333333333,
              "#9c179e"
             ],
             [
              0.4444444444444444,
              "#bd3786"
             ],
             [
              0.5555555555555556,
              "#d8576b"
             ],
             [
              0.6666666666666666,
              "#ed7953"
             ],
             [
              0.7777777777777778,
              "#fb9f3a"
             ],
             [
              0.8888888888888888,
              "#fdca26"
             ],
             [
              1,
              "#f0f921"
             ]
            ],
            "type": "heatmap"
           }
          ],
          "heatmapgl": [
           {
            "colorbar": {
             "outlinewidth": 0,
             "ticks": ""
            },
            "colorscale": [
             [
              0,
              "#0d0887"
             ],
             [
              0.1111111111111111,
              "#46039f"
             ],
             [
              0.2222222222222222,
              "#7201a8"
             ],
             [
              0.3333333333333333,
              "#9c179e"
             ],
             [
              0.4444444444444444,
              "#bd3786"
             ],
             [
              0.5555555555555556,
              "#d8576b"
             ],
             [
              0.6666666666666666,
              "#ed7953"
             ],
             [
              0.7777777777777778,
              "#fb9f3a"
             ],
             [
              0.8888888888888888,
              "#fdca26"
             ],
             [
              1,
              "#f0f921"
             ]
            ],
            "type": "heatmapgl"
           }
          ],
          "histogram": [
           {
            "marker": {
             "pattern": {
              "fillmode": "overlay",
              "size": 10,
              "solidity": 0.2
             }
            },
            "type": "histogram"
           }
          ],
          "histogram2d": [
           {
            "colorbar": {
             "outlinewidth": 0,
             "ticks": ""
            },
            "colorscale": [
             [
              0,
              "#0d0887"
             ],
             [
              0.1111111111111111,
              "#46039f"
             ],
             [
              0.2222222222222222,
              "#7201a8"
             ],
             [
              0.3333333333333333,
              "#9c179e"
             ],
             [
              0.4444444444444444,
              "#bd3786"
             ],
             [
              0.5555555555555556,
              "#d8576b"
             ],
             [
              0.6666666666666666,
              "#ed7953"
             ],
             [
              0.7777777777777778,
              "#fb9f3a"
             ],
             [
              0.8888888888888888,
              "#fdca26"
             ],
             [
              1,
              "#f0f921"
             ]
            ],
            "type": "histogram2d"
           }
          ],
          "histogram2dcontour": [
           {
            "colorbar": {
             "outlinewidth": 0,
             "ticks": ""
            },
            "colorscale": [
             [
              0,
              "#0d0887"
             ],
             [
              0.1111111111111111,
              "#46039f"
             ],
             [
              0.2222222222222222,
              "#7201a8"
             ],
             [
              0.3333333333333333,
              "#9c179e"
             ],
             [
              0.4444444444444444,
              "#bd3786"
             ],
             [
              0.5555555555555556,
              "#d8576b"
             ],
             [
              0.6666666666666666,
              "#ed7953"
             ],
             [
              0.7777777777777778,
              "#fb9f3a"
             ],
             [
              0.8888888888888888,
              "#fdca26"
             ],
             [
              1,
              "#f0f921"
             ]
            ],
            "type": "histogram2dcontour"
           }
          ],
          "mesh3d": [
           {
            "colorbar": {
             "outlinewidth": 0,
             "ticks": ""
            },
            "type": "mesh3d"
           }
          ],
          "parcoords": [
           {
            "line": {
             "colorbar": {
              "outlinewidth": 0,
              "ticks": ""
             }
            },
            "type": "parcoords"
           }
          ],
          "pie": [
           {
            "automargin": true,
            "type": "pie"
           }
          ],
          "scatter": [
           {
            "fillpattern": {
             "fillmode": "overlay",
             "size": 10,
             "solidity": 0.2
            },
            "type": "scatter"
           }
          ],
          "scatter3d": [
           {
            "line": {
             "colorbar": {
              "outlinewidth": 0,
              "ticks": ""
             }
            },
            "marker": {
             "colorbar": {
              "outlinewidth": 0,
              "ticks": ""
             }
            },
            "type": "scatter3d"
           }
          ],
          "scattercarpet": [
           {
            "marker": {
             "colorbar": {
              "outlinewidth": 0,
              "ticks": ""
             }
            },
            "type": "scattercarpet"
           }
          ],
          "scattergeo": [
           {
            "marker": {
             "colorbar": {
              "outlinewidth": 0,
              "ticks": ""
             }
            },
            "type": "scattergeo"
           }
          ],
          "scattergl": [
           {
            "marker": {
             "colorbar": {
              "outlinewidth": 0,
              "ticks": ""
             }
            },
            "type": "scattergl"
           }
          ],
          "scattermapbox": [
           {
            "marker": {
             "colorbar": {
              "outlinewidth": 0,
              "ticks": ""
             }
            },
            "type": "scattermapbox"
           }
          ],
          "scatterpolar": [
           {
            "marker": {
             "colorbar": {
              "outlinewidth": 0,
              "ticks": ""
             }
            },
            "type": "scatterpolar"
           }
          ],
          "scatterpolargl": [
           {
            "marker": {
             "colorbar": {
              "outlinewidth": 0,
              "ticks": ""
             }
            },
            "type": "scatterpolargl"
           }
          ],
          "scatterternary": [
           {
            "marker": {
             "colorbar": {
              "outlinewidth": 0,
              "ticks": ""
             }
            },
            "type": "scatterternary"
           }
          ],
          "surface": [
           {
            "colorbar": {
             "outlinewidth": 0,
             "ticks": ""
            },
            "colorscale": [
             [
              0,
              "#0d0887"
             ],
             [
              0.1111111111111111,
              "#46039f"
             ],
             [
              0.2222222222222222,
              "#7201a8"
             ],
             [
              0.3333333333333333,
              "#9c179e"
             ],
             [
              0.4444444444444444,
              "#bd3786"
             ],
             [
              0.5555555555555556,
              "#d8576b"
             ],
             [
              0.6666666666666666,
              "#ed7953"
             ],
             [
              0.7777777777777778,
              "#fb9f3a"
             ],
             [
              0.8888888888888888,
              "#fdca26"
             ],
             [
              1,
              "#f0f921"
             ]
            ],
            "type": "surface"
           }
          ],
          "table": [
           {
            "cells": {
             "fill": {
              "color": "#EBF0F8"
             },
             "line": {
              "color": "white"
             }
            },
            "header": {
             "fill": {
              "color": "#C8D4E3"
             },
             "line": {
              "color": "white"
             }
            },
            "type": "table"
           }
          ]
         },
         "layout": {
          "annotationdefaults": {
           "arrowcolor": "#2a3f5f",
           "arrowhead": 0,
           "arrowwidth": 1
          },
          "autotypenumbers": "strict",
          "coloraxis": {
           "colorbar": {
            "outlinewidth": 0,
            "ticks": ""
           }
          },
          "colorscale": {
           "diverging": [
            [
             0,
             "#8e0152"
            ],
            [
             0.1,
             "#c51b7d"
            ],
            [
             0.2,
             "#de77ae"
            ],
            [
             0.3,
             "#f1b6da"
            ],
            [
             0.4,
             "#fde0ef"
            ],
            [
             0.5,
             "#f7f7f7"
            ],
            [
             0.6,
             "#e6f5d0"
            ],
            [
             0.7,
             "#b8e186"
            ],
            [
             0.8,
             "#7fbc41"
            ],
            [
             0.9,
             "#4d9221"
            ],
            [
             1,
             "#276419"
            ]
           ],
           "sequential": [
            [
             0,
             "#0d0887"
            ],
            [
             0.1111111111111111,
             "#46039f"
            ],
            [
             0.2222222222222222,
             "#7201a8"
            ],
            [
             0.3333333333333333,
             "#9c179e"
            ],
            [
             0.4444444444444444,
             "#bd3786"
            ],
            [
             0.5555555555555556,
             "#d8576b"
            ],
            [
             0.6666666666666666,
             "#ed7953"
            ],
            [
             0.7777777777777778,
             "#fb9f3a"
            ],
            [
             0.8888888888888888,
             "#fdca26"
            ],
            [
             1,
             "#f0f921"
            ]
           ],
           "sequentialminus": [
            [
             0,
             "#0d0887"
            ],
            [
             0.1111111111111111,
             "#46039f"
            ],
            [
             0.2222222222222222,
             "#7201a8"
            ],
            [
             0.3333333333333333,
             "#9c179e"
            ],
            [
             0.4444444444444444,
             "#bd3786"
            ],
            [
             0.5555555555555556,
             "#d8576b"
            ],
            [
             0.6666666666666666,
             "#ed7953"
            ],
            [
             0.7777777777777778,
             "#fb9f3a"
            ],
            [
             0.8888888888888888,
             "#fdca26"
            ],
            [
             1,
             "#f0f921"
            ]
           ]
          },
          "colorway": [
           "#636efa",
           "#EF553B",
           "#00cc96",
           "#ab63fa",
           "#FFA15A",
           "#19d3f3",
           "#FF6692",
           "#B6E880",
           "#FF97FF",
           "#FECB52"
          ],
          "font": {
           "color": "#2a3f5f"
          },
          "geo": {
           "bgcolor": "white",
           "lakecolor": "white",
           "landcolor": "#E5ECF6",
           "showlakes": true,
           "showland": true,
           "subunitcolor": "white"
          },
          "hoverlabel": {
           "align": "left"
          },
          "hovermode": "closest",
          "mapbox": {
           "style": "light"
          },
          "paper_bgcolor": "white",
          "plot_bgcolor": "#E5ECF6",
          "polar": {
           "angularaxis": {
            "gridcolor": "white",
            "linecolor": "white",
            "ticks": ""
           },
           "bgcolor": "#E5ECF6",
           "radialaxis": {
            "gridcolor": "white",
            "linecolor": "white",
            "ticks": ""
           }
          },
          "scene": {
           "xaxis": {
            "backgroundcolor": "#E5ECF6",
            "gridcolor": "white",
            "gridwidth": 2,
            "linecolor": "white",
            "showbackground": true,
            "ticks": "",
            "zerolinecolor": "white"
           },
           "yaxis": {
            "backgroundcolor": "#E5ECF6",
            "gridcolor": "white",
            "gridwidth": 2,
            "linecolor": "white",
            "showbackground": true,
            "ticks": "",
            "zerolinecolor": "white"
           },
           "zaxis": {
            "backgroundcolor": "#E5ECF6",
            "gridcolor": "white",
            "gridwidth": 2,
            "linecolor": "white",
            "showbackground": true,
            "ticks": "",
            "zerolinecolor": "white"
           }
          },
          "shapedefaults": {
           "line": {
            "color": "#2a3f5f"
           }
          },
          "ternary": {
           "aaxis": {
            "gridcolor": "white",
            "linecolor": "white",
            "ticks": ""
           },
           "baxis": {
            "gridcolor": "white",
            "linecolor": "white",
            "ticks": ""
           },
           "bgcolor": "#E5ECF6",
           "caxis": {
            "gridcolor": "white",
            "linecolor": "white",
            "ticks": ""
           }
          },
          "title": {
           "x": 0.05
          },
          "xaxis": {
           "automargin": true,
           "gridcolor": "white",
           "linecolor": "white",
           "ticks": "",
           "title": {
            "standoff": 15
           },
           "zerolinecolor": "white",
           "zerolinewidth": 2
          },
          "yaxis": {
           "automargin": true,
           "gridcolor": "white",
           "linecolor": "white",
           "ticks": "",
           "title": {
            "standoff": 15
           },
           "zerolinecolor": "white",
           "zerolinewidth": 2
          }
         }
        },
        "title": {
         "text": "BTC Software Programs"
        }
       }
      }
     },
     "metadata": {},
     "output_type": "display_data"
    },
    {
     "data": {
      "text/plain": [
       "<Figure size 1200x1600 with 0 Axes>"
      ]
     },
     "metadata": {},
     "output_type": "display_data"
    }
   ],
   "source": [
    "\n",
    "import matplotlib.pyplot as plt\n",
    "import plotly.graph_objects as go\n",
    "import plotly.graph_objects as go\n",
    "import plotly.express as px\n",
    "plt.figure(figsize=(12, 16))\n",
    "# Define the nodes and links\n",
    "nodes = {\n",
    "    \"pad\": 15,\n",
    "    \"thickness\": 20,\n",
    "    \"line\": dict(color=\"black\", width=0.5),\n",
    "    \"label\": [\n",
    "        \"Data Analysis\",\n",
    "        \"Inventory\",\n",
    "        \"Project Management\",\n",
    "        'Web Forms for Tasks',\n",
    "        'Data Migration/cataloging',\n",
    "        'Confluence',\n",
    "        'Screening System',\n",
    "        'Weight & Dimensions',\n",
    "        'Primary',\n",
    "        'Secondary',\n",
    "        'GFE Data Migration',\n",
    "        'JIRA',\n",
    "        'Consolidated Reports',\n",
    "        'HTML Handbook',\n",
    "        'Presentations',\n",
    "        'Periodic Reports',\n",
    "        'Screening Report',\n",
    "        'Customer',\n",
    "        'Cap Planning',\n",
    "        'GFM',\n",
    "        'BTC',  # 20\n",
    "        'Special Projects',\n",
    "        'dQ/dV',\n",
    "        'Analyzing Calibration Data',\n",
    "        'Cell Selection',\n",
    "    ],\n",
    "    \"color\": [\n",
    "        'rgba(24,  118, 210 , 0.80)',  # da\n",
    "        'rgba(210,25,210, 0.5)',  # inv\n",
    "        'rgba(25, 210, 28, 0.4)',  # Project M\n",
    "        'rgba(80, 80, 80, 0.1)',  # Web task Forms\n",
    "        'rgba(80, 80, 80, 0.1)',  # DM\n",
    "        'rgba(80, 80, 80, 0.1)',  # Confluence\n",
    "        'rgba(25, 210, 25, 0.4)',  # Screening\n",
    "        'rgba(210, 117, 25, 0.4)',  # WD\n",
    "        'rgba(24,  118, 210 , 0.60)',  # PMDA\n",
    "        'rgba(80, 80, 80, 0.1)',  # SDDA\n",
    "        'rgba(209, 2, 136, 0.4)',  # GFE DAM\n",
    "        'rgba(80, 80, 80, 0.1)',  # JIRA\n",
    "        'rgba(80, 80, 80, 0.1)',  # consolidated reports\n",
    "        'rgba(80, 80, 80, 0.1)',  # HTML\n",
    "        'rgba(80, 80, 80, 0.1)',  # presentation\n",
    "        'rgba(80, 80, 80, 0.1)',  # Periodic\n",
    "        'rgba(80, 80, 80, 0.1)',  # screening report\n",
    "        'rgba(80, 80, 80, 0.1)',  # customer\n",
    "        'rgba(80, 80, 80, 0.1)',  # CAP Plan\n",
    "        'rgba(112, 25, 74, 0.4)',  # GFM\n",
    "        'rgba(80, 80, 80, 0.1)',  # BTC\n",
    "        'rgba(220, 66, 48, 0.4)',  # Special Projects\n",
    "        'rgba(80, 80, 80, 0.1)',  # dQ/dV\n",
    "        'rgba(80, 80, 80, 0.1)',  # Analyzing calibration data\n",
    "        'rgba(80, 80, 80, 0.1)',  # Cell Selection\n",
    "    ]\n",
    "\n",
    "}\n",
    "links = {  # DA      Dap/das to deliverables  # D to PSC        #    Inventory     # Project Management     dm    screening                                                                       # Web task forms\n",
    "    'source': [0, 0,  8,  8,  8, 9,   9,  9,   12, 13, 14,       1, 10, 15, 10, 18,     2, 2, 5, 11,         4,  6, 8, 16,      7, 7,  1,  19, 19,    8, 9, 0,  21, 21, 21, 22, 23, 24,      0,    2, 3],\n",
    "    'target': [8, 9,  12, 13, 14, 12, 13, 14,   17, 17, 17,      10, 15, 17, 18, 17,    11, 5, 17, 17,       17, 8, 16, 17,      8, 9,  19,  15, 18,  4, 4, 4,  22, 23, 24, 20, 20, 20,      22,   3, 17],\n",
    "    'value':  [3.2, 0.4, 3.2,  0.4,  0.4, 0.4,   0.4,  0.4, 3.2, 0.20,  0.4,      0.8,  0.4, 0.8, 0.4, 0.8,      0.4, 0.4,  0.4, 0.4,          0.4,  0.4,  0.8, 0.8,      0.5, 0.5,  0.4,   0.4, 0.4,     0.4, 0.4, 0.4,   0.3,  0.3,  0.3, 0.3,   0.3,  0.3,  0.3, 0.3, 0.3],\n",
    "    # 'color': []\n",
    "}\n",
    "\n",
    "links['color'] = [\n",
    "    \"rgba(24,  118, 210 , 0.80)\",  # DA to PDA\n",
    "    \"rgba(24,  118, 210 , 0.80)\",  # Da to Sencodary\n",
    "    'rgba(24,  118, 210 , 0.60)',  # Primary to consolidated\n",
    "    'rgba(24,  118, 210 , 0.60)',  # PDA to HTML\n",
    "    'rgba(24,  118, 210 , 0.60)',  # PDA to presentation\n",
    "    'rgba(80, 80, 80, 0.1)',  # SDA to consolidated\n",
    "    'rgba(80, 80, 80, 0.1)',  # SDA to HTML\n",
    "    'rgba(80, 80, 80, 0.1)',  # SDA to Presentation\n",
    "    'rgba(80, 80, 80, 0.1)',  # Consolidated to PSC\n",
    "    'rgba(80, 80, 80, 0.1)',  # HTML to PSC\n",
    "    'rgba(80, 80, 80, 0.1)',  # Presentation to PSC\n",
    "    'rgba(210,25,210, 0.5)',  # Inventory to GFE\n",
    "    'rgba(209, 2, 136, 0.4)',  # GFE DM to Monthly\n",
    "    'rgba(80, 80, 80, 0.1)',  # Monthly to PSC\n",
    "    'rgba(209, 2, 136, 0.4)',  # GFE DM to CAP P\n",
    "    'rgba(80, 80, 80, 0.1)',  # Cap P to PSC\n",
    "    'rgba(80, 80, 80, 0.1)',  # PM to Jira\n",
    "    'rgba(25, 210, 28, 0.4)',  # PM to confluence\n",
    "    'rgba(80, 80, 80, 0.1)',  # confluence to PSC\n",
    "    'rgba(80, 80, 80, 0.1)',  # JIRA to PSC\n",
    "    'rgba(80, 80, 80, 0.1)',  # data migration to PSC\n",
    "    'rgba(25, 210, 25, 0.4)',  # Screening to PDA\n",
    "    'rgba(24,  118, 210 , 0.60)',  # PDA to Screening report\n",
    "    'rgba(80, 80, 80, 0.1)',  # Screening report to PSC\n",
    "    'rgba(210, 117, 25, 0.4)',  # W&D to PDA\n",
    "    'rgba(210, 117, 25, 0.4)',  # W&D to SDA\n",
    "    'rgba(210,25,210, 0.5)',  # inventory to GFM\n",
    "    'rgba(112, 25, 74, 0.4)',  # GFM to Monthly\n",
    "    'rgba(112, 25, 74, 0.4)',  # GFM to CAP Planning\n",
    "    'rgba(24,  118, 210 , 0.60)',  # primary to data migration\n",
    "    'rgba(80, 80, 80, 0.1)',  # secondary to data migration\n",
    "    'rgba(24,  118, 210 , 0.80)',  # DA to data migration\n",
    "    'rgba(220, 66, 48, 0.4)',  # SPP to cell selection\n",
    "    'rgba(220, 66, 48, 0.4)',  # SPP to cell Analyzing calibration Data\n",
    "    'rgba(220, 66, 48, 0.4)',  # SPP to cell Analyzing cell selection\n",
    "    'rgba(80, 80, 80, 0.1)',  # dq/dv to BTC\n",
    "    'rgba(80, 80, 80, 0.1)',  # ACB to BTC\n",
    "    'rgba(80, 80, 80, 0.1)',  # Cell select to BTC\n",
    "    'rgba(24,  118, 210 , 0.80)',  # Data analysis to dQ/dV\n",
    "    'rgba(80, 80, 80, 0.1)',  # project management to web task forms\n",
    "    'rgba(80, 80, 80, 0.1)',  # web task forms to PSC\n",
    "]\n",
    "# Define node positions (x and y coordinates)\n",
    "node_positions = {\n",
    "    \"Data Analysis\": (0.01, -0.05),\n",
    "    \"Inventory\": (0.01, 0.50),\n",
    "    \"Project Management\": (0.01, 0.70),\n",
    "    \"Data Migration/cataloging\": (0.66, 0.2),\n",
    "    \"Web Forms for Tasks\": (0.30, 0.73),\n",
    "    \"Screening System\": (0.01, 0.30),\n",
    "    \"Confluence\": (0.30, 0.55),\n",
    "    \"Weight & Dimensions\": (0.01, 0.13),\n",
    "    \"Secondary\": (0.30, 0.19),\n",
    "    \"Primary\": (0.30, -0.01),\n",
    "    \"GFE Data Migration\": (0.30, 0.35),\n",
    "    \"JIRA\": (0.30, 0.65),\n",
    "    \"Consolidated Reports\": (0.66, -0.005),\n",
    "    \"HTML Handbook\": (0.66, 0.40),\n",
    "    \"Presentations\": (0.66, 0.50),\n",
    "    \"Periodic Reports\": (0.66, 0.60),\n",
    "    \"Screening Report\": (0.66, 0.30),\n",
    "    \"Customer\": (0.0, 0.0),\n",
    "    \"Cap Planning\": (0.66, 0.70),\n",
    "    \"GFM\": (0.30, 0.45),\n",
    "    \"BTC\": (0.0, 0.0),\n",
    "    \"Special Projects\": (0.0, 0.0),\n",
    "    \"dQ/dV\": (0.30, 0.85),\n",
    "    \"Analyzing Calibration Data\": (0.30, 0.93),\n",
    "    \"Cell Selection\": (0.30, 1.0),\n",
    "}\n",
    "\n",
    "# Create a list of x and y coordinates for nodes\n",
    "node_x = [node_positions[label][0] for label in nodes[\"label\"]]\n",
    "node_y = [node_positions[label][1] for label in nodes[\"label\"]]\n",
    "\n",
    "# Update the nodes dictionary with x and y coordinates\n",
    "nodes[\"x\"] = node_x\n",
    "nodes[\"y\"] = node_y\n",
    "fig = go.Figure(go.Sankey(\n",
    "    node=nodes,\n",
    "    link=links\n",
    "))\n",
    "# MCSR\n",
    "# Update layout and display the diagram\n",
    "# Make GFE and GFM its ownn line\n",
    "# add web based task forms\n",
    "# add percentage from 0 to 9 depending on the amount of effort that we are putting into the project\n",
    "# build a story with the lines\n",
    "# Have colors\n",
    "\n",
    "fig.update_layout(title_text=\"BTC Software Programs\", font_size=20)\n",
    "fig.show()\n",
    "fig.write_image('images/fig8.png', width=1100, height=450)"
   ]
  },
  {
   "cell_type": "code",
   "execution_count": 36,
   "metadata": {},
   "outputs": [
    {
     "data": {
      "application/vnd.plotly.v1+json": {
       "config": {
        "plotlyServerURL": "https://plot.ly"
       },
       "data": [
        {
         "link": {
          "color": [
           "rgba(24,  118, 210 , 0.80)",
           "rgba(24,  118, 210 , 0.80)",
           "rgba(24,  118, 210 , 0.60)",
           "rgba(24,  118, 210 , 0.60)",
           "rgba(24,  118, 210 , 0.60)",
           "rgba(80, 80, 80, 0.1)",
           "rgba(80, 80, 80, 0.1)",
           "rgba(80, 80, 80, 0.1)",
           "rgba(80, 80, 80, 0.1)",
           "rgba(80, 80, 80, 0.1)",
           "rgba(80, 80, 80, 0.1)",
           "rgba(210,25,210, 0.5)",
           "rgba(209, 2, 136, 0.4)",
           "rgba(80, 80, 80, 0.1)",
           "rgba(209, 2, 136, 0.4)",
           "rgba(80, 80, 80, 0.1)",
           "rgba(80, 80, 80, 0.1)",
           "rgba(25, 210, 28, 0.4)",
           "rgba(25, 210, 28, 0.6)",
           "rgba(80, 80, 80, 0.1)",
           "rgba(80, 80, 80, 0.1)",
           "rgba(25, 210, 25, 0.4)",
           "rgba(24,  118, 210 , 0.60)",
           "rgba(80, 80, 80, 0.1)",
           "rgba(210, 117, 25, 0.4)",
           "rgba(210, 117, 25, 0.4)",
           "rgba(210,25,210, 0.5)",
           "rgba(112, 25, 74, 0.4)",
           "rgba(112, 25, 74, 0.4)",
           "rgba(24,  118, 210 , 0.60)",
           "rgba(80, 80, 80, 0.1)",
           "rgba(24,  118, 210 , 0.80)",
           "rgba(220, 66, 48, 0.4)",
           "rgba(220, 66, 48, 0.4)",
           "rgba(220, 66, 48, 0.4)",
           "rgba(80, 80, 80, 0.1)",
           "rgba(80, 80, 80, 0.1)",
           "rgba(80, 80, 80, 0.1)",
           "rgba(24,  118, 210 , 0.80)",
           "rgba(80, 80, 80, 0.1)",
           "rgba(80, 80, 80, 0.1)"
          ],
          "source": [
           0,
           0,
           8,
           8,
           8,
           9,
           9,
           9,
           12,
           13,
           14,
           1,
           10,
           15,
           10,
           18,
           2,
           2,
           5,
           11,
           4,
           6,
           8,
           16,
           7,
           7,
           1,
           19,
           19,
           8,
           9,
           0,
           21,
           21,
           21,
           22,
           23,
           24,
           0,
           2,
           3
          ],
          "target": [
           8,
           9,
           12,
           13,
           14,
           12,
           13,
           14,
           17,
           17,
           17,
           10,
           15,
           17,
           18,
           17,
           11,
           5,
           17,
           17,
           17,
           8,
           16,
           17,
           8,
           9,
           19,
           15,
           18,
           4,
           4,
           4,
           22,
           23,
           24,
           20,
           20,
           20,
           22,
           3,
           17
          ],
          "value": [
           3.2,
           0.4,
           3.2,
           0.4,
           0.4,
           0.4,
           0.4,
           0.4,
           3.2,
           0.2,
           0.4,
           0.8,
           0.4,
           0.8,
           0.4,
           0.8,
           0.4,
           0.4,
           0.4,
           0.4,
           0.4,
           0.4,
           0.8,
           0.8,
           0.5,
           0.5,
           0.4,
           0.4,
           0.4,
           0.4,
           0.4,
           0.4,
           0.3,
           0.3,
           0.3,
           0.3,
           0.3,
           0.3,
           0.3,
           0.3,
           0.3
          ]
         },
         "node": {
          "color": [
           "rgba(24,  118, 210 , 0.80)",
           "rgba(210,25,210, 0.5)",
           "rgba(25, 210, 28, 0.4)",
           "rgba(80, 80, 80, 0.1)",
           "rgba(80, 80, 80, 0.1)",
           "rgba(25, 210, 28, 0.6)",
           "rgba(25, 210, 25, 0.4)",
           "rgba(210, 117, 25, 0.4)",
           "rgba(24,  118, 210 , 0.60)",
           "rgba(80, 80, 80, 0.1)",
           "rgba(209, 2, 136, 0.4)",
           "rgba(80, 80, 80, 0.1)",
           "rgba(80, 80, 80, 0.1)",
           "rgba(80, 80, 80, 0.1)",
           "rgba(80, 80, 80, 0.1)",
           "rgba(80, 80, 80, 0.1)",
           "rgba(80, 80, 80, 0.1)",
           "rgba(80, 80, 80, 0.1)",
           "rgba(80, 80, 80, 0.1)",
           "rgba(112, 25, 74, 0.4)",
           "rgba(80, 80, 80, 0.1)",
           "rgba(220, 66, 48, 0.4)",
           "rgba(80, 80, 80, 0.1)",
           "rgba(80, 80, 80, 0.1)",
           "rgba(80, 80, 80, 0.1)"
          ],
          "label": [
           "Data Analysis",
           "Inventory",
           "Project Management",
           "Web Forms for Tasks",
           "Data Migration/cataloging",
           "Confluence",
           "Screening System",
           "Weight & Dimensions",
           "Primary",
           "Secondary",
           "GFE Data Migration",
           "JIRA",
           "Consolidated Reports",
           "HTML Handbook",
           "Presentations",
           "Periodic Reports",
           "Screening Report",
           "Customer",
           "Cap Planning",
           "GFM",
           "BTC",
           "Special Projects",
           "dQ/dV",
           "Analyzing Calibration Data",
           "Cell Selection"
          ],
          "line": {
           "color": "black",
           "width": 0.5
          },
          "pad": 15,
          "thickness": 20,
          "x": [
           0.01,
           0.01,
           0.01,
           0.3,
           0.66,
           0.3,
           0.01,
           0.01,
           0.3,
           0.3,
           0.3,
           0.3,
           0.66,
           0.66,
           0.66,
           0.66,
           0.66,
           0,
           0.66,
           0.3,
           0,
           0,
           0.3,
           0.3,
           0.3
          ],
          "y": [
           -0.05,
           0.5,
           0.7,
           0.73,
           0.2,
           0.55,
           0.3,
           0.13,
           -0.01,
           0.19,
           0.35,
           0.65,
           -0.005,
           0.4,
           0.5,
           0.6,
           0.3,
           0,
           0.7,
           0.45,
           0,
           0,
           0.85,
           0.93,
           1
          ]
         },
         "type": "sankey"
        }
       ],
       "layout": {
        "font": {
         "size": 20
        },
        "template": {
         "data": {
          "bar": [
           {
            "error_x": {
             "color": "#2a3f5f"
            },
            "error_y": {
             "color": "#2a3f5f"
            },
            "marker": {
             "line": {
              "color": "#E5ECF6",
              "width": 0.5
             },
             "pattern": {
              "fillmode": "overlay",
              "size": 10,
              "solidity": 0.2
             }
            },
            "type": "bar"
           }
          ],
          "barpolar": [
           {
            "marker": {
             "line": {
              "color": "#E5ECF6",
              "width": 0.5
             },
             "pattern": {
              "fillmode": "overlay",
              "size": 10,
              "solidity": 0.2
             }
            },
            "type": "barpolar"
           }
          ],
          "carpet": [
           {
            "aaxis": {
             "endlinecolor": "#2a3f5f",
             "gridcolor": "white",
             "linecolor": "white",
             "minorgridcolor": "white",
             "startlinecolor": "#2a3f5f"
            },
            "baxis": {
             "endlinecolor": "#2a3f5f",
             "gridcolor": "white",
             "linecolor": "white",
             "minorgridcolor": "white",
             "startlinecolor": "#2a3f5f"
            },
            "type": "carpet"
           }
          ],
          "choropleth": [
           {
            "colorbar": {
             "outlinewidth": 0,
             "ticks": ""
            },
            "type": "choropleth"
           }
          ],
          "contour": [
           {
            "colorbar": {
             "outlinewidth": 0,
             "ticks": ""
            },
            "colorscale": [
             [
              0,
              "#0d0887"
             ],
             [
              0.1111111111111111,
              "#46039f"
             ],
             [
              0.2222222222222222,
              "#7201a8"
             ],
             [
              0.3333333333333333,
              "#9c179e"
             ],
             [
              0.4444444444444444,
              "#bd3786"
             ],
             [
              0.5555555555555556,
              "#d8576b"
             ],
             [
              0.6666666666666666,
              "#ed7953"
             ],
             [
              0.7777777777777778,
              "#fb9f3a"
             ],
             [
              0.8888888888888888,
              "#fdca26"
             ],
             [
              1,
              "#f0f921"
             ]
            ],
            "type": "contour"
           }
          ],
          "contourcarpet": [
           {
            "colorbar": {
             "outlinewidth": 0,
             "ticks": ""
            },
            "type": "contourcarpet"
           }
          ],
          "heatmap": [
           {
            "colorbar": {
             "outlinewidth": 0,
             "ticks": ""
            },
            "colorscale": [
             [
              0,
              "#0d0887"
             ],
             [
              0.1111111111111111,
              "#46039f"
             ],
             [
              0.2222222222222222,
              "#7201a8"
             ],
             [
              0.3333333333333333,
              "#9c179e"
             ],
             [
              0.4444444444444444,
              "#bd3786"
             ],
             [
              0.5555555555555556,
              "#d8576b"
             ],
             [
              0.6666666666666666,
              "#ed7953"
             ],
             [
              0.7777777777777778,
              "#fb9f3a"
             ],
             [
              0.8888888888888888,
              "#fdca26"
             ],
             [
              1,
              "#f0f921"
             ]
            ],
            "type": "heatmap"
           }
          ],
          "heatmapgl": [
           {
            "colorbar": {
             "outlinewidth": 0,
             "ticks": ""
            },
            "colorscale": [
             [
              0,
              "#0d0887"
             ],
             [
              0.1111111111111111,
              "#46039f"
             ],
             [
              0.2222222222222222,
              "#7201a8"
             ],
             [
              0.3333333333333333,
              "#9c179e"
             ],
             [
              0.4444444444444444,
              "#bd3786"
             ],
             [
              0.5555555555555556,
              "#d8576b"
             ],
             [
              0.6666666666666666,
              "#ed7953"
             ],
             [
              0.7777777777777778,
              "#fb9f3a"
             ],
             [
              0.8888888888888888,
              "#fdca26"
             ],
             [
              1,
              "#f0f921"
             ]
            ],
            "type": "heatmapgl"
           }
          ],
          "histogram": [
           {
            "marker": {
             "pattern": {
              "fillmode": "overlay",
              "size": 10,
              "solidity": 0.2
             }
            },
            "type": "histogram"
           }
          ],
          "histogram2d": [
           {
            "colorbar": {
             "outlinewidth": 0,
             "ticks": ""
            },
            "colorscale": [
             [
              0,
              "#0d0887"
             ],
             [
              0.1111111111111111,
              "#46039f"
             ],
             [
              0.2222222222222222,
              "#7201a8"
             ],
             [
              0.3333333333333333,
              "#9c179e"
             ],
             [
              0.4444444444444444,
              "#bd3786"
             ],
             [
              0.5555555555555556,
              "#d8576b"
             ],
             [
              0.6666666666666666,
              "#ed7953"
             ],
             [
              0.7777777777777778,
              "#fb9f3a"
             ],
             [
              0.8888888888888888,
              "#fdca26"
             ],
             [
              1,
              "#f0f921"
             ]
            ],
            "type": "histogram2d"
           }
          ],
          "histogram2dcontour": [
           {
            "colorbar": {
             "outlinewidth": 0,
             "ticks": ""
            },
            "colorscale": [
             [
              0,
              "#0d0887"
             ],
             [
              0.1111111111111111,
              "#46039f"
             ],
             [
              0.2222222222222222,
              "#7201a8"
             ],
             [
              0.3333333333333333,
              "#9c179e"
             ],
             [
              0.4444444444444444,
              "#bd3786"
             ],
             [
              0.5555555555555556,
              "#d8576b"
             ],
             [
              0.6666666666666666,
              "#ed7953"
             ],
             [
              0.7777777777777778,
              "#fb9f3a"
             ],
             [
              0.8888888888888888,
              "#fdca26"
             ],
             [
              1,
              "#f0f921"
             ]
            ],
            "type": "histogram2dcontour"
           }
          ],
          "mesh3d": [
           {
            "colorbar": {
             "outlinewidth": 0,
             "ticks": ""
            },
            "type": "mesh3d"
           }
          ],
          "parcoords": [
           {
            "line": {
             "colorbar": {
              "outlinewidth": 0,
              "ticks": ""
             }
            },
            "type": "parcoords"
           }
          ],
          "pie": [
           {
            "automargin": true,
            "type": "pie"
           }
          ],
          "scatter": [
           {
            "fillpattern": {
             "fillmode": "overlay",
             "size": 10,
             "solidity": 0.2
            },
            "type": "scatter"
           }
          ],
          "scatter3d": [
           {
            "line": {
             "colorbar": {
              "outlinewidth": 0,
              "ticks": ""
             }
            },
            "marker": {
             "colorbar": {
              "outlinewidth": 0,
              "ticks": ""
             }
            },
            "type": "scatter3d"
           }
          ],
          "scattercarpet": [
           {
            "marker": {
             "colorbar": {
              "outlinewidth": 0,
              "ticks": ""
             }
            },
            "type": "scattercarpet"
           }
          ],
          "scattergeo": [
           {
            "marker": {
             "colorbar": {
              "outlinewidth": 0,
              "ticks": ""
             }
            },
            "type": "scattergeo"
           }
          ],
          "scattergl": [
           {
            "marker": {
             "colorbar": {
              "outlinewidth": 0,
              "ticks": ""
             }
            },
            "type": "scattergl"
           }
          ],
          "scattermapbox": [
           {
            "marker": {
             "colorbar": {
              "outlinewidth": 0,
              "ticks": ""
             }
            },
            "type": "scattermapbox"
           }
          ],
          "scatterpolar": [
           {
            "marker": {
             "colorbar": {
              "outlinewidth": 0,
              "ticks": ""
             }
            },
            "type": "scatterpolar"
           }
          ],
          "scatterpolargl": [
           {
            "marker": {
             "colorbar": {
              "outlinewidth": 0,
              "ticks": ""
             }
            },
            "type": "scatterpolargl"
           }
          ],
          "scatterternary": [
           {
            "marker": {
             "colorbar": {
              "outlinewidth": 0,
              "ticks": ""
             }
            },
            "type": "scatterternary"
           }
          ],
          "surface": [
           {
            "colorbar": {
             "outlinewidth": 0,
             "ticks": ""
            },
            "colorscale": [
             [
              0,
              "#0d0887"
             ],
             [
              0.1111111111111111,
              "#46039f"
             ],
             [
              0.2222222222222222,
              "#7201a8"
             ],
             [
              0.3333333333333333,
              "#9c179e"
             ],
             [
              0.4444444444444444,
              "#bd3786"
             ],
             [
              0.5555555555555556,
              "#d8576b"
             ],
             [
              0.6666666666666666,
              "#ed7953"
             ],
             [
              0.7777777777777778,
              "#fb9f3a"
             ],
             [
              0.8888888888888888,
              "#fdca26"
             ],
             [
              1,
              "#f0f921"
             ]
            ],
            "type": "surface"
           }
          ],
          "table": [
           {
            "cells": {
             "fill": {
              "color": "#EBF0F8"
             },
             "line": {
              "color": "white"
             }
            },
            "header": {
             "fill": {
              "color": "#C8D4E3"
             },
             "line": {
              "color": "white"
             }
            },
            "type": "table"
           }
          ]
         },
         "layout": {
          "annotationdefaults": {
           "arrowcolor": "#2a3f5f",
           "arrowhead": 0,
           "arrowwidth": 1
          },
          "autotypenumbers": "strict",
          "coloraxis": {
           "colorbar": {
            "outlinewidth": 0,
            "ticks": ""
           }
          },
          "colorscale": {
           "diverging": [
            [
             0,
             "#8e0152"
            ],
            [
             0.1,
             "#c51b7d"
            ],
            [
             0.2,
             "#de77ae"
            ],
            [
             0.3,
             "#f1b6da"
            ],
            [
             0.4,
             "#fde0ef"
            ],
            [
             0.5,
             "#f7f7f7"
            ],
            [
             0.6,
             "#e6f5d0"
            ],
            [
             0.7,
             "#b8e186"
            ],
            [
             0.8,
             "#7fbc41"
            ],
            [
             0.9,
             "#4d9221"
            ],
            [
             1,
             "#276419"
            ]
           ],
           "sequential": [
            [
             0,
             "#0d0887"
            ],
            [
             0.1111111111111111,
             "#46039f"
            ],
            [
             0.2222222222222222,
             "#7201a8"
            ],
            [
             0.3333333333333333,
             "#9c179e"
            ],
            [
             0.4444444444444444,
             "#bd3786"
            ],
            [
             0.5555555555555556,
             "#d8576b"
            ],
            [
             0.6666666666666666,
             "#ed7953"
            ],
            [
             0.7777777777777778,
             "#fb9f3a"
            ],
            [
             0.8888888888888888,
             "#fdca26"
            ],
            [
             1,
             "#f0f921"
            ]
           ],
           "sequentialminus": [
            [
             0,
             "#0d0887"
            ],
            [
             0.1111111111111111,
             "#46039f"
            ],
            [
             0.2222222222222222,
             "#7201a8"
            ],
            [
             0.3333333333333333,
             "#9c179e"
            ],
            [
             0.4444444444444444,
             "#bd3786"
            ],
            [
             0.5555555555555556,
             "#d8576b"
            ],
            [
             0.6666666666666666,
             "#ed7953"
            ],
            [
             0.7777777777777778,
             "#fb9f3a"
            ],
            [
             0.8888888888888888,
             "#fdca26"
            ],
            [
             1,
             "#f0f921"
            ]
           ]
          },
          "colorway": [
           "#636efa",
           "#EF553B",
           "#00cc96",
           "#ab63fa",
           "#FFA15A",
           "#19d3f3",
           "#FF6692",
           "#B6E880",
           "#FF97FF",
           "#FECB52"
          ],
          "font": {
           "color": "#2a3f5f"
          },
          "geo": {
           "bgcolor": "white",
           "lakecolor": "white",
           "landcolor": "#E5ECF6",
           "showlakes": true,
           "showland": true,
           "subunitcolor": "white"
          },
          "hoverlabel": {
           "align": "left"
          },
          "hovermode": "closest",
          "mapbox": {
           "style": "light"
          },
          "paper_bgcolor": "white",
          "plot_bgcolor": "#E5ECF6",
          "polar": {
           "angularaxis": {
            "gridcolor": "white",
            "linecolor": "white",
            "ticks": ""
           },
           "bgcolor": "#E5ECF6",
           "radialaxis": {
            "gridcolor": "white",
            "linecolor": "white",
            "ticks": ""
           }
          },
          "scene": {
           "xaxis": {
            "backgroundcolor": "#E5ECF6",
            "gridcolor": "white",
            "gridwidth": 2,
            "linecolor": "white",
            "showbackground": true,
            "ticks": "",
            "zerolinecolor": "white"
           },
           "yaxis": {
            "backgroundcolor": "#E5ECF6",
            "gridcolor": "white",
            "gridwidth": 2,
            "linecolor": "white",
            "showbackground": true,
            "ticks": "",
            "zerolinecolor": "white"
           },
           "zaxis": {
            "backgroundcolor": "#E5ECF6",
            "gridcolor": "white",
            "gridwidth": 2,
            "linecolor": "white",
            "showbackground": true,
            "ticks": "",
            "zerolinecolor": "white"
           }
          },
          "shapedefaults": {
           "line": {
            "color": "#2a3f5f"
           }
          },
          "ternary": {
           "aaxis": {
            "gridcolor": "white",
            "linecolor": "white",
            "ticks": ""
           },
           "baxis": {
            "gridcolor": "white",
            "linecolor": "white",
            "ticks": ""
           },
           "bgcolor": "#E5ECF6",
           "caxis": {
            "gridcolor": "white",
            "linecolor": "white",
            "ticks": ""
           }
          },
          "title": {
           "x": 0.05
          },
          "xaxis": {
           "automargin": true,
           "gridcolor": "white",
           "linecolor": "white",
           "ticks": "",
           "title": {
            "standoff": 15
           },
           "zerolinecolor": "white",
           "zerolinewidth": 2
          },
          "yaxis": {
           "automargin": true,
           "gridcolor": "white",
           "linecolor": "white",
           "ticks": "",
           "title": {
            "standoff": 15
           },
           "zerolinecolor": "white",
           "zerolinewidth": 2
          }
         }
        },
        "title": {
         "text": "BTC Software Programs"
        }
       }
      }
     },
     "metadata": {},
     "output_type": "display_data"
    },
    {
     "data": {
      "text/plain": [
       "<Figure size 1200x1600 with 0 Axes>"
      ]
     },
     "metadata": {},
     "output_type": "display_data"
    }
   ],
   "source": [
    "\n",
    "\n",
    "import matplotlib.pyplot as plt\n",
    "import plotly.graph_objects as go\n",
    "import plotly.graph_objects as go\n",
    "import plotly.express as px\n",
    "plt.figure(figsize=(12, 16))\n",
    "# Define the nodes and links\n",
    "nodes = {\n",
    "    \"pad\": 15,\n",
    "    \"thickness\": 20,\n",
    "    \"line\": dict(color=\"black\", width=0.5),\n",
    "    \"label\": [\n",
    "        \"Data Analysis\",\n",
    "        \"Inventory\",\n",
    "        \"Project Management\",\n",
    "        'Web Forms for Tasks',\n",
    "        'Data Migration/cataloging',\n",
    "        'Confluence',\n",
    "        'Screening System',\n",
    "        'Weight & Dimensions',\n",
    "        'Primary',\n",
    "        'Secondary',\n",
    "        'GFE Data Migration',\n",
    "        'JIRA',\n",
    "        'Consolidated Reports',\n",
    "        'HTML Handbook',\n",
    "        'Presentations',\n",
    "        'Periodic Reports',\n",
    "        'Screening Report',\n",
    "        'Customer',\n",
    "        'Cap Planning',\n",
    "        'GFM',\n",
    "        'BTC',  # 20\n",
    "        'Special Projects',\n",
    "        'dQ/dV',\n",
    "        'Analyzing Calibration Data',\n",
    "        'Cell Selection',\n",
    "    ],\n",
    "    \"color\": [\n",
    "        'rgba(24,  118, 210 , 0.80)',  # da\n",
    "        'rgba(210,25,210, 0.5)',  # inv\n",
    "        'rgba(25, 210, 28, 0.4)',  # Project M\n",
    "        'rgba(80, 80, 80, 0.1)',  # Web task Forms\n",
    "        'rgba(80, 80, 80, 0.1)',  # DM\n",
    "        'rgba(25, 210, 28, 0.6)',  # Confluence\n",
    "        'rgba(25, 210, 25, 0.4)',  # Screening\n",
    "        'rgba(210, 117, 25, 0.4)',  # WD\n",
    "        'rgba(24,  118, 210 , 0.60)',  # PMDA\n",
    "        'rgba(80, 80, 80, 0.1)',  # SDDA\n",
    "        'rgba(209, 2, 136, 0.4)',  # GFE DAM\n",
    "        'rgba(80, 80, 80, 0.1)',  # JIRA\n",
    "        'rgba(80, 80, 80, 0.1)',  # consolidated reports\n",
    "        'rgba(80, 80, 80, 0.1)',  # HTML\n",
    "        'rgba(80, 80, 80, 0.1)',  # presentation\n",
    "        'rgba(80, 80, 80, 0.1)',  # Periodic\n",
    "        'rgba(80, 80, 80, 0.1)',  # screening report\n",
    "        'rgba(80, 80, 80, 0.1)',  # customer\n",
    "        'rgba(80, 80, 80, 0.1)',  # CAP Plan\n",
    "        'rgba(112, 25, 74, 0.4)',  # GFM\n",
    "        'rgba(80, 80, 80, 0.1)',  # BTC\n",
    "        'rgba(220, 66, 48, 0.4)',  # Special Projects\n",
    "        'rgba(80, 80, 80, 0.1)',  # dQ/dV\n",
    "        'rgba(80, 80, 80, 0.1)',  # Analyzing calibration data\n",
    "        'rgba(80, 80, 80, 0.1)',  # Cell Selection\n",
    "    ]\n",
    "\n",
    "}\n",
    "links = {  # DA      Dap/das to deliverables  # D to PSC        #    Inventory     # Project Management     dm    screening                                                                       # Web task forms\n",
    "    'source': [0, 0,  8,  8,  8, 9,   9,  9,   12, 13, 14,       1, 10, 15, 10, 18,     2, 2, 5, 11,         4,  6, 8, 16,      7, 7,  1,  19, 19,    8, 9, 0,  21, 21, 21, 22, 23, 24,      0,    2, 3],\n",
    "    'target': [8, 9,  12, 13, 14, 12, 13, 14,   17, 17, 17,      10, 15, 17, 18, 17,    11, 5, 17, 17,       17, 8, 16, 17,      8, 9,  19,  15, 18,  4, 4, 4,  22, 23, 24, 20, 20, 20,      22,   3, 17],\n",
    "    'value':  [3.2, 0.4, 3.2,  0.4,  0.4, 0.4,   0.4,  0.4, 3.2, 0.20,  0.4,      0.8,  0.4, 0.8, 0.4, 0.8,      0.4, 0.4,  0.4, 0.4,          0.4,  0.4,  0.8, 0.8,      0.5, 0.5,  0.4,   0.4, 0.4,     0.4, 0.4, 0.4,   0.3,  0.3,  0.3, 0.3,   0.3,  0.3,  0.3, 0.3, 0.3],\n",
    "    # 'color': []\n",
    "}\n",
    "\n",
    "links['color'] = [\n",
    "    \"rgba(24,  118, 210 , 0.80)\",  # DA to PDA\n",
    "    \"rgba(24,  118, 210 , 0.80)\",  # Da to Sencodary\n",
    "    'rgba(24,  118, 210 , 0.60)',  # Primary to consolidated\n",
    "    'rgba(24,  118, 210 , 0.60)',  # PDA to HTML\n",
    "    'rgba(24,  118, 210 , 0.60)',  # PDA to presentation\n",
    "    'rgba(80, 80, 80, 0.1)',  # SDA to consolidated\n",
    "    'rgba(80, 80, 80, 0.1)',  # SDA to HTML\n",
    "    'rgba(80, 80, 80, 0.1)',  # SDA to Presentation\n",
    "    'rgba(80, 80, 80, 0.1)',  # Consolidated to PSC\n",
    "    'rgba(80, 80, 80, 0.1)',  # HTML to PSC\n",
    "    'rgba(80, 80, 80, 0.1)',  # Presentation to PSC\n",
    "    'rgba(210,25,210, 0.5)',  # Inventory to GFE\n",
    "    'rgba(209, 2, 136, 0.4)',  # GFE DM to Monthly\n",
    "    'rgba(80, 80, 80, 0.1)',  # Monthly to PSC\n",
    "    'rgba(209, 2, 136, 0.4)',  # GFE DM to CAP P\n",
    "    'rgba(80, 80, 80, 0.1)',  # Cap P to PSC\n",
    "    'rgba(80, 80, 80, 0.1)',  # PM to Jira\n",
    "    'rgba(25, 210, 28, 0.4)',  # PM to confluence\n",
    "    'rgba(25, 210, 28, 0.6)',  # confluence to PSC\n",
    "    'rgba(80, 80, 80, 0.1)',  # JIRA to PSC\n",
    "    'rgba(80, 80, 80, 0.1)',  # data migration to PSC\n",
    "    'rgba(25, 210, 25, 0.4)',  # Screening to PDA\n",
    "    'rgba(24,  118, 210 , 0.60)',  # PDA to Screening report\n",
    "    'rgba(80, 80, 80, 0.1)',  # Screening report to PSC\n",
    "    'rgba(210, 117, 25, 0.4)',  # W&D to PDA\n",
    "    'rgba(210, 117, 25, 0.4)',  # W&D to SDA\n",
    "    'rgba(210,25,210, 0.5)',  # inventory to GFM\n",
    "    'rgba(112, 25, 74, 0.4)',  # GFM to Monthly\n",
    "    'rgba(112, 25, 74, 0.4)',  # GFM to CAP Planning\n",
    "    'rgba(24,  118, 210 , 0.60)',  # primary to data migration\n",
    "    'rgba(80, 80, 80, 0.1)',  # secondary to data migration\n",
    "    'rgba(24,  118, 210 , 0.80)',  # DA to data migration\n",
    "    'rgba(220, 66, 48, 0.4)',  # SPP to cell selection\n",
    "    'rgba(220, 66, 48, 0.4)',  # SPP to cell Analyzing calibration Data\n",
    "    'rgba(220, 66, 48, 0.4)',  # SPP to cell Analyzing cell selection\n",
    "    'rgba(80, 80, 80, 0.1)',  # dq/dv to BTC\n",
    "    'rgba(80, 80, 80, 0.1)',  # ACB to BTC\n",
    "    'rgba(80, 80, 80, 0.1)',  # Cell select to BTC\n",
    "    'rgba(24,  118, 210 , 0.80)',  # Data analysis to dQ/dV\n",
    "    'rgba(80, 80, 80, 0.1)',  # project management to web task forms\n",
    "    'rgba(80, 80, 80, 0.1)',  # web task forms to PSC\n",
    "]\n",
    "# Define node positions (x and y coordinates)\n",
    "node_positions = {\n",
    "    \"Data Analysis\": (0.01, -0.05),\n",
    "    \"Inventory\": (0.01, 0.50),\n",
    "    \"Project Management\": (0.01, 0.70),\n",
    "    \"Data Migration/cataloging\": (0.66, 0.2),\n",
    "    \"Web Forms for Tasks\": (0.30, 0.73),\n",
    "    \"Screening System\": (0.01, 0.30),\n",
    "    \"Confluence\": (0.30, 0.55),\n",
    "    \"Weight & Dimensions\": (0.01, 0.13),\n",
    "    \"Secondary\": (0.30, 0.19),\n",
    "    \"Primary\": (0.30, -0.01),\n",
    "    \"GFE Data Migration\": (0.30, 0.35),\n",
    "    \"JIRA\": (0.30, 0.65),\n",
    "    \"Consolidated Reports\": (0.66, -0.005),\n",
    "    \"HTML Handbook\": (0.66, 0.40),\n",
    "    \"Presentations\": (0.66, 0.50),\n",
    "    \"Periodic Reports\": (0.66, 0.60),\n",
    "    \"Screening Report\": (0.66, 0.30),\n",
    "    \"Customer\": (0.0, 0.0),\n",
    "    \"Cap Planning\": (0.66, 0.70),\n",
    "    \"GFM\": (0.30, 0.45),\n",
    "    \"BTC\": (0.0, 0.0),\n",
    "    \"Special Projects\": (0.0, 0.0),\n",
    "    \"dQ/dV\": (0.30, 0.85),\n",
    "    \"Analyzing Calibration Data\": (0.30, 0.93),\n",
    "    \"Cell Selection\": (0.30, 1.0),\n",
    "}\n",
    "\n",
    "# Create a list of x and y coordinates for nodes\n",
    "node_x = [node_positions[label][0] for label in nodes[\"label\"]]\n",
    "node_y = [node_positions[label][1] for label in nodes[\"label\"]]\n",
    "\n",
    "# Update the nodes dictionary with x and y coordinates\n",
    "nodes[\"x\"] = node_x\n",
    "nodes[\"y\"] = node_y\n",
    "fig = go.Figure(go.Sankey(\n",
    "    node=nodes,\n",
    "    link=links\n",
    "))\n",
    "# MCSR\n",
    "# Update layout and display the diagram\n",
    "# Make GFE and GFM its ownn line\n",
    "# add web based task forms\n",
    "# add percentage from 0 to 9 depending on the amount of effort that we are putting into the project\n",
    "# build a story with the lines\n",
    "# Have colors\n",
    "\n",
    "fig.update_layout(title_text=\"BTC Software Programs\", font_size=20)\n",
    "fig.show()\n",
    "fig.write_image('images/fig9.png', width=1100, height=450)"
   ]
  },
  {
   "cell_type": "code",
   "execution_count": 37,
   "metadata": {},
   "outputs": [
    {
     "data": {
      "application/vnd.plotly.v1+json": {
       "config": {
        "plotlyServerURL": "https://plot.ly"
       },
       "data": [
        {
         "link": {
          "color": [
           "rgba(24,  118, 210 , 0.80)",
           "rgba(24,  118, 210 , 0.80)",
           "rgba(24,  118, 210 , 0.60)",
           "rgba(24,  118, 210 , 0.60)",
           "rgba(24,  118, 210 , 0.60)",
           "rgba(80, 80, 80, 0.1)",
           "rgba(80, 80, 80, 0.1)",
           "rgba(80, 80, 80, 0.1)",
           "rgba(80, 80, 80, 0.1)",
           "rgba(80, 80, 80, 0.1)",
           "rgba(80, 80, 80, 0.1)",
           "rgba(210,25,210, 0.5)",
           "rgba(209, 2, 136, 0.4)",
           "rgba(80, 80, 80, 0.1)",
           "rgba(209, 2, 136, 0.4)",
           "rgba(80, 80, 80, 0.1)",
           "rgba(80, 80, 80, 0.1)",
           "rgba(25, 210, 28, 0.4)",
           "rgba(25, 210, 28, 0.6)",
           "rgba(80, 80, 80, 0.1)",
           "rgba(80, 80, 80, 0.1)",
           "rgba(25, 210, 25, 0.4)",
           "rgba(24,  118, 210 , 0.60)",
           "rgba(80, 80, 80, 0.1)",
           "rgba(210, 117, 25, 0.4)",
           "rgba(210, 117, 25, 0.4)",
           "rgba(210,25,210, 0.5)",
           "rgba(112, 25, 74, 0.4)",
           "rgba(112, 25, 74, 0.4)",
           "rgba(24,  118, 210 , 0.60)",
           "rgba(80, 80, 80, 0.1)",
           "rgba(24,  118, 210 , 0.80)",
           "rgba(220, 66, 48, 0.4)",
           "rgba(220, 66, 48, 0.4)",
           "rgba(220, 66, 48, 0.4)",
           "rgba(220, 66, 48, 0.6)",
           "rgba(220, 66, 48, 0.6)",
           "rgba(220, 66, 48, 0.6)",
           "rgba(24,  118, 210 , 0.80)",
           "rgba(80, 80, 80, 0.1)",
           "rgba(80, 80, 80, 0.1)"
          ],
          "source": [
           0,
           0,
           8,
           8,
           8,
           9,
           9,
           9,
           12,
           13,
           14,
           1,
           10,
           15,
           10,
           18,
           2,
           2,
           5,
           11,
           4,
           6,
           8,
           16,
           7,
           7,
           1,
           19,
           19,
           8,
           9,
           0,
           21,
           21,
           21,
           22,
           23,
           24,
           0,
           2,
           3
          ],
          "target": [
           8,
           9,
           12,
           13,
           14,
           12,
           13,
           14,
           17,
           17,
           17,
           10,
           15,
           17,
           18,
           17,
           11,
           5,
           17,
           17,
           17,
           8,
           16,
           17,
           8,
           9,
           19,
           15,
           18,
           4,
           4,
           4,
           22,
           23,
           24,
           20,
           20,
           20,
           22,
           3,
           17
          ],
          "value": [
           3.2,
           0.4,
           3.2,
           0.4,
           0.4,
           0.4,
           0.4,
           0.4,
           3.2,
           0.2,
           0.4,
           0.8,
           0.4,
           0.8,
           0.4,
           0.8,
           0.4,
           0.4,
           0.4,
           0.4,
           0.4,
           0.4,
           0.8,
           0.8,
           0.5,
           0.5,
           0.4,
           0.4,
           0.4,
           0.4,
           0.4,
           0.4,
           0.3,
           0.3,
           0.3,
           0.3,
           0.3,
           0.3,
           0.3,
           0.3,
           0.3
          ]
         },
         "node": {
          "color": [
           "rgba(24,  118, 210 , 0.80)",
           "rgba(210,25,210, 0.5)",
           "rgba(25, 210, 28, 0.4)",
           "rgba(80, 80, 80, 0.1)",
           "rgba(80, 80, 80, 0.1)",
           "rgba(25, 210, 28, 0.6)",
           "rgba(25, 210, 25, 0.4)",
           "rgba(210, 117, 25, 0.4)",
           "rgba(24,  118, 210 , 0.60)",
           "rgba(80, 80, 80, 0.1)",
           "rgba(209, 2, 136, 0.4)",
           "rgba(80, 80, 80, 0.1)",
           "rgba(80, 80, 80, 0.1)",
           "rgba(80, 80, 80, 0.1)",
           "rgba(80, 80, 80, 0.1)",
           "rgba(80, 80, 80, 0.1)",
           "rgba(80, 80, 80, 0.1)",
           "rgba(80, 80, 80, 0.9)",
           "rgba(80, 80, 80, 0.1)",
           "rgba(112, 25, 74, 0.4)",
           "rgba(80, 80, 80, 0.9)",
           "rgba(220, 66, 48, 0.4)",
           "rgba(220, 66, 48, 0.5)",
           "rgba(220, 66, 48, 0.6)",
           "rgba(220, 66, 48, 0.6)"
          ],
          "label": [
           "Data Analysis",
           "Inventory",
           "Project Management",
           "Web Forms for Tasks",
           "Data Migration/cataloging",
           "Confluence",
           "Screening System",
           "Weight & Dimensions",
           "Primary",
           "Secondary",
           "GFE Data Migration",
           "JIRA",
           "Consolidated Reports",
           "HTML Handbook",
           "Presentations",
           "Periodic Reports",
           "Screening Report",
           "Customer",
           "Cap Planning",
           "GFM",
           "BTC",
           "Special Projects",
           "dQ/dV",
           "Analyzing Calibration Data",
           "Cell Selection"
          ],
          "line": {
           "color": "black",
           "width": 0.5
          },
          "pad": 15,
          "thickness": 20,
          "x": [
           0.01,
           0.01,
           0.01,
           0.3,
           0.66,
           0.3,
           0.01,
           0.01,
           0.3,
           0.3,
           0.3,
           0.3,
           0.66,
           0.66,
           0.66,
           0.66,
           0.66,
           0,
           0.66,
           0.3,
           0,
           0,
           0.3,
           0.3,
           0.3
          ],
          "y": [
           -0.05,
           0.5,
           0.7,
           0.73,
           0.2,
           0.55,
           0.3,
           0.13,
           -0.01,
           0.19,
           0.35,
           0.65,
           -0.005,
           0.4,
           0.5,
           0.6,
           0.3,
           0,
           0.7,
           0.45,
           0,
           0,
           0.85,
           0.93,
           1
          ]
         },
         "type": "sankey"
        }
       ],
       "layout": {
        "font": {
         "size": 20
        },
        "template": {
         "data": {
          "bar": [
           {
            "error_x": {
             "color": "#2a3f5f"
            },
            "error_y": {
             "color": "#2a3f5f"
            },
            "marker": {
             "line": {
              "color": "#E5ECF6",
              "width": 0.5
             },
             "pattern": {
              "fillmode": "overlay",
              "size": 10,
              "solidity": 0.2
             }
            },
            "type": "bar"
           }
          ],
          "barpolar": [
           {
            "marker": {
             "line": {
              "color": "#E5ECF6",
              "width": 0.5
             },
             "pattern": {
              "fillmode": "overlay",
              "size": 10,
              "solidity": 0.2
             }
            },
            "type": "barpolar"
           }
          ],
          "carpet": [
           {
            "aaxis": {
             "endlinecolor": "#2a3f5f",
             "gridcolor": "white",
             "linecolor": "white",
             "minorgridcolor": "white",
             "startlinecolor": "#2a3f5f"
            },
            "baxis": {
             "endlinecolor": "#2a3f5f",
             "gridcolor": "white",
             "linecolor": "white",
             "minorgridcolor": "white",
             "startlinecolor": "#2a3f5f"
            },
            "type": "carpet"
           }
          ],
          "choropleth": [
           {
            "colorbar": {
             "outlinewidth": 0,
             "ticks": ""
            },
            "type": "choropleth"
           }
          ],
          "contour": [
           {
            "colorbar": {
             "outlinewidth": 0,
             "ticks": ""
            },
            "colorscale": [
             [
              0,
              "#0d0887"
             ],
             [
              0.1111111111111111,
              "#46039f"
             ],
             [
              0.2222222222222222,
              "#7201a8"
             ],
             [
              0.3333333333333333,
              "#9c179e"
             ],
             [
              0.4444444444444444,
              "#bd3786"
             ],
             [
              0.5555555555555556,
              "#d8576b"
             ],
             [
              0.6666666666666666,
              "#ed7953"
             ],
             [
              0.7777777777777778,
              "#fb9f3a"
             ],
             [
              0.8888888888888888,
              "#fdca26"
             ],
             [
              1,
              "#f0f921"
             ]
            ],
            "type": "contour"
           }
          ],
          "contourcarpet": [
           {
            "colorbar": {
             "outlinewidth": 0,
             "ticks": ""
            },
            "type": "contourcarpet"
           }
          ],
          "heatmap": [
           {
            "colorbar": {
             "outlinewidth": 0,
             "ticks": ""
            },
            "colorscale": [
             [
              0,
              "#0d0887"
             ],
             [
              0.1111111111111111,
              "#46039f"
             ],
             [
              0.2222222222222222,
              "#7201a8"
             ],
             [
              0.3333333333333333,
              "#9c179e"
             ],
             [
              0.4444444444444444,
              "#bd3786"
             ],
             [
              0.5555555555555556,
              "#d8576b"
             ],
             [
              0.6666666666666666,
              "#ed7953"
             ],
             [
              0.7777777777777778,
              "#fb9f3a"
             ],
             [
              0.8888888888888888,
              "#fdca26"
             ],
             [
              1,
              "#f0f921"
             ]
            ],
            "type": "heatmap"
           }
          ],
          "heatmapgl": [
           {
            "colorbar": {
             "outlinewidth": 0,
             "ticks": ""
            },
            "colorscale": [
             [
              0,
              "#0d0887"
             ],
             [
              0.1111111111111111,
              "#46039f"
             ],
             [
              0.2222222222222222,
              "#7201a8"
             ],
             [
              0.3333333333333333,
              "#9c179e"
             ],
             [
              0.4444444444444444,
              "#bd3786"
             ],
             [
              0.5555555555555556,
              "#d8576b"
             ],
             [
              0.6666666666666666,
              "#ed7953"
             ],
             [
              0.7777777777777778,
              "#fb9f3a"
             ],
             [
              0.8888888888888888,
              "#fdca26"
             ],
             [
              1,
              "#f0f921"
             ]
            ],
            "type": "heatmapgl"
           }
          ],
          "histogram": [
           {
            "marker": {
             "pattern": {
              "fillmode": "overlay",
              "size": 10,
              "solidity": 0.2
             }
            },
            "type": "histogram"
           }
          ],
          "histogram2d": [
           {
            "colorbar": {
             "outlinewidth": 0,
             "ticks": ""
            },
            "colorscale": [
             [
              0,
              "#0d0887"
             ],
             [
              0.1111111111111111,
              "#46039f"
             ],
             [
              0.2222222222222222,
              "#7201a8"
             ],
             [
              0.3333333333333333,
              "#9c179e"
             ],
             [
              0.4444444444444444,
              "#bd3786"
             ],
             [
              0.5555555555555556,
              "#d8576b"
             ],
             [
              0.6666666666666666,
              "#ed7953"
             ],
             [
              0.7777777777777778,
              "#fb9f3a"
             ],
             [
              0.8888888888888888,
              "#fdca26"
             ],
             [
              1,
              "#f0f921"
             ]
            ],
            "type": "histogram2d"
           }
          ],
          "histogram2dcontour": [
           {
            "colorbar": {
             "outlinewidth": 0,
             "ticks": ""
            },
            "colorscale": [
             [
              0,
              "#0d0887"
             ],
             [
              0.1111111111111111,
              "#46039f"
             ],
             [
              0.2222222222222222,
              "#7201a8"
             ],
             [
              0.3333333333333333,
              "#9c179e"
             ],
             [
              0.4444444444444444,
              "#bd3786"
             ],
             [
              0.5555555555555556,
              "#d8576b"
             ],
             [
              0.6666666666666666,
              "#ed7953"
             ],
             [
              0.7777777777777778,
              "#fb9f3a"
             ],
             [
              0.8888888888888888,
              "#fdca26"
             ],
             [
              1,
              "#f0f921"
             ]
            ],
            "type": "histogram2dcontour"
           }
          ],
          "mesh3d": [
           {
            "colorbar": {
             "outlinewidth": 0,
             "ticks": ""
            },
            "type": "mesh3d"
           }
          ],
          "parcoords": [
           {
            "line": {
             "colorbar": {
              "outlinewidth": 0,
              "ticks": ""
             }
            },
            "type": "parcoords"
           }
          ],
          "pie": [
           {
            "automargin": true,
            "type": "pie"
           }
          ],
          "scatter": [
           {
            "fillpattern": {
             "fillmode": "overlay",
             "size": 10,
             "solidity": 0.2
            },
            "type": "scatter"
           }
          ],
          "scatter3d": [
           {
            "line": {
             "colorbar": {
              "outlinewidth": 0,
              "ticks": ""
             }
            },
            "marker": {
             "colorbar": {
              "outlinewidth": 0,
              "ticks": ""
             }
            },
            "type": "scatter3d"
           }
          ],
          "scattercarpet": [
           {
            "marker": {
             "colorbar": {
              "outlinewidth": 0,
              "ticks": ""
             }
            },
            "type": "scattercarpet"
           }
          ],
          "scattergeo": [
           {
            "marker": {
             "colorbar": {
              "outlinewidth": 0,
              "ticks": ""
             }
            },
            "type": "scattergeo"
           }
          ],
          "scattergl": [
           {
            "marker": {
             "colorbar": {
              "outlinewidth": 0,
              "ticks": ""
             }
            },
            "type": "scattergl"
           }
          ],
          "scattermapbox": [
           {
            "marker": {
             "colorbar": {
              "outlinewidth": 0,
              "ticks": ""
             }
            },
            "type": "scattermapbox"
           }
          ],
          "scatterpolar": [
           {
            "marker": {
             "colorbar": {
              "outlinewidth": 0,
              "ticks": ""
             }
            },
            "type": "scatterpolar"
           }
          ],
          "scatterpolargl": [
           {
            "marker": {
             "colorbar": {
              "outlinewidth": 0,
              "ticks": ""
             }
            },
            "type": "scatterpolargl"
           }
          ],
          "scatterternary": [
           {
            "marker": {
             "colorbar": {
              "outlinewidth": 0,
              "ticks": ""
             }
            },
            "type": "scatterternary"
           }
          ],
          "surface": [
           {
            "colorbar": {
             "outlinewidth": 0,
             "ticks": ""
            },
            "colorscale": [
             [
              0,
              "#0d0887"
             ],
             [
              0.1111111111111111,
              "#46039f"
             ],
             [
              0.2222222222222222,
              "#7201a8"
             ],
             [
              0.3333333333333333,
              "#9c179e"
             ],
             [
              0.4444444444444444,
              "#bd3786"
             ],
             [
              0.5555555555555556,
              "#d8576b"
             ],
             [
              0.6666666666666666,
              "#ed7953"
             ],
             [
              0.7777777777777778,
              "#fb9f3a"
             ],
             [
              0.8888888888888888,
              "#fdca26"
             ],
             [
              1,
              "#f0f921"
             ]
            ],
            "type": "surface"
           }
          ],
          "table": [
           {
            "cells": {
             "fill": {
              "color": "#EBF0F8"
             },
             "line": {
              "color": "white"
             }
            },
            "header": {
             "fill": {
              "color": "#C8D4E3"
             },
             "line": {
              "color": "white"
             }
            },
            "type": "table"
           }
          ]
         },
         "layout": {
          "annotationdefaults": {
           "arrowcolor": "#2a3f5f",
           "arrowhead": 0,
           "arrowwidth": 1
          },
          "autotypenumbers": "strict",
          "coloraxis": {
           "colorbar": {
            "outlinewidth": 0,
            "ticks": ""
           }
          },
          "colorscale": {
           "diverging": [
            [
             0,
             "#8e0152"
            ],
            [
             0.1,
             "#c51b7d"
            ],
            [
             0.2,
             "#de77ae"
            ],
            [
             0.3,
             "#f1b6da"
            ],
            [
             0.4,
             "#fde0ef"
            ],
            [
             0.5,
             "#f7f7f7"
            ],
            [
             0.6,
             "#e6f5d0"
            ],
            [
             0.7,
             "#b8e186"
            ],
            [
             0.8,
             "#7fbc41"
            ],
            [
             0.9,
             "#4d9221"
            ],
            [
             1,
             "#276419"
            ]
           ],
           "sequential": [
            [
             0,
             "#0d0887"
            ],
            [
             0.1111111111111111,
             "#46039f"
            ],
            [
             0.2222222222222222,
             "#7201a8"
            ],
            [
             0.3333333333333333,
             "#9c179e"
            ],
            [
             0.4444444444444444,
             "#bd3786"
            ],
            [
             0.5555555555555556,
             "#d8576b"
            ],
            [
             0.6666666666666666,
             "#ed7953"
            ],
            [
             0.7777777777777778,
             "#fb9f3a"
            ],
            [
             0.8888888888888888,
             "#fdca26"
            ],
            [
             1,
             "#f0f921"
            ]
           ],
           "sequentialminus": [
            [
             0,
             "#0d0887"
            ],
            [
             0.1111111111111111,
             "#46039f"
            ],
            [
             0.2222222222222222,
             "#7201a8"
            ],
            [
             0.3333333333333333,
             "#9c179e"
            ],
            [
             0.4444444444444444,
             "#bd3786"
            ],
            [
             0.5555555555555556,
             "#d8576b"
            ],
            [
             0.6666666666666666,
             "#ed7953"
            ],
            [
             0.7777777777777778,
             "#fb9f3a"
            ],
            [
             0.8888888888888888,
             "#fdca26"
            ],
            [
             1,
             "#f0f921"
            ]
           ]
          },
          "colorway": [
           "#636efa",
           "#EF553B",
           "#00cc96",
           "#ab63fa",
           "#FFA15A",
           "#19d3f3",
           "#FF6692",
           "#B6E880",
           "#FF97FF",
           "#FECB52"
          ],
          "font": {
           "color": "#2a3f5f"
          },
          "geo": {
           "bgcolor": "white",
           "lakecolor": "white",
           "landcolor": "#E5ECF6",
           "showlakes": true,
           "showland": true,
           "subunitcolor": "white"
          },
          "hoverlabel": {
           "align": "left"
          },
          "hovermode": "closest",
          "mapbox": {
           "style": "light"
          },
          "paper_bgcolor": "white",
          "plot_bgcolor": "#E5ECF6",
          "polar": {
           "angularaxis": {
            "gridcolor": "white",
            "linecolor": "white",
            "ticks": ""
           },
           "bgcolor": "#E5ECF6",
           "radialaxis": {
            "gridcolor": "white",
            "linecolor": "white",
            "ticks": ""
           }
          },
          "scene": {
           "xaxis": {
            "backgroundcolor": "#E5ECF6",
            "gridcolor": "white",
            "gridwidth": 2,
            "linecolor": "white",
            "showbackground": true,
            "ticks": "",
            "zerolinecolor": "white"
           },
           "yaxis": {
            "backgroundcolor": "#E5ECF6",
            "gridcolor": "white",
            "gridwidth": 2,
            "linecolor": "white",
            "showbackground": true,
            "ticks": "",
            "zerolinecolor": "white"
           },
           "zaxis": {
            "backgroundcolor": "#E5ECF6",
            "gridcolor": "white",
            "gridwidth": 2,
            "linecolor": "white",
            "showbackground": true,
            "ticks": "",
            "zerolinecolor": "white"
           }
          },
          "shapedefaults": {
           "line": {
            "color": "#2a3f5f"
           }
          },
          "ternary": {
           "aaxis": {
            "gridcolor": "white",
            "linecolor": "white",
            "ticks": ""
           },
           "baxis": {
            "gridcolor": "white",
            "linecolor": "white",
            "ticks": ""
           },
           "bgcolor": "#E5ECF6",
           "caxis": {
            "gridcolor": "white",
            "linecolor": "white",
            "ticks": ""
           }
          },
          "title": {
           "x": 0.05
          },
          "xaxis": {
           "automargin": true,
           "gridcolor": "white",
           "linecolor": "white",
           "ticks": "",
           "title": {
            "standoff": 15
           },
           "zerolinecolor": "white",
           "zerolinewidth": 2
          },
          "yaxis": {
           "automargin": true,
           "gridcolor": "white",
           "linecolor": "white",
           "ticks": "",
           "title": {
            "standoff": 15
           },
           "zerolinecolor": "white",
           "zerolinewidth": 2
          }
         }
        },
        "title": {
         "text": "BTC Software Programs"
        }
       }
      }
     },
     "metadata": {},
     "output_type": "display_data"
    },
    {
     "data": {
      "text/plain": [
       "<Figure size 1200x1600 with 0 Axes>"
      ]
     },
     "metadata": {},
     "output_type": "display_data"
    }
   ],
   "source": [
    "\n",
    "\n",
    "import matplotlib.pyplot as plt\n",
    "import plotly.graph_objects as go\n",
    "import plotly.graph_objects as go\n",
    "import plotly.express as px\n",
    "plt.figure(figsize=(12, 16))\n",
    "# Define the nodes and links\n",
    "nodes = {\n",
    "    \"pad\": 15,\n",
    "    \"thickness\": 20,\n",
    "    \"line\": dict(color=\"black\", width=0.5),\n",
    "    \"label\": [\n",
    "        \"Data Analysis\",\n",
    "        \"Inventory\",\n",
    "        \"Project Management\",\n",
    "        'Web Forms for Tasks',\n",
    "        'Data Migration/cataloging',\n",
    "        'Confluence',\n",
    "        'Screening System',\n",
    "        'Weight & Dimensions',\n",
    "        'Primary',\n",
    "        'Secondary',\n",
    "        'GFE Data Migration',\n",
    "        'JIRA',\n",
    "        'Consolidated Reports',\n",
    "        'HTML Handbook',\n",
    "        'Presentations',\n",
    "        'Periodic Reports',\n",
    "        'Screening Report',\n",
    "        'Customer',\n",
    "        'Cap Planning',\n",
    "        'GFM',\n",
    "        'BTC',  # 20\n",
    "        'Special Projects',\n",
    "        'dQ/dV',\n",
    "        'Analyzing Calibration Data',\n",
    "        'Cell Selection',\n",
    "    ],\n",
    "    \"color\": [\n",
    "        'rgba(24,  118, 210 , 0.80)',  # da\n",
    "        'rgba(210,25,210, 0.5)',  # inv\n",
    "        'rgba(25, 210, 28, 0.4)',  # Project M\n",
    "        'rgba(80, 80, 80, 0.1)',  # Web task Forms\n",
    "        'rgba(80, 80, 80, 0.1)',  # DM\n",
    "        'rgba(25, 210, 28, 0.6)',  # Confluence\n",
    "        'rgba(25, 210, 25, 0.4)',  # Screening\n",
    "        'rgba(210, 117, 25, 0.4)',  # WD\n",
    "        'rgba(24,  118, 210 , 0.60)',  # PMDA\n",
    "        'rgba(80, 80, 80, 0.1)',  # SDDA\n",
    "        'rgba(209, 2, 136, 0.4)',  # GFE DAM\n",
    "        'rgba(80, 80, 80, 0.1)',  # JIRA\n",
    "        'rgba(80, 80, 80, 0.1)',  # consolidated reports\n",
    "        'rgba(80, 80, 80, 0.1)',  # HTML\n",
    "        'rgba(80, 80, 80, 0.1)',  # presentation\n",
    "        'rgba(80, 80, 80, 0.1)',  # Periodic\n",
    "        'rgba(80, 80, 80, 0.1)',  # screening report\n",
    "        'rgba(80, 80, 80, 0.9)',  # customer\n",
    "        'rgba(80, 80, 80, 0.1)',  # CAP Plan\n",
    "        'rgba(112, 25, 74, 0.4)',  # GFM\n",
    "        'rgba(80, 80, 80, 0.9)',  # BTC\n",
    "        'rgba(220, 66, 48, 0.4)',  # Special Projects\n",
    "        'rgba(220, 66, 48, 0.5)',  # dQ/dV\n",
    "        'rgba(220, 66, 48, 0.6)',  # Analyzing calibration data\n",
    "        'rgba(220, 66, 48, 0.6)',  # Cell Selection\n",
    "    ]\n",
    "\n",
    "}\n",
    "links = {  # DA      Dap/das to deliverables  # D to PSC        #    Inventory     # Project Management     dm    screening                                                                       # Web task forms\n",
    "    'source': [0, 0,  8,  8,  8, 9,   9,  9,   12, 13, 14,       1, 10, 15, 10, 18,     2, 2, 5, 11,         4,  6, 8, 16,      7, 7,  1,  19, 19,    8, 9, 0,  21, 21, 21, 22, 23, 24,      0,    2, 3],\n",
    "    'target': [8, 9,  12, 13, 14, 12, 13, 14,   17, 17, 17,      10, 15, 17, 18, 17,    11, 5, 17, 17,       17, 8, 16, 17,      8, 9,  19,  15, 18,  4, 4, 4,  22, 23, 24, 20, 20, 20,      22,   3, 17],\n",
    "    'value':  [3.2, 0.4, 3.2,  0.4,  0.4, 0.4,   0.4,  0.4, 3.2, 0.20,  0.4,      0.8,  0.4, 0.8, 0.4, 0.8,      0.4, 0.4,  0.4, 0.4,          0.4,  0.4,  0.8, 0.8,      0.5, 0.5,  0.4,   0.4, 0.4,     0.4, 0.4, 0.4,   0.3,  0.3,  0.3, 0.3,   0.3,  0.3,  0.3, 0.3, 0.3],\n",
    "    # 'color': []\n",
    "}\n",
    "\n",
    "links['color'] = [\n",
    "    \"rgba(24,  118, 210 , 0.80)\",  # DA to PDA\n",
    "    \"rgba(24,  118, 210 , 0.80)\",  # Da to Sencodary\n",
    "    'rgba(24,  118, 210 , 0.60)',  # Primary to consolidated\n",
    "    'rgba(24,  118, 210 , 0.60)',  # PDA to HTML\n",
    "    'rgba(24,  118, 210 , 0.60)',  # PDA to presentation\n",
    "    'rgba(80, 80, 80, 0.1)',  # SDA to consolidated\n",
    "    'rgba(80, 80, 80, 0.1)',  # SDA to HTML\n",
    "    'rgba(80, 80, 80, 0.1)',  # SDA to Presentation\n",
    "    'rgba(80, 80, 80, 0.1)',  # Consolidated to PSC\n",
    "    'rgba(80, 80, 80, 0.1)',  # HTML to PSC\n",
    "    'rgba(80, 80, 80, 0.1)',  # Presentation to PSC\n",
    "    'rgba(210,25,210, 0.5)',  # Inventory to GFE\n",
    "    'rgba(209, 2, 136, 0.4)',  # GFE DM to Monthly\n",
    "    'rgba(80, 80, 80, 0.1)',  # Monthly to PSC\n",
    "    'rgba(209, 2, 136, 0.4)',  # GFE DM to CAP P\n",
    "    'rgba(80, 80, 80, 0.1)',  # Cap P to PSC\n",
    "    'rgba(80, 80, 80, 0.1)',  # PM to Jira\n",
    "    'rgba(25, 210, 28, 0.4)',  # PM to confluence\n",
    "    'rgba(25, 210, 28, 0.6)',  # confluence to PSC\n",
    "    'rgba(80, 80, 80, 0.1)',  # JIRA to PSC\n",
    "    'rgba(80, 80, 80, 0.1)',  # data migration to PSC\n",
    "    'rgba(25, 210, 25, 0.4)',  # Screening to PDA\n",
    "    'rgba(24,  118, 210 , 0.60)',  # PDA to Screening report\n",
    "    'rgba(80, 80, 80, 0.1)',  # Screening report to PSC\n",
    "    'rgba(210, 117, 25, 0.4)',  # W&D to PDA\n",
    "    'rgba(210, 117, 25, 0.4)',  # W&D to SDA\n",
    "    'rgba(210,25,210, 0.5)',  # inventory to GFM\n",
    "    'rgba(112, 25, 74, 0.4)',  # GFM to Monthly\n",
    "    'rgba(112, 25, 74, 0.4)',  # GFM to CAP Planning\n",
    "    'rgba(24,  118, 210 , 0.60)',  # primary to data migration\n",
    "    'rgba(80, 80, 80, 0.1)',  # secondary to data migration\n",
    "    'rgba(24,  118, 210 , 0.80)',  # DA to data migration\n",
    "    'rgba(220, 66, 48, 0.4)',  # SPP to cell selection\n",
    "    'rgba(220, 66, 48, 0.4)',  # SPP to cell Analyzing calibration Data\n",
    "    'rgba(220, 66, 48, 0.4)',  # SPP to cell Analyzing cell selection\n",
    "    'rgba(220, 66, 48, 0.6)',  # dq/dv to BTC\n",
    "    'rgba(220, 66, 48, 0.6)',  # ACB to BTC\n",
    "    'rgba(220, 66, 48, 0.6)',  # Cell select to BTC\n",
    "    'rgba(24,  118, 210 , 0.80)',  # Data analysis to dQ/dV\n",
    "    'rgba(80, 80, 80, 0.1)',  # project management to web task forms\n",
    "    'rgba(80, 80, 80, 0.1)',  # web task forms to PSC\n",
    "]\n",
    "# Define node positions (x and y coordinates)\n",
    "node_positions = {\n",
    "    \"Data Analysis\": (0.01, -0.05),\n",
    "    \"Inventory\": (0.01, 0.50),\n",
    "    \"Project Management\": (0.01, 0.70),\n",
    "    \"Data Migration/cataloging\": (0.66, 0.2),\n",
    "    \"Web Forms for Tasks\": (0.30, 0.73),\n",
    "    \"Screening System\": (0.01, 0.30),\n",
    "    \"Confluence\": (0.30, 0.55),\n",
    "    \"Weight & Dimensions\": (0.01, 0.13),\n",
    "    \"Secondary\": (0.30, 0.19),\n",
    "    \"Primary\": (0.30, -0.01),\n",
    "    \"GFE Data Migration\": (0.30, 0.35),\n",
    "    \"JIRA\": (0.30, 0.65),\n",
    "    \"Consolidated Reports\": (0.66, -0.005),\n",
    "    \"HTML Handbook\": (0.66, 0.40),\n",
    "    \"Presentations\": (0.66, 0.50),\n",
    "    \"Periodic Reports\": (0.66, 0.60),\n",
    "    \"Screening Report\": (0.66, 0.30),\n",
    "    \"Customer\": (0.0, 0.0),\n",
    "    \"Cap Planning\": (0.66, 0.70),\n",
    "    \"GFM\": (0.30, 0.45),\n",
    "    \"BTC\": (0.0, 0.0),\n",
    "    \"Special Projects\": (0.0, 0.0),\n",
    "    \"dQ/dV\": (0.30, 0.85),\n",
    "    \"Analyzing Calibration Data\": (0.30, 0.93),\n",
    "    \"Cell Selection\": (0.30, 1.0),\n",
    "}\n",
    "\n",
    "# Create a list of x and y coordinates for nodes\n",
    "node_x = [node_positions[label][0] for label in nodes[\"label\"]]\n",
    "node_y = [node_positions[label][1] for label in nodes[\"label\"]]\n",
    "\n",
    "# Update the nodes dictionary with x and y coordinates\n",
    "nodes[\"x\"] = node_x\n",
    "nodes[\"y\"] = node_y\n",
    "fig = go.Figure(go.Sankey(\n",
    "    node=nodes,\n",
    "    link=links\n",
    "))\n",
    "# MCSR\n",
    "# Update layout and display the diagram\n",
    "# Make GFE and GFM its ownn line\n",
    "# add web based task forms\n",
    "# add percentage from 0 to 9 depending on the amount of effort that we are putting into the project\n",
    "# build a story with the lines\n",
    "# Have colors\n",
    "\n",
    "fig.update_layout(title_text=\"BTC Software Programs\", font_size=20)\n",
    "fig.show()\n",
    "fig.write_image('images/fig10.png', width=1100, height=450)"
   ]
  },
  {
   "cell_type": "code",
   "execution_count": 38,
   "metadata": {},
   "outputs": [
    {
     "data": {
      "application/vnd.plotly.v1+json": {
       "config": {
        "plotlyServerURL": "https://plot.ly"
       },
       "data": [
        {
         "link": {
          "color": [
           "rgba(24,  118, 210 , 0.80)",
           "rgba(24,  118, 210 , 0.80)",
           "rgba(24,  118, 210 , 0.60)",
           "rgba(24,  118, 210 , 0.60)",
           "rgba(24,  118, 210 , 0.60)",
           "rgba(80, 80, 80, 0.1)",
           "rgba(80, 80, 80, 0.1)",
           "rgba(80, 80, 80, 0.1)",
           "rgba(103, 204, 142, 0.8)",
           "rgba(103, 204, 142, 0.8)",
           "rgba(80, 80, 80, 0.1)",
           "rgba(210,25,210, 0.5)",
           "rgba(209, 2, 136, 0.4)",
           "rgba(103, 204, 142, 0.8)",
           "rgba(209, 2, 136, 0.4)",
           "rgba(103, 204, 142, 0.8)",
           "rgba(80, 80, 80, 0.1)",
           "rgba(25, 210, 28, 0.4)",
           "rgba(25, 210, 28, 0.6)",
           "rgba(80, 80, 80, 0.1)",
           "rgba(103, 204, 142, 0.8)",
           "rgba(25, 210, 25, 0.4)",
           "rgba(24,  118, 210 , 0.60)",
           "rgba(103, 204, 142, 0.8)",
           "rgba(210, 117, 25, 0.4)",
           "rgba(210, 117, 25, 0.4)",
           "rgba(210,25,210, 0.5)",
           "rgba(112, 25, 74, 0.4)",
           "rgba(112, 25, 74, 0.4)",
           "rgba(24,  118, 210 , 0.60)",
           "rgba(80, 80, 80, 0.1)",
           "rgba(24,  118, 210 , 0.80)",
           "rgba(220, 66, 48, 0.4)",
           "rgba(220, 66, 48, 0.4)",
           "rgba(220, 66, 48, 0.4)",
           "rgba(220, 66, 48, 0.6)",
           "rgba(220, 66, 48, 0.6)",
           "rgba(220, 66, 48, 0.6)",
           "rgba(24,  118, 210 , 0.80)",
           "rgba(80, 80, 80, 0.1)",
           "rgba(80, 80, 80, 0.1)"
          ],
          "source": [
           0,
           0,
           8,
           8,
           8,
           9,
           9,
           9,
           12,
           13,
           14,
           1,
           10,
           15,
           10,
           18,
           2,
           2,
           5,
           11,
           4,
           6,
           8,
           16,
           7,
           7,
           1,
           19,
           19,
           8,
           9,
           0,
           21,
           21,
           21,
           22,
           23,
           24,
           0,
           2,
           3
          ],
          "target": [
           8,
           9,
           12,
           13,
           14,
           12,
           13,
           14,
           17,
           17,
           17,
           10,
           15,
           17,
           18,
           17,
           11,
           5,
           17,
           17,
           17,
           8,
           16,
           17,
           8,
           9,
           19,
           15,
           18,
           4,
           4,
           4,
           22,
           23,
           24,
           20,
           20,
           20,
           22,
           3,
           17
          ],
          "value": [
           3.2,
           0.4,
           3.2,
           0.4,
           0.4,
           0.4,
           0.4,
           0.4,
           3.2,
           0.2,
           0.4,
           0.8,
           0.4,
           0.8,
           0.4,
           0.8,
           0.4,
           0.4,
           0.4,
           0.4,
           0.4,
           0.4,
           0.8,
           0.8,
           0.5,
           0.5,
           0.4,
           0.4,
           0.4,
           0.4,
           0.4,
           0.4,
           0.3,
           0.3,
           0.3,
           0.3,
           0.3,
           0.3,
           0.3,
           0.3,
           0.3
          ]
         },
         "node": {
          "color": [
           "rgba(24,  118, 210 , 0.80)",
           "rgba(210,25,210, 0.5)",
           "rgba(25, 210, 28, 0.4)",
           "rgba(80, 80, 80, 0.1)",
           "rgba(103, 204, 142, 0.8)",
           "rgba(25, 210, 28, 0.6)",
           "rgba(25, 210, 25, 0.4)",
           "rgba(210, 117, 25, 0.4)",
           "rgba(24,  118, 210 , 0.60)",
           "rgba(80, 80, 80, 0.1)",
           "rgba(209, 2, 136, 0.4)",
           "rgba(80, 80, 80, 0.1)",
           "rgba(103, 204, 142, 0.8)",
           "rgba(103, 204, 142, 0.8)",
           "rgba(103, 204, 142, 0.8)",
           "rgba(103, 204, 142, 0.8)",
           "rgba(103, 204, 142, 0.8)",
           "rgba(80, 80, 80, 0.9)",
           "rgba(103, 204, 142, 0.8)",
           "rgba(112, 25, 74, 0.4)",
           "rgba(80, 80, 80, 0.9)",
           "rgba(220, 66, 48, 0.4)",
           "rgba(220, 66, 48, 0.5)",
           "rgba(220, 66, 48, 0.6)",
           "rgba(220, 66, 48, 0.6)"
          ],
          "label": [
           "Data Analysis",
           "Inventory",
           "Project Management",
           "Web Forms for Tasks",
           "Data Migration/cataloging",
           "Confluence",
           "Screening System",
           "Weight & Dimensions",
           "Primary",
           "Secondary",
           "GFE Data Migration",
           "JIRA",
           "Consolidated Reports",
           "HTML Handbook",
           "Presentations",
           "Periodic Reports",
           "Screening Report",
           "Customer",
           "Cap Planning",
           "GFM",
           "BTC",
           "Special Projects",
           "dQ/dV",
           "Analyzing Calibration Data",
           "Cell Selection"
          ],
          "line": {
           "color": "black",
           "width": 0.5
          },
          "pad": 15,
          "thickness": 20,
          "x": [
           0.01,
           0.01,
           0.01,
           0.3,
           0.66,
           0.3,
           0.01,
           0.01,
           0.3,
           0.3,
           0.3,
           0.3,
           0.66,
           0.66,
           0.66,
           0.66,
           0.66,
           0,
           0.66,
           0.3,
           0,
           0,
           0.3,
           0.3,
           0.3
          ],
          "y": [
           -0.05,
           0.5,
           0.7,
           0.73,
           0.2,
           0.55,
           0.3,
           0.13,
           -0.01,
           0.19,
           0.35,
           0.65,
           -0.005,
           0.4,
           0.5,
           0.6,
           0.3,
           0,
           0.7,
           0.45,
           0,
           0,
           0.85,
           0.93,
           1
          ]
         },
         "type": "sankey"
        }
       ],
       "layout": {
        "font": {
         "size": 20
        },
        "template": {
         "data": {
          "bar": [
           {
            "error_x": {
             "color": "#2a3f5f"
            },
            "error_y": {
             "color": "#2a3f5f"
            },
            "marker": {
             "line": {
              "color": "#E5ECF6",
              "width": 0.5
             },
             "pattern": {
              "fillmode": "overlay",
              "size": 10,
              "solidity": 0.2
             }
            },
            "type": "bar"
           }
          ],
          "barpolar": [
           {
            "marker": {
             "line": {
              "color": "#E5ECF6",
              "width": 0.5
             },
             "pattern": {
              "fillmode": "overlay",
              "size": 10,
              "solidity": 0.2
             }
            },
            "type": "barpolar"
           }
          ],
          "carpet": [
           {
            "aaxis": {
             "endlinecolor": "#2a3f5f",
             "gridcolor": "white",
             "linecolor": "white",
             "minorgridcolor": "white",
             "startlinecolor": "#2a3f5f"
            },
            "baxis": {
             "endlinecolor": "#2a3f5f",
             "gridcolor": "white",
             "linecolor": "white",
             "minorgridcolor": "white",
             "startlinecolor": "#2a3f5f"
            },
            "type": "carpet"
           }
          ],
          "choropleth": [
           {
            "colorbar": {
             "outlinewidth": 0,
             "ticks": ""
            },
            "type": "choropleth"
           }
          ],
          "contour": [
           {
            "colorbar": {
             "outlinewidth": 0,
             "ticks": ""
            },
            "colorscale": [
             [
              0,
              "#0d0887"
             ],
             [
              0.1111111111111111,
              "#46039f"
             ],
             [
              0.2222222222222222,
              "#7201a8"
             ],
             [
              0.3333333333333333,
              "#9c179e"
             ],
             [
              0.4444444444444444,
              "#bd3786"
             ],
             [
              0.5555555555555556,
              "#d8576b"
             ],
             [
              0.6666666666666666,
              "#ed7953"
             ],
             [
              0.7777777777777778,
              "#fb9f3a"
             ],
             [
              0.8888888888888888,
              "#fdca26"
             ],
             [
              1,
              "#f0f921"
             ]
            ],
            "type": "contour"
           }
          ],
          "contourcarpet": [
           {
            "colorbar": {
             "outlinewidth": 0,
             "ticks": ""
            },
            "type": "contourcarpet"
           }
          ],
          "heatmap": [
           {
            "colorbar": {
             "outlinewidth": 0,
             "ticks": ""
            },
            "colorscale": [
             [
              0,
              "#0d0887"
             ],
             [
              0.1111111111111111,
              "#46039f"
             ],
             [
              0.2222222222222222,
              "#7201a8"
             ],
             [
              0.3333333333333333,
              "#9c179e"
             ],
             [
              0.4444444444444444,
              "#bd3786"
             ],
             [
              0.5555555555555556,
              "#d8576b"
             ],
             [
              0.6666666666666666,
              "#ed7953"
             ],
             [
              0.7777777777777778,
              "#fb9f3a"
             ],
             [
              0.8888888888888888,
              "#fdca26"
             ],
             [
              1,
              "#f0f921"
             ]
            ],
            "type": "heatmap"
           }
          ],
          "heatmapgl": [
           {
            "colorbar": {
             "outlinewidth": 0,
             "ticks": ""
            },
            "colorscale": [
             [
              0,
              "#0d0887"
             ],
             [
              0.1111111111111111,
              "#46039f"
             ],
             [
              0.2222222222222222,
              "#7201a8"
             ],
             [
              0.3333333333333333,
              "#9c179e"
             ],
             [
              0.4444444444444444,
              "#bd3786"
             ],
             [
              0.5555555555555556,
              "#d8576b"
             ],
             [
              0.6666666666666666,
              "#ed7953"
             ],
             [
              0.7777777777777778,
              "#fb9f3a"
             ],
             [
              0.8888888888888888,
              "#fdca26"
             ],
             [
              1,
              "#f0f921"
             ]
            ],
            "type": "heatmapgl"
           }
          ],
          "histogram": [
           {
            "marker": {
             "pattern": {
              "fillmode": "overlay",
              "size": 10,
              "solidity": 0.2
             }
            },
            "type": "histogram"
           }
          ],
          "histogram2d": [
           {
            "colorbar": {
             "outlinewidth": 0,
             "ticks": ""
            },
            "colorscale": [
             [
              0,
              "#0d0887"
             ],
             [
              0.1111111111111111,
              "#46039f"
             ],
             [
              0.2222222222222222,
              "#7201a8"
             ],
             [
              0.3333333333333333,
              "#9c179e"
             ],
             [
              0.4444444444444444,
              "#bd3786"
             ],
             [
              0.5555555555555556,
              "#d8576b"
             ],
             [
              0.6666666666666666,
              "#ed7953"
             ],
             [
              0.7777777777777778,
              "#fb9f3a"
             ],
             [
              0.8888888888888888,
              "#fdca26"
             ],
             [
              1,
              "#f0f921"
             ]
            ],
            "type": "histogram2d"
           }
          ],
          "histogram2dcontour": [
           {
            "colorbar": {
             "outlinewidth": 0,
             "ticks": ""
            },
            "colorscale": [
             [
              0,
              "#0d0887"
             ],
             [
              0.1111111111111111,
              "#46039f"
             ],
             [
              0.2222222222222222,
              "#7201a8"
             ],
             [
              0.3333333333333333,
              "#9c179e"
             ],
             [
              0.4444444444444444,
              "#bd3786"
             ],
             [
              0.5555555555555556,
              "#d8576b"
             ],
             [
              0.6666666666666666,
              "#ed7953"
             ],
             [
              0.7777777777777778,
              "#fb9f3a"
             ],
             [
              0.8888888888888888,
              "#fdca26"
             ],
             [
              1,
              "#f0f921"
             ]
            ],
            "type": "histogram2dcontour"
           }
          ],
          "mesh3d": [
           {
            "colorbar": {
             "outlinewidth": 0,
             "ticks": ""
            },
            "type": "mesh3d"
           }
          ],
          "parcoords": [
           {
            "line": {
             "colorbar": {
              "outlinewidth": 0,
              "ticks": ""
             }
            },
            "type": "parcoords"
           }
          ],
          "pie": [
           {
            "automargin": true,
            "type": "pie"
           }
          ],
          "scatter": [
           {
            "fillpattern": {
             "fillmode": "overlay",
             "size": 10,
             "solidity": 0.2
            },
            "type": "scatter"
           }
          ],
          "scatter3d": [
           {
            "line": {
             "colorbar": {
              "outlinewidth": 0,
              "ticks": ""
             }
            },
            "marker": {
             "colorbar": {
              "outlinewidth": 0,
              "ticks": ""
             }
            },
            "type": "scatter3d"
           }
          ],
          "scattercarpet": [
           {
            "marker": {
             "colorbar": {
              "outlinewidth": 0,
              "ticks": ""
             }
            },
            "type": "scattercarpet"
           }
          ],
          "scattergeo": [
           {
            "marker": {
             "colorbar": {
              "outlinewidth": 0,
              "ticks": ""
             }
            },
            "type": "scattergeo"
           }
          ],
          "scattergl": [
           {
            "marker": {
             "colorbar": {
              "outlinewidth": 0,
              "ticks": ""
             }
            },
            "type": "scattergl"
           }
          ],
          "scattermapbox": [
           {
            "marker": {
             "colorbar": {
              "outlinewidth": 0,
              "ticks": ""
             }
            },
            "type": "scattermapbox"
           }
          ],
          "scatterpolar": [
           {
            "marker": {
             "colorbar": {
              "outlinewidth": 0,
              "ticks": ""
             }
            },
            "type": "scatterpolar"
           }
          ],
          "scatterpolargl": [
           {
            "marker": {
             "colorbar": {
              "outlinewidth": 0,
              "ticks": ""
             }
            },
            "type": "scatterpolargl"
           }
          ],
          "scatterternary": [
           {
            "marker": {
             "colorbar": {
              "outlinewidth": 0,
              "ticks": ""
             }
            },
            "type": "scatterternary"
           }
          ],
          "surface": [
           {
            "colorbar": {
             "outlinewidth": 0,
             "ticks": ""
            },
            "colorscale": [
             [
              0,
              "#0d0887"
             ],
             [
              0.1111111111111111,
              "#46039f"
             ],
             [
              0.2222222222222222,
              "#7201a8"
             ],
             [
              0.3333333333333333,
              "#9c179e"
             ],
             [
              0.4444444444444444,
              "#bd3786"
             ],
             [
              0.5555555555555556,
              "#d8576b"
             ],
             [
              0.6666666666666666,
              "#ed7953"
             ],
             [
              0.7777777777777778,
              "#fb9f3a"
             ],
             [
              0.8888888888888888,
              "#fdca26"
             ],
             [
              1,
              "#f0f921"
             ]
            ],
            "type": "surface"
           }
          ],
          "table": [
           {
            "cells": {
             "fill": {
              "color": "#EBF0F8"
             },
             "line": {
              "color": "white"
             }
            },
            "header": {
             "fill": {
              "color": "#C8D4E3"
             },
             "line": {
              "color": "white"
             }
            },
            "type": "table"
           }
          ]
         },
         "layout": {
          "annotationdefaults": {
           "arrowcolor": "#2a3f5f",
           "arrowhead": 0,
           "arrowwidth": 1
          },
          "autotypenumbers": "strict",
          "coloraxis": {
           "colorbar": {
            "outlinewidth": 0,
            "ticks": ""
           }
          },
          "colorscale": {
           "diverging": [
            [
             0,
             "#8e0152"
            ],
            [
             0.1,
             "#c51b7d"
            ],
            [
             0.2,
             "#de77ae"
            ],
            [
             0.3,
             "#f1b6da"
            ],
            [
             0.4,
             "#fde0ef"
            ],
            [
             0.5,
             "#f7f7f7"
            ],
            [
             0.6,
             "#e6f5d0"
            ],
            [
             0.7,
             "#b8e186"
            ],
            [
             0.8,
             "#7fbc41"
            ],
            [
             0.9,
             "#4d9221"
            ],
            [
             1,
             "#276419"
            ]
           ],
           "sequential": [
            [
             0,
             "#0d0887"
            ],
            [
             0.1111111111111111,
             "#46039f"
            ],
            [
             0.2222222222222222,
             "#7201a8"
            ],
            [
             0.3333333333333333,
             "#9c179e"
            ],
            [
             0.4444444444444444,
             "#bd3786"
            ],
            [
             0.5555555555555556,
             "#d8576b"
            ],
            [
             0.6666666666666666,
             "#ed7953"
            ],
            [
             0.7777777777777778,
             "#fb9f3a"
            ],
            [
             0.8888888888888888,
             "#fdca26"
            ],
            [
             1,
             "#f0f921"
            ]
           ],
           "sequentialminus": [
            [
             0,
             "#0d0887"
            ],
            [
             0.1111111111111111,
             "#46039f"
            ],
            [
             0.2222222222222222,
             "#7201a8"
            ],
            [
             0.3333333333333333,
             "#9c179e"
            ],
            [
             0.4444444444444444,
             "#bd3786"
            ],
            [
             0.5555555555555556,
             "#d8576b"
            ],
            [
             0.6666666666666666,
             "#ed7953"
            ],
            [
             0.7777777777777778,
             "#fb9f3a"
            ],
            [
             0.8888888888888888,
             "#fdca26"
            ],
            [
             1,
             "#f0f921"
            ]
           ]
          },
          "colorway": [
           "#636efa",
           "#EF553B",
           "#00cc96",
           "#ab63fa",
           "#FFA15A",
           "#19d3f3",
           "#FF6692",
           "#B6E880",
           "#FF97FF",
           "#FECB52"
          ],
          "font": {
           "color": "#2a3f5f"
          },
          "geo": {
           "bgcolor": "white",
           "lakecolor": "white",
           "landcolor": "#E5ECF6",
           "showlakes": true,
           "showland": true,
           "subunitcolor": "white"
          },
          "hoverlabel": {
           "align": "left"
          },
          "hovermode": "closest",
          "mapbox": {
           "style": "light"
          },
          "paper_bgcolor": "white",
          "plot_bgcolor": "#E5ECF6",
          "polar": {
           "angularaxis": {
            "gridcolor": "white",
            "linecolor": "white",
            "ticks": ""
           },
           "bgcolor": "#E5ECF6",
           "radialaxis": {
            "gridcolor": "white",
            "linecolor": "white",
            "ticks": ""
           }
          },
          "scene": {
           "xaxis": {
            "backgroundcolor": "#E5ECF6",
            "gridcolor": "white",
            "gridwidth": 2,
            "linecolor": "white",
            "showbackground": true,
            "ticks": "",
            "zerolinecolor": "white"
           },
           "yaxis": {
            "backgroundcolor": "#E5ECF6",
            "gridcolor": "white",
            "gridwidth": 2,
            "linecolor": "white",
            "showbackground": true,
            "ticks": "",
            "zerolinecolor": "white"
           },
           "zaxis": {
            "backgroundcolor": "#E5ECF6",
            "gridcolor": "white",
            "gridwidth": 2,
            "linecolor": "white",
            "showbackground": true,
            "ticks": "",
            "zerolinecolor": "white"
           }
          },
          "shapedefaults": {
           "line": {
            "color": "#2a3f5f"
           }
          },
          "ternary": {
           "aaxis": {
            "gridcolor": "white",
            "linecolor": "white",
            "ticks": ""
           },
           "baxis": {
            "gridcolor": "white",
            "linecolor": "white",
            "ticks": ""
           },
           "bgcolor": "#E5ECF6",
           "caxis": {
            "gridcolor": "white",
            "linecolor": "white",
            "ticks": ""
           }
          },
          "title": {
           "x": 0.05
          },
          "xaxis": {
           "automargin": true,
           "gridcolor": "white",
           "linecolor": "white",
           "ticks": "",
           "title": {
            "standoff": 15
           },
           "zerolinecolor": "white",
           "zerolinewidth": 2
          },
          "yaxis": {
           "automargin": true,
           "gridcolor": "white",
           "linecolor": "white",
           "ticks": "",
           "title": {
            "standoff": 15
           },
           "zerolinecolor": "white",
           "zerolinewidth": 2
          }
         }
        },
        "title": {
         "text": "BTC Software Programs"
        }
       }
      }
     },
     "metadata": {},
     "output_type": "display_data"
    },
    {
     "data": {
      "text/plain": [
       "<Figure size 1200x1600 with 0 Axes>"
      ]
     },
     "metadata": {},
     "output_type": "display_data"
    }
   ],
   "source": [
    "\n",
    "\n",
    "import matplotlib.pyplot as plt\n",
    "import plotly.graph_objects as go\n",
    "import plotly.graph_objects as go\n",
    "import plotly.express as px\n",
    "plt.figure(figsize=(12, 16))\n",
    "# Define the nodes and links\n",
    "nodes = {\n",
    "    \"pad\": 15,\n",
    "    \"thickness\": 20,\n",
    "    \"line\": dict(color=\"black\", width=0.5),\n",
    "    \"label\": [\n",
    "        \"Data Analysis\",\n",
    "        \"Inventory\",\n",
    "        \"Project Management\",\n",
    "        'Web Forms for Tasks',\n",
    "        'Data Migration/cataloging',\n",
    "        'Confluence',\n",
    "        'Screening System',\n",
    "        'Weight & Dimensions',\n",
    "        'Primary',\n",
    "        'Secondary',\n",
    "        'GFE Data Migration',\n",
    "        'JIRA',\n",
    "        'Consolidated Reports',\n",
    "        'HTML Handbook',\n",
    "        'Presentations',\n",
    "        'Periodic Reports',\n",
    "        'Screening Report',\n",
    "        'Customer',\n",
    "        'Cap Planning',\n",
    "        'GFM',\n",
    "        'BTC',  # 20\n",
    "        'Special Projects',\n",
    "        'dQ/dV',\n",
    "        'Analyzing Calibration Data',\n",
    "        'Cell Selection',\n",
    "    ],\n",
    "    \"color\": [\n",
    "        'rgba(24,  118, 210 , 0.80)',  # da\n",
    "        'rgba(210,25,210, 0.5)',  # inv\n",
    "        'rgba(25, 210, 28, 0.4)',  # Project M\n",
    "        'rgba(80, 80, 80, 0.1)',  # Web task Forms\n",
    "        'rgba(103, 204, 142, 0.8)',  # DM\n",
    "        'rgba(25, 210, 28, 0.6)',  # Confluence\n",
    "        'rgba(25, 210, 25, 0.4)',  # Screening\n",
    "        'rgba(210, 117, 25, 0.4)',  # WD\n",
    "        'rgba(24,  118, 210 , 0.60)',  # PMDA\n",
    "        'rgba(80, 80, 80, 0.1)',  # SDDA\n",
    "        'rgba(209, 2, 136, 0.4)',  # GFE DAM\n",
    "        'rgba(80, 80, 80, 0.1)',  # JIRA\n",
    "        'rgba(103, 204, 142, 0.8)',  # consolidated reports\n",
    "        'rgba(103, 204, 142, 0.8)',  # HTML\n",
    "        'rgba(103, 204, 142, 0.8)',  # presentation\n",
    "        'rgba(103, 204, 142, 0.8)',  # Periodic\n",
    "        'rgba(103, 204, 142, 0.8)',  # screening report\n",
    "        'rgba(80, 80, 80, 0.9)',  # customer\n",
    "        'rgba(103, 204, 142, 0.8)',  # CAP Plan\n",
    "        'rgba(112, 25, 74, 0.4)',  # GFM\n",
    "        'rgba(80, 80, 80, 0.9)',  # BTC\n",
    "        'rgba(220, 66, 48, 0.4)',  # Special Projects\n",
    "        'rgba(220, 66, 48, 0.5)',  # dQ/dV\n",
    "        'rgba(220, 66, 48, 0.6)',  # Analyzing calibration data\n",
    "        'rgba(220, 66, 48, 0.6)',  # Cell Selection\n",
    "    ]\n",
    "\n",
    "}\n",
    "links = {  # DA      Dap/das to deliverables  # D to PSC        #    Inventory     # Project Management     dm    screening                                                                       # Web task forms\n",
    "    'source': [0, 0,  8,  8,  8, 9,   9,  9,   12, 13, 14,       1, 10, 15, 10, 18,     2, 2, 5, 11,         4,  6, 8, 16,      7, 7,  1,  19, 19,    8, 9, 0,  21, 21, 21, 22, 23, 24,      0,    2, 3],\n",
    "    'target': [8, 9,  12, 13, 14, 12, 13, 14,   17, 17, 17,      10, 15, 17, 18, 17,    11, 5, 17, 17,       17, 8, 16, 17,      8, 9,  19,  15, 18,  4, 4, 4,  22, 23, 24, 20, 20, 20,      22,   3, 17],\n",
    "    'value':  [3.2, 0.4, 3.2,  0.4,  0.4, 0.4,   0.4,  0.4, 3.2, 0.20,  0.4,      0.8,  0.4, 0.8, 0.4, 0.8,      0.4, 0.4,  0.4, 0.4,          0.4,  0.4,  0.8, 0.8,      0.5, 0.5,  0.4,   0.4, 0.4,     0.4, 0.4, 0.4,   0.3,  0.3,  0.3, 0.3,   0.3,  0.3,  0.3, 0.3, 0.3],\n",
    "    # 'color': []\n",
    "}\n",
    "\n",
    "links['color'] = [\n",
    "    \"rgba(24,  118, 210 , 0.80)\",  # DA to PDA\n",
    "    \"rgba(24,  118, 210 , 0.80)\",  # Da to Sencodary\n",
    "    'rgba(24,  118, 210 , 0.60)',  # Primary to consolidated\n",
    "    'rgba(24,  118, 210 , 0.60)',  # PDA to HTML\n",
    "    'rgba(24,  118, 210 , 0.60)',  # PDA to presentation\n",
    "    'rgba(80, 80, 80, 0.1)',  # SDA to consolidated\n",
    "    'rgba(80, 80, 80, 0.1)',  # SDA to HTML\n",
    "    'rgba(80, 80, 80, 0.1)',  # SDA to Presentation\n",
    "    'rgba(103, 204, 142, 0.8)',  # Consolidated to PSC\n",
    "    'rgba(103, 204, 142, 0.8)',  # HTML to PSC\n",
    "    'rgba(80, 80, 80, 0.1)',  # Presentation to PSC\n",
    "    'rgba(210,25,210, 0.5)',  # Inventory to GFE\n",
    "    'rgba(209, 2, 136, 0.4)',  # GFE DM to Monthly\n",
    "    'rgba(103, 204, 142, 0.8)',  # Periodic to PSC\n",
    "    'rgba(209, 2, 136, 0.4)',  # GFE DM to CAP P\n",
    "    'rgba(103, 204, 142, 0.8)',  # Cap P to PSC\n",
    "    'rgba(80, 80, 80, 0.1)',  # PM to Jira\n",
    "    'rgba(25, 210, 28, 0.4)',  # PM to confluence\n",
    "    'rgba(25, 210, 28, 0.6)',  # confluence to PSC\n",
    "    'rgba(80, 80, 80, 0.1)',  # JIRA to PSC\n",
    "    'rgba(103, 204, 142, 0.8)',  # data migration to PSC\n",
    "    'rgba(25, 210, 25, 0.4)',  # Screening to PDA\n",
    "    'rgba(24,  118, 210 , 0.60)',  # PDA to Screening report\n",
    "    'rgba(103, 204, 142, 0.8)',  # Screening report to PSC\n",
    "    'rgba(210, 117, 25, 0.4)',  # W&D to PDA\n",
    "    'rgba(210, 117, 25, 0.4)',  # W&D to SDA\n",
    "    'rgba(210,25,210, 0.5)',  # inventory to GFM\n",
    "    'rgba(112, 25, 74, 0.4)',  # GFM to Monthly\n",
    "    'rgba(112, 25, 74, 0.4)',  # GFM to CAP Planning\n",
    "    'rgba(24,  118, 210 , 0.60)',  # primary to data migration\n",
    "    'rgba(80, 80, 80, 0.1)',  # secondary to data migration\n",
    "    'rgba(24,  118, 210 , 0.80)',  # DA to data migration\n",
    "    'rgba(220, 66, 48, 0.4)',  # SPP to cell selection\n",
    "    'rgba(220, 66, 48, 0.4)',  # SPP to cell Analyzing calibration Data\n",
    "    'rgba(220, 66, 48, 0.4)',  # SPP to cell Analyzing cell selection\n",
    "    'rgba(220, 66, 48, 0.6)',  # dq/dv to BTC\n",
    "    'rgba(220, 66, 48, 0.6)',  # ACB to BTC\n",
    "    'rgba(220, 66, 48, 0.6)',  # Cell select to BTC\n",
    "    'rgba(24,  118, 210 , 0.80)',  # Data analysis to dQ/dV\n",
    "    'rgba(80, 80, 80, 0.1)',  # project management to web task forms\n",
    "    'rgba(80, 80, 80, 0.1)',  # web task forms to PSC\n",
    "]\n",
    "# Define node positions (x and y coordinates)\n",
    "node_positions = {\n",
    "    \"Data Analysis\": (0.01, -0.05),\n",
    "    \"Inventory\": (0.01, 0.50),\n",
    "    \"Project Management\": (0.01, 0.70),\n",
    "    \"Data Migration/cataloging\": (0.66, 0.2),\n",
    "    \"Web Forms for Tasks\": (0.30, 0.73),\n",
    "    \"Screening System\": (0.01, 0.30),\n",
    "    \"Confluence\": (0.30, 0.55),\n",
    "    \"Weight & Dimensions\": (0.01, 0.13),\n",
    "    \"Secondary\": (0.30, 0.19),\n",
    "    \"Primary\": (0.30, -0.01),\n",
    "    \"GFE Data Migration\": (0.30, 0.35),\n",
    "    \"JIRA\": (0.30, 0.65),\n",
    "    \"Consolidated Reports\": (0.66, -0.005),\n",
    "    \"HTML Handbook\": (0.66, 0.40),\n",
    "    \"Presentations\": (0.66, 0.50),\n",
    "    \"Periodic Reports\": (0.66, 0.60),\n",
    "    \"Screening Report\": (0.66, 0.30),\n",
    "    \"Customer\": (0.0, 0.0),\n",
    "    \"Cap Planning\": (0.66, 0.70),\n",
    "    \"GFM\": (0.30, 0.45),\n",
    "    \"BTC\": (0.0, 0.0),\n",
    "    \"Special Projects\": (0.0, 0.0),\n",
    "    \"dQ/dV\": (0.30, 0.85),\n",
    "    \"Analyzing Calibration Data\": (0.30, 0.93),\n",
    "    \"Cell Selection\": (0.30, 1.0),\n",
    "}\n",
    "\n",
    "# Create a list of x and y coordinates for nodes\n",
    "node_x = [node_positions[label][0] for label in nodes[\"label\"]]\n",
    "node_y = [node_positions[label][1] for label in nodes[\"label\"]]\n",
    "\n",
    "# Update the nodes dictionary with x and y coordinates\n",
    "nodes[\"x\"] = node_x\n",
    "nodes[\"y\"] = node_y\n",
    "fig = go.Figure(go.Sankey(\n",
    "    node=nodes,\n",
    "    link=links\n",
    "))\n",
    "# MCSR\n",
    "# Update layout and display the diagram\n",
    "# Make GFE and GFM its ownn line\n",
    "# add web based task forms\n",
    "# add percentage from 0 to 9 depending on the amount of effort that we are putting into the project\n",
    "# build a story with the lines\n",
    "# Have colors\n",
    "\n",
    "fig.update_layout(title_text=\"BTC Software Programs\", font_size=20)\n",
    "fig.show()\n",
    "fig.write_image('images/fig11.png', width=1100, height=450)"
   ]
  },
  {
   "cell_type": "code",
   "execution_count": 39,
   "metadata": {},
   "outputs": [
    {
     "data": {
      "application/vnd.plotly.v1+json": {
       "config": {
        "plotlyServerURL": "https://plot.ly"
       },
       "data": [
        {
         "link": {
          "color": [
           "rgba(24,  118, 210 , 0.80)",
           "rgba(80, 80, 80, 0.1)",
           "rgba(24,  118, 210 , 0.60)",
           "rgba(80, 80, 80, 0.1)",
           "rgba(80, 80, 80, 0.1)",
           "rgba(80, 80, 80, 0.1)",
           "rgba(80, 80, 80, 0.1)",
           "rgba(80, 80, 80, 0.1)",
           "rgba(103, 204, 142, 0.8)",
           "rgba(80, 80, 80, 0.1)",
           "rgba(80, 80, 80, 0.1)",
           "rgba(80, 80, 80, 0.1)",
           "rgba(80, 80, 80, 0.1)",
           "rgba(80, 80, 80, 0.1)",
           "rgba(80, 80, 80, 0.1)",
           "rgba(80, 80, 80, 0.1)",
           "rgba(80, 80, 80, 0.1)",
           "rgba(80, 80, 80, 0.1)",
           "rgba(80, 80, 80, 0.1)",
           "rgba(80, 80, 80, 0.1)",
           "rgba(80, 80, 80, 0.1)",
           "rgba(80, 80, 80, 0.1)",
           "rgba(80, 80, 80, 0.1)",
           "rgba(80, 80, 80, 0.1)",
           "rgba(80, 80, 80, 0.1)",
           "rgba(80, 80, 80, 0.1)",
           "rgba(80, 80, 80, 0.1)",
           "rgba(80, 80, 80, 0.1)",
           "rgba(80, 80, 80, 0.1)",
           "rgba(80, 80, 80, 0.1)",
           "rgba(80, 80, 80, 0.1)",
           "rgba(80, 80, 80, 0.1)",
           "rgba(80, 80, 80, 0.1)",
           "rgba(80, 80, 80, 0.1)",
           "rgba(80, 80, 80, 0.1)",
           "rgba(80, 80, 80, 0.1)",
           "rgba(80, 80, 80, 0.1)",
           "rgba(80, 80, 80, 0.1)",
           "rgba(80, 80, 80, 0.1)",
           "rgba(80, 80, 80, 0.1)",
           "rgba(80, 80, 80, 0.1)"
          ],
          "source": [
           0,
           0,
           8,
           8,
           8,
           9,
           9,
           9,
           12,
           13,
           14,
           1,
           10,
           15,
           10,
           18,
           2,
           2,
           5,
           11,
           4,
           6,
           8,
           16,
           7,
           7,
           1,
           19,
           19,
           8,
           9,
           0,
           21,
           21,
           21,
           22,
           23,
           24,
           0,
           2,
           3
          ],
          "target": [
           8,
           9,
           12,
           13,
           14,
           12,
           13,
           14,
           17,
           17,
           17,
           10,
           15,
           17,
           18,
           17,
           11,
           5,
           17,
           17,
           17,
           8,
           16,
           17,
           8,
           9,
           19,
           15,
           18,
           4,
           4,
           4,
           22,
           23,
           24,
           20,
           20,
           20,
           22,
           3,
           17
          ],
          "value": [
           3.2,
           0.4,
           3.2,
           0.4,
           0.4,
           0.4,
           0.4,
           0.4,
           3.2,
           0.2,
           0.4,
           0.8,
           0.4,
           0.8,
           0.4,
           0.8,
           0.4,
           0.4,
           0.4,
           0.4,
           0.4,
           0.4,
           0.8,
           0.8,
           0.5,
           0.5,
           0.4,
           0.4,
           0.4,
           0.4,
           0.4,
           0.4,
           0.3,
           0.3,
           0.3,
           0.3,
           0.3,
           0.3,
           0.3,
           0.3,
           0.3
          ]
         },
         "node": {
          "color": [
           "rgba(24,  118, 210 , 0.80)",
           "rgba(80, 80, 80, 0.1)",
           "rgba(80, 80, 80, 0.1)",
           "rgba(80, 80, 80, 0.1)",
           "rgba(80, 80, 80, 0.1)",
           "rgba(80, 80, 80, 0.1)",
           "rgba(80, 80, 80, 0.1)",
           "rgba(80, 80, 80, 0.1)",
           "rgba(24,  118, 210 , 0.60)",
           "rgba(80, 80, 80, 0.1)",
           "rgba(80, 80, 80, 0.1)",
           "rgba(80, 80, 80, 0.1)",
           "rgba(103, 204, 142, 0.8)",
           "rgba(80, 80, 80, 0.1)",
           "rgba(80, 80, 80, 0.1)",
           "rgba(80, 80, 80, 0.1)",
           "rgba(80, 80, 80, 0.1)",
           "rgba(80, 80, 80, 0.9)",
           "rgba(80, 80, 80, 0.1)",
           "rgba(80, 80, 80, 0.1)",
           "rgba(80, 80, 80, 0.1)",
           "rgba(80, 80, 80, 0.1)",
           "rgba(80, 80, 80, 0.1)",
           "rgba(80, 80, 80, 0.1)",
           "rgba(80, 80, 80, 0.1)"
          ],
          "label": [
           "Data Analysis",
           "Inventory",
           "Project Management",
           "Web Forms for Tasks",
           "Data Migration/cataloging",
           "Confluence",
           "Screening System",
           "Weight & Dimensions",
           "Primary",
           "Secondary",
           "GFE Data Migration",
           "JIRA",
           "Consolidated Reports",
           "HTML Handbook",
           "Presentations",
           "Periodic Reports",
           "Screening Report",
           "Customer",
           "Cap Planning",
           "GFM",
           "BTC",
           "Special Projects",
           "dQ/dV",
           "Analyzing Calibration Data",
           "Cell Selection"
          ],
          "line": {
           "color": "black",
           "width": 0.5
          },
          "pad": 15,
          "thickness": 20,
          "x": [
           0.01,
           0.01,
           0.01,
           0.3,
           0.66,
           0.3,
           0.01,
           0.01,
           0.3,
           0.3,
           0.3,
           0.3,
           0.66,
           0.66,
           0.66,
           0.66,
           0.66,
           0,
           0.66,
           0.3,
           0,
           0,
           0.3,
           0.3,
           0.3
          ],
          "y": [
           -0.05,
           0.5,
           0.7,
           0.73,
           0.2,
           0.55,
           0.3,
           0.13,
           -0.01,
           0.19,
           0.35,
           0.65,
           -0.005,
           0.4,
           0.5,
           0.6,
           0.3,
           0,
           0.7,
           0.45,
           0,
           0,
           0.85,
           0.93,
           1
          ]
         },
         "type": "sankey"
        }
       ],
       "layout": {
        "font": {
         "size": 20
        },
        "template": {
         "data": {
          "bar": [
           {
            "error_x": {
             "color": "#2a3f5f"
            },
            "error_y": {
             "color": "#2a3f5f"
            },
            "marker": {
             "line": {
              "color": "#E5ECF6",
              "width": 0.5
             },
             "pattern": {
              "fillmode": "overlay",
              "size": 10,
              "solidity": 0.2
             }
            },
            "type": "bar"
           }
          ],
          "barpolar": [
           {
            "marker": {
             "line": {
              "color": "#E5ECF6",
              "width": 0.5
             },
             "pattern": {
              "fillmode": "overlay",
              "size": 10,
              "solidity": 0.2
             }
            },
            "type": "barpolar"
           }
          ],
          "carpet": [
           {
            "aaxis": {
             "endlinecolor": "#2a3f5f",
             "gridcolor": "white",
             "linecolor": "white",
             "minorgridcolor": "white",
             "startlinecolor": "#2a3f5f"
            },
            "baxis": {
             "endlinecolor": "#2a3f5f",
             "gridcolor": "white",
             "linecolor": "white",
             "minorgridcolor": "white",
             "startlinecolor": "#2a3f5f"
            },
            "type": "carpet"
           }
          ],
          "choropleth": [
           {
            "colorbar": {
             "outlinewidth": 0,
             "ticks": ""
            },
            "type": "choropleth"
           }
          ],
          "contour": [
           {
            "colorbar": {
             "outlinewidth": 0,
             "ticks": ""
            },
            "colorscale": [
             [
              0,
              "#0d0887"
             ],
             [
              0.1111111111111111,
              "#46039f"
             ],
             [
              0.2222222222222222,
              "#7201a8"
             ],
             [
              0.3333333333333333,
              "#9c179e"
             ],
             [
              0.4444444444444444,
              "#bd3786"
             ],
             [
              0.5555555555555556,
              "#d8576b"
             ],
             [
              0.6666666666666666,
              "#ed7953"
             ],
             [
              0.7777777777777778,
              "#fb9f3a"
             ],
             [
              0.8888888888888888,
              "#fdca26"
             ],
             [
              1,
              "#f0f921"
             ]
            ],
            "type": "contour"
           }
          ],
          "contourcarpet": [
           {
            "colorbar": {
             "outlinewidth": 0,
             "ticks": ""
            },
            "type": "contourcarpet"
           }
          ],
          "heatmap": [
           {
            "colorbar": {
             "outlinewidth": 0,
             "ticks": ""
            },
            "colorscale": [
             [
              0,
              "#0d0887"
             ],
             [
              0.1111111111111111,
              "#46039f"
             ],
             [
              0.2222222222222222,
              "#7201a8"
             ],
             [
              0.3333333333333333,
              "#9c179e"
             ],
             [
              0.4444444444444444,
              "#bd3786"
             ],
             [
              0.5555555555555556,
              "#d8576b"
             ],
             [
              0.6666666666666666,
              "#ed7953"
             ],
             [
              0.7777777777777778,
              "#fb9f3a"
             ],
             [
              0.8888888888888888,
              "#fdca26"
             ],
             [
              1,
              "#f0f921"
             ]
            ],
            "type": "heatmap"
           }
          ],
          "heatmapgl": [
           {
            "colorbar": {
             "outlinewidth": 0,
             "ticks": ""
            },
            "colorscale": [
             [
              0,
              "#0d0887"
             ],
             [
              0.1111111111111111,
              "#46039f"
             ],
             [
              0.2222222222222222,
              "#7201a8"
             ],
             [
              0.3333333333333333,
              "#9c179e"
             ],
             [
              0.4444444444444444,
              "#bd3786"
             ],
             [
              0.5555555555555556,
              "#d8576b"
             ],
             [
              0.6666666666666666,
              "#ed7953"
             ],
             [
              0.7777777777777778,
              "#fb9f3a"
             ],
             [
              0.8888888888888888,
              "#fdca26"
             ],
             [
              1,
              "#f0f921"
             ]
            ],
            "type": "heatmapgl"
           }
          ],
          "histogram": [
           {
            "marker": {
             "pattern": {
              "fillmode": "overlay",
              "size": 10,
              "solidity": 0.2
             }
            },
            "type": "histogram"
           }
          ],
          "histogram2d": [
           {
            "colorbar": {
             "outlinewidth": 0,
             "ticks": ""
            },
            "colorscale": [
             [
              0,
              "#0d0887"
             ],
             [
              0.1111111111111111,
              "#46039f"
             ],
             [
              0.2222222222222222,
              "#7201a8"
             ],
             [
              0.3333333333333333,
              "#9c179e"
             ],
             [
              0.4444444444444444,
              "#bd3786"
             ],
             [
              0.5555555555555556,
              "#d8576b"
             ],
             [
              0.6666666666666666,
              "#ed7953"
             ],
             [
              0.7777777777777778,
              "#fb9f3a"
             ],
             [
              0.8888888888888888,
              "#fdca26"
             ],
             [
              1,
              "#f0f921"
             ]
            ],
            "type": "histogram2d"
           }
          ],
          "histogram2dcontour": [
           {
            "colorbar": {
             "outlinewidth": 0,
             "ticks": ""
            },
            "colorscale": [
             [
              0,
              "#0d0887"
             ],
             [
              0.1111111111111111,
              "#46039f"
             ],
             [
              0.2222222222222222,
              "#7201a8"
             ],
             [
              0.3333333333333333,
              "#9c179e"
             ],
             [
              0.4444444444444444,
              "#bd3786"
             ],
             [
              0.5555555555555556,
              "#d8576b"
             ],
             [
              0.6666666666666666,
              "#ed7953"
             ],
             [
              0.7777777777777778,
              "#fb9f3a"
             ],
             [
              0.8888888888888888,
              "#fdca26"
             ],
             [
              1,
              "#f0f921"
             ]
            ],
            "type": "histogram2dcontour"
           }
          ],
          "mesh3d": [
           {
            "colorbar": {
             "outlinewidth": 0,
             "ticks": ""
            },
            "type": "mesh3d"
           }
          ],
          "parcoords": [
           {
            "line": {
             "colorbar": {
              "outlinewidth": 0,
              "ticks": ""
             }
            },
            "type": "parcoords"
           }
          ],
          "pie": [
           {
            "automargin": true,
            "type": "pie"
           }
          ],
          "scatter": [
           {
            "fillpattern": {
             "fillmode": "overlay",
             "size": 10,
             "solidity": 0.2
            },
            "type": "scatter"
           }
          ],
          "scatter3d": [
           {
            "line": {
             "colorbar": {
              "outlinewidth": 0,
              "ticks": ""
             }
            },
            "marker": {
             "colorbar": {
              "outlinewidth": 0,
              "ticks": ""
             }
            },
            "type": "scatter3d"
           }
          ],
          "scattercarpet": [
           {
            "marker": {
             "colorbar": {
              "outlinewidth": 0,
              "ticks": ""
             }
            },
            "type": "scattercarpet"
           }
          ],
          "scattergeo": [
           {
            "marker": {
             "colorbar": {
              "outlinewidth": 0,
              "ticks": ""
             }
            },
            "type": "scattergeo"
           }
          ],
          "scattergl": [
           {
            "marker": {
             "colorbar": {
              "outlinewidth": 0,
              "ticks": ""
             }
            },
            "type": "scattergl"
           }
          ],
          "scattermapbox": [
           {
            "marker": {
             "colorbar": {
              "outlinewidth": 0,
              "ticks": ""
             }
            },
            "type": "scattermapbox"
           }
          ],
          "scatterpolar": [
           {
            "marker": {
             "colorbar": {
              "outlinewidth": 0,
              "ticks": ""
             }
            },
            "type": "scatterpolar"
           }
          ],
          "scatterpolargl": [
           {
            "marker": {
             "colorbar": {
              "outlinewidth": 0,
              "ticks": ""
             }
            },
            "type": "scatterpolargl"
           }
          ],
          "scatterternary": [
           {
            "marker": {
             "colorbar": {
              "outlinewidth": 0,
              "ticks": ""
             }
            },
            "type": "scatterternary"
           }
          ],
          "surface": [
           {
            "colorbar": {
             "outlinewidth": 0,
             "ticks": ""
            },
            "colorscale": [
             [
              0,
              "#0d0887"
             ],
             [
              0.1111111111111111,
              "#46039f"
             ],
             [
              0.2222222222222222,
              "#7201a8"
             ],
             [
              0.3333333333333333,
              "#9c179e"
             ],
             [
              0.4444444444444444,
              "#bd3786"
             ],
             [
              0.5555555555555556,
              "#d8576b"
             ],
             [
              0.6666666666666666,
              "#ed7953"
             ],
             [
              0.7777777777777778,
              "#fb9f3a"
             ],
             [
              0.8888888888888888,
              "#fdca26"
             ],
             [
              1,
              "#f0f921"
             ]
            ],
            "type": "surface"
           }
          ],
          "table": [
           {
            "cells": {
             "fill": {
              "color": "#EBF0F8"
             },
             "line": {
              "color": "white"
             }
            },
            "header": {
             "fill": {
              "color": "#C8D4E3"
             },
             "line": {
              "color": "white"
             }
            },
            "type": "table"
           }
          ]
         },
         "layout": {
          "annotationdefaults": {
           "arrowcolor": "#2a3f5f",
           "arrowhead": 0,
           "arrowwidth": 1
          },
          "autotypenumbers": "strict",
          "coloraxis": {
           "colorbar": {
            "outlinewidth": 0,
            "ticks": ""
           }
          },
          "colorscale": {
           "diverging": [
            [
             0,
             "#8e0152"
            ],
            [
             0.1,
             "#c51b7d"
            ],
            [
             0.2,
             "#de77ae"
            ],
            [
             0.3,
             "#f1b6da"
            ],
            [
             0.4,
             "#fde0ef"
            ],
            [
             0.5,
             "#f7f7f7"
            ],
            [
             0.6,
             "#e6f5d0"
            ],
            [
             0.7,
             "#b8e186"
            ],
            [
             0.8,
             "#7fbc41"
            ],
            [
             0.9,
             "#4d9221"
            ],
            [
             1,
             "#276419"
            ]
           ],
           "sequential": [
            [
             0,
             "#0d0887"
            ],
            [
             0.1111111111111111,
             "#46039f"
            ],
            [
             0.2222222222222222,
             "#7201a8"
            ],
            [
             0.3333333333333333,
             "#9c179e"
            ],
            [
             0.4444444444444444,
             "#bd3786"
            ],
            [
             0.5555555555555556,
             "#d8576b"
            ],
            [
             0.6666666666666666,
             "#ed7953"
            ],
            [
             0.7777777777777778,
             "#fb9f3a"
            ],
            [
             0.8888888888888888,
             "#fdca26"
            ],
            [
             1,
             "#f0f921"
            ]
           ],
           "sequentialminus": [
            [
             0,
             "#0d0887"
            ],
            [
             0.1111111111111111,
             "#46039f"
            ],
            [
             0.2222222222222222,
             "#7201a8"
            ],
            [
             0.3333333333333333,
             "#9c179e"
            ],
            [
             0.4444444444444444,
             "#bd3786"
            ],
            [
             0.5555555555555556,
             "#d8576b"
            ],
            [
             0.6666666666666666,
             "#ed7953"
            ],
            [
             0.7777777777777778,
             "#fb9f3a"
            ],
            [
             0.8888888888888888,
             "#fdca26"
            ],
            [
             1,
             "#f0f921"
            ]
           ]
          },
          "colorway": [
           "#636efa",
           "#EF553B",
           "#00cc96",
           "#ab63fa",
           "#FFA15A",
           "#19d3f3",
           "#FF6692",
           "#B6E880",
           "#FF97FF",
           "#FECB52"
          ],
          "font": {
           "color": "#2a3f5f"
          },
          "geo": {
           "bgcolor": "white",
           "lakecolor": "white",
           "landcolor": "#E5ECF6",
           "showlakes": true,
           "showland": true,
           "subunitcolor": "white"
          },
          "hoverlabel": {
           "align": "left"
          },
          "hovermode": "closest",
          "mapbox": {
           "style": "light"
          },
          "paper_bgcolor": "white",
          "plot_bgcolor": "#E5ECF6",
          "polar": {
           "angularaxis": {
            "gridcolor": "white",
            "linecolor": "white",
            "ticks": ""
           },
           "bgcolor": "#E5ECF6",
           "radialaxis": {
            "gridcolor": "white",
            "linecolor": "white",
            "ticks": ""
           }
          },
          "scene": {
           "xaxis": {
            "backgroundcolor": "#E5ECF6",
            "gridcolor": "white",
            "gridwidth": 2,
            "linecolor": "white",
            "showbackground": true,
            "ticks": "",
            "zerolinecolor": "white"
           },
           "yaxis": {
            "backgroundcolor": "#E5ECF6",
            "gridcolor": "white",
            "gridwidth": 2,
            "linecolor": "white",
            "showbackground": true,
            "ticks": "",
            "zerolinecolor": "white"
           },
           "zaxis": {
            "backgroundcolor": "#E5ECF6",
            "gridcolor": "white",
            "gridwidth": 2,
            "linecolor": "white",
            "showbackground": true,
            "ticks": "",
            "zerolinecolor": "white"
           }
          },
          "shapedefaults": {
           "line": {
            "color": "#2a3f5f"
           }
          },
          "ternary": {
           "aaxis": {
            "gridcolor": "white",
            "linecolor": "white",
            "ticks": ""
           },
           "baxis": {
            "gridcolor": "white",
            "linecolor": "white",
            "ticks": ""
           },
           "bgcolor": "#E5ECF6",
           "caxis": {
            "gridcolor": "white",
            "linecolor": "white",
            "ticks": ""
           }
          },
          "title": {
           "x": 0.05
          },
          "xaxis": {
           "automargin": true,
           "gridcolor": "white",
           "linecolor": "white",
           "ticks": "",
           "title": {
            "standoff": 15
           },
           "zerolinecolor": "white",
           "zerolinewidth": 2
          },
          "yaxis": {
           "automargin": true,
           "gridcolor": "white",
           "linecolor": "white",
           "ticks": "",
           "title": {
            "standoff": 15
           },
           "zerolinecolor": "white",
           "zerolinewidth": 2
          }
         }
        },
        "title": {
         "text": "BTC Software Programs"
        }
       }
      }
     },
     "metadata": {},
     "output_type": "display_data"
    },
    {
     "data": {
      "text/plain": [
       "<Figure size 1200x1600 with 0 Axes>"
      ]
     },
     "metadata": {},
     "output_type": "display_data"
    }
   ],
   "source": [
    "# Current effort project\n",
    "\n",
    "\n",
    "import matplotlib.pyplot as plt\n",
    "import plotly.graph_objects as go\n",
    "import plotly.graph_objects as go\n",
    "import plotly.express as px\n",
    "plt.figure(figsize=(12, 16))\n",
    "# Define the nodes and links\n",
    "nodes = {\n",
    "    \"pad\": 15,\n",
    "    \"thickness\": 20,\n",
    "    \"line\": dict(color=\"black\", width=0.5),\n",
    "    \"label\": [\n",
    "        \"Data Analysis\",\n",
    "        \"Inventory\",\n",
    "        \"Project Management\",\n",
    "        'Web Forms for Tasks',\n",
    "        'Data Migration/cataloging',\n",
    "        'Confluence',\n",
    "        'Screening System',\n",
    "        'Weight & Dimensions',\n",
    "        'Primary',\n",
    "        'Secondary',\n",
    "        'GFE Data Migration',\n",
    "        'JIRA',\n",
    "        'Consolidated Reports',\n",
    "        'HTML Handbook',\n",
    "        'Presentations',\n",
    "        'Periodic Reports',\n",
    "        'Screening Report',\n",
    "        'Customer',\n",
    "        'Cap Planning',\n",
    "        'GFM',\n",
    "        'BTC',  # 20\n",
    "        'Special Projects',\n",
    "        'dQ/dV',\n",
    "        'Analyzing Calibration Data',\n",
    "        'Cell Selection',\n",
    "    ],\n",
    "    \"color\": [\n",
    "        'rgba(24,  118, 210 , 0.80)',  # da\n",
    "        'rgba(80, 80, 80, 0.1)',  # inv\n",
    "        'rgba(80, 80, 80, 0.1)',  # Project M\n",
    "        'rgba(80, 80, 80, 0.1)',  # Web task Forms\n",
    "        'rgba(80, 80, 80, 0.1)',  # DM\n",
    "        'rgba(80, 80, 80, 0.1)',  # Confluence\n",
    "        'rgba(80, 80, 80, 0.1)',  # Screening\n",
    "        'rgba(80, 80, 80, 0.1)',  # WD\n",
    "        'rgba(24,  118, 210 , 0.60)',  # PMDA\n",
    "        'rgba(80, 80, 80, 0.1)',  # SDDA\n",
    "        'rgba(80, 80, 80, 0.1)',  # GFE DAM\n",
    "        'rgba(80, 80, 80, 0.1)',  # JIRA\n",
    "        'rgba(103, 204, 142, 0.8)',  # consolidated reports\n",
    "        'rgba(80, 80, 80, 0.1)',  # HTML\n",
    "        'rgba(80, 80, 80, 0.1)',  # presentation\n",
    "        'rgba(80, 80, 80, 0.1)',  # Periodic\n",
    "        'rgba(80, 80, 80, 0.1)',  # screening report\n",
    "        'rgba(80, 80, 80, 0.9)',  # customer\n",
    "        'rgba(80, 80, 80, 0.1)',  # CAP Plan\n",
    "        'rgba(80, 80, 80, 0.1)',  # GFM\n",
    "        'rgba(80, 80, 80, 0.1)',  # BTC\n",
    "        'rgba(80, 80, 80, 0.1)',  # Special Projects\n",
    "        'rgba(80, 80, 80, 0.1)',  # dQ/dV\n",
    "        'rgba(80, 80, 80, 0.1)',  # Analyzing calibration data\n",
    "        'rgba(80, 80, 80, 0.1)',  # Cell Selection\n",
    "    ]\n",
    "\n",
    "}\n",
    "links = {  # DA      Dap/das to deliverables  # D to PSC        #    Inventory     # Project Management     dm    screening                                                                       # Web task forms\n",
    "    'source': [0, 0,  8,  8,  8, 9,   9,  9,   12, 13, 14,       1, 10, 15, 10, 18,     2, 2, 5, 11,         4,  6, 8, 16,      7, 7,  1,  19, 19,    8, 9, 0,  21, 21, 21, 22, 23, 24,      0,    2, 3],\n",
    "    'target': [8, 9,  12, 13, 14, 12, 13, 14,   17, 17, 17,      10, 15, 17, 18, 17,    11, 5, 17, 17,       17, 8, 16, 17,      8, 9,  19,  15, 18,  4, 4, 4,  22, 23, 24, 20, 20, 20,      22,   3, 17],\n",
    "    'value':  [3.2, 0.4, 3.2,  0.4,  0.4, 0.4,   0.4,  0.4, 3.2, 0.20,  0.4,      0.8,  0.4, 0.8, 0.4, 0.8,      0.4, 0.4,  0.4, 0.4,          0.4,  0.4,  0.8, 0.8,      0.5, 0.5,  0.4,   0.4, 0.4,     0.4, 0.4, 0.4,   0.3,  0.3,  0.3, 0.3,   0.3,  0.3,  0.3, 0.3, 0.3],\n",
    "    # 'color': []\n",
    "}\n",
    "\n",
    "links['color'] = [\n",
    "    \"rgba(24,  118, 210 , 0.80)\",  # DA to PDA\n",
    "    \"rgba(80, 80, 80, 0.1)\",  # Da to Sencodary\n",
    "    'rgba(24,  118, 210 , 0.60)',  # Primary to consolidated\n",
    "    'rgba(80, 80, 80, 0.1)',  # PDA to HTML\n",
    "    'rgba(80, 80, 80, 0.1)',  # PDA to presentation\n",
    "    'rgba(80, 80, 80, 0.1)',  # SDA to consolidated\n",
    "    'rgba(80, 80, 80, 0.1)',  # SDA to HTML\n",
    "    'rgba(80, 80, 80, 0.1)',  # SDA to Presentation\n",
    "    'rgba(103, 204, 142, 0.8)',  # Consolidated to PSC\n",
    "    'rgba(80, 80, 80, 0.1)',  # HTML to PSC\n",
    "    'rgba(80, 80, 80, 0.1)',  # Presentation to PSC\n",
    "    'rgba(80, 80, 80, 0.1)',  # Inventory to GFE\n",
    "    'rgba(80, 80, 80, 0.1)',  # GFE DM to Monthly\n",
    "    'rgba(80, 80, 80, 0.1)',  # Monthly to PSC\n",
    "    'rgba(80, 80, 80, 0.1)',  # GFE DM to CAP P\n",
    "    'rgba(80, 80, 80, 0.1)',  # Cap P to PSC\n",
    "    'rgba(80, 80, 80, 0.1)',  # PM to Jira\n",
    "    'rgba(80, 80, 80, 0.1)',  # PM to Jira\n",
    "    'rgba(80, 80, 80, 0.1)',  # confluence to PSC\n",
    "    'rgba(80, 80, 80, 0.1)',  # JIRA to PSC\n",
    "    'rgba(80, 80, 80, 0.1)',  # data migration to PSC\n",
    "    'rgba(80, 80, 80, 0.1)',  # Screening to PDA\n",
    "    'rgba(80, 80, 80, 0.1)',  # PDA to Screening report\n",
    "    'rgba(80, 80, 80, 0.1)',  # Screening report to PSC\n",
    "    'rgba(80, 80, 80, 0.1)',  # W&D to PDA\n",
    "    'rgba(80, 80, 80, 0.1)',  # W&D to SDA\n",
    "    'rgba(80, 80, 80, 0.1)',  # inventory to GFM\n",
    "    'rgba(80, 80, 80, 0.1)',  # GFM to Monthly\n",
    "    'rgba(80, 80, 80, 0.1)',  # GFM to CAP Planning\n",
    "    'rgba(80, 80, 80, 0.1)',  # primary to data migration\n",
    "    'rgba(80, 80, 80, 0.1)',  # secondary to data migration\n",
    "    'rgba(80, 80, 80, 0.1)',  # DA to data migration\n",
    "    'rgba(80, 80, 80, 0.1)',  # SPP to cell selection\n",
    "    'rgba(80, 80, 80, 0.1)',  # SPP to cell Analyzing calibration Data\n",
    "    'rgba(80, 80, 80, 0.1)',  # SPP to cell Analyzing cell selection\n",
    "    'rgba(80, 80, 80, 0.1)',  # dq/dv to BTC\n",
    "    'rgba(80, 80, 80, 0.1)',  # ACB to BTC\n",
    "    'rgba(80, 80, 80, 0.1)',  # Cell select to BTC\n",
    "    'rgba(80, 80, 80, 0.1)',  # Data analysis to dQ/dV\n",
    "    'rgba(80, 80, 80, 0.1)',  # project management to web task forms\n",
    "    'rgba(80, 80, 80, 0.1)',  # web task forms to PSC\n",
    "]\n",
    "# Define node positions (x and y coordinates)\n",
    "node_positions = {\n",
    "    \"Data Analysis\": (0.01, -0.05),\n",
    "    \"Inventory\": (0.01, 0.50),\n",
    "    \"Project Management\": (0.01, 0.70),\n",
    "    \"Data Migration/cataloging\": (0.66, 0.2),\n",
    "    \"Web Forms for Tasks\": (0.30, 0.73),\n",
    "    \"Screening System\": (0.01, 0.30),\n",
    "    \"Confluence\": (0.30, 0.55),\n",
    "    \"Weight & Dimensions\": (0.01, 0.13),\n",
    "    \"Secondary\": (0.30, 0.19),\n",
    "    \"Primary\": (0.30, -0.01),\n",
    "    \"GFE Data Migration\": (0.30, 0.35),\n",
    "    \"JIRA\": (0.30, 0.65),\n",
    "    \"Consolidated Reports\": (0.66, -0.005),\n",
    "    \"HTML Handbook\": (0.66, 0.40),\n",
    "    \"Presentations\": (0.66, 0.50),\n",
    "    \"Periodic Reports\": (0.66, 0.60),\n",
    "    \"Screening Report\": (0.66, 0.30),\n",
    "    \"Customer\": (0.0, 0.0),\n",
    "    \"Cap Planning\": (0.66, 0.70),\n",
    "    \"GFM\": (0.30, 0.45),\n",
    "    \"BTC\": (0.0, 0.0),\n",
    "    \"Special Projects\": (0.0, 0.0),\n",
    "    \"dQ/dV\": (0.30, 0.85),\n",
    "    \"Analyzing Calibration Data\": (0.30, 0.93),\n",
    "    \"Cell Selection\": (0.30, 1.0),\n",
    "}\n",
    "\n",
    "# Create a list of x and y coordinates for nodes\n",
    "node_x = [node_positions[label][0] for label in nodes[\"label\"]]\n",
    "node_y = [node_positions[label][1] for label in nodes[\"label\"]]\n",
    "\n",
    "# Update the nodes dictionary with x and y coordinates\n",
    "nodes[\"x\"] = node_x\n",
    "nodes[\"y\"] = node_y\n",
    "fig = go.Figure(go.Sankey(\n",
    "    node=nodes,\n",
    "    link=links\n",
    "))\n",
    "# MCSR\n",
    "# Update layout and display the diagram\n",
    "# Make GFE and GFM its ownn line\n",
    "# add web based task forms\n",
    "# add percentage from 0 to 9 depending on the amount of effort that we are putting into the project\n",
    "# build a story with the lines\n",
    "# Have colors\n",
    "\n",
    "fig.update_layout(title_text=\"BTC Software Programs\", font_size=20)\n",
    "fig.show()\n",
    "fig.write_image('images/fig12.png', width=1100, height=450)"
   ]
  }
 ],
 "metadata": {
  "kernelspec": {
   "display_name": ".docs_venv",
   "language": "python",
   "name": "python3"
  },
  "language_info": {
   "codemirror_mode": {
    "name": "ipython",
    "version": 3
   },
   "file_extension": ".py",
   "mimetype": "text/x-python",
   "name": "python",
   "nbconvert_exporter": "python",
   "pygments_lexer": "ipython3",
   "version": "3.12.3"
  }
 },
 "nbformat": 4,
 "nbformat_minor": 2
}
