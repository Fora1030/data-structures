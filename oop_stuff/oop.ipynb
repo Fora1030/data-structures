{
 "cells": [
  {
   "cell_type": "markdown",
   "metadata": {},
   "source": [
    "# Using __new__()\n",
    "\n",
    "Metaclass example 1 – ordered attributes\n",
    "\n"
   ]
  },
  {
   "cell_type": "code",
   "execution_count": 10,
   "metadata": {},
   "outputs": [
    {
     "data": {
      "text/plain": [
       "('this', 'z', 'b', 'a')"
      ]
     },
     "execution_count": 10,
     "metadata": {},
     "output_type": "execute_result"
    }
   ],
   "source": [
    "import collections\n",
    "\n",
    "\n",
    "class OrderedAttributes(type):\n",
    "    @classmethod\n",
    "    def __prepare__(mcs, name, bases, **kwargs):\n",
    "        return collections.OrderedDict()\n",
    "\n",
    "    def __new__(mcs, name, bases, namespace, **kwargs):\n",
    "        result = super().__new__(mcs, name, bases, namespace)\n",
    "        result._ordered_attributes = tuple(\n",
    "            n for n in namespace if not n.startswith('__'))\n",
    "        return result\n",
    "\n",
    "    def __iter__(cls):\n",
    "        return iter(cls._ordered_attributes)\n",
    "\n",
    "\n",
    "class OderPreserved(metaclass=OrderedAttributes):\n",
    "    pass\n",
    "\n",
    "\n",
    "class Something(OderPreserved):\n",
    "    this = 'text'\n",
    "\n",
    "    def z(self):\n",
    "        return False\n",
    "    b = 'order is preserved'\n",
    "    a = 'more text'\n",
    "\n",
    "\n",
    "Something._ordered_attributes"
   ]
  },
  {
   "cell_type": "markdown",
   "metadata": {},
   "source": [
    "Metaclass example 2 – self-reference\n"
   ]
  },
  {
   "cell_type": "code",
   "execution_count": 9,
   "metadata": {},
   "outputs": [
    {
     "data": {
      "text/plain": [
       "0.08333333333333333"
      ]
     },
     "execution_count": 9,
     "metadata": {},
     "output_type": "execute_result"
    }
   ],
   "source": [
    "class Unit:\n",
    "    \"\"\"\n",
    "    Full name for the unit\n",
    "    \"\"\"\n",
    "    factor = 1.0\n",
    "    standard = None\n",
    "\n",
    "    @classmethod\n",
    "    def value(class_, value):\n",
    "        return value * class_.factor\n",
    "\n",
    "    @classmethod\n",
    "    def convert(class_, value):\n",
    "        if value is None:\n",
    "            return None\n",
    "        return value * class_.factor\n",
    "\n",
    "\n",
    "class UintMeta(type):\n",
    "    def __new__(cls, name, bases, dict):\n",
    "        new_cls = super().__new__(cls, name, bases, dict)\n",
    "        new_cls.standard = new_cls\n",
    "        return new_cls\n",
    "\n",
    "\n",
    "class INCH(Unit):\n",
    "    standard = 'in'\n",
    "\n",
    "class FOOT( Unit ):\n",
    "    \"\"\"Feet\"\"\"\n",
    "    name= \"ft\"\n",
    "    standard= INCH\n",
    "    factor= 1/12\n",
    "\n",
    "class CENTIMETER( Unit ):\n",
    "    \"\"\"Centimeters\"\"\"\n",
    "    name= \"cm\"\n",
    "    standard= INCH\n",
    "    factor= 2.54\n",
    "\n",
    "class METER( Unit ):\n",
    "    \"\"\"Meters\"\"\"\n",
    "    name= \"m\"\n",
    "    standard= INCH\n",
    "    factor= .0254\n",
    "x_std = INCH.value(159.625)\n",
    "\n",
    "FOOT.convert(x_std)\n",
    "FOOT.factor"
   ]
  },
  {
   "cell_type": "code",
   "execution_count": null,
   "metadata": {},
   "outputs": [],
   "source": [
    "def majorityElement(nums):\n",
    "    count = 0\n",
    "    candidate = None\n",
    "\n",
    "    for num in nums:\n",
    "        if count == 0:\n",
    "            candidate = num\n",
    "        count += (1 if num == candidate else -1)\n",
    "\n",
    "    return candidate"
   ]
  }
 ],
 "metadata": {
  "kernelspec": {
   "display_name": "Python 3",
   "language": "python",
   "name": "python3"
  },
  "language_info": {
   "codemirror_mode": {
    "name": "ipython",
    "version": 3
   },
   "file_extension": ".py",
   "mimetype": "text/x-python",
   "name": "python",
   "nbconvert_exporter": "python",
   "pygments_lexer": "ipython3",
   "version": "3.12.0"
  }
 },
 "nbformat": 4,
 "nbformat_minor": 2
}
