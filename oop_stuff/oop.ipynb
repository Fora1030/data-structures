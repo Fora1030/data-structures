{
 "cells": [
  {
   "cell_type": "markdown",
   "metadata": {},
   "source": [
    "# Using __new__()\n",
    "\n",
    "Metaclass example 1 – ordered attributes\n",
    "\n"
   ]
  },
  {
   "cell_type": "code",
   "execution_count": 10,
   "metadata": {},
   "outputs": [
    {
     "data": {
      "text/plain": [
       "('this', 'z', 'b', 'a')"
      ]
     },
     "execution_count": 10,
     "metadata": {},
     "output_type": "execute_result"
    }
   ],
   "source": [
    "import collections\n",
    "\n",
    "\n",
    "class OrderedAttributes(type):\n",
    "    @classmethod\n",
    "    def __prepare__(mcs, name, bases, **kwargs):\n",
    "        return collections.OrderedDict()\n",
    "\n",
    "    def __new__(mcs, name, bases, namespace, **kwargs):\n",
    "        result = super().__new__(mcs, name, bases, namespace)\n",
    "        result._ordered_attributes = tuple(\n",
    "            n for n in namespace if not n.startswith('__'))\n",
    "        return result\n",
    "\n",
    "    def __iter__(cls):\n",
    "        return iter(cls._ordered_attributes)\n",
    "\n",
    "\n",
    "class OderPreserved(metaclass=OrderedAttributes):\n",
    "    pass\n",
    "\n",
    "\n",
    "class Something(OderPreserved):\n",
    "    this = 'text'\n",
    "\n",
    "    def z(self):\n",
    "        return False\n",
    "    b = 'order is preserved'\n",
    "    a = 'more text'\n",
    "\n",
    "\n",
    "Something._ordered_attributes"
   ]
  },
  {
   "cell_type": "markdown",
   "metadata": {},
   "source": [
    "Metaclass example 2 – self-reference\n"
   ]
  },
  {
   "cell_type": "code",
   "execution_count": 17,
   "metadata": {},
   "outputs": [
    {
     "name": "stdout",
     "output_type": "stream",
     "text": [
      "254.0\n"
     ]
    }
   ],
   "source": [
    "class Unit:\n",
    "    \"\"\"\n",
    "    Full name for the unit\n",
    "    \"\"\"\n",
    "    factor = 1.0\n",
    "    standard = None\n",
    "\n",
    "    @classmethod\n",
    "    def value(class_, value):\n",
    "        return value * class_.factor\n",
    "\n",
    "    @classmethod\n",
    "    def convert(class_, value):\n",
    "        if value is None:\n",
    "            return None\n",
    "        return value * class_.factor\n",
    "\n",
    "\n",
    "class UintMeta(type):\n",
    "    def __new__(cls, name, bases, dict):\n",
    "        new_cls = super().__new__(cls, name, bases, dict)\n",
    "        new_cls.standard = new_cls\n",
    "        return new_cls\n",
    "\n",
    "\n",
    "class StandardUnit(Unit, metaclass=UintMeta):\n",
    "    pass\n",
    "\n",
    "\n",
    "class INCH(StandardUnit):\n",
    "    \"\"\"Inches\"\"\"\n",
    "    standard = 'in'\n",
    "\n",
    "\n",
    "class FOOT(Unit):\n",
    "    \"\"\"Feet\"\"\"\n",
    "    name = \"ft\"\n",
    "    standard = INCH\n",
    "    factor = 1/12\n",
    "\n",
    "\n",
    "class CENTIMETER(Unit):\n",
    "    \"\"\"Centimeters\"\"\"\n",
    "    name = \"cm\"\n",
    "    standard = INCH\n",
    "    factor = 2.54\n",
    "\n",
    "\n",
    "class METER(Unit):\n",
    "    \"\"\"Meters\"\"\"\n",
    "    name = \"m\"\n",
    "    standard = INCH\n",
    "    factor = 0.0254\n",
    "\n",
    "\n",
    "x_std = INCH.value(100)\n",
    "print(CENTIMETER.convert(x_std))"
   ]
  },
  {
   "cell_type": "markdown",
   "metadata": {},
   "source": [
    "\n",
    "The ABCs of Consistent Design\n",
    "---"
   ]
  },
  {
   "cell_type": "code",
   "execution_count": 5,
   "metadata": {},
   "outputs": [],
   "source": [
    "from abc import ABCMeta, abstractmethod\n",
    "\n",
    "\n",
    "class AbstractBettingStrategy(metaclass=ABCMeta):\n",
    "    __slots__ = ()\n",
    "\n",
    "    @abstractmethod\n",
    "    def bet(self, hand):\n",
    "        return 1\n",
    "\n",
    "    @abstractmethod\n",
    "    def record_win(self, hand):\n",
    "        pass\n",
    "\n",
    "    @abstractmethod\n",
    "    def record_loss(self, hand):\n",
    "        pass\n",
    "\n",
    "    @classmethod\n",
    "    def __subclasshook__(cls, subclass):\n",
    "        if cls is Hand:\n",
    "            if (any(\"bet\" in B.__dict__ for B in subclass.__mro__)\n",
    "                and any(\"record_win\" in B.__dict__ for B in subclass.__mro__)\n",
    "                and any(\"record_loss\" in B.__dict__ for B in subclass.__mro__)\n",
    "                ):\n",
    "                return True\n",
    "        return NotImplemented\n",
    "\n",
    "\n",
    "class Simple_Broken(AbstractBettingStrategy):\n",
    "    def bet(self, hand):\n",
    "        return 1\n",
    "\n",
    "\n",
    "class Simple(AbstractBettingStrategy):\n",
    "    def bet(self, hand):\n",
    "        return 1\n",
    "\n",
    "    def record_win(self, hand):\n",
    "        pass\n",
    "\n",
    "    def record_loss(self, hand):\n",
    "        pass\n",
    "\n",
    "\n",
    "simple = Simple()"
   ]
  },
  {
   "cell_type": "markdown",
   "metadata": {},
   "source": [
    "Using Callables and Contexts\n",
    "---"
   ]
  },
  {
   "cell_type": "code",
   "execution_count": 2,
   "metadata": {},
   "outputs": [
    {
     "data": {
      "text/plain": [
       "1024"
      ]
     },
     "execution_count": 2,
     "metadata": {},
     "output_type": "execute_result"
    }
   ],
   "source": [
    "import collections.abc\n",
    "import timeit\n",
    "\n",
    "iterative = timeit.timeit(\"pow1(2,1024)\", \"\"\"\n",
    "\n",
    "class Power1(collections.abc.Callable):\n",
    "    def __call__(self, x, n):\n",
    "        p = 1\n",
    "        for i in range(n):\n",
    "            p *= x\n",
    "        return p\n",
    "\n",
    "\n",
    "pow1 = Power1()\n",
    "\"\"\", number=100000)\n",
    "\n",
    "\n",
    "# performance improvement\n",
    "\n",
    "\n",
    "class Power4(collections.abc.Callable):\n",
    "    def __call__(self, x, n):\n",
    "        if n == 0:\n",
    "            return 1\n",
    "        elif n % 2 == 1:\n",
    "            return self.__call__(x, n-1)*x\n",
    "        else:  # n % 2 == 0:\n",
    "            t = self.__call__(x, n//2)\n",
    "            return t*t\n",
    "\n",
    "\n",
    "pow4 = Power4()\n",
    "pow4(2, 10)"
   ]
  }
 ],
 "metadata": {
  "kernelspec": {
   "display_name": "Python 3",
   "language": "python",
   "name": "python3"
  },
  "language_info": {
   "codemirror_mode": {
    "name": "ipython",
    "version": 3
   },
   "file_extension": ".py",
   "mimetype": "text/x-python",
   "name": "python",
   "nbconvert_exporter": "python",
   "pygments_lexer": "ipython3",
   "version": "3.11.1"
  }
 },
 "nbformat": 4,
 "nbformat_minor": 2
}
