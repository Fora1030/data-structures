{
 "cells": [
  {
   "cell_type": "markdown",
   "metadata": {},
   "source": [
    "# Using __new__()\n",
    "\n",
    "Metaclass example 1 – ordered attributes\n",
    "\n"
   ]
  },
  {
   "cell_type": "code",
   "execution_count": 10,
   "metadata": {},
   "outputs": [
    {
     "data": {
      "text/plain": [
       "('this', 'z', 'b', 'a')"
      ]
     },
     "execution_count": 10,
     "metadata": {},
     "output_type": "execute_result"
    }
   ],
   "source": [
    "import collections\n",
    "\n",
    "\n",
    "class OrderedAttributes(type):\n",
    "    @classmethod\n",
    "    def __prepare__(mcs, name, bases, **kwargs):\n",
    "        return collections.OrderedDict()\n",
    "\n",
    "    def __new__(mcs, name, bases, namespace, **kwargs):\n",
    "        result = super().__new__(mcs, name, bases, namespace)\n",
    "        result._ordered_attributes = tuple(\n",
    "            n for n in namespace if not n.startswith('__'))\n",
    "        return result\n",
    "\n",
    "    def __iter__(cls):\n",
    "        return iter(cls._ordered_attributes)\n",
    "\n",
    "\n",
    "class OderPreserved(metaclass=OrderedAttributes):\n",
    "    pass\n",
    "\n",
    "\n",
    "class Something(OderPreserved):\n",
    "    this = 'text'\n",
    "\n",
    "    def z(self):\n",
    "        return False\n",
    "    b = 'order is preserved'\n",
    "    a = 'more text'\n",
    "\n",
    "\n",
    "Something._ordered_attributes"
   ]
  },
  {
   "cell_type": "markdown",
   "metadata": {},
   "source": [
    "Metaclass example 2 – self-reference\n"
   ]
  },
  {
   "cell_type": "code",
   "execution_count": 17,
   "metadata": {},
   "outputs": [
    {
     "name": "stdout",
     "output_type": "stream",
     "text": [
      "254.0\n"
     ]
    }
   ],
   "source": [
    "class Unit:\n",
    "    \"\"\"\n",
    "    Full name for the unit\n",
    "    \"\"\"\n",
    "    factor = 1.0\n",
    "    standard = None\n",
    "\n",
    "    @classmethod\n",
    "    def value(class_, value):\n",
    "        return value * class_.factor\n",
    "\n",
    "    @classmethod\n",
    "    def convert(class_, value):\n",
    "        if value is None:\n",
    "            return None\n",
    "        return value * class_.factor\n",
    "\n",
    "\n",
    "class UintMeta(type):\n",
    "    def __new__(cls, name, bases, dict):\n",
    "        new_cls = super().__new__(cls, name, bases, dict)\n",
    "        new_cls.standard = new_cls\n",
    "        return new_cls\n",
    "\n",
    "\n",
    "class StandardUnit(Unit, metaclass=UintMeta):\n",
    "    pass\n",
    "\n",
    "\n",
    "class INCH(StandardUnit):\n",
    "    \"\"\"Inches\"\"\"\n",
    "    standard = 'in'\n",
    "\n",
    "\n",
    "class FOOT(Unit):\n",
    "    \"\"\"Feet\"\"\"\n",
    "    name = \"ft\"\n",
    "    standard = INCH\n",
    "    factor = 1/12\n",
    "\n",
    "\n",
    "class CENTIMETER(Unit):\n",
    "    \"\"\"Centimeters\"\"\"\n",
    "    name = \"cm\"\n",
    "    standard = INCH\n",
    "    factor = 2.54\n",
    "\n",
    "\n",
    "class METER(Unit):\n",
    "    \"\"\"Meters\"\"\"\n",
    "    name = \"m\"\n",
    "    standard = INCH\n",
    "    factor = 0.0254\n",
    "\n",
    "\n",
    "x_std = INCH.value(100)\n",
    "print(CENTIMETER.convert(x_std))"
   ]
  },
  {
   "cell_type": "markdown",
   "metadata": {},
   "source": [
    "\n",
    "The ABCs of Consistent Design\n",
    "---"
   ]
  },
  {
   "cell_type": "code",
   "execution_count": 5,
   "metadata": {},
   "outputs": [],
   "source": [
    "from abc import ABCMeta, abstractmethod\n",
    "\n",
    "\n",
    "class AbstractBettingStrategy(metaclass=ABCMeta):\n",
    "    __slots__ = ()\n",
    "\n",
    "    @abstractmethod\n",
    "    def bet(self, hand):\n",
    "        return 1\n",
    "\n",
    "    @abstractmethod\n",
    "    def record_win(self, hand):\n",
    "        pass\n",
    "\n",
    "    @abstractmethod\n",
    "    def record_loss(self, hand):\n",
    "        pass\n",
    "\n",
    "    @classmethod\n",
    "    def __subclasshook__(cls, subclass):\n",
    "        if cls is Hand:\n",
    "            if (any(\"bet\" in B.__dict__ for B in subclass.__mro__)\n",
    "                and any(\"record_win\" in B.__dict__ for B in subclass.__mro__)\n",
    "                and any(\"record_loss\" in B.__dict__ for B in subclass.__mro__)\n",
    "                ):\n",
    "                return True\n",
    "        return NotImplemented\n",
    "\n",
    "\n",
    "class Simple_Broken(AbstractBettingStrategy):\n",
    "    def bet(self, hand):\n",
    "        return 1\n",
    "\n",
    "\n",
    "class Simple(AbstractBettingStrategy):\n",
    "    def bet(self, hand):\n",
    "        return 1\n",
    "\n",
    "    def record_win(self, hand):\n",
    "        pass\n",
    "\n",
    "    def record_loss(self, hand):\n",
    "        pass\n",
    "\n",
    "\n",
    "simple = Simple()"
   ]
  },
  {
   "cell_type": "markdown",
   "metadata": {},
   "source": [
    "Using Callables and Contexts\n",
    "---"
   ]
  },
  {
   "cell_type": "code",
   "execution_count": 4,
   "metadata": {},
   "outputs": [
    {
     "name": "stdout",
     "output_type": "stream",
     "text": [
      "Iterative:  14.778676699999778\n"
     ]
    }
   ],
   "source": [
    "import collections.abc\n",
    "import timeit\n",
    "\n",
    "iterative = timeit.timeit(\"pow1(2,1024)\", \"\"\"\n",
    "import collections.abc\n",
    "class Power1(collections.abc.Callable):\n",
    "    def __call__(self, x, n):\n",
    "        p = 1\n",
    "        for i in range(n):\n",
    "            p *= x\n",
    "        return p\n",
    "\n",
    "\n",
    "pow1 = Power1()\n",
    "\"\"\", number=100000)\n",
    "\n",
    "\n",
    "# performance improvement\n",
    "\n",
    "\n",
    "class Power4(collections.abc.Callable):\n",
    "    def __call__(self, x, n):\n",
    "        if n == 0:\n",
    "            return 1\n",
    "        elif n % 2 == 1:\n",
    "            return self.__call__(x, n-1)*x\n",
    "        else:  # n % 2 == 0:\n",
    "            t = self.__call__(x, n//2)\n",
    "            return t*t\n",
    "\n",
    "\n",
    "pow4 = Power4()\n",
    "# pow4(2, 10)\n",
    "print(\"Iterative: \", iterative)"
   ]
  },
  {
   "cell_type": "code",
   "execution_count": 5,
   "metadata": {},
   "outputs": [
    {
     "name": "stdout",
     "output_type": "stream",
     "text": [
      "Iterative:  1.007962799994857\n"
     ]
    }
   ],
   "source": [
    "\n",
    "iterative = timeit.timeit(\"pow4(2,1024)\", \"\"\"\n",
    "import collections.abc\n",
    "class Power4(collections.abc.Callable):\n",
    "    def __call__(self, x, n):\n",
    "        if n == 0:\n",
    "            return 1\n",
    "        elif n % 2 == 1:\n",
    "            return self.__call__(x, n-1)*x\n",
    "        else:  # n % 2 == 0:\n",
    "            t = self.__call__(x, n//2)\n",
    "            return t*t\n",
    "\n",
    "\n",
    "pow4 = Power4()\n",
    "\"\"\", number=100000)\n",
    "print(\"Iterative: \", iterative)"
   ]
  },
  {
   "cell_type": "markdown",
   "metadata": {},
   "source": [
    "### Using memoization or caching\n"
   ]
  },
  {
   "cell_type": "code",
   "execution_count": 9,
   "metadata": {},
   "outputs": [
    {
     "name": "stdout",
     "output_type": "stream",
     "text": [
      "Iterative:  0.10937320000084583\n"
     ]
    }
   ],
   "source": [
    "iterative = timeit.timeit(\"pow5(2,1024)\", \"\"\"\n",
    "import collections.abc\n",
    "class Power5( collections.abc.Callable ):\n",
    "    def __init__( self ):\n",
    "        self.memo = {}\n",
    "    def __call__( self, x, n ):\n",
    "        if (x,n) not in self.memo:\n",
    "            if n == 0:\n",
    "                self.memo[x,n]= 1\n",
    "            elif n % 2 == 1:\n",
    "                self.memo[x,n]= self.__call__(x, n-1) * x\n",
    "            elif n % 2 == 0:\n",
    "                t= self.__call__(x, n//2)\n",
    "                self.memo[x,n]= t*t\n",
    "            else:\n",
    "                raise Exception(\"Logic Error\")\n",
    "        return self.memo[x,n]\n",
    "pow5= Power5()\n",
    "\"\"\", number=100000)\n",
    "# pow5(2,10)\n",
    "print(\"Iterative: \", iterative)"
   ]
  },
  {
   "cell_type": "markdown",
   "metadata": {},
   "source": [
    "### Using functools for memoization\n"
   ]
  },
  {
   "cell_type": "code",
   "execution_count": 11,
   "metadata": {},
   "outputs": [
    {
     "data": {
      "text/plain": [
       "1024"
      ]
     },
     "execution_count": 11,
     "metadata": {},
     "output_type": "execute_result"
    }
   ],
   "source": [
    "from functools import lru_cache\n",
    "\n",
    "\n",
    "@lru_cache(None)\n",
    "def pow6(x, n):\n",
    "    if n == 0:\n",
    "        return 1\n",
    "    elif n % 2 == 1:\n",
    "        return pow6(x, n-1)*x\n",
    "    else:  # n % 2 == 0:\n",
    "        t = pow6(x, n//2)\n",
    "        return t*t\n",
    "\n",
    "\n",
    "pow6(2, 10)"
   ]
  },
  {
   "cell_type": "markdown",
   "metadata": {},
   "source": [
    "Using context managers\n",
    "---\n"
   ]
  },
  {
   "cell_type": "code",
   "execution_count": 12,
   "metadata": {},
   "outputs": [
    {
     "name": "stdout",
     "output_type": "stream",
     "text": [
      "Tax= 0.12 Fully= 0.119925\n",
      "Tax= 0.11\n"
     ]
    }
   ],
   "source": [
    "import decimal\n",
    "PENNY = decimal.Decimal(\"0.00\")\n",
    "\n",
    "price = decimal.Decimal('15.99')\n",
    "rate = decimal.Decimal('0.0075')\n",
    "print(\"Tax=\", (price*rate).quantize(PENNY), \"Fully=\", price*rate)\n",
    "\n",
    "with decimal.localcontext() as ctx:\n",
    "    ctx.rounding = decimal.ROUND_DOWN\n",
    "    tax = (price*rate).quantize(PENNY)\n",
    "    print(\"Tax=\", tax)"
   ]
  },
  {
   "cell_type": "code",
   "execution_count": 18,
   "metadata": {},
   "outputs": [
    {
     "name": "stdout",
     "output_type": "stream",
     "text": [
      "(19, 15, 23, 6, 9)\n",
      "(23, 25, 1, 15, 31)\n",
      "(32, 1, 17, 5, 30)\n",
      "(23, 25, 1, 15, 31)\n",
      "(-1, 19, 19, 15, 11)\n"
     ]
    }
   ],
   "source": [
    "import random\n",
    "\n",
    "\n",
    "class KnownSequence:\n",
    "    def __init__(self, seed=0):\n",
    "        self.seed = seed\n",
    "\n",
    "    def __enter__(self):\n",
    "        self.was = random.getstate()\n",
    "        random.seed(self.seed, version=1)\n",
    "        return self\n",
    "\n",
    "    def __exit__(self, exc_type, exc_value, traceback):\n",
    "        random.setstate(self.was)\n",
    "\n",
    "\n",
    "print(tuple(random.randint(-1, 36) for i in range(5)))\n",
    "with KnownSequence(0):\n",
    "    print(tuple(random.randint(-1, 36) for i in range(5)))\n",
    "print(tuple(random.randint(-1, 36) for i in range(5)))\n",
    "with KnownSequence():\n",
    "    print(tuple(random.randint(-1, 36) for i in range(5)))\n",
    "print(tuple(random.randint(-1, 36) for i in range(5)))"
   ]
  },
  {
   "cell_type": "code",
   "execution_count": 3,
   "metadata": {},
   "outputs": [
    {
     "data": {
      "text/plain": [
       "Counter({'a': 3, 'r': 1, 't': 1, 'z': 1, 'd': 1, 'f': 1})"
      ]
     },
     "execution_count": 3,
     "metadata": {},
     "output_type": "execute_result"
    }
   ],
   "source": [
    "from collections import namedtuple, Counter\n",
    "\n",
    "point = namedtuple('point', 'x y z')\n",
    "point.__doc__ = \"A point in 3D space\"\n",
    "point.z = 30\n",
    "point.__doc__\n",
    "\n",
    "# class TheNamedTuple(tuple):\n",
    "#     __slots__ = ()\n",
    "#     _fields = {field_names!r}\n",
    "#     def __new__(_cls, {arg_list}):\n",
    "#         return _tuple.__new__(_cls, ({arg_list}))\n",
    "Counter('aart') + Counter('azdf')"
   ]
  },
  {
   "cell_type": "code",
   "execution_count": 21,
   "metadata": {},
   "outputs": [
    {
     "name": "stdout",
     "output_type": "stream",
     "text": [
      "325\n",
      "10126\n",
      "325\n"
     ]
    }
   ],
   "source": [
    "import math\n",
    "\n",
    "\n",
    "class StatsList(list):\n",
    "    @property\n",
    "    def mean(self):\n",
    "        return sum(self)/len(self)\n",
    "\n",
    "    @property\n",
    "    def stdev(self):\n",
    "        n = len(self)\n",
    "        return math.sqrt(n*sum(x**2 for x in self)-sum(self)**2)/n\n",
    "\n",
    "    @property\n",
    "    def median(self):\n",
    "        sorted_list = sorted(self)\n",
    "        if len(sorted_list) % 2 == 0:\n",
    "            return self.mean\n",
    "        return sorted_list[math.ceil(len(sorted_list)/2)-1]\n",
    "\n",
    "\n",
    "# StatsList([1, 2, 3,4,5]).median\n",
    "\n",
    "class StatsList2(list):\n",
    "    \"\"\"Eager Stats\"\"\"\n",
    "\n",
    "    def __init__(self, *args, **kw):\n",
    "        self.sum0 = 0\n",
    "        self.sum1 = 0\n",
    "        self.sum2 = 0\n",
    "        super().__init__(*args, **kw)\n",
    "        for x in self:\n",
    "            self._new(x)\n",
    "\n",
    "    def _new(self, value):\n",
    "        self.sum0 += 1\n",
    "        self.sum1 += value\n",
    "        self.sum2 += value*value\n",
    "\n",
    "    def _rmv(self, value):\n",
    "        self.sum0 -= 1\n",
    "        self.sum1 -= value\n",
    "        self.sum2 -= value*value\n",
    "\n",
    "    def insert(self, index, value):\n",
    "        super().insert(index, value)\n",
    "        self._new(value)\n",
    "\n",
    "    def pop(self, index=0):\n",
    "        value = super().pop(index)\n",
    "        self._rmv(value)\n",
    "        return value\n",
    "\n",
    "\n",
    "sl2 = StatsList2([2, 4, 3, 4, 5, 5, 7, 9, 10])\n",
    "print(sl2.sum2)\n",
    "sl2.insert(0, 99)\n",
    "print(sl2.sum2)\n",
    "sl2.pop(0)\n",
    "print(sl2.sum2)"
   ]
  }
 ],
 "metadata": {
  "kernelspec": {
   "display_name": "Python 3",
   "language": "python",
   "name": "python3"
  },
  "language_info": {
   "codemirror_mode": {
    "name": "ipython",
    "version": 3
   },
   "file_extension": ".py",
   "mimetype": "text/x-python",
   "name": "python",
   "nbconvert_exporter": "python",
   "pygments_lexer": "ipython3",
   "version": "3.11.1"
  }
 },
 "nbformat": 4,
 "nbformat_minor": 2
}
