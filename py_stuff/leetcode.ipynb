{
 "cells": [
  {
   "cell_type": "code",
   "execution_count": 1,
   "metadata": {},
   "outputs": [
    {
     "data": {
      "text/plain": [
       "'racecar'"
      ]
     },
     "execution_count": 1,
     "metadata": {},
     "output_type": "execute_result"
    }
   ],
   "source": [
    "class Palindrome(object):\n",
    "    def first_palindrome(self, words):\n",
    "        for word in words:\n",
    "            if word == word[::-1]:\n",
    "                return word\n",
    "        return \"\"\n",
    "\n",
    "\n",
    "Palindrome().first_palindrome(\n",
    "    [\"racecar\", \"dog\", \"apple\", \"racecar\", \"dog\", \"apple\"])"
   ]
  },
  {
   "cell_type": "code",
   "execution_count": 2,
   "metadata": {},
   "outputs": [
    {
     "name": "stdout",
     "output_type": "stream",
     "text": [
      "0.024709499999516993\n"
     ]
    }
   ],
   "source": [
    "import timeit\n",
    "\n",
    "interval = timeit.timeit(\"Solution().rearrangeArray([3, 1, -2, -5, 2, -4])\", \"\"\"\n",
    "\n",
    "\n",
    "class Solution(object):\n",
    "    def rearrangeArray(self, nums):\n",
    "        n = [n for n in nums if n < 0]\n",
    "        p = [p for p in nums if p > 0]\n",
    "        final = [n for i in map((lambda p, n: (p, n)), p, n) for n in i]\n",
    "        return final\n",
    "\"\"\", number=10000)\n",
    "print(interval)"
   ]
  },
  {
   "cell_type": "code",
   "execution_count": 3,
   "metadata": {},
   "outputs": [
    {
     "name": "stdout",
     "output_type": "stream",
     "text": [
      "[3, -2, 1, -5, 2, -4]\n",
      "0.02117030000044906\n"
     ]
    }
   ],
   "source": [
    "interval = timeit.timeit(\"Solution().rearrangeArray([3, 1, -2, -5, 2, -4])\", \"\"\"\n",
    "class Solution(object):\n",
    "    def rearrangeArray(self, nums):\n",
    "        negatives = []\n",
    "        positives = []\n",
    "        zeros = []\n",
    "        for num in nums:\n",
    "            if num < 0:\n",
    "                negatives.append(num)\n",
    "            elif num > 0:\n",
    "                positives.append(num)\n",
    "            else:\n",
    "                zeros.append(num)\n",
    "\n",
    "        # Interleave the positive and negative numbers\n",
    "        min_len = min(len(negatives), len(positives))\n",
    "        result = [None] * (min_len * 2)\n",
    "        result[::2] = positives[:min_len]\n",
    "        result[1::2] = negatives[:min_len]\n",
    "\n",
    "        # Append the remaining numbers\n",
    "        if len(positives) > min_len:\n",
    "            result.extend(positives[min_len:])\n",
    "        elif len(negatives) > min_len:\n",
    "            result.extend(negatives[min_len:])\n",
    "\n",
    "        # Append zeros at the end\n",
    "        result.extend(zeros)\n",
    "\n",
    "        return result\n",
    "\n",
    "\n",
    "print(Solution().rearrangeArray([3, 1, -2, -5, 2, -4]))\n",
    "\n",
    "\n",
    "\"\"\", number=10000)\n",
    "print(interval)"
   ]
  },
  {
   "cell_type": "markdown",
   "metadata": {},
   "source": [
    "A polygon is a closed plane figure that has at least 3 sides. The longest side of a polygon is smaller than the sum of its other sides.\n",
    "\n",
    "Conversely, if you have k (k >= 3) positive real numbers a1, a2, a3, ..., ak where a1 <= a2 <= a3 <= ... <= ak and a1 + a2 + a3 + ... + ak-1 > ak, then there always exists a polygon with k sides whose lengths are a1, a2, a3, ..., ak.\n",
    "\n",
    "The perimeter of a polygon is the sum of lengths of its sides.\n",
    "\n",
    "Return the largest possible perimeter of a polygon whose sides can be formed from nums, or -1 if it is not possible to create a polygon."
   ]
  },
  {
   "cell_type": "code",
   "execution_count": 4,
   "metadata": {},
   "outputs": [
    {
     "name": "stdout",
     "output_type": "stream",
     "text": [
      "[1, 1, 2, 3, 5, 12, 50]\n"
     ]
    },
    {
     "data": {
      "text/plain": [
       "12"
      ]
     },
     "execution_count": 4,
     "metadata": {},
     "output_type": "execute_result"
    }
   ],
   "source": [
    "class Solution(object):\n",
    "    def largestPerimeter(self, nums):\n",
    "        \"\"\"\n",
    "        :type nums: List[int]\n",
    "        :rtype: int\n",
    "        \"\"\"\n",
    "        nums.sort()\n",
    "        print(nums)\n",
    "        previous_elements_sum = 0\n",
    "        ans = -1\n",
    "        for num in nums:\n",
    "            if num < previous_elements_sum:\n",
    "                ans = num + previous_elements_sum\n",
    "            previous_elements_sum += num\n",
    "        return ans\n",
    "\n",
    "\n",
    "test = Solution()\n",
    "test.largestPerimeter([1, 12, 1, 2, 5, 50, 3])"
   ]
  },
  {
   "cell_type": "markdown",
   "metadata": {},
   "source": [
    "Given an array of integers arr and an integer k. Find the least number of unique integers after removing exactly k elements."
   ]
  },
  {
   "cell_type": "code",
   "execution_count": 5,
   "metadata": {},
   "outputs": [
    {
     "name": "stdout",
     "output_type": "stream",
     "text": [
      "Counter({3: 3, 1: 2, 4: 1, 2: 1})\n",
      "[1, 3, 2, 1]\n"
     ]
    },
    {
     "data": {
      "text/plain": [
       "2"
      ]
     },
     "execution_count": 5,
     "metadata": {},
     "output_type": "execute_result"
    }
   ],
   "source": [
    "from collections import Counter, defaultdict\n",
    "\n",
    "\n",
    "class Solution(object):\n",
    "    def findLeastNumOfUniqueInts(self, arr, k):\n",
    "\n",
    "        \"\"\"\n",
    "\n",
    "        :type arr: List[int]\n",
    "\n",
    "        :type k: int\n",
    "\n",
    "        :rtype: int\n",
    "\n",
    "        \"\"\"\n",
    "\n",
    "        # Dictionary to track the frequencies of elements\n",
    "        map = {}\n",
    "        for i in arr:\n",
    "            map[i] = map.get(i, 0) + 1\n",
    "\n",
    "        n = len(arr)\n",
    "\n",
    "        # List to track the frequencies of frequencies\n",
    "        # The maximum possible frequency of any element\n",
    "        # will be n, so we'll initialize this list with size n + 1\n",
    "        count_of_frequencies = [0] * (n + 1)\n",
    "\n",
    "        # Populating count_of_frequencies list\n",
    "        for count in map.values():\n",
    "            count_of_frequencies[count] += 1\n",
    "\n",
    "        # Variable to track the remaining number of unique elements\n",
    "        remaining_unique_elements = len(map)\n",
    "\n",
    "        # Traversing over all possible frequencies\n",
    "        for i in range(1, n + 1):\n",
    "            # For each possible frequency i, we'd like to remove as\n",
    "            # many elements with that frequency as possible.\n",
    "            # k // i represents the number of maximum possible elements\n",
    "            # we could remove with k elements left to remove.\n",
    "            # count_of_frequencies[i] represents the actual number of elements\n",
    "            # with frequency i.\n",
    "            num_elements_to_remove = min(k // i, count_of_frequencies[i])\n",
    "\n",
    "            # Removing the maximum possible elements\n",
    "            k -= (i * num_elements_to_remove)\n",
    "\n",
    "            # num_elements_to_remove is the count of unique elements removed\n",
    "            remaining_unique_elements -= num_elements_to_remove\n",
    "\n",
    "            # If the number of elements that can be removed is less\n",
    "            # than the current frequency, we won't be able to remove\n",
    "            # any more elements with a higher frequency so we can return\n",
    "            # the remaining number of unique elements\n",
    "            if k < i:\n",
    "                return remaining_unique_elements\n",
    "\n",
    "        # We have traversed all possible frequencies i.e.,\n",
    "        # removed al\n",
    "\n",
    "    def findLeastNumOfUniqueInts_v2(self, arr, k: int) -> int:\n",
    "        # Dictionary to track the frequencies of elements\n",
    "        freq_map = Counter(arr)\n",
    "        print(freq_map)\n",
    "\n",
    "        # List to track all the frequencies\n",
    "        frequencies = list(freq_map.values())\n",
    "        print(frequencies)\n",
    "\n",
    "        # Sorting the frequencies\n",
    "        frequencies.sort()\n",
    "\n",
    "        # Tracking the number of elements removed\n",
    "        elements_removed = 0\n",
    "\n",
    "        for i in range(len(frequencies)):\n",
    "            # Removing frequencies[i] elements, which equates to\n",
    "            # removing one unique element\n",
    "            elements_removed += frequencies[i]\n",
    "\n",
    "            # If the number of elements removed exceeds k, return\n",
    "            # the remaining number of unique elements\n",
    "            if elements_removed > k:\n",
    "                return len(frequencies) - i\n",
    "\n",
    "        # We have removed all elements, so no unique integers remain\n",
    "        # Return 0 in this case\n",
    "        return 0\n",
    "\n",
    "\n",
    "Solution().findLeastNumOfUniqueInts_v2([4, 3, 1, 1, 3, 3, 2], 3)"
   ]
  },
  {
   "cell_type": "code",
   "execution_count": 6,
   "metadata": {},
   "outputs": [
    {
     "data": {
      "text/plain": [
       "'a'"
      ]
     },
     "execution_count": 6,
     "metadata": {},
     "output_type": "execute_result"
    }
   ],
   "source": [
    "def longestCommonPrefix(strs):\n",
    "    # start with the len of the array \n",
    "    # check the first character of every word\n",
    "    # if there are common character add to common prefix\n",
    "    # in there are no common character return \"\"\n",
    "    if not strs:\n",
    "        return \"\"\n",
    "\n",
    "    prefix = strs[0]\n",
    "\n",
    "    for string in strs[1:]:\n",
    "        while string[:len(prefix)] != prefix and prefix:\n",
    "            prefix = prefix[:len(prefix)-1]\n",
    "        if not prefix:\n",
    "            return \"\"\n",
    "\n",
    "    return prefix\n",
    "\n",
    "strs = [\"a\"]\n",
    "longestCommonPrefix(strs)"
   ]
  },
  {
   "cell_type": "code",
   "execution_count": 7,
   "metadata": {},
   "outputs": [
    {
     "data": {
      "text/plain": [
       "False"
      ]
     },
     "execution_count": 7,
     "metadata": {},
     "output_type": "execute_result"
    }
   ],
   "source": [
    "class Solution:\n",
    "    def isValid_(self, s: str) -> bool:\n",
    "        o_characters_stack = []\n",
    "        c_characters_stack = []\n",
    "        is_correct = False\n",
    "        # iterate all characters in the string\n",
    "        for c in s:\n",
    "            if c in ['[','{','(']:\n",
    "                o_characters_stack.append(c)\n",
    "            elif c in [']','}',')']:\n",
    "                if len(o_characters_stack) > 0:\n",
    "                    c_characters_stack.append(c)\n",
    "                    prev = o_characters_stack.pop()\n",
    "                    curr = c_characters_stack.pop()\n",
    "                    if prev == \"(\"  and \")\" == curr:\n",
    "                        is_correct = True\n",
    "                    elif prev == \"{\"  and \"}\" == curr:\n",
    "                        is_correct = True\n",
    "                    elif prev == \"[\"  and \"]\" == curr:\n",
    "                        is_correct = True\n",
    "                    else:\n",
    "                        is_correct = False\n",
    "                        return False\n",
    "                else:\n",
    "                    return False\n",
    "        if len(o_characters_stack) > 0:\n",
    "            return False\n",
    "        return is_correct\n",
    "    def isValid(self, s):\n",
    "        stack = []\n",
    "        bracket_map = {\"(\": \")\", \"[\": \"]\",  \"{\": \"}\"}\n",
    "        for char in s:\n",
    "            if char in bracket_map:\n",
    "                stack.append(char)\n",
    "            elif not stack or bracket_map[stack.pop()] != char:\n",
    "                return False\n",
    "\n",
    "        return not stack\n",
    "sl = Solution() \n",
    "sl.isValid(\"([]){\")\n"
   ]
  },
  {
   "cell_type": "code",
   "execution_count": 4,
   "metadata": {},
   "outputs": [
    {
     "name": "stdout",
     "output_type": "stream",
     "text": [
      "1\n",
      "1\n",
      "2\n",
      "3\n",
      "4\n",
      "4\n"
     ]
    }
   ],
   "source": [
    "class ListNode:\n",
    "    def __init__(self, val=0, next=None):\n",
    "        self.val = val\n",
    "        self.next = next\n",
    "\n",
    "class Solution:\n",
    "    def merge_two_lists(self, list1, list2):\n",
    "        new_list = None\n",
    "        current_node_l1 = list1\n",
    "        current_node_l2 = list2\n",
    "        while current_node_l1 is not None:\n",
    "            if new_list is None:\n",
    "                new_list = ListNode(current_node_l1.val,ListNode(val=current_node_l2.val))\n",
    "            else:\n",
    "                temp_n = new_list\n",
    "                while temp_n.next is not None:\n",
    "                    temp_n = temp_n.next\n",
    "                    if temp_n.next is None:\n",
    "                        temp_n.next = ListNode(current_node_l1.val, ListNode(current_node_l2.val))\n",
    "                        break\n",
    "            current_node_l1 = current_node_l1.next\n",
    "            current_node_l2 = current_node_l2.next\n",
    "\n",
    "        return new_list\n",
    "        ...\n",
    "l1 = ListNode(1, ListNode(2, ListNode(4)))\n",
    "l2 = ListNode(1, ListNode(3, ListNode(4)))\n",
    "curr_n = Solution().merge_two_lists(l1, l2)\n",
    "while curr_n is not None:\n",
    "    print(curr_n.val)\n",
    "    curr_n = curr_n.next"
   ]
  },
  {
   "cell_type": "code",
   "execution_count": 3,
   "metadata": {},
   "outputs": [
    {
     "name": "stdout",
     "output_type": "stream",
     "text": [
      "[1, 2]\n"
     ]
    }
   ],
   "source": [
    "from typing import List\n",
    "class Solution:\n",
    "    def removeDuplicates(self, nums: List[int]) -> int:\n",
    "        nums = list(set(nums))\n",
    "        print(nums)\n",
    "\n",
    "Solution().removeDuplicates([1,1,2])"
   ]
  },
  {
   "cell_type": "code",
   "execution_count": null,
   "metadata": {},
   "outputs": [],
   "source": []
  }
 ],
 "metadata": {
  "kernelspec": {
   "display_name": ".venv_d",
   "language": "python",
   "name": "python3"
  },
  "language_info": {
   "codemirror_mode": {
    "name": "ipython",
    "version": 3
   },
   "file_extension": ".py",
   "mimetype": "text/x-python",
   "name": "python",
   "nbconvert_exporter": "python",
   "pygments_lexer": "ipython3",
   "version": "3.12.0"
  }
 },
 "nbformat": 4,
 "nbformat_minor": 2
}
