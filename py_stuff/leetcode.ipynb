{
 "cells": [
  {
   "cell_type": "code",
   "execution_count": 3,
   "metadata": {},
   "outputs": [
    {
     "data": {
      "text/plain": [
       "'racecar'"
      ]
     },
     "execution_count": 3,
     "metadata": {},
     "output_type": "execute_result"
    }
   ],
   "source": [
    "class Palindrome(object):\n",
    "    def first_palindrome(self, words):\n",
    "        for word in words:\n",
    "            if word == word[::-1]:\n",
    "                return word\n",
    "        return \"\"\n",
    "\n",
    "\n",
    "Palindrome().first_palindrome(\n",
    "    [\"racecar\", \"dog\", \"apple\", \"racecar\", \"dog\", \"apple\"])"
   ]
  }
 ],
 "metadata": {
  "kernelspec": {
   "display_name": ".venv_d",
   "language": "python",
   "name": "python3"
  },
  "language_info": {
   "codemirror_mode": {
    "name": "ipython",
    "version": 3
   },
   "file_extension": ".py",
   "mimetype": "text/x-python",
   "name": "python",
   "nbconvert_exporter": "python",
   "pygments_lexer": "ipython3",
   "version": "3.11.1"
  }
 },
 "nbformat": 4,
 "nbformat_minor": 2
}
