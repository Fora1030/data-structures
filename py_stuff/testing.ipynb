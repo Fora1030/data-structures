{
 "cells": [
  {
   "cell_type": "code",
   "execution_count": 7,
   "metadata": {},
   "outputs": [
    {
     "name": "stdout",
     "output_type": "stream",
     "text": [
      "{'g', 'f', 'h'}\n",
      "True\n"
     ]
    }
   ],
   "source": [
    "list_1 = ['a', 'b', 'c', 'd', 'e']\n",
    "list_2 = ['f', 'g', 'h']\n",
    "list_3 = ['a', 'd', 'e']\n",
    "\n",
    "print(set(list_2).difference(set(list_1)))\n",
    "print(set(list_3).issubset(list_1))\n"
   ]
  },
  {
   "cell_type": "code",
   "execution_count": null,
   "metadata": {},
   "outputs": [],
   "source": [
    "possible_paths : dict= {}\n",
    "possible_paths['row_1'] = {'0':False, '1':False, '2':False, '3':False, '4':False, '5':False, '6':False, '7':False}\n",
    "possible_paths['row_2'] = {'0':False, '1':False, '2':False, '3':False, '4':False, '5':False, '6':False, '7':False}\n",
    "possible_paths['row_3'] = {'0':False, '1':False, '2':False, '3':False, '4':False, '5':False, '6':False, '7':False}\n",
    "\n",
    "for index, item in possible_paths.items():\n",
    "    print(index, item)"
   ]
  }
 ],
 "metadata": {
  "kernelspec": {
   "display_name": "Python 3",
   "language": "python",
   "name": "python3"
  },
  "language_info": {
   "codemirror_mode": {
    "name": "ipython",
    "version": 3
   },
   "file_extension": ".py",
   "mimetype": "text/x-python",
   "name": "python",
   "nbconvert_exporter": "python",
   "pygments_lexer": "ipython3",
   "version": "3.12.0"
  }
 },
 "nbformat": 4,
 "nbformat_minor": 2
}
